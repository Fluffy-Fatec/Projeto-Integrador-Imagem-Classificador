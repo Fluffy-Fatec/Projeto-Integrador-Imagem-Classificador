{
 "cells": [
  {
   "cell_type": "markdown",
   "id": "591dbab2-225e-42c5-8bb2-fcd2ed2d04da",
   "metadata": {
    "collapsed": true,
    "jupyter": {
     "outputs_hidden": true
    },
    "tags": []
   },
   "source": [
    "# 1. Install PIP's"
   ]
  },
  {
   "cell_type": "code",
   "execution_count": 348,
   "id": "91a43646-fea1-4d18-99ec-3f9ddd100e88",
   "metadata": {
    "scrolled": true,
    "tags": []
   },
   "outputs": [
    {
     "name": "stdout",
     "output_type": "stream",
     "text": [
      "Requirement already satisfied: unidecode in c:\\users\\victor\\appdata\\local\\programs\\python\\python312\\lib\\site-packages (1.3.8)\n",
      "Note: you may need to restart the kernel to use updated packages.\n",
      "Requirement already satisfied: spacy in c:\\users\\victor\\appdata\\local\\programs\\python\\python312\\lib\\site-packages (3.7.4)\n",
      "Requirement already satisfied: spacy-legacy<3.1.0,>=3.0.11 in c:\\users\\victor\\appdata\\local\\programs\\python\\python312\\lib\\site-packages (from spacy) (3.0.12)\n",
      "Requirement already satisfied: spacy-loggers<2.0.0,>=1.0.0 in c:\\users\\victor\\appdata\\local\\programs\\python\\python312\\lib\\site-packages (from spacy) (1.0.5)\n",
      "Requirement already satisfied: murmurhash<1.1.0,>=0.28.0 in c:\\users\\victor\\appdata\\local\\programs\\python\\python312\\lib\\site-packages (from spacy) (1.0.10)\n",
      "Requirement already satisfied: cymem<2.1.0,>=2.0.2 in c:\\users\\victor\\appdata\\local\\programs\\python\\python312\\lib\\site-packages (from spacy) (2.0.8)\n",
      "Requirement already satisfied: preshed<3.1.0,>=3.0.2 in c:\\users\\victor\\appdata\\local\\programs\\python\\python312\\lib\\site-packages (from spacy) (3.0.9)\n",
      "Requirement already satisfied: thinc<8.3.0,>=8.2.2 in c:\\users\\victor\\appdata\\local\\programs\\python\\python312\\lib\\site-packages (from spacy) (8.2.3)\n",
      "Requirement already satisfied: wasabi<1.2.0,>=0.9.1 in c:\\users\\victor\\appdata\\local\\programs\\python\\python312\\lib\\site-packages (from spacy) (1.1.2)\n",
      "Requirement already satisfied: srsly<3.0.0,>=2.4.3 in c:\\users\\victor\\appdata\\local\\programs\\python\\python312\\lib\\site-packages (from spacy) (2.4.8)\n",
      "Requirement already satisfied: catalogue<2.1.0,>=2.0.6 in c:\\users\\victor\\appdata\\local\\programs\\python\\python312\\lib\\site-packages (from spacy) (2.0.10)\n",
      "Requirement already satisfied: weasel<0.4.0,>=0.1.0 in c:\\users\\victor\\appdata\\local\\programs\\python\\python312\\lib\\site-packages (from spacy) (0.3.4)\n",
      "Requirement already satisfied: typer<0.10.0,>=0.3.0 in c:\\users\\victor\\appdata\\local\\programs\\python\\python312\\lib\\site-packages (from spacy) (0.9.4)\n",
      "Requirement already satisfied: smart-open<7.0.0,>=5.2.1 in c:\\users\\victor\\appdata\\local\\programs\\python\\python312\\lib\\site-packages (from spacy) (6.4.0)\n",
      "Requirement already satisfied: tqdm<5.0.0,>=4.38.0 in c:\\users\\victor\\appdata\\local\\programs\\python\\python312\\lib\\site-packages (from spacy) (4.66.2)\n",
      "Requirement already satisfied: requests<3.0.0,>=2.13.0 in c:\\users\\victor\\appdata\\local\\programs\\python\\python312\\lib\\site-packages (from spacy) (2.31.0)\n",
      "Requirement already satisfied: pydantic!=1.8,!=1.8.1,<3.0.0,>=1.7.4 in c:\\users\\victor\\appdata\\local\\programs\\python\\python312\\lib\\site-packages (from spacy) (2.6.4)\n",
      "Requirement already satisfied: jinja2 in c:\\users\\victor\\appdata\\local\\programs\\python\\python312\\lib\\site-packages (from spacy) (3.1.3)\n",
      "Requirement already satisfied: setuptools in c:\\users\\victor\\appdata\\local\\programs\\python\\python312\\lib\\site-packages (from spacy) (69.2.0)\n",
      "Requirement already satisfied: packaging>=20.0 in c:\\users\\victor\\appdata\\local\\programs\\python\\python312\\lib\\site-packages (from spacy) (24.0)\n",
      "Requirement already satisfied: langcodes<4.0.0,>=3.2.0 in c:\\users\\victor\\appdata\\local\\programs\\python\\python312\\lib\\site-packages (from spacy) (3.3.0)\n",
      "Requirement already satisfied: numpy>=1.19.0 in c:\\users\\victor\\appdata\\local\\programs\\python\\python312\\lib\\site-packages (from spacy) (1.26.2)\n",
      "Requirement already satisfied: annotated-types>=0.4.0 in c:\\users\\victor\\appdata\\local\\programs\\python\\python312\\lib\\site-packages (from pydantic!=1.8,!=1.8.1,<3.0.0,>=1.7.4->spacy) (0.6.0)\n",
      "Requirement already satisfied: pydantic-core==2.16.3 in c:\\users\\victor\\appdata\\local\\programs\\python\\python312\\lib\\site-packages (from pydantic!=1.8,!=1.8.1,<3.0.0,>=1.7.4->spacy) (2.16.3)\n",
      "Requirement already satisfied: typing-extensions>=4.6.1 in c:\\users\\victor\\appdata\\local\\programs\\python\\python312\\lib\\site-packages (from pydantic!=1.8,!=1.8.1,<3.0.0,>=1.7.4->spacy) (4.10.0)\n",
      "Requirement already satisfied: charset-normalizer<4,>=2 in c:\\users\\victor\\appdata\\local\\programs\\python\\python312\\lib\\site-packages (from requests<3.0.0,>=2.13.0->spacy) (3.3.2)\n",
      "Requirement already satisfied: idna<4,>=2.5 in c:\\users\\victor\\appdata\\local\\programs\\python\\python312\\lib\\site-packages (from requests<3.0.0,>=2.13.0->spacy) (2.10)\n",
      "Requirement already satisfied: urllib3<3,>=1.21.1 in c:\\users\\victor\\appdata\\local\\programs\\python\\python312\\lib\\site-packages (from requests<3.0.0,>=2.13.0->spacy) (2.2.1)\n",
      "Requirement already satisfied: certifi>=2017.4.17 in c:\\users\\victor\\appdata\\local\\programs\\python\\python312\\lib\\site-packages (from requests<3.0.0,>=2.13.0->spacy) (2024.2.2)\n",
      "Requirement already satisfied: blis<0.8.0,>=0.7.8 in c:\\users\\victor\\appdata\\local\\programs\\python\\python312\\lib\\site-packages (from thinc<8.3.0,>=8.2.2->spacy) (0.7.11)\n",
      "Requirement already satisfied: confection<1.0.0,>=0.0.1 in c:\\users\\victor\\appdata\\local\\programs\\python\\python312\\lib\\site-packages (from thinc<8.3.0,>=8.2.2->spacy) (0.1.4)\n",
      "Requirement already satisfied: colorama in c:\\users\\victor\\appdata\\local\\programs\\python\\python312\\lib\\site-packages (from tqdm<5.0.0,>=4.38.0->spacy) (0.4.6)\n",
      "Requirement already satisfied: click<9.0.0,>=7.1.1 in c:\\users\\victor\\appdata\\local\\programs\\python\\python312\\lib\\site-packages (from typer<0.10.0,>=0.3.0->spacy) (8.1.7)\n",
      "Requirement already satisfied: cloudpathlib<0.17.0,>=0.7.0 in c:\\users\\victor\\appdata\\local\\programs\\python\\python312\\lib\\site-packages (from weasel<0.4.0,>=0.1.0->spacy) (0.16.0)\n",
      "Requirement already satisfied: MarkupSafe>=2.0 in c:\\users\\victor\\appdata\\local\\programs\\python\\python312\\lib\\site-packages (from jinja2->spacy) (2.1.5)\n",
      "Note: you may need to restart the kernel to use updated packages.\n",
      "Requirement already satisfied: seaborn in c:\\users\\victor\\appdata\\local\\programs\\python\\python312\\lib\\site-packages (0.13.2)\n",
      "Requirement already satisfied: numpy!=1.24.0,>=1.20 in c:\\users\\victor\\appdata\\local\\programs\\python\\python312\\lib\\site-packages (from seaborn) (1.26.2)\n",
      "Requirement already satisfied: pandas>=1.2 in c:\\users\\victor\\appdata\\local\\programs\\python\\python312\\lib\\site-packages (from seaborn) (2.2.1)\n",
      "Requirement already satisfied: matplotlib!=3.6.1,>=3.4 in c:\\users\\victor\\appdata\\local\\programs\\python\\python312\\lib\\site-packages (from seaborn) (3.8.3)\n",
      "Requirement already satisfied: contourpy>=1.0.1 in c:\\users\\victor\\appdata\\local\\programs\\python\\python312\\lib\\site-packages (from matplotlib!=3.6.1,>=3.4->seaborn) (1.2.0)\n",
      "Requirement already satisfied: cycler>=0.10 in c:\\users\\victor\\appdata\\local\\programs\\python\\python312\\lib\\site-packages (from matplotlib!=3.6.1,>=3.4->seaborn) (0.12.1)\n",
      "Requirement already satisfied: fonttools>=4.22.0 in c:\\users\\victor\\appdata\\local\\programs\\python\\python312\\lib\\site-packages (from matplotlib!=3.6.1,>=3.4->seaborn) (4.50.0)\n",
      "Requirement already satisfied: kiwisolver>=1.3.1 in c:\\users\\victor\\appdata\\local\\programs\\python\\python312\\lib\\site-packages (from matplotlib!=3.6.1,>=3.4->seaborn) (1.4.5)\n",
      "Requirement already satisfied: packaging>=20.0 in c:\\users\\victor\\appdata\\local\\programs\\python\\python312\\lib\\site-packages (from matplotlib!=3.6.1,>=3.4->seaborn) (24.0)\n",
      "Requirement already satisfied: pillow>=8 in c:\\users\\victor\\appdata\\local\\programs\\python\\python312\\lib\\site-packages (from matplotlib!=3.6.1,>=3.4->seaborn) (10.2.0)\n",
      "Requirement already satisfied: pyparsing>=2.3.1 in c:\\users\\victor\\appdata\\local\\programs\\python\\python312\\lib\\site-packages (from matplotlib!=3.6.1,>=3.4->seaborn) (3.1.2)\n",
      "Requirement already satisfied: python-dateutil>=2.7 in c:\\users\\victor\\appdata\\local\\programs\\python\\python312\\lib\\site-packages (from matplotlib!=3.6.1,>=3.4->seaborn) (2.9.0.post0)\n",
      "Requirement already satisfied: pytz>=2020.1 in c:\\users\\victor\\appdata\\local\\programs\\python\\python312\\lib\\site-packages (from pandas>=1.2->seaborn) (2024.1)\n",
      "Requirement already satisfied: tzdata>=2022.7 in c:\\users\\victor\\appdata\\local\\programs\\python\\python312\\lib\\site-packages (from pandas>=1.2->seaborn) (2024.1)\n",
      "Requirement already satisfied: six>=1.5 in c:\\users\\victor\\appdata\\local\\programs\\python\\python312\\lib\\site-packages (from python-dateutil>=2.7->matplotlib!=3.6.1,>=3.4->seaborn) (1.16.0)\n",
      "Note: you may need to restart the kernel to use updated packages.\n",
      "Requirement already satisfied: nltk in c:\\users\\victor\\appdata\\local\\programs\\python\\python312\\lib\\site-packages (3.8.1)\n",
      "Requirement already satisfied: click in c:\\users\\victor\\appdata\\local\\programs\\python\\python312\\lib\\site-packages (from nltk) (8.1.7)\n",
      "Requirement already satisfied: joblib in c:\\users\\victor\\appdata\\local\\programs\\python\\python312\\lib\\site-packages (from nltk) (1.3.2)\n",
      "Requirement already satisfied: regex>=2021.8.3 in c:\\users\\victor\\appdata\\local\\programs\\python\\python312\\lib\\site-packages (from nltk) (2023.12.25)\n",
      "Requirement already satisfied: tqdm in c:\\users\\victor\\appdata\\local\\programs\\python\\python312\\lib\\site-packages (from nltk) (4.66.2)\n",
      "Requirement already satisfied: colorama in c:\\users\\victor\\appdata\\local\\programs\\python\\python312\\lib\\site-packages (from click->nltk) (0.4.6)\n",
      "Note: you may need to restart the kernel to use updated packages.\n",
      "Requirement already satisfied: stats in c:\\users\\victor\\appdata\\local\\programs\\python\\python312\\lib\\site-packages (0.1.2a0)\n",
      "Note: you may need to restart the kernel to use updated packages.\n",
      "Requirement already satisfied: xgboost in c:\\users\\victor\\appdata\\local\\programs\\python\\python312\\lib\\site-packages (2.0.3)\n",
      "Requirement already satisfied: numpy in c:\\users\\victor\\appdata\\local\\programs\\python\\python312\\lib\\site-packages (from xgboost) (1.26.2)\n",
      "Requirement already satisfied: scipy in c:\\users\\victor\\appdata\\local\\programs\\python\\python312\\lib\\site-packages (from xgboost) (1.12.0)\n",
      "Note: you may need to restart the kernel to use updated packages.\n",
      "Requirement already satisfied: sweetviz in c:\\users\\victor\\appdata\\local\\programs\\python\\python312\\lib\\site-packages (2.3.1)Note: you may need to restart the kernel to use updated packages.\n",
      "\n",
      "Requirement already satisfied: pandas!=1.0.0,!=1.0.1,!=1.0.2,>=0.25.3 in c:\\users\\victor\\appdata\\local\\programs\\python\\python312\\lib\\site-packages (from sweetviz) (2.2.1)\n",
      "Requirement already satisfied: numpy>=1.16.0 in c:\\users\\victor\\appdata\\local\\programs\\python\\python312\\lib\\site-packages (from sweetviz) (1.26.2)\n",
      "Requirement already satisfied: matplotlib>=3.1.3 in c:\\users\\victor\\appdata\\local\\programs\\python\\python312\\lib\\site-packages (from sweetviz) (3.8.3)\n",
      "Requirement already satisfied: tqdm>=4.43.0 in c:\\users\\victor\\appdata\\local\\programs\\python\\python312\\lib\\site-packages (from sweetviz) (4.66.2)\n",
      "Requirement already satisfied: scipy>=1.3.2 in c:\\users\\victor\\appdata\\local\\programs\\python\\python312\\lib\\site-packages (from sweetviz) (1.12.0)\n",
      "Requirement already satisfied: jinja2>=2.11.1 in c:\\users\\victor\\appdata\\local\\programs\\python\\python312\\lib\\site-packages (from sweetviz) (3.1.3)\n",
      "Requirement already satisfied: importlib-resources>=1.2.0 in c:\\users\\victor\\appdata\\local\\programs\\python\\python312\\lib\\site-packages (from sweetviz) (6.4.0)\n",
      "Requirement already satisfied: MarkupSafe>=2.0 in c:\\users\\victor\\appdata\\local\\programs\\python\\python312\\lib\\site-packages (from jinja2>=2.11.1->sweetviz) (2.1.5)\n",
      "Requirement already satisfied: contourpy>=1.0.1 in c:\\users\\victor\\appdata\\local\\programs\\python\\python312\\lib\\site-packages (from matplotlib>=3.1.3->sweetviz) (1.2.0)\n",
      "Requirement already satisfied: cycler>=0.10 in c:\\users\\victor\\appdata\\local\\programs\\python\\python312\\lib\\site-packages (from matplotlib>=3.1.3->sweetviz) (0.12.1)\n",
      "Requirement already satisfied: fonttools>=4.22.0 in c:\\users\\victor\\appdata\\local\\programs\\python\\python312\\lib\\site-packages (from matplotlib>=3.1.3->sweetviz) (4.50.0)\n",
      "Requirement already satisfied: kiwisolver>=1.3.1 in c:\\users\\victor\\appdata\\local\\programs\\python\\python312\\lib\\site-packages (from matplotlib>=3.1.3->sweetviz) (1.4.5)\n",
      "Requirement already satisfied: packaging>=20.0 in c:\\users\\victor\\appdata\\local\\programs\\python\\python312\\lib\\site-packages (from matplotlib>=3.1.3->sweetviz) (24.0)\n",
      "Requirement already satisfied: pillow>=8 in c:\\users\\victor\\appdata\\local\\programs\\python\\python312\\lib\\site-packages (from matplotlib>=3.1.3->sweetviz) (10.2.0)\n",
      "Requirement already satisfied: pyparsing>=2.3.1 in c:\\users\\victor\\appdata\\local\\programs\\python\\python312\\lib\\site-packages (from matplotlib>=3.1.3->sweetviz) (3.1.2)\n",
      "Requirement already satisfied: python-dateutil>=2.7 in c:\\users\\victor\\appdata\\local\\programs\\python\\python312\\lib\\site-packages (from matplotlib>=3.1.3->sweetviz) (2.9.0.post0)\n",
      "Requirement already satisfied: pytz>=2020.1 in c:\\users\\victor\\appdata\\local\\programs\\python\\python312\\lib\\site-packages (from pandas!=1.0.0,!=1.0.1,!=1.0.2,>=0.25.3->sweetviz) (2024.1)\n",
      "Requirement already satisfied: tzdata>=2022.7 in c:\\users\\victor\\appdata\\local\\programs\\python\\python312\\lib\\site-packages (from pandas!=1.0.0,!=1.0.1,!=1.0.2,>=0.25.3->sweetviz) (2024.1)\n",
      "Requirement already satisfied: colorama in c:\\users\\victor\\appdata\\local\\programs\\python\\python312\\lib\\site-packages (from tqdm>=4.43.0->sweetviz) (0.4.6)\n",
      "Requirement already satisfied: six>=1.5 in c:\\users\\victor\\appdata\\local\\programs\\python\\python312\\lib\\site-packages (from python-dateutil>=2.7->matplotlib>=3.1.3->sweetviz) (1.16.0)\n",
      "Note: you may need to restart the kernel to use updated packages.\n"
     ]
    },
    {
     "name": "stderr",
     "output_type": "stream",
     "text": [
      "ERROR: Could not find a version that satisfies the requirement string (from versions: none)\n",
      "ERROR: No matching distribution found for string\n"
     ]
    },
    {
     "name": "stdout",
     "output_type": "stream",
     "text": [
      "Requirement already satisfied: imblearn in c:\\users\\victor\\appdata\\local\\programs\\python\\python312\\lib\\site-packages (0.0)Note: you may need to restart the kernel to use updated packages.\n",
      "\n",
      "Requirement already satisfied: imbalanced-learn in c:\\users\\victor\\appdata\\local\\programs\\python\\python312\\lib\\site-packages (from imblearn) (0.12.2)\n",
      "Requirement already satisfied: numpy>=1.17.3 in c:\\users\\victor\\appdata\\local\\programs\\python\\python312\\lib\\site-packages (from imbalanced-learn->imblearn) (1.26.2)\n",
      "Requirement already satisfied: scipy>=1.5.0 in c:\\users\\victor\\appdata\\local\\programs\\python\\python312\\lib\\site-packages (from imbalanced-learn->imblearn) (1.12.0)\n",
      "Requirement already satisfied: scikit-learn>=1.0.2 in c:\\users\\victor\\appdata\\local\\programs\\python\\python312\\lib\\site-packages (from imbalanced-learn->imblearn) (1.4.1.post1)\n",
      "Requirement already satisfied: joblib>=1.1.1 in c:\\users\\victor\\appdata\\local\\programs\\python\\python312\\lib\\site-packages (from imbalanced-learn->imblearn) (1.3.2)\n",
      "Requirement already satisfied: threadpoolctl>=2.0.0 in c:\\users\\victor\\appdata\\local\\programs\\python\\python312\\lib\\site-packages (from imbalanced-learn->imblearn) (3.4.0)\n"
     ]
    }
   ],
   "source": [
    "%pip install unidecode\n",
    "%pip install spacy\n",
    "%pip install seaborn\n",
    "%pip install nltk\n",
    "%pip install stats\n",
    "%pip install xgboost\n",
    "%pip install sweetviz\n",
    "%pip install string\n",
    "%pip install imblearn"
   ]
  },
  {
   "cell_type": "markdown",
   "id": "d1945518-f8c4-4f7d-ac9c-ef72d0869d09",
   "metadata": {},
   "source": [
    "# 2. Import Packages"
   ]
  },
  {
   "cell_type": "code",
   "execution_count": 349,
   "id": "3c23c32e-0bab-4fb9-a35f-b04f4f0b93a9",
   "metadata": {},
   "outputs": [],
   "source": [
    "import pandas as pd\n",
    "import numpy as np\n",
    "import os\n",
    "import seaborn as sns\n",
    "import spacy\n",
    "nlp = spacy.load('pt_core_news_lg')\n",
    "import string\n",
    "import regex as re\n",
    "from unidecode import unidecode\n",
    "from scipy import stats\n",
    "import matplotlib.pyplot as plt\n",
    "from sklearn.model_selection import train_test_split\n",
    "from sklearn.feature_extraction.text import TfidfVectorizer\n",
    "from sklearn.neural_network import MLPClassifier\n",
    "from sklearn.preprocessing import StandardScaler\n",
    "from sklearn.metrics import roc_curve, auc, confusion_matrix, accuracy_score\n",
    "from sklearn import preprocessing\n",
    "from sklearn.model_selection import GridSearchCV\n",
    "from imblearn.over_sampling import SMOTE"
   ]
  },
  {
   "cell_type": "markdown",
   "id": "bc1de613",
   "metadata": {},
   "source": [
    "# 3. Load Data"
   ]
  },
  {
   "cell_type": "code",
   "execution_count": 350,
   "id": "dbab8de1",
   "metadata": {},
   "outputs": [],
   "source": [
    "customers_df = pd.read_csv(\"olist_customers_dataset.csv\")\n",
    "geolocation_df = pd.read_csv(\"olist_geolocation_dataset.csv\")\n",
    "order_items_df = pd.read_csv(\"olist_order_items_dataset.csv\")\n",
    "order_payments_df = pd.read_csv(\"olist_order_payments_dataset.csv\")\n",
    "order_reviews_df = pd.read_csv(\"olist_order_reviews_dataset.csv\")\n",
    "orders_df = pd.read_csv(\"olist_orders_dataset.csv\")\n",
    "products_df = pd.read_csv(\"olist_products_dataset.csv\")\n",
    "sellers_df = pd.read_csv(\"olist_sellers_dataset.csv\")\n",
    "product_category_name_translation_df = pd.read_csv(\"product_category_name_translation.csv\")"
   ]
  },
  {
   "cell_type": "markdown",
   "id": "77b9ef76",
   "metadata": {},
   "source": [
    "# 4. Data Wreangling"
   ]
  },
  {
   "cell_type": "markdown",
   "id": "5b389da8",
   "metadata": {},
   "source": [
    "### 4.1. Merge Data"
   ]
  },
  {
   "cell_type": "code",
   "execution_count": 351,
   "id": "6702918d",
   "metadata": {},
   "outputs": [],
   "source": [
    "df = orders_df.merge(order_reviews_df, on='order_id')\\\n",
    "                   .merge(order_items_df, on='order_id')\\\n",
    "                   .merge(products_df, on='product_id')\\\n",
    "                   .merge(sellers_df, on='seller_id')\\\n",
    "                   .merge(geolocation_df, left_on='seller_zip_code_prefix', right_on='geolocation_zip_code_prefix')"
   ]
  },
  {
   "cell_type": "markdown",
   "id": "fb6e9aba",
   "metadata": {},
   "source": [
    "### 4.2. Selected Columns Important"
   ]
  },
  {
   "cell_type": "code",
   "execution_count": 352,
   "id": "f478eb3b",
   "metadata": {},
   "outputs": [],
   "source": [
    "selected_columns = ['review_id', 'review_score', 'review_comment_title', \n",
    "                    'review_comment_message', 'review_creation_date', \n",
    "                    'review_answer_timestamp', 'product_id', \n",
    "                    'geolocation_lat', 'geolocation_lng']\n",
    "\n",
    "full_df = df.loc[:, selected_columns]"
   ]
  },
  {
   "cell_type": "markdown",
   "id": "141337d4",
   "metadata": {},
   "source": [
    "### 4.3. Conversion Columns Data in datetime"
   ]
  },
  {
   "cell_type": "code",
   "execution_count": 353,
   "id": "8059dc98",
   "metadata": {},
   "outputs": [],
   "source": [
    "datetime_columns = ['review_creation_date', 'review_answer_timestamp']\n",
    "full_df[datetime_columns] = full_df[datetime_columns].apply(pd.to_datetime)"
   ]
  },
  {
   "cell_type": "markdown",
   "id": "8668f077",
   "metadata": {},
   "source": [
    "### 4.4. Drop Duplicates"
   ]
  },
  {
   "cell_type": "code",
   "execution_count": 354,
   "id": "6262b85f",
   "metadata": {},
   "outputs": [],
   "source": [
    "full_df = full_df.drop_duplicates(subset=['review_id'])"
   ]
  },
  {
   "cell_type": "markdown",
   "id": "9c0770f3",
   "metadata": {},
   "source": [
    "### 4.5. Drop NA"
   ]
  },
  {
   "cell_type": "code",
   "execution_count": 355,
   "id": "c09a88cb",
   "metadata": {},
   "outputs": [],
   "source": [
    "full_df = full_df.dropna(subset=['review_comment_message'])\n",
    "full_df = full_df.dropna(subset=['review_score'])"
   ]
  },
  {
   "cell_type": "markdown",
   "id": "f8322beb",
   "metadata": {},
   "source": [
    "### 4.6. Merge Title with Message"
   ]
  },
  {
   "cell_type": "code",
   "execution_count": 356,
   "id": "20bc082a",
   "metadata": {},
   "outputs": [],
   "source": [
    "full_df['review_comment_title'] = full_df['review_comment_title'].fillna('').astype(str)\n",
    "full_df['text_sentiment'] = full_df['review_comment_title'].str.cat(full_df['review_comment_message'], sep=' ')"
   ]
  },
  {
   "cell_type": "markdown",
   "id": "7e64d25d",
   "metadata": {},
   "source": [
    "### 4.7. Drop NA Text Sentiment"
   ]
  },
  {
   "cell_type": "code",
   "execution_count": 357,
   "id": "c9173a4f",
   "metadata": {},
   "outputs": [],
   "source": [
    "full_df = full_df.dropna(subset=['text_sentiment'])"
   ]
  },
  {
   "cell_type": "markdown",
   "id": "0b80070f",
   "metadata": {},
   "source": [
    "# 5. Data Processing"
   ]
  },
  {
   "cell_type": "markdown",
   "id": "bd526381",
   "metadata": {},
   "source": [
    "### 5.1. Conversion Column Message in Lower Case"
   ]
  },
  {
   "cell_type": "code",
   "execution_count": 358,
   "id": "09cf9f52",
   "metadata": {},
   "outputs": [],
   "source": [
    "def to_lower(text):\n",
    "    return text.lower()"
   ]
  },
  {
   "cell_type": "code",
   "execution_count": 359,
   "id": "5f9976a5",
   "metadata": {},
   "outputs": [],
   "source": [
    "full_df['text_sentiment'] = full_df['text_sentiment'].apply(to_lower)"
   ]
  },
  {
   "cell_type": "markdown",
   "id": "8713baf9",
   "metadata": {},
   "source": [
    "### 5.2. Removing Punctuation, Exemple (\".\", \"!\")"
   ]
  },
  {
   "cell_type": "code",
   "execution_count": 360,
   "id": "4a98946e",
   "metadata": {},
   "outputs": [],
   "source": [
    "def remove_punctuation(text):\n",
    "    punct = string.punctuation\n",
    "    punct = punct.replace(\"'\", \"\")\n",
    "    translator = str.maketrans('', '', punct)\n",
    "    return text.translate(translator)"
   ]
  },
  {
   "cell_type": "code",
   "execution_count": 361,
   "id": "281e5e16",
   "metadata": {},
   "outputs": [],
   "source": [
    "full_df['text_sentiment'] = full_df['text_sentiment'].apply(remove_punctuation)"
   ]
  },
  {
   "cell_type": "markdown",
   "id": "b841a711",
   "metadata": {},
   "source": [
    "### 5.3. Removing Emoji"
   ]
  },
  {
   "cell_type": "code",
   "execution_count": 362,
   "id": "d3099519",
   "metadata": {},
   "outputs": [],
   "source": [
    "def remove_emojis(text):\n",
    "    emoji_pattern = re.compile(\"[\"\n",
    "                               u\"\\U0001F600-\\U0001F64F\"  # emoticons\n",
    "                               u\"\\U0001F300-\\U0001F5FF\"  # simbol and pictogramas\n",
    "                               u\"\\U0001F680-\\U0001F6FF\"  # transport and ]simbol of map\n",
    "                               u\"\\U0001F1E0-\\U0001F1FF\"  # flags (iOS)\n",
    "                               u\"\\U00002702-\\U000027B0\"\n",
    "                               u\"\\U000024C2-\\U0001F251\"\n",
    "                               \"]+\", flags=re.UNICODE)\n",
    "    return emoji_pattern.sub(r'', text)"
   ]
  },
  {
   "cell_type": "code",
   "execution_count": 363,
   "id": "4122dc35",
   "metadata": {},
   "outputs": [],
   "source": [
    "full_df['text_sentiment'] = full_df['text_sentiment'].apply(remove_emojis)"
   ]
  },
  {
   "cell_type": "markdown",
   "id": "37648f70",
   "metadata": {},
   "source": [
    "### 5.4. Removing Sites and Blogs"
   ]
  },
  {
   "cell_type": "code",
   "execution_count": 364,
   "id": "7531f127",
   "metadata": {},
   "outputs": [],
   "source": [
    "def remove_urls(text):\n",
    "    http = r\"http\\S+|www\\.\\S+\"\n",
    "    pattern = re.compile(r\"({})\".format(http))\n",
    "    return pattern.sub(r'', text)"
   ]
  },
  {
   "cell_type": "code",
   "execution_count": 365,
   "id": "bbf3da5f",
   "metadata": {},
   "outputs": [],
   "source": [
    "full_df['text_sentiment'] = full_df['text_sentiment'].apply(remove_urls)"
   ]
  },
  {
   "cell_type": "markdown",
   "id": "f2534de1",
   "metadata": {},
   "source": [
    "### 5.5. Removing Accentuation"
   ]
  },
  {
   "cell_type": "code",
   "execution_count": 366,
   "id": "4490ce04",
   "metadata": {},
   "outputs": [],
   "source": [
    "def remove_accent(text):\n",
    "    return unidecode(text)"
   ]
  },
  {
   "cell_type": "code",
   "execution_count": 367,
   "id": "344c10f4",
   "metadata": {},
   "outputs": [],
   "source": [
    "full_df['text_sentiment'] = full_df['text_sentiment'].apply(remove_accent)"
   ]
  },
  {
   "cell_type": "markdown",
   "id": "24ad69a2",
   "metadata": {},
   "source": [
    "### 5.6. Remove Numbers"
   ]
  },
  {
   "cell_type": "code",
   "execution_count": 368,
   "id": "9f4d3ade",
   "metadata": {},
   "outputs": [],
   "source": [
    "def remove_numbers(texto):\n",
    "    return re.sub(r'\\d+', '', texto)"
   ]
  },
  {
   "cell_type": "code",
   "execution_count": 369,
   "id": "53f271dc",
   "metadata": {},
   "outputs": [],
   "source": [
    "full_df['text_sentiment'] = full_df['text_sentiment'].apply(remove_numbers)"
   ]
  },
  {
   "cell_type": "markdown",
   "id": "36d658e3",
   "metadata": {},
   "source": [
    "### 5.7. Remove Space Blank Excessive and Remove Broke Line"
   ]
  },
  {
   "cell_type": "code",
   "execution_count": 370,
   "id": "d422b435",
   "metadata": {},
   "outputs": [],
   "source": [
    "def remove_broke_line(texto):\n",
    "    return texto.replace('\\n', ' ')"
   ]
  },
  {
   "cell_type": "code",
   "execution_count": 371,
   "id": "bc1f48d7",
   "metadata": {},
   "outputs": [],
   "source": [
    "full_df['text_sentiment'] = full_df['text_sentiment'].apply(remove_broke_line)"
   ]
  },
  {
   "cell_type": "markdown",
   "id": "961b3d08",
   "metadata": {},
   "source": [
    "### 5.8. Remove Blank Space Text"
   ]
  },
  {
   "cell_type": "code",
   "execution_count": 372,
   "id": "9544b1dc",
   "metadata": {},
   "outputs": [],
   "source": [
    "def strip_text(text):\n",
    "    return text.strip()"
   ]
  },
  {
   "cell_type": "code",
   "execution_count": 373,
   "id": "69ba4cfc",
   "metadata": {},
   "outputs": [],
   "source": [
    "full_df['text_sentiment'] = full_df['text_sentiment'].apply(strip_text)"
   ]
  },
  {
   "cell_type": "markdown",
   "id": "4294283b",
   "metadata": {},
   "source": [
    "### 5.9. Filter only Adjetivos, Verbos, Substantivo, Adverbios and \"nao\" \"nada\""
   ]
  },
  {
   "cell_type": "code",
   "execution_count": 374,
   "id": "6298c1ea",
   "metadata": {},
   "outputs": [],
   "source": [
    "def filtrar_tokens(text):\n",
    "    doc = nlp(text)\n",
    "    tokens_filtrados = []\n",
    "    for token in doc:\n",
    "        if token.text.lower() == 'nao':\n",
    "            tokens_filtrados.append(token.text)\n",
    "        elif token.text.lower() == 'nada':\n",
    "            tokens_filtrados.append(token.text)\n",
    "        elif token.pos_ in ['ADJ', 'VERB', 'NOUN', 'ADV']:\n",
    "            tokens_filtrados.append(token.text)\n",
    "    return ' '.join(tokens_filtrados)"
   ]
  },
  {
   "cell_type": "code",
   "execution_count": 375,
   "id": "4ca275a4",
   "metadata": {},
   "outputs": [],
   "source": [
    "full_df['text_sentiment'] = full_df['text_sentiment'].apply(filtrar_tokens)"
   ]
  },
  {
   "cell_type": "markdown",
   "id": "1b18a2ee",
   "metadata": {},
   "source": [
    "### 5.10. Lematization"
   ]
  },
  {
   "cell_type": "code",
   "execution_count": 376,
   "id": "31e7facd",
   "metadata": {},
   "outputs": [],
   "source": [
    "def lemmatize_text(text):\n",
    "    return \" \".join([token.lemma_ for token in nlp(text)])"
   ]
  },
  {
   "cell_type": "code",
   "execution_count": 377,
   "id": "66496de5",
   "metadata": {},
   "outputs": [],
   "source": [
    "full_df['text_sentiment'] = full_df['text_sentiment'].apply(lemmatize_text)"
   ]
  },
  {
   "cell_type": "code",
   "execution_count": 400,
   "id": "b64ba169",
   "metadata": {},
   "outputs": [],
   "source": [
    "def remove_word(text, word):\n",
    "    return text.replace(word, '')"
   ]
  },
  {
   "cell_type": "code",
   "execution_count": 403,
   "id": "f7b6ce20",
   "metadata": {},
   "outputs": [],
   "source": [
    "full_df['text_sentiment'] = full_df['text_sentiment'].apply(lambda x: remove_word(x, 'produto'))"
   ]
  },
  {
   "cell_type": "code",
   "execution_count": 404,
   "id": "a998d304",
   "metadata": {},
   "outputs": [
    {
     "data": {
      "text/html": [
       "<div>\n",
       "<style scoped>\n",
       "    .dataframe tbody tr th:only-of-type {\n",
       "        vertical-align: middle;\n",
       "    }\n",
       "\n",
       "    .dataframe tbody tr th {\n",
       "        vertical-align: top;\n",
       "    }\n",
       "\n",
       "    .dataframe thead th {\n",
       "        text-align: right;\n",
       "    }\n",
       "</style>\n",
       "<table border=\"1\" class=\"dataframe\">\n",
       "  <thead>\n",
       "    <tr style=\"text-align: right;\">\n",
       "      <th></th>\n",
       "      <th>review_id</th>\n",
       "      <th>review_score</th>\n",
       "      <th>review_comment_title</th>\n",
       "      <th>review_comment_message</th>\n",
       "      <th>review_creation_date</th>\n",
       "      <th>review_answer_timestamp</th>\n",
       "      <th>product_id</th>\n",
       "      <th>geolocation_lat</th>\n",
       "      <th>geolocation_lng</th>\n",
       "      <th>text_sentiment</th>\n",
       "    </tr>\n",
       "  </thead>\n",
       "  <tbody>\n",
       "    <tr>\n",
       "      <th>0</th>\n",
       "      <td>a54f0611adc9ed256b57ede6b6eb5114</td>\n",
       "      <td>4</td>\n",
       "      <td></td>\n",
       "      <td>Não testei o  ainda, mas ele veio correto e em boas condições. Apenas a caixa que veio bem amassada e danificada, o que ficará chato, pois se trata de um presente.</td>\n",
       "      <td>2017-10-11</td>\n",
       "      <td>2017-10-12 03:43:48</td>\n",
       "      <td>87285b34884572647811a353c7ac498a</td>\n",
       "      <td>-23.680114</td>\n",
       "      <td>-46.452454</td>\n",
       "      <td>nao testar  ainda vir correto bom condicoes apenas caixa vir bem amassar danificar ficar chato tratar presente</td>\n",
       "    </tr>\n",
       "    <tr>\n",
       "      <th>207</th>\n",
       "      <td>8d5266042046a06655c8db133d120ba5</td>\n",
       "      <td>4</td>\n",
       "      <td>Muito boa a loja</td>\n",
       "      <td>Muito bom o .</td>\n",
       "      <td>2018-08-08</td>\n",
       "      <td>2018-08-08 18:37:50</td>\n",
       "      <td>595fac2a385ac33a80bd5114aec74eb8</td>\n",
       "      <td>-19.810119</td>\n",
       "      <td>-43.984727</td>\n",
       "      <td>muito bom loja muito bom</td>\n",
       "    </tr>\n",
       "    <tr>\n",
       "      <th>448</th>\n",
       "      <td>359d03e676b3c069f62cadba8dd3f6e8</td>\n",
       "      <td>5</td>\n",
       "      <td></td>\n",
       "      <td>O  foi exatamente o que eu esperava e estava descrito no site e chegou bem antes da data prevista.</td>\n",
       "      <td>2017-12-03</td>\n",
       "      <td>2017-12-05 19:21:58</td>\n",
       "      <td>d0b61bfb1de832b15ba9d266ca96e5b0</td>\n",
       "      <td>-19.840168</td>\n",
       "      <td>-43.923299</td>\n",
       "      <td>exatamente esperar descrito site chegar bem antes data prever</td>\n",
       "    </tr>\n",
       "    <tr>\n",
       "      <th>620</th>\n",
       "      <td>e07549ef5311abcc92ba1784b093fb56</td>\n",
       "      <td>2</td>\n",
       "      <td></td>\n",
       "      <td>fiquei triste por n ter me atendido.</td>\n",
       "      <td>2017-05-13</td>\n",
       "      <td>2017-05-13 20:25:42</td>\n",
       "      <td>a1804276d9941ac0733cfd409f5206eb</td>\n",
       "      <td>-23.536892</td>\n",
       "      <td>-46.713111</td>\n",
       "      <td>fiquei triste n atendir</td>\n",
       "    </tr>\n",
       "    <tr>\n",
       "      <th>1468</th>\n",
       "      <td>15898b543726a832d4137fbef5d1d00e</td>\n",
       "      <td>1</td>\n",
       "      <td></td>\n",
       "      <td>Aguardando retorno da loja</td>\n",
       "      <td>2017-05-30</td>\n",
       "      <td>2017-05-30 23:13:47</td>\n",
       "      <td>08574b074924071f4e201e151b152b4e</td>\n",
       "      <td>-20.297537</td>\n",
       "      <td>-40.400869</td>\n",
       "      <td>aguardar retorno lojar</td>\n",
       "    </tr>\n",
       "    <tr>\n",
       "      <th>2180</th>\n",
       "      <td>8f39f09c22b1ceb6e3eb178d8e50bb8a</td>\n",
       "      <td>4</td>\n",
       "      <td></td>\n",
       "      <td>Gostei do</td>\n",
       "      <td>2018-03-13</td>\n",
       "      <td>2018-03-14 10:36:16</td>\n",
       "      <td>72d3bf1d3a790f8874096fcf860e3eff</td>\n",
       "      <td>-26.916270</td>\n",
       "      <td>-48.652460</td>\n",
       "      <td>gostar</td>\n",
       "    </tr>\n",
       "    <tr>\n",
       "      <th>2415</th>\n",
       "      <td>5a8608437f4b52bec5cd143f37258b5e</td>\n",
       "      <td>5</td>\n",
       "      <td>Nota dez</td>\n",
       "      <td>Obrigado pela atenção. Lojas lannister perfeito em tudo.</td>\n",
       "      <td>2018-07-03</td>\n",
       "      <td>2018-07-03 15:10:07</td>\n",
       "      <td>009c09f439988bc06a93d6b8186dce73</td>\n",
       "      <td>-15.836123</td>\n",
       "      <td>-48.040185</td>\n",
       "      <td>nota obrigado atencao loja perfeito</td>\n",
       "    </tr>\n",
       "    <tr>\n",
       "      <th>2881</th>\n",
       "      <td>38cae21b1b57a95959440380d5b2ef7a</td>\n",
       "      <td>2</td>\n",
       "      <td></td>\n",
       "      <td>os correios estäo em greve... näo recebi nenhum aviso de atraso, mas de qqer forma a empresa responsável deveria dar alguma resposta sobre o atraso.</td>\n",
       "      <td>2017-10-01</td>\n",
       "      <td>2017-10-01 17:55:21</td>\n",
       "      <td>5ac9d9e379c606e36a8094a6046f75dc</td>\n",
       "      <td>-23.677741</td>\n",
       "      <td>-46.668647</td>\n",
       "      <td>Correios greve nao receber aviso atraso qqer forma empresa responsavel dever dar resposta atraso</td>\n",
       "    </tr>\n",
       "    <tr>\n",
       "      <th>3240</th>\n",
       "      <td>9a55cbc65c8fad47581da5ebbb2b373e</td>\n",
       "      <td>5</td>\n",
       "      <td>Ótimo</td>\n",
       "      <td>Sempre vou comprar aqui pois é a melhor parabéns</td>\n",
       "      <td>2018-08-14</td>\n",
       "      <td>2018-08-14 21:52:46</td>\n",
       "      <td>e99d69efe684efaa643f99805f7c81bc</td>\n",
       "      <td>-21.728866</td>\n",
       "      <td>-48.688815</td>\n",
       "      <td>otimo sempre comprar aqui pois bom parabens</td>\n",
       "    </tr>\n",
       "    <tr>\n",
       "      <th>3308</th>\n",
       "      <td>6a1a8e54de03ab98e6e8ff56e56e507f</td>\n",
       "      <td>2</td>\n",
       "      <td></td>\n",
       "      <td>Demora muito entregar. Já passou o prazo e ainda não recebi minha encomenda.</td>\n",
       "      <td>2018-03-16</td>\n",
       "      <td>2018-03-20 23:10:58</td>\n",
       "      <td>7b717060aa783eb7f23a747a3a733dd7</td>\n",
       "      <td>-23.624784</td>\n",
       "      <td>-46.539542</td>\n",
       "      <td>demorar muito entregar passar prazo ainda nao recebi encomenda</td>\n",
       "    </tr>\n",
       "    <tr>\n",
       "      <th>3546</th>\n",
       "      <td>2d4303fd561eb4ab51c87faa6598dc10</td>\n",
       "      <td>1</td>\n",
       "      <td>NÃO RECOMENDO!!!!</td>\n",
       "      <td>Até o momento não recebi o  Protetor De Colchão Para Berço - Algodão Impermeável, já fiz a reclamação desde o dia 18/06 e ainda não obtive retorno. Irei cancelar o pedido e estornar a compra hj</td>\n",
       "      <td>2018-06-17</td>\n",
       "      <td>2018-06-20 11:38:22</td>\n",
       "      <td>d70f38e7f79c630f8ea00c993897042c</td>\n",
       "      <td>-21.728866</td>\n",
       "      <td>-48.688815</td>\n",
       "      <td>nao recomender momento nao recebi  protetor colchao berco algodao impermeavel ja fiz reclamacao dia ainda nao obter retorno cancelar pedir estornar compra hj</td>\n",
       "    </tr>\n",
       "    <tr>\n",
       "      <th>3900</th>\n",
       "      <td>67904467df350a66376e3a42fbe02139</td>\n",
       "      <td>5</td>\n",
       "      <td></td>\n",
       "      <td>Lindos. \\r\\nAcabamento incrivel, muiro macios e super em conta.</td>\n",
       "      <td>2018-03-22</td>\n",
       "      <td>2018-03-25 02:36:39</td>\n",
       "      <td>00baba5b58e274d0332a0c8a0a66f877</td>\n",
       "      <td>-21.465699</td>\n",
       "      <td>-47.004755</td>\n",
       "      <td>linr acabamento incrivel Muiro macio super contar</td>\n",
       "    </tr>\n",
       "    <tr>\n",
       "      <th>4217</th>\n",
       "      <td>2f111691fc93df88fc3aa8c2deac61ce</td>\n",
       "      <td>2</td>\n",
       "      <td></td>\n",
       "      <td>O  veio faltando a base para auto e como eu fiz o pedido por telefone justamente para confirmar se a base demonstrada pela foto acompanhava o  e tbm constava na descrição do item.</td>\n",
       "      <td>2017-08-19</td>\n",
       "      <td>2017-08-19 23:46:02</td>\n",
       "      <td>cafd558df4c3c9d1c338ba6930ea9a62</td>\n",
       "      <td>-22.760478</td>\n",
       "      <td>-47.412811</td>\n",
       "      <td>vir faltar base fiz pedir telefone justamente confirmar base demonstrar foto acompanhar  constar descricao item</td>\n",
       "    </tr>\n",
       "    <tr>\n",
       "      <th>4363</th>\n",
       "      <td>764c587207b9589949abd863bdb72dec</td>\n",
       "      <td>1</td>\n",
       "      <td>Enganadores</td>\n",
       "      <td>Foi entregue um  divergente do que eu havia comprado, além de não vir com todos os acessórios constantes na descrição do anuncio. Solicito providências urgentes.</td>\n",
       "      <td>2018-05-06</td>\n",
       "      <td>2018-05-08 23:47:22</td>\n",
       "      <td>2d8f2be4f08788ee3bf5356af2b2ee6c</td>\n",
       "      <td>-24.026787</td>\n",
       "      <td>-46.493049</td>\n",
       "      <td>enganador entregar  divergente comprar aler nao vir acessorio constante descricao anuncio solicito providencia urgente</td>\n",
       "    </tr>\n",
       "    <tr>\n",
       "      <th>4809</th>\n",
       "      <td>57be0c4c29a5113d8344db898974b47b</td>\n",
       "      <td>5</td>\n",
       "      <td></td>\n",
       "      <td>Ficou tudo ok só pensei q fosse maior mas.ta bom</td>\n",
       "      <td>2018-02-23</td>\n",
       "      <td>2018-02-25 11:39:37</td>\n",
       "      <td>39a9942865c056ed2006a5e8c11d9537</td>\n",
       "      <td>-23.646846</td>\n",
       "      <td>-46.666055</td>\n",
       "      <td>ficar so pensar q grande masta bom</td>\n",
       "    </tr>\n",
       "    <tr>\n",
       "      <th>5242</th>\n",
       "      <td>f121467a10eee0929f364c7d62abc9b5</td>\n",
       "      <td>5</td>\n",
       "      <td></td>\n",
       "      <td>há muito tempo efetuo compras atraves desta loja, nunca tive problemas. sempre entrega antes da data.</td>\n",
       "      <td>2018-03-20</td>\n",
       "      <td>2018-03-23 22:56:05</td>\n",
       "      <td>bff2010b28e8fbcff5a9db9d3fea5ac4</td>\n",
       "      <td>-23.693986</td>\n",
       "      <td>-46.701883</td>\n",
       "      <td>ha tempo compra atraves loja nunca ter problema sempre entregar antes data</td>\n",
       "    </tr>\n",
       "    <tr>\n",
       "      <th>5277</th>\n",
       "      <td>dc5cb78313de2f9c467da1f72302de04</td>\n",
       "      <td>4</td>\n",
       "      <td></td>\n",
       "      <td>bom pode comprar</td>\n",
       "      <td>2018-03-14</td>\n",
       "      <td>2018-03-16 00:52:33</td>\n",
       "      <td>9b37a918bcf2c8e1064e867cf1df4637</td>\n",
       "      <td>-23.612053</td>\n",
       "      <td>-46.607835</td>\n",
       "      <td>bom poder comprar</td>\n",
       "    </tr>\n",
       "    <tr>\n",
       "      <th>5530</th>\n",
       "      <td>b3b4ba30f4ff674b60b53cbb408ad037</td>\n",
       "      <td>5</td>\n",
       "      <td>Produto novo e original</td>\n",
       "      <td>Produto veio bem lacrado, todo original.</td>\n",
       "      <td>2018-06-19</td>\n",
       "      <td>2018-06-20 00:49:10</td>\n",
       "      <td>c7df652246ed7b3300aaf46960c141e4</td>\n",
       "      <td>-24.035293</td>\n",
       "      <td>-52.379570</td>\n",
       "      <td>novo original  vir bem lacrar todo original</td>\n",
       "    </tr>\n",
       "    <tr>\n",
       "      <th>5904</th>\n",
       "      <td>dfcc60a0a9bf7470d1acf910bc306e78</td>\n",
       "      <td>5</td>\n",
       "      <td></td>\n",
       "      <td>Quero o cartão de crédito das Lojas lannister! Minha satisfação é Plena!</td>\n",
       "      <td>2017-06-01</td>\n",
       "      <td>2017-06-04 23:01:26</td>\n",
       "      <td>8c591ab0ca519558779df02023177f44</td>\n",
       "      <td>-20.944706</td>\n",
       "      <td>-45.827098</td>\n",
       "      <td>querer Cartao credito loja satisfacao pleno</td>\n",
       "    </tr>\n",
       "    <tr>\n",
       "      <th>5954</th>\n",
       "      <td>5caca29ffffe9086162ca51303817420</td>\n",
       "      <td>1</td>\n",
       "      <td></td>\n",
       "      <td>Inicialmente, na data da compra o  era para ser entregue até 21/12. Hoje é dia 27/12 e não chegou ainda.</td>\n",
       "      <td>2017-12-22</td>\n",
       "      <td>2017-12-28 11:25:32</td>\n",
       "      <td>be021417a6acb56b9b50d3fd2714baa8</td>\n",
       "      <td>-27.227306</td>\n",
       "      <td>-49.647892</td>\n",
       "      <td>inicialmente datar comprar  ser entregar hoje dia nao chegar ainda</td>\n",
       "    </tr>\n",
       "  </tbody>\n",
       "</table>\n",
       "</div>"
      ],
      "text/plain": [
       "                             review_id  review_score     review_comment_title  \\\n",
       "0     a54f0611adc9ed256b57ede6b6eb5114             4                            \n",
       "207   8d5266042046a06655c8db133d120ba5             4         Muito boa a loja   \n",
       "448   359d03e676b3c069f62cadba8dd3f6e8             5                            \n",
       "620   e07549ef5311abcc92ba1784b093fb56             2                            \n",
       "1468  15898b543726a832d4137fbef5d1d00e             1                            \n",
       "2180  8f39f09c22b1ceb6e3eb178d8e50bb8a             4                            \n",
       "2415  5a8608437f4b52bec5cd143f37258b5e             5                 Nota dez   \n",
       "2881  38cae21b1b57a95959440380d5b2ef7a             2                            \n",
       "3240  9a55cbc65c8fad47581da5ebbb2b373e             5                   Ótimo    \n",
       "3308  6a1a8e54de03ab98e6e8ff56e56e507f             2                            \n",
       "3546  2d4303fd561eb4ab51c87faa6598dc10             1       NÃO RECOMENDO!!!!    \n",
       "3900  67904467df350a66376e3a42fbe02139             5                            \n",
       "4217  2f111691fc93df88fc3aa8c2deac61ce             2                            \n",
       "4363  764c587207b9589949abd863bdb72dec             1              Enganadores   \n",
       "4809  57be0c4c29a5113d8344db898974b47b             5                            \n",
       "5242  f121467a10eee0929f364c7d62abc9b5             5                            \n",
       "5277  dc5cb78313de2f9c467da1f72302de04             4                            \n",
       "5530  b3b4ba30f4ff674b60b53cbb408ad037             5  Produto novo e original   \n",
       "5904  dfcc60a0a9bf7470d1acf910bc306e78             5                            \n",
       "5954  5caca29ffffe9086162ca51303817420             1                            \n",
       "\n",
       "                                                                                                                                                                                 review_comment_message  \\\n",
       "0                                   Não testei o  ainda, mas ele veio correto e em boas condições. Apenas a caixa que veio bem amassada e danificada, o que ficará chato, pois se trata de um presente.   \n",
       "207                                                                                                                                                                                       Muito bom o .   \n",
       "448                                                                                                  O  foi exatamente o que eu esperava e estava descrito no site e chegou bem antes da data prevista.   \n",
       "620                                                                                                                                                                fiquei triste por n ter me atendido.   \n",
       "1468                                                                                                                                                                         Aguardando retorno da loja   \n",
       "2180                                                                                                                                                                                         Gostei do    \n",
       "2415                                                                                                                                           Obrigado pela atenção. Lojas lannister perfeito em tudo.   \n",
       "2881                                               os correios estäo em greve... näo recebi nenhum aviso de atraso, mas de qqer forma a empresa responsável deveria dar alguma resposta sobre o atraso.   \n",
       "3240                                                                                                                                                  Sempre vou comprar aqui pois é a melhor parabéns    \n",
       "3308                                                                                                                       Demora muito entregar. Já passou o prazo e ainda não recebi minha encomenda.   \n",
       "3546  Até o momento não recebi o  Protetor De Colchão Para Berço - Algodão Impermeável, já fiz a reclamação desde o dia 18/06 e ainda não obtive retorno. Irei cancelar o pedido e estornar a compra hj   \n",
       "3900                                                                                                                                    Lindos. \\r\\nAcabamento incrivel, muiro macios e super em conta.   \n",
       "4217                O  veio faltando a base para auto e como eu fiz o pedido por telefone justamente para confirmar se a base demonstrada pela foto acompanhava o  e tbm constava na descrição do item.   \n",
       "4363                                  Foi entregue um  divergente do que eu havia comprado, além de não vir com todos os acessórios constantes na descrição do anuncio. Solicito providências urgentes.   \n",
       "4809                                                                                                                                                   Ficou tudo ok só pensei q fosse maior mas.ta bom   \n",
       "5242                                                                                              há muito tempo efetuo compras atraves desta loja, nunca tive problemas. sempre entrega antes da data.   \n",
       "5277                                                                                                                                                                                   bom pode comprar   \n",
       "5530                                                                                                                                                           Produto veio bem lacrado, todo original.   \n",
       "5904                                                                                                                          Quero o cartão de crédito das Lojas lannister! Minha satisfação é Plena!    \n",
       "5954                                                                                          Inicialmente, na data da compra o  era para ser entregue até 21/12. Hoje é dia 27/12 e não chegou ainda.    \n",
       "\n",
       "     review_creation_date review_answer_timestamp  \\\n",
       "0              2017-10-11     2017-10-12 03:43:48   \n",
       "207            2018-08-08     2018-08-08 18:37:50   \n",
       "448            2017-12-03     2017-12-05 19:21:58   \n",
       "620            2017-05-13     2017-05-13 20:25:42   \n",
       "1468           2017-05-30     2017-05-30 23:13:47   \n",
       "2180           2018-03-13     2018-03-14 10:36:16   \n",
       "2415           2018-07-03     2018-07-03 15:10:07   \n",
       "2881           2017-10-01     2017-10-01 17:55:21   \n",
       "3240           2018-08-14     2018-08-14 21:52:46   \n",
       "3308           2018-03-16     2018-03-20 23:10:58   \n",
       "3546           2018-06-17     2018-06-20 11:38:22   \n",
       "3900           2018-03-22     2018-03-25 02:36:39   \n",
       "4217           2017-08-19     2017-08-19 23:46:02   \n",
       "4363           2018-05-06     2018-05-08 23:47:22   \n",
       "4809           2018-02-23     2018-02-25 11:39:37   \n",
       "5242           2018-03-20     2018-03-23 22:56:05   \n",
       "5277           2018-03-14     2018-03-16 00:52:33   \n",
       "5530           2018-06-19     2018-06-20 00:49:10   \n",
       "5904           2017-06-01     2017-06-04 23:01:26   \n",
       "5954           2017-12-22     2017-12-28 11:25:32   \n",
       "\n",
       "                            product_id  geolocation_lat  geolocation_lng  \\\n",
       "0     87285b34884572647811a353c7ac498a       -23.680114       -46.452454   \n",
       "207   595fac2a385ac33a80bd5114aec74eb8       -19.810119       -43.984727   \n",
       "448   d0b61bfb1de832b15ba9d266ca96e5b0       -19.840168       -43.923299   \n",
       "620   a1804276d9941ac0733cfd409f5206eb       -23.536892       -46.713111   \n",
       "1468  08574b074924071f4e201e151b152b4e       -20.297537       -40.400869   \n",
       "2180  72d3bf1d3a790f8874096fcf860e3eff       -26.916270       -48.652460   \n",
       "2415  009c09f439988bc06a93d6b8186dce73       -15.836123       -48.040185   \n",
       "2881  5ac9d9e379c606e36a8094a6046f75dc       -23.677741       -46.668647   \n",
       "3240  e99d69efe684efaa643f99805f7c81bc       -21.728866       -48.688815   \n",
       "3308  7b717060aa783eb7f23a747a3a733dd7       -23.624784       -46.539542   \n",
       "3546  d70f38e7f79c630f8ea00c993897042c       -21.728866       -48.688815   \n",
       "3900  00baba5b58e274d0332a0c8a0a66f877       -21.465699       -47.004755   \n",
       "4217  cafd558df4c3c9d1c338ba6930ea9a62       -22.760478       -47.412811   \n",
       "4363  2d8f2be4f08788ee3bf5356af2b2ee6c       -24.026787       -46.493049   \n",
       "4809  39a9942865c056ed2006a5e8c11d9537       -23.646846       -46.666055   \n",
       "5242  bff2010b28e8fbcff5a9db9d3fea5ac4       -23.693986       -46.701883   \n",
       "5277  9b37a918bcf2c8e1064e867cf1df4637       -23.612053       -46.607835   \n",
       "5530  c7df652246ed7b3300aaf46960c141e4       -24.035293       -52.379570   \n",
       "5904  8c591ab0ca519558779df02023177f44       -20.944706       -45.827098   \n",
       "5954  be021417a6acb56b9b50d3fd2714baa8       -27.227306       -49.647892   \n",
       "\n",
       "                                                                                                                                                     text_sentiment  \n",
       "0                                                    nao testar  ainda vir correto bom condicoes apenas caixa vir bem amassar danificar ficar chato tratar presente  \n",
       "207                                                                                                                                       muito bom loja muito bom   \n",
       "448                                                                                                   exatamente esperar descrito site chegar bem antes data prever  \n",
       "620                                                                                                                                         fiquei triste n atendir  \n",
       "1468                                                                                                                                         aguardar retorno lojar  \n",
       "2180                                                                                                                                                        gostar   \n",
       "2415                                                                                                                            nota obrigado atencao loja perfeito  \n",
       "2881                                                               Correios greve nao receber aviso atraso qqer forma empresa responsavel dever dar resposta atraso  \n",
       "3240                                                                                                                    otimo sempre comprar aqui pois bom parabens  \n",
       "3308                                                                                                 demorar muito entregar passar prazo ainda nao recebi encomenda  \n",
       "3546  nao recomender momento nao recebi  protetor colchao berco algodao impermeavel ja fiz reclamacao dia ainda nao obter retorno cancelar pedir estornar compra hj  \n",
       "3900                                                                                                              linr acabamento incrivel Muiro macio super contar  \n",
       "4217                                                vir faltar base fiz pedir telefone justamente confirmar base demonstrar foto acompanhar  constar descricao item  \n",
       "4363                                         enganador entregar  divergente comprar aler nao vir acessorio constante descricao anuncio solicito providencia urgente  \n",
       "4809                                                                                                                             ficar so pensar q grande masta bom  \n",
       "5242                                                                                     ha tempo compra atraves loja nunca ter problema sempre entregar antes data  \n",
       "5277                                                                                                                                              bom poder comprar  \n",
       "5530                                                                                                                    novo original  vir bem lacrar todo original  \n",
       "5904                                                                                                                    querer Cartao credito loja satisfacao pleno  \n",
       "5954                                                                                             inicialmente datar comprar  ser entregar hoje dia nao chegar ainda  "
      ]
     },
     "execution_count": 404,
     "metadata": {},
     "output_type": "execute_result"
    }
   ],
   "source": [
    "full_df.head(20)"
   ]
  },
  {
   "cell_type": "markdown",
   "id": "ef59147d-4d07-4cdd-be78-24d45ac945fb",
   "metadata": {},
   "source": [
    "# 6. Previus Analyze"
   ]
  },
  {
   "cell_type": "code",
   "execution_count": 379,
   "id": "6cc47e47-a22d-4740-923d-76da291fff95",
   "metadata": {
    "scrolled": true
   },
   "outputs": [
    {
     "data": {
      "text/html": [
       "<div>\n",
       "<style scoped>\n",
       "    .dataframe tbody tr th:only-of-type {\n",
       "        vertical-align: middle;\n",
       "    }\n",
       "\n",
       "    .dataframe tbody tr th {\n",
       "        vertical-align: top;\n",
       "    }\n",
       "\n",
       "    .dataframe thead th {\n",
       "        text-align: right;\n",
       "    }\n",
       "</style>\n",
       "<table border=\"1\" class=\"dataframe\">\n",
       "  <thead>\n",
       "    <tr style=\"text-align: right;\">\n",
       "      <th></th>\n",
       "      <th>Column</th>\n",
       "      <th>dtypes</th>\n",
       "      <th># Missing</th>\n",
       "      <th># Unique</th>\n",
       "      <th>Example</th>\n",
       "      <th>Entropy</th>\n",
       "    </tr>\n",
       "  </thead>\n",
       "  <tbody>\n",
       "    <tr>\n",
       "      <th>0</th>\n",
       "      <td>review_id</td>\n",
       "      <td>object</td>\n",
       "      <td>0</td>\n",
       "      <td>40095</td>\n",
       "      <td>a54f0611adc9ed256b57ede6b6eb5114</td>\n",
       "      <td>15.29</td>\n",
       "    </tr>\n",
       "    <tr>\n",
       "      <th>1</th>\n",
       "      <td>review_score</td>\n",
       "      <td>int64</td>\n",
       "      <td>0</td>\n",
       "      <td>5</td>\n",
       "      <td>4</td>\n",
       "      <td>1.90</td>\n",
       "    </tr>\n",
       "    <tr>\n",
       "      <th>2</th>\n",
       "      <td>review_comment_title</td>\n",
       "      <td>object</td>\n",
       "      <td>0</td>\n",
       "      <td>4089</td>\n",
       "      <td></td>\n",
       "      <td>3.22</td>\n",
       "    </tr>\n",
       "    <tr>\n",
       "      <th>3</th>\n",
       "      <td>review_comment_message</td>\n",
       "      <td>object</td>\n",
       "      <td>0</td>\n",
       "      <td>35625</td>\n",
       "      <td>Não testei o produto ainda, mas ele veio correto e em boas condições. Apenas a caixa que veio bem amassada e danificada, o que ficará chato, pois se trata de um presente.</td>\n",
       "      <td>14.78</td>\n",
       "    </tr>\n",
       "    <tr>\n",
       "      <th>4</th>\n",
       "      <td>review_creation_date</td>\n",
       "      <td>datetime64[ns]</td>\n",
       "      <td>0</td>\n",
       "      <td>618</td>\n",
       "      <td>2017-10-11 00:00:00</td>\n",
       "      <td>8.78</td>\n",
       "    </tr>\n",
       "    <tr>\n",
       "      <th>5</th>\n",
       "      <td>review_answer_timestamp</td>\n",
       "      <td>datetime64[ns]</td>\n",
       "      <td>0</td>\n",
       "      <td>40069</td>\n",
       "      <td>2017-10-12 03:43:48</td>\n",
       "      <td>15.29</td>\n",
       "    </tr>\n",
       "    <tr>\n",
       "      <th>6</th>\n",
       "      <td>product_id</td>\n",
       "      <td>object</td>\n",
       "      <td>0</td>\n",
       "      <td>17970</td>\n",
       "      <td>87285b34884572647811a353c7ac498a</td>\n",
       "      <td>13.17</td>\n",
       "    </tr>\n",
       "    <tr>\n",
       "      <th>7</th>\n",
       "      <td>geolocation_lat</td>\n",
       "      <td>float64</td>\n",
       "      <td>0</td>\n",
       "      <td>1891</td>\n",
       "      <td>-23.680114</td>\n",
       "      <td>8.82</td>\n",
       "    </tr>\n",
       "    <tr>\n",
       "      <th>8</th>\n",
       "      <td>geolocation_lng</td>\n",
       "      <td>float64</td>\n",
       "      <td>0</td>\n",
       "      <td>1891</td>\n",
       "      <td>-46.452454</td>\n",
       "      <td>8.82</td>\n",
       "    </tr>\n",
       "    <tr>\n",
       "      <th>9</th>\n",
       "      <td>text_sentiment</td>\n",
       "      <td>object</td>\n",
       "      <td>0</td>\n",
       "      <td>32713</td>\n",
       "      <td>nao testar produto ainda vir correto bom condicoes apenas caixa vir bem amassar danificar ficar chato tratar presente</td>\n",
       "      <td>14.27</td>\n",
       "    </tr>\n",
       "  </tbody>\n",
       "</table>\n",
       "</div>"
      ],
      "text/plain": [
       "                    Column          dtypes  # Missing  # Unique  \\\n",
       "0                review_id          object          0     40095   \n",
       "1             review_score           int64          0         5   \n",
       "2     review_comment_title          object          0      4089   \n",
       "3   review_comment_message          object          0     35625   \n",
       "4     review_creation_date  datetime64[ns]          0       618   \n",
       "5  review_answer_timestamp  datetime64[ns]          0     40069   \n",
       "6               product_id          object          0     17970   \n",
       "7          geolocation_lat         float64          0      1891   \n",
       "8          geolocation_lng         float64          0      1891   \n",
       "9           text_sentiment          object          0     32713   \n",
       "\n",
       "                                                                                                                                                                      Example  \\\n",
       "0                                                                                                                                            a54f0611adc9ed256b57ede6b6eb5114   \n",
       "1                                                                                                                                                                           4   \n",
       "2                                                                                                                                                                               \n",
       "3  Não testei o produto ainda, mas ele veio correto e em boas condições. Apenas a caixa que veio bem amassada e danificada, o que ficará chato, pois se trata de um presente.   \n",
       "4                                                                                                                                                         2017-10-11 00:00:00   \n",
       "5                                                                                                                                                         2017-10-12 03:43:48   \n",
       "6                                                                                                                                            87285b34884572647811a353c7ac498a   \n",
       "7                                                                                                                                                                  -23.680114   \n",
       "8                                                                                                                                                                  -46.452454   \n",
       "9                                                       nao testar produto ainda vir correto bom condicoes apenas caixa vir bem amassar danificar ficar chato tratar presente   \n",
       "\n",
       "   Entropy  \n",
       "0    15.29  \n",
       "1     1.90  \n",
       "2     3.22  \n",
       "3    14.78  \n",
       "4     8.78  \n",
       "5    15.29  \n",
       "6    13.17  \n",
       "7     8.82  \n",
       "8     8.82  \n",
       "9    14.27  "
      ]
     },
     "execution_count": 379,
     "metadata": {},
     "output_type": "execute_result"
    }
   ],
   "source": [
    "def df_metadata(df):\n",
    "    metadata = pd.DataFrame(df.dtypes,columns=['dtypes'])\n",
    "    metadata = metadata.reset_index()\n",
    "    metadata['Column'] = metadata['index']\n",
    "    metadata = metadata[['Column','dtypes']]\n",
    "    metadata['# Missing'] = df.isnull().sum().values    \n",
    "    metadata['# Unique'] = df.nunique().values\n",
    "    metadata['Example'] = df.loc[0].values\n",
    "\n",
    "    for name in metadata['Column'].value_counts().index:\n",
    "        metadata.loc[metadata['Column'] == name, 'Entropy'] = round(stats.entropy(df[name].value_counts(normalize=True), base=2),2) \n",
    "\n",
    "    return metadata\n",
    "    \n",
    "df_metadata(full_df)"
   ]
  },
  {
   "cell_type": "code",
   "execution_count": 380,
   "id": "95226a2b",
   "metadata": {},
   "outputs": [
    {
     "data": {
      "image/png": "[encoded data removed]",
      "text/plain": [
       "<Figure size 500x200 with 1 Axes>"
      ]
     },
     "metadata": {},
     "output_type": "display_data"
    }
   ],
   "source": [
    "ax = full_df['review_score'].value_counts().sort_index() \\\n",
    "    .plot(kind='bar',\n",
    "          title='Count of Reviews by Stars',\n",
    "          figsize=(5,2))"
   ]
  },
  {
   "cell_type": "code",
   "execution_count": 381,
   "id": "4357f9a4",
   "metadata": {},
   "outputs": [
    {
     "name": "stdout",
     "output_type": "stream",
     "text": [
      "aguardar retorno lojar\n"
     ]
    }
   ],
   "source": [
    "example = full_df['text_sentiment'].iloc[4]\n",
    "print(example)"
   ]
  },
  {
   "cell_type": "markdown",
   "id": "6fc88e89",
   "metadata": {},
   "source": [
    "# 7. Training Model"
   ]
  },
  {
   "cell_type": "markdown",
   "id": "1e6a1d1d",
   "metadata": {},
   "source": [
    "### 7.1. Separeting Dataframe Training and Dataframe Test After Training"
   ]
  },
  {
   "cell_type": "code",
   "execution_count": 424,
   "id": "700b93c7",
   "metadata": {},
   "outputs": [],
   "source": [
    "# Amostra os dados para df_train\n",
    "df_train = full_df.sample(frac=0.99, random_state=45, ignore_index=True)\n",
    "\n",
    "# Seleciona as linhas que não estão presentes em df_train para df_remaining\n",
    "df_remaining = full_df.loc[~full_df.index.isin(df_train.index)].reset_index(drop=True)"
   ]
  },
  {
   "cell_type": "markdown",
   "id": "407fc8cb",
   "metadata": {},
   "source": [
    "### 7.2. Classifier Review Score Negative with 0 (Review 1 or 2) and Positive with 1 (Review 3,4 or 5)"
   ]
  },
  {
   "cell_type": "code",
   "execution_count": 425,
   "id": "0e3a6350",
   "metadata": {},
   "outputs": [],
   "source": [
    "df_train['sentiment'] = df_train['review_score'].apply(lambda x: 0 if x in [1,2] else 1)"
   ]
  },
  {
   "cell_type": "code",
   "execution_count": 426,
   "id": "2f0beed3",
   "metadata": {},
   "outputs": [
    {
     "data": {
      "text/html": [
       "<div>\n",
       "<style scoped>\n",
       "    .dataframe tbody tr th:only-of-type {\n",
       "        vertical-align: middle;\n",
       "    }\n",
       "\n",
       "    .dataframe tbody tr th {\n",
       "        vertical-align: top;\n",
       "    }\n",
       "\n",
       "    .dataframe thead th {\n",
       "        text-align: right;\n",
       "    }\n",
       "</style>\n",
       "<table border=\"1\" class=\"dataframe\">\n",
       "  <thead>\n",
       "    <tr style=\"text-align: right;\">\n",
       "      <th></th>\n",
       "      <th>review_id</th>\n",
       "      <th>review_score</th>\n",
       "      <th>review_comment_title</th>\n",
       "      <th>review_comment_message</th>\n",
       "      <th>review_creation_date</th>\n",
       "      <th>review_answer_timestamp</th>\n",
       "      <th>product_id</th>\n",
       "      <th>geolocation_lat</th>\n",
       "      <th>geolocation_lng</th>\n",
       "      <th>text_sentiment</th>\n",
       "      <th>sentiment</th>\n",
       "    </tr>\n",
       "  </thead>\n",
       "  <tbody>\n",
       "    <tr>\n",
       "      <th>0</th>\n",
       "      <td>ca3199bb0d98c494fd25dbf79e50e661</td>\n",
       "      <td>5</td>\n",
       "      <td></td>\n",
       "      <td>Uahlll! Recebi minha compra 30 dias antes do prazo definido! Adorei comprar da targaryen!</td>\n",
       "      <td>2017-01-17</td>\n",
       "      <td>2017-01-17 12:50:12</td>\n",
       "      <td>7ead55b1f52de17d6dac82001470b2a2</td>\n",
       "      <td>-25.511232</td>\n",
       "      <td>-49.303111</td>\n",
       "      <td>recebi compra dia antes prazo definir adorar comprar</td>\n",
       "      <td>1</td>\n",
       "    </tr>\n",
       "    <tr>\n",
       "      <th>1</th>\n",
       "      <td>65e1734b87fcf83d834e141e1deee410</td>\n",
       "      <td>5</td>\n",
       "      <td></td>\n",
       "      <td>Adorei o relógio e chegou rápido!</td>\n",
       "      <td>2017-12-30</td>\n",
       "      <td>2017-12-30 21:38:37</td>\n",
       "      <td>8317b177579dd27ff068b83205e2169b</td>\n",
       "      <td>-21.362358</td>\n",
       "      <td>-48.232976</td>\n",
       "      <td>adorei relogio chegar rapido</td>\n",
       "      <td>1</td>\n",
       "    </tr>\n",
       "    <tr>\n",
       "      <th>2</th>\n",
       "      <td>5c1ba09de5c746017d406bd2cfefeca3</td>\n",
       "      <td>3</td>\n",
       "      <td>nao entrega do produto</td>\n",
       "      <td>recebe apenas 01 peça do ! estou precisando da 2 peças restante!</td>\n",
       "      <td>2018-04-26</td>\n",
       "      <td>2018-04-26 13:36:47</td>\n",
       "      <td>25c38557cf793876c5abdd5931f922db</td>\n",
       "      <td>-22.760478</td>\n",
       "      <td>-47.412811</td>\n",
       "      <td>nao entregar  receber apenas pecar  precisar peca restante</td>\n",
       "      <td>1</td>\n",
       "    </tr>\n",
       "    <tr>\n",
       "      <th>3</th>\n",
       "      <td>a3d3d770c3574d9847e5ed349a1e142e</td>\n",
       "      <td>5</td>\n",
       "      <td>Ótimo</td>\n",
       "      <td>Muito bom</td>\n",
       "      <td>2018-05-08</td>\n",
       "      <td>2018-05-11 00:42:40</td>\n",
       "      <td>7bdc3ff2d6af39d08fb40546ba7b9766</td>\n",
       "      <td>-26.859080</td>\n",
       "      <td>-48.639536</td>\n",
       "      <td>otimo muito bom</td>\n",
       "      <td>1</td>\n",
       "    </tr>\n",
       "    <tr>\n",
       "      <th>4</th>\n",
       "      <td>2dc6a14196ad670861710b19f3d5df6f</td>\n",
       "      <td>1</td>\n",
       "      <td></td>\n",
       "      <td>Já passou 3 dias e o  não foi entregue.</td>\n",
       "      <td>2017-06-30</td>\n",
       "      <td>2017-07-01 15:32:17</td>\n",
       "      <td>f811e4e8228504bcdd34f2fe9f502c92</td>\n",
       "      <td>-23.606632</td>\n",
       "      <td>-46.668066</td>\n",
       "      <td>passar dia  nao entregar</td>\n",
       "      <td>0</td>\n",
       "    </tr>\n",
       "  </tbody>\n",
       "</table>\n",
       "</div>"
      ],
      "text/plain": [
       "                          review_id  review_score    review_comment_title  \\\n",
       "0  ca3199bb0d98c494fd25dbf79e50e661             5                           \n",
       "1  65e1734b87fcf83d834e141e1deee410             5                           \n",
       "2  5c1ba09de5c746017d406bd2cfefeca3             3  nao entrega do produto   \n",
       "3  a3d3d770c3574d9847e5ed349a1e142e             5                   Ótimo   \n",
       "4  2dc6a14196ad670861710b19f3d5df6f             1                           \n",
       "\n",
       "                                                                       review_comment_message  \\\n",
       "0  Uahlll! Recebi minha compra 30 dias antes do prazo definido! Adorei comprar da targaryen!    \n",
       "1                                                           Adorei o relógio e chegou rápido!   \n",
       "2                           recebe apenas 01 peça do ! estou precisando da 2 peças restante!    \n",
       "3                                                                                  Muito bom    \n",
       "4                                                     Já passou 3 dias e o  não foi entregue.   \n",
       "\n",
       "  review_creation_date review_answer_timestamp  \\\n",
       "0           2017-01-17     2017-01-17 12:50:12   \n",
       "1           2017-12-30     2017-12-30 21:38:37   \n",
       "2           2018-04-26     2018-04-26 13:36:47   \n",
       "3           2018-05-08     2018-05-11 00:42:40   \n",
       "4           2017-06-30     2017-07-01 15:32:17   \n",
       "\n",
       "                         product_id  geolocation_lat  geolocation_lng  \\\n",
       "0  7ead55b1f52de17d6dac82001470b2a2       -25.511232       -49.303111   \n",
       "1  8317b177579dd27ff068b83205e2169b       -21.362358       -48.232976   \n",
       "2  25c38557cf793876c5abdd5931f922db       -22.760478       -47.412811   \n",
       "3  7bdc3ff2d6af39d08fb40546ba7b9766       -26.859080       -48.639536   \n",
       "4  f811e4e8228504bcdd34f2fe9f502c92       -23.606632       -46.668066   \n",
       "\n",
       "                                               text_sentiment  sentiment  \n",
       "0        recebi compra dia antes prazo definir adorar comprar          1  \n",
       "1                                adorei relogio chegar rapido          1  \n",
       "2  nao entregar  receber apenas pecar  precisar peca restante          1  \n",
       "3                                             otimo muito bom          1  \n",
       "4                                    passar dia  nao entregar          0  "
      ]
     },
     "execution_count": 426,
     "metadata": {},
     "output_type": "execute_result"
    }
   ],
   "source": [
    "df_train.head(5)"
   ]
  },
  {
   "cell_type": "markdown",
   "id": "f1b0029b",
   "metadata": {},
   "source": [
    "### 7.3. Selecting Columns Necessary for Training"
   ]
  },
  {
   "cell_type": "code",
   "execution_count": 427,
   "id": "d7258faf",
   "metadata": {},
   "outputs": [],
   "source": [
    "selected_columns = ['text_sentiment', 'sentiment']\n",
    "df_classification = df_train.loc[:, selected_columns]"
   ]
  },
  {
   "cell_type": "code",
   "execution_count": 428,
   "id": "82abb8ae",
   "metadata": {},
   "outputs": [
    {
     "data": {
      "text/html": [
       "<div>\n",
       "<style scoped>\n",
       "    .dataframe tbody tr th:only-of-type {\n",
       "        vertical-align: middle;\n",
       "    }\n",
       "\n",
       "    .dataframe tbody tr th {\n",
       "        vertical-align: top;\n",
       "    }\n",
       "\n",
       "    .dataframe thead th {\n",
       "        text-align: right;\n",
       "    }\n",
       "</style>\n",
       "<table border=\"1\" class=\"dataframe\">\n",
       "  <thead>\n",
       "    <tr style=\"text-align: right;\">\n",
       "      <th></th>\n",
       "      <th>text_sentiment</th>\n",
       "      <th>sentiment</th>\n",
       "    </tr>\n",
       "  </thead>\n",
       "  <tbody>\n",
       "    <tr>\n",
       "      <th>0</th>\n",
       "      <td>recebi compra dia antes prazo definir adorar comprar</td>\n",
       "      <td>1</td>\n",
       "    </tr>\n",
       "    <tr>\n",
       "      <th>1</th>\n",
       "      <td>adorei relogio chegar rapido</td>\n",
       "      <td>1</td>\n",
       "    </tr>\n",
       "    <tr>\n",
       "      <th>2</th>\n",
       "      <td>nao entregar  receber apenas pecar  precisar peca restante</td>\n",
       "      <td>1</td>\n",
       "    </tr>\n",
       "    <tr>\n",
       "      <th>3</th>\n",
       "      <td>otimo muito bom</td>\n",
       "      <td>1</td>\n",
       "    </tr>\n",
       "    <tr>\n",
       "      <th>4</th>\n",
       "      <td>passar dia  nao entregar</td>\n",
       "      <td>0</td>\n",
       "    </tr>\n",
       "  </tbody>\n",
       "</table>\n",
       "</div>"
      ],
      "text/plain": [
       "                                               text_sentiment  sentiment\n",
       "0        recebi compra dia antes prazo definir adorar comprar          1\n",
       "1                                adorei relogio chegar rapido          1\n",
       "2  nao entregar  receber apenas pecar  precisar peca restante          1\n",
       "3                                             otimo muito bom          1\n",
       "4                                    passar dia  nao entregar          0"
      ]
     },
     "execution_count": 428,
     "metadata": {},
     "output_type": "execute_result"
    }
   ],
   "source": [
    "df_classification.head(5)"
   ]
  },
  {
   "cell_type": "markdown",
   "id": "fa3157e9",
   "metadata": {},
   "source": [
    "### 7.4. Divising Dataframe Between Train and Test"
   ]
  },
  {
   "cell_type": "code",
   "execution_count": 429,
   "id": "5245642e",
   "metadata": {},
   "outputs": [],
   "source": [
    "comment_train, comment_test, sentiment_train, sentiment_test = train_test_split(\n",
    "                                                                                df_classification['text_sentiment'],\n",
    "                                                                                df_classification['sentiment'], \n",
    "                                                                                test_size=0.2,\n",
    "                                                                                random_state=24)"
   ]
  },
  {
   "cell_type": "markdown",
   "id": "4ba0ba34",
   "metadata": {},
   "source": [
    "### 7.5. Inicializing Training IA"
   ]
  },
  {
   "cell_type": "code",
   "execution_count": 430,
   "id": "b2d64bf0",
   "metadata": {},
   "outputs": [],
   "source": [
    "vectorizer = TfidfVectorizer()"
   ]
  },
  {
   "cell_type": "code",
   "execution_count": 431,
   "id": "6f6b0ff8",
   "metadata": {},
   "outputs": [],
   "source": [
    "ctmTr = vectorizer.fit_transform(comment_train)\n",
    "comment_test_dtm = vectorizer.transform(comment_test)"
   ]
  },
  {
   "cell_type": "code",
   "execution_count": 432,
   "id": "12dcb7c8",
   "metadata": {},
   "outputs": [],
   "source": [
    "smote = SMOTE(random_state=42)\n",
    "ctmTr_resampled, sentiment_train_resampled = smote.fit_resample(ctmTr, sentiment_train)"
   ]
  },
  {
   "cell_type": "code",
   "execution_count": 433,
   "id": "77066c7b",
   "metadata": {},
   "outputs": [],
   "source": [
    "normalization = preprocessing.StandardScaler(with_mean=False)"
   ]
  },
  {
   "cell_type": "code",
   "execution_count": 434,
   "id": "6812ba38",
   "metadata": {},
   "outputs": [],
   "source": [
    "normalization.fit(ctmTr_resampled)\n",
    "X = normalization.transform(ctmTr_resampled)"
   ]
  },
  {
   "cell_type": "code",
   "execution_count": 435,
   "id": "d29e7083",
   "metadata": {},
   "outputs": [
    {
     "name": "stdout",
     "output_type": "stream",
     "text": [
      "Iteration 1, loss = 0.54918719\n",
      "Validation score: 0.874947\n",
      "Iteration 2, loss = 0.37896659\n",
      "Validation score: 0.892994\n",
      "Iteration 3, loss = 0.30058329\n",
      "Validation score: 0.895329\n",
      "Iteration 4, loss = 0.25495410\n",
      "Validation score: 0.898301\n",
      "Iteration 5, loss = 0.22157448\n",
      "Validation score: 0.903185\n",
      "Iteration 6, loss = 0.19665934\n",
      "Validation score: 0.900637\n",
      "Iteration 7, loss = 0.17882037\n",
      "Validation score: 0.913588\n",
      "Iteration 8, loss = 0.16277934\n",
      "Validation score: 0.909766\n",
      "Iteration 9, loss = 0.15076285\n",
      "Validation score: 0.911253\n",
      "Iteration 10, loss = 0.14060160\n",
      "Validation score: 0.912102\n",
      "Iteration 11, loss = 0.13181301\n",
      "Validation score: 0.909554\n",
      "Iteration 12, loss = 0.12468491\n",
      "Validation score: 0.910403\n",
      "Iteration 13, loss = 0.12018499\n",
      "Validation score: 0.911677\n",
      "Iteration 14, loss = 0.11366409\n",
      "Validation score: 0.912314\n",
      "Iteration 15, loss = 0.11045531\n",
      "Validation score: 0.912102\n",
      "Iteration 16, loss = 0.10672897\n",
      "Validation score: 0.909766\n",
      "Iteration 17, loss = 0.10432044\n",
      "Validation score: 0.913800\n",
      "Iteration 18, loss = 0.10098609\n",
      "Validation score: 0.915711\n",
      "Iteration 19, loss = 0.09924191\n",
      "Validation score: 0.913376\n",
      "Iteration 20, loss = 0.09551042\n",
      "Validation score: 0.915711\n",
      "Iteration 21, loss = 0.09358907\n",
      "Validation score: 0.915074\n",
      "Iteration 22, loss = 0.09416717\n",
      "Validation score: 0.914225\n",
      "Iteration 23, loss = 0.09194060\n",
      "Validation score: 0.911677\n",
      "Iteration 24, loss = 0.08907497\n",
      "Validation score: 0.914862\n",
      "Iteration 25, loss = 0.08860956\n",
      "Validation score: 0.915711\n",
      "Iteration 26, loss = 0.08640618\n",
      "Validation score: 0.913800\n",
      "Iteration 27, loss = 0.08649302\n",
      "Validation score: 0.915924\n",
      "Iteration 28, loss = 0.08538549\n",
      "Validation score: 0.915711\n",
      "Iteration 29, loss = 0.08512740\n",
      "Validation score: 0.916348\n",
      "Iteration 30, loss = 0.08374502\n",
      "Validation score: 0.915924\n",
      "Iteration 31, loss = 0.08549113\n",
      "Validation score: 0.918047\n",
      "Iteration 32, loss = 0.08427186\n",
      "Validation score: 0.916773\n",
      "Iteration 33, loss = 0.08313982\n",
      "Validation score: 0.917410\n",
      "Iteration 34, loss = 0.08280563\n",
      "Validation score: 0.916561\n",
      "Iteration 35, loss = 0.08114449\n",
      "Validation score: 0.919745\n",
      "Iteration 36, loss = 0.08041177\n",
      "Validation score: 0.918896\n",
      "Iteration 37, loss = 0.08034931\n",
      "Validation score: 0.911253\n",
      "Iteration 38, loss = 0.08036403\n",
      "Validation score: 0.915711\n",
      "Iteration 39, loss = 0.08002912\n",
      "Validation score: 0.916348\n",
      "Iteration 40, loss = 0.07971759\n",
      "Validation score: 0.915924\n",
      "Iteration 41, loss = 0.07965225\n",
      "Validation score: 0.917197\n",
      "Iteration 42, loss = 0.07960674\n",
      "Validation score: 0.916348\n",
      "Iteration 43, loss = 0.07843768\n",
      "Validation score: 0.916136\n",
      "Iteration 44, loss = 0.07824352\n",
      "Validation score: 0.917834\n",
      "Iteration 45, loss = 0.07744682\n",
      "Validation score: 0.919321\n",
      "Iteration 46, loss = 0.07718645\n",
      "Validation score: 0.915924\n",
      "Iteration 47, loss = 0.07659308\n",
      "Validation score: 0.918896\n",
      "Iteration 48, loss = 0.07586296\n",
      "Validation score: 0.919108\n",
      "Iteration 49, loss = 0.07533000\n",
      "Validation score: 0.918896\n",
      "Iteration 50, loss = 0.07531791\n",
      "Validation score: 0.916348\n",
      "Iteration 51, loss = 0.07579652\n",
      "Validation score: 0.919108\n",
      "Iteration 52, loss = 0.07514147\n",
      "Validation score: 0.919108\n",
      "Iteration 53, loss = 0.07563139\n",
      "Validation score: 0.917834\n",
      "Iteration 54, loss = 0.07661512\n",
      "Validation score: 0.916561\n",
      "Iteration 55, loss = 0.07484501\n",
      "Validation score: 0.917834\n",
      "Iteration 56, loss = 0.07461479\n",
      "Validation score: 0.918047\n",
      "Iteration 57, loss = 0.07351297\n",
      "Validation score: 0.919533\n",
      "Iteration 58, loss = 0.07558571\n",
      "Validation score: 0.920170\n",
      "Iteration 59, loss = 0.07546497\n",
      "Validation score: 0.922505\n",
      "Iteration 60, loss = 0.07382806\n",
      "Validation score: 0.921656\n",
      "Iteration 61, loss = 0.07339267\n",
      "Validation score: 0.924841\n",
      "Iteration 62, loss = 0.07255166\n",
      "Validation score: 0.922718\n",
      "Iteration 63, loss = 0.07220852\n",
      "Validation score: 0.920594\n",
      "Iteration 64, loss = 0.07268193\n",
      "Validation score: 0.922930\n",
      "Iteration 65, loss = 0.07204943\n",
      "Validation score: 0.919321\n",
      "Iteration 66, loss = 0.07204036\n",
      "Validation score: 0.922081\n",
      "Iteration 67, loss = 0.07169559\n",
      "Validation score: 0.925265\n",
      "Iteration 68, loss = 0.07400898\n",
      "Validation score: 0.925053\n",
      "Iteration 69, loss = 0.07376840\n",
      "Validation score: 0.923142\n",
      "Iteration 70, loss = 0.07249166\n",
      "Validation score: 0.922081\n",
      "Iteration 71, loss = 0.07186056\n",
      "Validation score: 0.924628\n",
      "Iteration 72, loss = 0.06997181\n",
      "Validation score: 0.923992\n",
      "Iteration 73, loss = 0.06999899\n",
      "Validation score: 0.923992\n",
      "Iteration 74, loss = 0.07059390\n",
      "Validation score: 0.925053\n",
      "Iteration 75, loss = 0.07103514\n",
      "Validation score: 0.923779\n",
      "Iteration 76, loss = 0.07132632\n",
      "Validation score: 0.922930\n",
      "Iteration 77, loss = 0.06999494\n",
      "Validation score: 0.925902\n",
      "Iteration 78, loss = 0.07048891\n",
      "Validation score: 0.924416\n",
      "Iteration 79, loss = 0.07053594\n",
      "Validation score: 0.921019\n",
      "Iteration 80, loss = 0.06969794\n",
      "Validation score: 0.923142\n",
      "Iteration 81, loss = 0.06863509\n",
      "Validation score: 0.923142\n",
      "Iteration 82, loss = 0.06928401\n",
      "Validation score: 0.923779\n",
      "Iteration 83, loss = 0.06892368\n",
      "Validation score: 0.923567\n",
      "Iteration 84, loss = 0.06944703\n",
      "Validation score: 0.923992\n",
      "Iteration 85, loss = 0.06801801\n",
      "Validation score: 0.924416\n",
      "Iteration 86, loss = 0.06765811\n",
      "Validation score: 0.926327\n",
      "Iteration 87, loss = 0.06823560\n",
      "Validation score: 0.926115\n",
      "Iteration 88, loss = 0.06775910\n",
      "Validation score: 0.924841\n",
      "Iteration 89, loss = 0.06762098\n",
      "Validation score: 0.922930\n",
      "Iteration 90, loss = 0.06877946\n",
      "Validation score: 0.922505\n",
      "Iteration 91, loss = 0.06801302\n",
      "Validation score: 0.925053\n",
      "Iteration 92, loss = 0.06746711\n",
      "Validation score: 0.923779\n",
      "Iteration 93, loss = 0.06705570\n",
      "Validation score: 0.927813\n",
      "Iteration 94, loss = 0.06717824\n",
      "Validation score: 0.922718\n",
      "Iteration 95, loss = 0.06718462\n",
      "Validation score: 0.926964\n",
      "Iteration 96, loss = 0.06753957\n",
      "Validation score: 0.927176\n",
      "Iteration 97, loss = 0.06661947\n",
      "Validation score: 0.928025\n",
      "Iteration 98, loss = 0.06639194\n",
      "Validation score: 0.928025\n",
      "Iteration 99, loss = 0.06664783\n",
      "Validation score: 0.927813\n",
      "Iteration 100, loss = 0.06781895\n",
      "Validation score: 0.928025\n",
      "Iteration 101, loss = 0.06666974\n",
      "Validation score: 0.929512\n",
      "Iteration 102, loss = 0.06683479\n",
      "Validation score: 0.927813\n",
      "Iteration 103, loss = 0.06706419\n",
      "Validation score: 0.929087\n",
      "Iteration 104, loss = 0.06706167\n",
      "Validation score: 0.929299\n",
      "Iteration 105, loss = 0.06684559\n",
      "Validation score: 0.928875\n",
      "Iteration 106, loss = 0.06796276\n",
      "Validation score: 0.929299\n",
      "Iteration 107, loss = 0.06716204\n",
      "Validation score: 0.929512\n",
      "Iteration 108, loss = 0.06699935\n",
      "Validation score: 0.929299\n",
      "Iteration 109, loss = 0.06719817\n",
      "Validation score: 0.928662\n",
      "Iteration 110, loss = 0.06694364\n",
      "Validation score: 0.928875\n",
      "Iteration 111, loss = 0.06805388\n",
      "Validation score: 0.927389\n",
      "Iteration 112, loss = 0.06740925\n",
      "Validation score: 0.927813\n",
      "Iteration 113, loss = 0.06700465\n",
      "Validation score: 0.929299\n",
      "Iteration 114, loss = 0.06735640\n",
      "Validation score: 0.929936\n",
      "Iteration 115, loss = 0.06735760\n",
      "Validation score: 0.931423\n",
      "Iteration 116, loss = 0.06709364\n",
      "Validation score: 0.932484\n",
      "Iteration 117, loss = 0.06735798\n",
      "Validation score: 0.926964\n",
      "Iteration 118, loss = 0.06748347\n",
      "Validation score: 0.929512\n",
      "Iteration 119, loss = 0.06672825\n",
      "Validation score: 0.930786\n",
      "Iteration 120, loss = 0.06649508\n",
      "Validation score: 0.930998\n",
      "Iteration 121, loss = 0.06621175\n",
      "Validation score: 0.931210\n",
      "Iteration 122, loss = 0.06645043\n",
      "Validation score: 0.930149\n",
      "Iteration 123, loss = 0.06659249\n",
      "Validation score: 0.930786\n",
      "Iteration 124, loss = 0.06621230\n",
      "Validation score: 0.929512\n",
      "Iteration 125, loss = 0.06616627\n",
      "Validation score: 0.928025\n",
      "Iteration 126, loss = 0.06622585\n",
      "Validation score: 0.929724\n",
      "Iteration 127, loss = 0.06632669\n",
      "Validation score: 0.925690\n",
      "Iteration 128, loss = 0.06591682\n",
      "Validation score: 0.932272\n",
      "Iteration 129, loss = 0.06637542\n",
      "Validation score: 0.929299\n",
      "Iteration 130, loss = 0.06568750\n",
      "Validation score: 0.930149\n",
      "Iteration 131, loss = 0.06560911\n",
      "Validation score: 0.929724\n",
      "Iteration 132, loss = 0.06479625\n",
      "Validation score: 0.928025\n",
      "Iteration 133, loss = 0.06515053\n",
      "Validation score: 0.929299\n",
      "Iteration 134, loss = 0.06474225\n",
      "Validation score: 0.928662\n",
      "Iteration 135, loss = 0.06495734\n",
      "Validation score: 0.929299\n",
      "Iteration 136, loss = 0.06487983\n",
      "Validation score: 0.928450\n",
      "Iteration 137, loss = 0.06578612\n",
      "Validation score: 0.930149\n",
      "Iteration 138, loss = 0.06543318\n",
      "Validation score: 0.926964\n",
      "Iteration 139, loss = 0.06589549\n",
      "Validation score: 0.929512\n",
      "Iteration 140, loss = 0.06393581\n",
      "Validation score: 0.930998\n",
      "Iteration 141, loss = 0.06466750\n",
      "Validation score: 0.927601\n",
      "Iteration 142, loss = 0.06361679\n",
      "Validation score: 0.928025\n",
      "Validation score did not improve more than tol=0.000100 for 25 consecutive epochs. Stopping.\n"
     ]
    }
   ],
   "source": [
    "analyze_sentiment = MLPClassifier(hidden_layer_sizes=(32,16,16,1),\n",
    "                                   activation='relu',\n",
    "                                   solver='adam',\n",
    "                                   learning_rate='constant',\n",
    "                                   max_iter=1000,\n",
    "                                   early_stopping=True,\n",
    "                                   n_iter_no_change=25,\n",
    "                                   verbose=True)\n",
    "\n",
    "history = analyze_sentiment.fit(X, sentiment_train_resampled)"
   ]
  },
  {
   "cell_type": "markdown",
   "id": "42881914",
   "metadata": {},
   "source": [
    "# 8. Analyze Performance IA"
   ]
  },
  {
   "cell_type": "markdown",
   "id": "832c6532",
   "metadata": {},
   "source": [
    "### 8.1. Score"
   ]
  },
  {
   "cell_type": "code",
   "execution_count": 436,
   "id": "42919d7e",
   "metadata": {},
   "outputs": [
    {
     "data": {
      "text/plain": [
       "0.8606877440483688"
      ]
     },
     "execution_count": 436,
     "metadata": {},
     "output_type": "execute_result"
    }
   ],
   "source": [
    "X_test = normalization.transform(comment_test_dtm)\n",
    "analyze_sentiment.score(X_test,sentiment_test)"
   ]
  },
  {
   "cell_type": "markdown",
   "id": "fa15d6c3",
   "metadata": {},
   "source": [
    "### 8.2. Graph Loss and Score During Training"
   ]
  },
  {
   "cell_type": "code",
   "execution_count": 437,
   "id": "74af4e9c",
   "metadata": {},
   "outputs": [
    {
     "data": {
      "image/png": "[encoded data removed]",
      "text/plain": [
       "<Figure size 1000x500 with 2 Axes>"
      ]
     },
     "metadata": {},
     "output_type": "display_data"
    }
   ],
   "source": [
    "plt.figure(figsize=(10, 5))\n",
    "# Loss\n",
    "plt.subplot(1, 2, 1)\n",
    "plt.plot(history.loss_curve_)\n",
    "plt.title('Loss During Training')\n",
    "plt.xlabel('Epoch')\n",
    "plt.ylabel('Loss')\n",
    "# Accuracy\n",
    "plt.subplot(1, 2, 2)\n",
    "plt.plot(history.validation_scores_)\n",
    "plt.title('Score During Training')\n",
    "plt.xlabel('Epoch')\n",
    "plt.ylabel('Score')\n",
    "\n",
    "plt.tight_layout()\n",
    "plt.show()"
   ]
  },
  {
   "cell_type": "markdown",
   "id": "85afb958",
   "metadata": {},
   "source": [
    "### 8.3. Confusion Matrix"
   ]
  },
  {
   "cell_type": "code",
   "execution_count": 438,
   "id": "b9bc5757",
   "metadata": {},
   "outputs": [
    {
     "data": {
      "image/png": "[encoded data removed]",
      "text/plain": [
       "<Figure size 500x300 with 1 Axes>"
      ]
     },
     "metadata": {},
     "output_type": "display_data"
    }
   ],
   "source": [
    "predictions = analyze_sentiment.predict(X_test)\n",
    "conf_matrix = confusion_matrix(sentiment_test, predictions)\n",
    "plt.figure(figsize=(5, 3))\n",
    "sns.heatmap(conf_matrix, annot=True, fmt='d', cmap='Blues', cbar=False)\n",
    "plt.title('Matriz de Confusão')\n",
    "plt.xlabel('Predicted Label')\n",
    "plt.ylabel('True Label')\n",
    "plt.show()"
   ]
  },
  {
   "cell_type": "markdown",
   "id": "d1971816",
   "metadata": {},
   "source": [
    "### 8.4. Curve ROC"
   ]
  },
  {
   "cell_type": "code",
   "execution_count": 439,
   "id": "4929eab0",
   "metadata": {},
   "outputs": [
    {
     "data": {
      "image/png": "[encoded data removed]",
      "text/plain": [
       "<Figure size 800x600 with 1 Axes>"
      ]
     },
     "metadata": {},
     "output_type": "display_data"
    }
   ],
   "source": [
    "probas_pred = analyze_sentiment.predict_proba(X_test)[:, 1]\n",
    "\n",
    "fpr, tpr, thresholds = roc_curve(sentiment_test, probas_pred)\n",
    "\n",
    "roc_auc = auc(fpr, tpr)\n",
    "\n",
    "plt.figure(figsize=(8, 6))\n",
    "plt.plot(fpr, tpr, color='blue', lw=2, label='ROC curve (AUC = %0.2f)' % roc_auc)\n",
    "plt.plot([0, 1], [0, 1], color='gray', linestyle='--')\n",
    "plt.xlim([0.0, 1.0])\n",
    "plt.ylim([0.0, 1.05])\n",
    "plt.xlabel('False Positive Rate')\n",
    "plt.ylabel('True Positive Rate')\n",
    "plt.title('Receiver Operating Characteristic (ROC) Curve')\n",
    "plt.legend(loc='lower right')\n",
    "plt.show()"
   ]
  },
  {
   "cell_type": "markdown",
   "id": "8f48ad2b",
   "metadata": {},
   "source": [
    "# 9. Test and Deploy IA"
   ]
  },
  {
   "cell_type": "code",
   "execution_count": 440,
   "id": "330b1658",
   "metadata": {},
   "outputs": [
    {
     "name": "stdout",
     "output_type": "stream",
     "text": [
      "                                                     text_sentiment  \\\n",
      "0          otimo indico  alto qualidade recebi antes prazo combinar   \n",
      "1               mais bonito esperar tecido lindo ficar lindo janela   \n",
      "2                    entregar rapir bem antes prever bem satisfeito   \n",
      "3                     vir prazo vir super rapido adoreer recomender   \n",
      "4                                          vir muito rapido obrigar   \n",
      "...                                                             ...   \n",
      "39991  otimar comprar site mercadoria chegar antes prazo determinar   \n",
      "39992           nao mini Cajon Shaker Chocalho imitar cajon pessimo   \n",
      "39993                                    so pecar vir rachar bem rs   \n",
      "39994                                          entregar antes prazo   \n",
      "39995                                entregar somente querer saber    \n",
      "\n",
      "       review_score sentimento_predito  \n",
      "0                 5           positivo  \n",
      "1                 5           positivo  \n",
      "2                 5           positivo  \n",
      "3                 5           positivo  \n",
      "4                 5           positivo  \n",
      "...             ...                ...  \n",
      "39991             5           positivo  \n",
      "39992             1           positivo  \n",
      "39993             4           positivo  \n",
      "39994             5           positivo  \n",
      "39995             2           positivo  \n",
      "\n",
      "[39996 rows x 3 columns]\n"
     ]
    }
   ],
   "source": [
    "# Ajustar configurações para mostrar o texto completo\n",
    "pd.set_option('display.max_colwidth', None)\n",
    "\n",
    "texto_teste_vetorizado = vectorizer.transform(df_remaining['review_comment_message'])\n",
    "texto_teste_normalizado = normalization.transform(texto_teste_vetorizado)\n",
    "sentimento_predito = analyze_sentiment.predict(texto_teste_normalizado)\n",
    "\n",
    "df_remaining['sentimento_predito'] = sentimento_predito\n",
    "\n",
    "df_remaining['sentimento_predito'] = df_remaining['sentimento_predito'].replace({0: 'negativo', 1: 'positivo'})\n",
    "\n",
    "print(df_remaining[['text_sentiment', 'review_score', 'sentimento_predito']])\n",
    "\n",
    "df_remaining[['review_id','review_comment_message','text_sentiment', 'review_score', 'sentimento_predito']].to_csv('dados_processados.csv', index=False)\n"
   ]
  },
  {
   "cell_type": "code",
   "execution_count": 422,
   "id": "d0564c54",
   "metadata": {},
   "outputs": [
    {
     "name": "stdout",
     "output_type": "stream",
     "text": [
      "Palavras mais comuns em mensagens positivas:\n",
      "[('entregar', 7518), ('muito', 6961), ('prazo', 6053), ('bom', 6047), ('nao', 5251), ('antes', 5241), ('chegar', 4494), ('otimo', 3546), ('bem', 2469), ('qualidade', 2228)]\n",
      "\n",
      "Palavras mais comuns em mensagens negativas:\n",
      "[('nao', 6918), ('entregar', 3880), ('recebi', 2653), ('comprar', 2474), ('prazo', 2265), ('vir', 1927), ('chegar', 1845), ('muito', 1369), ('ainda', 1229), ('bom', 1201)]\n"
     ]
    }
   ],
   "source": [
    "from collections import Counter\n",
    "\n",
    "# Filtrar mensagens positivas e negativas\n",
    "mensagens_positivas = df_remaining[df_remaining['sentimento_predito'] == 'positivo']['text_sentiment']\n",
    "mensagens_negativas = df_remaining[df_remaining['sentimento_predito'] == 'negativo']['text_sentiment']\n",
    "\n",
    "# Função para contar palavras mais comuns\n",
    "def contar_palavras(mensagens):\n",
    "    todas_mensagens = ' '.join(mensagens)\n",
    "    palavras = todas_mensagens.split()\n",
    "    contagem_palavras = Counter(palavras)\n",
    "    return contagem_palavras.most_common(10)\n",
    "\n",
    "# Contar palavras mais comuns para mensagens positivas\n",
    "print(\"Palavras mais comuns em mensagens positivas:\")\n",
    "print(contar_palavras(mensagens_positivas))\n",
    "\n",
    "# Contar palavras mais comuns para mensagens negativas\n",
    "print(\"\\nPalavras mais comuns em mensagens negativas:\")\n",
    "print(contar_palavras(mensagens_negativas))"
   ]
  },
  {
   "cell_type": "markdown",
   "id": "6d321a08",
   "metadata": {},
   "source": [
    "## division"
   ]
  },
  {
   "cell_type": "code",
   "execution_count": 346,
   "id": "2d955c0c",
   "metadata": {},
   "outputs": [
    {
     "ename": "ValueError",
     "evalue": "Found input variables with inconsistent numbers of samples: [41626, 31755]",
     "output_type": "error",
     "traceback": [
      "\u001b[1;31m---------------------------------------------------------------------------\u001b[0m",
      "\u001b[1;31mValueError\u001b[0m                                Traceback (most recent call last)",
      "Cell \u001b[1;32mIn[346], line 17\u001b[0m\n\u001b[0;32m     14\u001b[0m grid_search \u001b[38;5;241m=\u001b[39m GridSearchCV(mlp, param_grid, cv\u001b[38;5;241m=\u001b[39m\u001b[38;5;241m5\u001b[39m, n_jobs\u001b[38;5;241m=\u001b[39m\u001b[38;5;241m-\u001b[39m\u001b[38;5;241m1\u001b[39m, verbose\u001b[38;5;241m=\u001b[39m\u001b[38;5;241m2\u001b[39m)\n\u001b[0;32m     16\u001b[0m \u001b[38;5;66;03m# Treinar o modelo usando a pesquisa em grade\u001b[39;00m\n\u001b[1;32m---> 17\u001b[0m \u001b[43mgrid_search\u001b[49m\u001b[38;5;241;43m.\u001b[39;49m\u001b[43mfit\u001b[49m\u001b[43m(\u001b[49m\u001b[43mX\u001b[49m\u001b[43m,\u001b[49m\u001b[43m \u001b[49m\u001b[43msentiment_train\u001b[49m\u001b[43m)\u001b[49m\n\u001b[0;32m     19\u001b[0m \u001b[38;5;66;03m# Melhores parâmetros encontrados\u001b[39;00m\n\u001b[0;32m     20\u001b[0m \u001b[38;5;28mprint\u001b[39m(\u001b[38;5;124m\"\u001b[39m\u001b[38;5;124mMelhores parâmetros encontrados:\u001b[39m\u001b[38;5;124m\"\u001b[39m)\n",
      "File \u001b[1;32mc:\\Users\\Victor\\AppData\\Local\\Programs\\Python\\Python312\\Lib\\site-packages\\sklearn\\base.py:1474\u001b[0m, in \u001b[0;36m_fit_context.<locals>.decorator.<locals>.wrapper\u001b[1;34m(estimator, *args, **kwargs)\u001b[0m\n\u001b[0;32m   1467\u001b[0m     estimator\u001b[38;5;241m.\u001b[39m_validate_params()\n\u001b[0;32m   1469\u001b[0m \u001b[38;5;28;01mwith\u001b[39;00m config_context(\n\u001b[0;32m   1470\u001b[0m     skip_parameter_validation\u001b[38;5;241m=\u001b[39m(\n\u001b[0;32m   1471\u001b[0m         prefer_skip_nested_validation \u001b[38;5;129;01mor\u001b[39;00m global_skip_validation\n\u001b[0;32m   1472\u001b[0m     )\n\u001b[0;32m   1473\u001b[0m ):\n\u001b[1;32m-> 1474\u001b[0m     \u001b[38;5;28;01mreturn\u001b[39;00m \u001b[43mfit_method\u001b[49m\u001b[43m(\u001b[49m\u001b[43mestimator\u001b[49m\u001b[43m,\u001b[49m\u001b[43m \u001b[49m\u001b[38;5;241;43m*\u001b[39;49m\u001b[43margs\u001b[49m\u001b[43m,\u001b[49m\u001b[43m \u001b[49m\u001b[38;5;241;43m*\u001b[39;49m\u001b[38;5;241;43m*\u001b[39;49m\u001b[43mkwargs\u001b[49m\u001b[43m)\u001b[49m\n",
      "File \u001b[1;32mc:\\Users\\Victor\\AppData\\Local\\Programs\\Python\\Python312\\Lib\\site-packages\\sklearn\\model_selection\\_search.py:874\u001b[0m, in \u001b[0;36mBaseSearchCV.fit\u001b[1;34m(self, X, y, **params)\u001b[0m\n\u001b[0;32m    869\u001b[0m \u001b[38;5;66;03m# Here we keep a dict of scorers as is, and only convert to a\u001b[39;00m\n\u001b[0;32m    870\u001b[0m \u001b[38;5;66;03m# _MultimetricScorer at a later stage. Issue:\u001b[39;00m\n\u001b[0;32m    871\u001b[0m \u001b[38;5;66;03m# https://github.com/scikit-learn/scikit-learn/issues/27001\u001b[39;00m\n\u001b[0;32m    872\u001b[0m scorers, refit_metric \u001b[38;5;241m=\u001b[39m \u001b[38;5;28mself\u001b[39m\u001b[38;5;241m.\u001b[39m_get_scorers(convert_multimetric\u001b[38;5;241m=\u001b[39m\u001b[38;5;28;01mFalse\u001b[39;00m)\n\u001b[1;32m--> 874\u001b[0m X, y \u001b[38;5;241m=\u001b[39m \u001b[43mindexable\u001b[49m\u001b[43m(\u001b[49m\u001b[43mX\u001b[49m\u001b[43m,\u001b[49m\u001b[43m \u001b[49m\u001b[43my\u001b[49m\u001b[43m)\u001b[49m\n\u001b[0;32m    875\u001b[0m params \u001b[38;5;241m=\u001b[39m _check_method_params(X, params\u001b[38;5;241m=\u001b[39mparams)\n\u001b[0;32m    877\u001b[0m routed_params \u001b[38;5;241m=\u001b[39m \u001b[38;5;28mself\u001b[39m\u001b[38;5;241m.\u001b[39m_get_routed_params_for_fit(params)\n",
      "File \u001b[1;32mc:\\Users\\Victor\\AppData\\Local\\Programs\\Python\\Python312\\Lib\\site-packages\\sklearn\\utils\\validation.py:514\u001b[0m, in \u001b[0;36mindexable\u001b[1;34m(*iterables)\u001b[0m\n\u001b[0;32m    484\u001b[0m \u001b[38;5;250m\u001b[39m\u001b[38;5;124;03m\"\"\"Make arrays indexable for cross-validation.\u001b[39;00m\n\u001b[0;32m    485\u001b[0m \n\u001b[0;32m    486\u001b[0m \u001b[38;5;124;03mChecks consistent length, passes through None, and ensures that everything\u001b[39;00m\n\u001b[1;32m   (...)\u001b[0m\n\u001b[0;32m    510\u001b[0m \u001b[38;5;124;03m[[1, 2, 3], array([2, 3, 4]), None, <3x1 sparse matrix ...>]\u001b[39;00m\n\u001b[0;32m    511\u001b[0m \u001b[38;5;124;03m\"\"\"\u001b[39;00m\n\u001b[0;32m    513\u001b[0m result \u001b[38;5;241m=\u001b[39m [_make_indexable(X) \u001b[38;5;28;01mfor\u001b[39;00m X \u001b[38;5;129;01min\u001b[39;00m iterables]\n\u001b[1;32m--> 514\u001b[0m \u001b[43mcheck_consistent_length\u001b[49m\u001b[43m(\u001b[49m\u001b[38;5;241;43m*\u001b[39;49m\u001b[43mresult\u001b[49m\u001b[43m)\u001b[49m\n\u001b[0;32m    515\u001b[0m \u001b[38;5;28;01mreturn\u001b[39;00m result\n",
      "File \u001b[1;32mc:\\Users\\Victor\\AppData\\Local\\Programs\\Python\\Python312\\Lib\\site-packages\\sklearn\\utils\\validation.py:457\u001b[0m, in \u001b[0;36mcheck_consistent_length\u001b[1;34m(*arrays)\u001b[0m\n\u001b[0;32m    455\u001b[0m uniques \u001b[38;5;241m=\u001b[39m np\u001b[38;5;241m.\u001b[39munique(lengths)\n\u001b[0;32m    456\u001b[0m \u001b[38;5;28;01mif\u001b[39;00m \u001b[38;5;28mlen\u001b[39m(uniques) \u001b[38;5;241m>\u001b[39m \u001b[38;5;241m1\u001b[39m:\n\u001b[1;32m--> 457\u001b[0m     \u001b[38;5;28;01mraise\u001b[39;00m \u001b[38;5;167;01mValueError\u001b[39;00m(\n\u001b[0;32m    458\u001b[0m         \u001b[38;5;124m\"\u001b[39m\u001b[38;5;124mFound input variables with inconsistent numbers of samples: \u001b[39m\u001b[38;5;132;01m%r\u001b[39;00m\u001b[38;5;124m\"\u001b[39m\n\u001b[0;32m    459\u001b[0m         \u001b[38;5;241m%\u001b[39m [\u001b[38;5;28mint\u001b[39m(l) \u001b[38;5;28;01mfor\u001b[39;00m l \u001b[38;5;129;01min\u001b[39;00m lengths]\n\u001b[0;32m    460\u001b[0m     )\n",
      "\u001b[1;31mValueError\u001b[0m: Found input variables with inconsistent numbers of samples: [41626, 31755]"
     ]
    }
   ],
   "source": [
    "# Definir os hiperparâmetros a serem testados\n",
    "param_grid = {\n",
    "    'hidden_layer_sizes': [(50,50,50), (50,100,50), (100,)],\n",
    "    'activation': ['tanh', 'relu'],\n",
    "    'solver': ['sgd', 'adam'],\n",
    "    'alpha': [0.0001, 0.05],\n",
    "    'learning_rate': ['constant','adaptive'],\n",
    "}\n",
    "\n",
    "# Criar o modelo MLPClassifier\n",
    "mlp = MLPClassifier(max_iter=100)\n",
    "\n",
    "# Criar o objeto GridSearchCV\n",
    "grid_search = GridSearchCV(mlp, param_grid, cv=5, n_jobs=-1, verbose=2)\n",
    "\n",
    "# Treinar o modelo usando a pesquisa em grade\n",
    "grid_search.fit(X, sentiment_train)\n",
    "\n",
    "# Melhores parâmetros encontrados\n",
    "print(\"Melhores parâmetros encontrados:\")\n",
    "print(grid_search.best_params_)\n",
    "\n",
    "# Avaliar o desempenho do modelo\n",
    "print(\"Acurácia da melhor configuração no conjunto de validação:\")\n",
    "print(grid_search.best_score_)"
   ]
  },
  {
   "cell_type": "code",
   "execution_count": null,
   "id": "2f4c547e",
   "metadata": {},
   "outputs": [],
   "source": []
  }
 ],
 "metadata": {
  "kernelspec": {
   "display_name": "Python 3 (ipykernel)",
   "language": "python",
   "name": "python3"
  },
  "language_info": {
   "codemirror_mode": {
    "name": "ipython",
    "version": 3
   },
   "file_extension": ".py",
   "mimetype": "text/x-python",
   "name": "python",
   "nbconvert_exporter": "python",
   "pygments_lexer": "ipython3",
   "version": "3.12.1"
  }
 },
 "nbformat": 4,
 "nbformat_minor": 5
}
