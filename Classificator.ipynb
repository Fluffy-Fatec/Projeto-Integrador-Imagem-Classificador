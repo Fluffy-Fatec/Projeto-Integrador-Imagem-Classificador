{
 "cells": [
  {
   "cell_type": "markdown",
   "id": "591dbab2-225e-42c5-8bb2-fcd2ed2d04da",
   "metadata": {
    "collapsed": true,
    "jupyter": {
     "outputs_hidden": true
    },
    "tags": []
   },
   "source": [
    "# 1. Install PIP's"
   ]
  },
  {
   "cell_type": "code",
   "execution_count": 1,
   "id": "91a43646-fea1-4d18-99ec-3f9ddd100e88",
   "metadata": {
    "scrolled": true,
    "tags": []
   },
   "outputs": [
    {
     "name": "stdout",
     "output_type": "stream",
     "text": [
      "Requirement already satisfied: unidecode in c:\\users\\victor\\appdata\\local\\programs\\python\\python312\\lib\\site-packages (1.3.8)\n",
      "Note: you may need to restart the kernel to use updated packages.\n",
      "Requirement already satisfied: spacy in c:\\users\\victor\\appdata\\local\\programs\\python\\python312\\lib\\site-packages (3.7.4)\n",
      "Requirement already satisfied: spacy-legacy<3.1.0,>=3.0.11 in c:\\users\\victor\\appdata\\local\\programs\\python\\python312\\lib\\site-packages (from spacy) (3.0.12)\n",
      "Requirement already satisfied: spacy-loggers<2.0.0,>=1.0.0 in c:\\users\\victor\\appdata\\local\\programs\\python\\python312\\lib\\site-packages (from spacy) (1.0.5)\n",
      "Requirement already satisfied: murmurhash<1.1.0,>=0.28.0 in c:\\users\\victor\\appdata\\local\\programs\\python\\python312\\lib\\site-packages (from spacy) (1.0.10)\n",
      "Requirement already satisfied: cymem<2.1.0,>=2.0.2 in c:\\users\\victor\\appdata\\local\\programs\\python\\python312\\lib\\site-packages (from spacy) (2.0.8)\n",
      "Requirement already satisfied: preshed<3.1.0,>=3.0.2 in c:\\users\\victor\\appdata\\local\\programs\\python\\python312\\lib\\site-packages (from spacy) (3.0.9)\n",
      "Requirement already satisfied: thinc<8.3.0,>=8.2.2 in c:\\users\\victor\\appdata\\local\\programs\\python\\python312\\lib\\site-packages (from spacy) (8.2.3)\n",
      "Requirement already satisfied: wasabi<1.2.0,>=0.9.1 in c:\\users\\victor\\appdata\\local\\programs\\python\\python312\\lib\\site-packages (from spacy) (1.1.2)\n",
      "Requirement already satisfied: srsly<3.0.0,>=2.4.3 in c:\\users\\victor\\appdata\\local\\programs\\python\\python312\\lib\\site-packages (from spacy) (2.4.8)\n",
      "Requirement already satisfied: catalogue<2.1.0,>=2.0.6 in c:\\users\\victor\\appdata\\local\\programs\\python\\python312\\lib\\site-packages (from spacy) (2.0.10)\n",
      "Requirement already satisfied: weasel<0.4.0,>=0.1.0 in c:\\users\\victor\\appdata\\local\\programs\\python\\python312\\lib\\site-packages (from spacy) (0.3.4)\n",
      "Requirement already satisfied: typer<0.10.0,>=0.3.0 in c:\\users\\victor\\appdata\\local\\programs\\python\\python312\\lib\\site-packages (from spacy) (0.9.4)\n",
      "Requirement already satisfied: smart-open<7.0.0,>=5.2.1 in c:\\users\\victor\\appdata\\local\\programs\\python\\python312\\lib\\site-packages (from spacy) (6.4.0)\n",
      "Requirement already satisfied: tqdm<5.0.0,>=4.38.0 in c:\\users\\victor\\appdata\\local\\programs\\python\\python312\\lib\\site-packages (from spacy) (4.66.2)\n",
      "Requirement already satisfied: requests<3.0.0,>=2.13.0 in c:\\users\\victor\\appdata\\local\\programs\\python\\python312\\lib\\site-packages (from spacy) (2.31.0)\n",
      "Requirement already satisfied: pydantic!=1.8,!=1.8.1,<3.0.0,>=1.7.4 in c:\\users\\victor\\appdata\\local\\programs\\python\\python312\\lib\\site-packages (from spacy) (2.6.4)\n",
      "Requirement already satisfied: jinja2 in c:\\users\\victor\\appdata\\local\\programs\\python\\python312\\lib\\site-packages (from spacy) (3.1.3)\n",
      "Requirement already satisfied: setuptools in c:\\users\\victor\\appdata\\local\\programs\\python\\python312\\lib\\site-packages (from spacy) (69.2.0)\n",
      "Requirement already satisfied: packaging>=20.0 in c:\\users\\victor\\appdata\\local\\programs\\python\\python312\\lib\\site-packages (from spacy) (24.0)\n",
      "Requirement already satisfied: langcodes<4.0.0,>=3.2.0 in c:\\users\\victor\\appdata\\local\\programs\\python\\python312\\lib\\site-packages (from spacy) (3.3.0)\n",
      "Requirement already satisfied: numpy>=1.19.0 in c:\\users\\victor\\appdata\\local\\programs\\python\\python312\\lib\\site-packages (from spacy) (1.26.2)\n",
      "Requirement already satisfied: annotated-types>=0.4.0 in c:\\users\\victor\\appdata\\local\\programs\\python\\python312\\lib\\site-packages (from pydantic!=1.8,!=1.8.1,<3.0.0,>=1.7.4->spacy) (0.6.0)\n",
      "Requirement already satisfied: pydantic-core==2.16.3 in c:\\users\\victor\\appdata\\local\\programs\\python\\python312\\lib\\site-packages (from pydantic!=1.8,!=1.8.1,<3.0.0,>=1.7.4->spacy) (2.16.3)\n",
      "Requirement already satisfied: typing-extensions>=4.6.1 in c:\\users\\victor\\appdata\\local\\programs\\python\\python312\\lib\\site-packages (from pydantic!=1.8,!=1.8.1,<3.0.0,>=1.7.4->spacy) (4.10.0)\n",
      "Requirement already satisfied: charset-normalizer<4,>=2 in c:\\users\\victor\\appdata\\local\\programs\\python\\python312\\lib\\site-packages (from requests<3.0.0,>=2.13.0->spacy) (3.3.2)\n",
      "Requirement already satisfied: idna<4,>=2.5 in c:\\users\\victor\\appdata\\local\\programs\\python\\python312\\lib\\site-packages (from requests<3.0.0,>=2.13.0->spacy) (2.10)\n",
      "Requirement already satisfied: urllib3<3,>=1.21.1 in c:\\users\\victor\\appdata\\local\\programs\\python\\python312\\lib\\site-packages (from requests<3.0.0,>=2.13.0->spacy) (2.2.1)\n",
      "Requirement already satisfied: certifi>=2017.4.17 in c:\\users\\victor\\appdata\\local\\programs\\python\\python312\\lib\\site-packages (from requests<3.0.0,>=2.13.0->spacy) (2024.2.2)\n",
      "Requirement already satisfied: blis<0.8.0,>=0.7.8 in c:\\users\\victor\\appdata\\local\\programs\\python\\python312\\lib\\site-packages (from thinc<8.3.0,>=8.2.2->spacy) (0.7.11)\n",
      "Requirement already satisfied: confection<1.0.0,>=0.0.1 in c:\\users\\victor\\appdata\\local\\programs\\python\\python312\\lib\\site-packages (from thinc<8.3.0,>=8.2.2->spacy) (0.1.4)\n",
      "Requirement already satisfied: colorama in c:\\users\\victor\\appdata\\local\\programs\\python\\python312\\lib\\site-packages (from tqdm<5.0.0,>=4.38.0->spacy) (0.4.6)\n",
      "Requirement already satisfied: click<9.0.0,>=7.1.1 in c:\\users\\victor\\appdata\\local\\programs\\python\\python312\\lib\\site-packages (from typer<0.10.0,>=0.3.0->spacy) (8.1.7)\n",
      "Requirement already satisfied: cloudpathlib<0.17.0,>=0.7.0 in c:\\users\\victor\\appdata\\local\\programs\\python\\python312\\lib\\site-packages (from weasel<0.4.0,>=0.1.0->spacy) (0.16.0)\n",
      "Requirement already satisfied: MarkupSafe>=2.0 in c:\\users\\victor\\appdata\\local\\programs\\python\\python312\\lib\\site-packages (from jinja2->spacy) (2.1.5)\n",
      "Note: you may need to restart the kernel to use updated packages.\n",
      "Requirement already satisfied: seaborn in c:\\users\\victor\\appdata\\local\\programs\\python\\python312\\lib\\site-packages (0.13.2)\n",
      "Requirement already satisfied: numpy!=1.24.0,>=1.20 in c:\\users\\victor\\appdata\\local\\programs\\python\\python312\\lib\\site-packages (from seaborn) (1.26.2)\n",
      "Requirement already satisfied: pandas>=1.2 in c:\\users\\victor\\appdata\\local\\programs\\python\\python312\\lib\\site-packages (from seaborn) (2.2.1)\n",
      "Requirement already satisfied: matplotlib!=3.6.1,>=3.4 in c:\\users\\victor\\appdata\\local\\programs\\python\\python312\\lib\\site-packages (from seaborn) (3.8.3)\n",
      "Requirement already satisfied: contourpy>=1.0.1 in c:\\users\\victor\\appdata\\local\\programs\\python\\python312\\lib\\site-packages (from matplotlib!=3.6.1,>=3.4->seaborn) (1.2.0)\n",
      "Requirement already satisfied: cycler>=0.10 in c:\\users\\victor\\appdata\\local\\programs\\python\\python312\\lib\\site-packages (from matplotlib!=3.6.1,>=3.4->seaborn) (0.12.1)\n",
      "Requirement already satisfied: fonttools>=4.22.0 in c:\\users\\victor\\appdata\\local\\programs\\python\\python312\\lib\\site-packages (from matplotlib!=3.6.1,>=3.4->seaborn) (4.50.0)\n",
      "Requirement already satisfied: kiwisolver>=1.3.1 in c:\\users\\victor\\appdata\\local\\programs\\python\\python312\\lib\\site-packages (from matplotlib!=3.6.1,>=3.4->seaborn) (1.4.5)\n",
      "Requirement already satisfied: packaging>=20.0 in c:\\users\\victor\\appdata\\local\\programs\\python\\python312\\lib\\site-packages (from matplotlib!=3.6.1,>=3.4->seaborn) (24.0)\n",
      "Requirement already satisfied: pillow>=8 in c:\\users\\victor\\appdata\\local\\programs\\python\\python312\\lib\\site-packages (from matplotlib!=3.6.1,>=3.4->seaborn) (10.2.0)\n",
      "Requirement already satisfied: pyparsing>=2.3.1 in c:\\users\\victor\\appdata\\local\\programs\\python\\python312\\lib\\site-packages (from matplotlib!=3.6.1,>=3.4->seaborn) (3.1.2)\n",
      "Requirement already satisfied: python-dateutil>=2.7 in c:\\users\\victor\\appdata\\local\\programs\\python\\python312\\lib\\site-packages (from matplotlib!=3.6.1,>=3.4->seaborn) (2.9.0.post0)\n",
      "Requirement already satisfied: pytz>=2020.1 in c:\\users\\victor\\appdata\\local\\programs\\python\\python312\\lib\\site-packages (from pandas>=1.2->seaborn) (2024.1)\n",
      "Requirement already satisfied: tzdata>=2022.7 in c:\\users\\victor\\appdata\\local\\programs\\python\\python312\\lib\\site-packages (from pandas>=1.2->seaborn) (2024.1)\n",
      "Requirement already satisfied: six>=1.5 in c:\\users\\victor\\appdata\\local\\programs\\python\\python312\\lib\\site-packages (from python-dateutil>=2.7->matplotlib!=3.6.1,>=3.4->seaborn) (1.16.0)\n",
      "Note: you may need to restart the kernel to use updated packages.\n",
      "Requirement already satisfied: nltk in c:\\users\\victor\\appdata\\local\\programs\\python\\python312\\lib\\site-packages (3.8.1)\n",
      "Requirement already satisfied: click in c:\\users\\victor\\appdata\\local\\programs\\python\\python312\\lib\\site-packages (from nltk) (8.1.7)\n",
      "Requirement already satisfied: joblib in c:\\users\\victor\\appdata\\local\\programs\\python\\python312\\lib\\site-packages (from nltk) (1.3.2)\n",
      "Requirement already satisfied: regex>=2021.8.3 in c:\\users\\victor\\appdata\\local\\programs\\python\\python312\\lib\\site-packages (from nltk) (2023.12.25)\n",
      "Requirement already satisfied: tqdm in c:\\users\\victor\\appdata\\local\\programs\\python\\python312\\lib\\site-packages (from nltk) (4.66.2)\n",
      "Requirement already satisfied: colorama in c:\\users\\victor\\appdata\\local\\programs\\python\\python312\\lib\\site-packages (from click->nltk) (0.4.6)\n",
      "Note: you may need to restart the kernel to use updated packages.\n",
      "Requirement already satisfied: stats in c:\\users\\victor\\appdata\\local\\programs\\python\\python312\\lib\\site-packages (0.1.2a0)\n",
      "Note: you may need to restart the kernel to use updated packages.\n",
      "Requirement already satisfied: xgboost in c:\\users\\victor\\appdata\\local\\programs\\python\\python312\\lib\\site-packages (2.0.3)\n",
      "Requirement already satisfied: numpy in c:\\users\\victor\\appdata\\local\\programs\\python\\python312\\lib\\site-packages (from xgboost) (1.26.2)\n",
      "Requirement already satisfied: scipy in c:\\users\\victor\\appdata\\local\\programs\\python\\python312\\lib\\site-packages (from xgboost) (1.12.0)\n",
      "Note: you may need to restart the kernel to use updated packages.\n",
      "Requirement already satisfied: sweetviz in c:\\users\\victor\\appdata\\local\\programs\\python\\python312\\lib\\site-packages (2.3.1)\n",
      "Requirement already satisfied: pandas!=1.0.0,!=1.0.1,!=1.0.2,>=0.25.3 in c:\\users\\victor\\appdata\\local\\programs\\python\\python312\\lib\\site-packages (from sweetviz) (2.2.1)\n",
      "Requirement already satisfied: numpy>=1.16.0 in c:\\users\\victor\\appdata\\local\\programs\\python\\python312\\lib\\site-packages (from sweetviz) (1.26.2)\n",
      "Requirement already satisfied: matplotlib>=3.1.3 in c:\\users\\victor\\appdata\\local\\programs\\python\\python312\\lib\\site-packages (from sweetviz) (3.8.3)\n",
      "Requirement already satisfied: tqdm>=4.43.0 in c:\\users\\victor\\appdata\\local\\programs\\python\\python312\\lib\\site-packages (from sweetviz) (4.66.2)\n",
      "Requirement already satisfied: scipy>=1.3.2 in c:\\users\\victor\\appdata\\local\\programs\\python\\python312\\lib\\site-packages (from sweetviz) (1.12.0)\n",
      "Requirement already satisfied: jinja2>=2.11.1 in c:\\users\\victor\\appdata\\local\\programs\\python\\python312\\lib\\site-packages (from sweetviz) (3.1.3)\n",
      "Requirement already satisfied: importlib-resources>=1.2.0 in c:\\users\\victor\\appdata\\local\\programs\\python\\python312\\lib\\site-packages (from sweetviz) (6.4.0)\n",
      "Requirement already satisfied: MarkupSafe>=2.0 in c:\\users\\victor\\appdata\\local\\programs\\python\\python312\\lib\\site-packages (from jinja2>=2.11.1->sweetviz) (2.1.5)\n",
      "Requirement already satisfied: contourpy>=1.0.1 in c:\\users\\victor\\appdata\\local\\programs\\python\\python312\\lib\\site-packages (from matplotlib>=3.1.3->sweetviz) (1.2.0)\n",
      "Requirement already satisfied: cycler>=0.10 in c:\\users\\victor\\appdata\\local\\programs\\python\\python312\\lib\\site-packages (from matplotlib>=3.1.3->sweetviz) (0.12.1)\n",
      "Requirement already satisfied: fonttools>=4.22.0 in c:\\users\\victor\\appdata\\local\\programs\\python\\python312\\lib\\site-packages (from matplotlib>=3.1.3->sweetviz) (4.50.0)\n",
      "Requirement already satisfied: kiwisolver>=1.3.1 in c:\\users\\victor\\appdata\\local\\programs\\python\\python312\\lib\\site-packages (from matplotlib>=3.1.3->sweetviz) (1.4.5)\n",
      "Requirement already satisfied: packaging>=20.0 in c:\\users\\victor\\appdata\\local\\programs\\python\\python312\\lib\\site-packages (from matplotlib>=3.1.3->sweetviz) (24.0)\n",
      "Requirement already satisfied: pillow>=8 in c:\\users\\victor\\appdata\\local\\programs\\python\\python312\\lib\\site-packages (from matplotlib>=3.1.3->sweetviz) (10.2.0)\n",
      "Requirement already satisfied: pyparsing>=2.3.1 in c:\\users\\victor\\appdata\\local\\programs\\python\\python312\\lib\\site-packages (from matplotlib>=3.1.3->sweetviz) (3.1.2)\n",
      "Requirement already satisfied: python-dateutil>=2.7 in c:\\users\\victor\\appdata\\local\\programs\\python\\python312\\lib\\site-packages (from matplotlib>=3.1.3->sweetviz) (2.9.0.post0)\n",
      "Requirement already satisfied: pytz>=2020.1 in c:\\users\\victor\\appdata\\local\\programs\\python\\python312\\lib\\site-packages (from pandas!=1.0.0,!=1.0.1,!=1.0.2,>=0.25.3->sweetviz) (2024.1)\n",
      "Requirement already satisfied: tzdata>=2022.7 in c:\\users\\victor\\appdata\\local\\programs\\python\\python312\\lib\\site-packages (from pandas!=1.0.0,!=1.0.1,!=1.0.2,>=0.25.3->sweetviz) (2024.1)\n",
      "Requirement already satisfied: colorama in c:\\users\\victor\\appdata\\local\\programs\\python\\python312\\lib\\site-packages (from tqdm>=4.43.0->sweetviz) (0.4.6)\n",
      "Requirement already satisfied: six>=1.5 in c:\\users\\victor\\appdata\\local\\programs\\python\\python312\\lib\\site-packages (from python-dateutil>=2.7->matplotlib>=3.1.3->sweetviz) (1.16.0)\n",
      "Note: you may need to restart the kernel to use updated packages.\n",
      "Note: you may need to restart the kernel to use updated packages.\n"
     ]
    },
    {
     "name": "stderr",
     "output_type": "stream",
     "text": [
      "ERROR: Could not find a version that satisfies the requirement string (from versions: none)\n",
      "ERROR: No matching distribution found for string\n"
     ]
    },
    {
     "name": "stdout",
     "output_type": "stream",
     "text": [
      "Requirement already satisfied: imblearn in c:\\users\\victor\\appdata\\local\\programs\\python\\python312\\lib\\site-packages (0.0)\n",
      "Requirement already satisfied: imbalanced-learn in c:\\users\\victor\\appdata\\local\\programs\\python\\python312\\lib\\site-packages (from imblearn) (0.12.2)\n",
      "Requirement already satisfied: numpy>=1.17.3 in c:\\users\\victor\\appdata\\local\\programs\\python\\python312\\lib\\site-packages (from imbalanced-learn->imblearn) (1.26.2)\n",
      "Requirement already satisfied: scipy>=1.5.0 in c:\\users\\victor\\appdata\\local\\programs\\python\\python312\\lib\\site-packages (from imbalanced-learn->imblearn) (1.12.0)\n",
      "Requirement already satisfied: scikit-learn>=1.0.2 in c:\\users\\victor\\appdata\\local\\programs\\python\\python312\\lib\\site-packages (from imbalanced-learn->imblearn) (1.4.1.post1)\n",
      "Requirement already satisfied: joblib>=1.1.1 in c:\\users\\victor\\appdata\\local\\programs\\python\\python312\\lib\\site-packages (from imbalanced-learn->imblearn) (1.3.2)\n",
      "Requirement already satisfied: threadpoolctl>=2.0.0 in c:\\users\\victor\\appdata\\local\\programs\\python\\python312\\lib\\site-packages (from imbalanced-learn->imblearn) (3.4.0)\n",
      "Note: you may need to restart the kernel to use updated packages.\n"
     ]
    }
   ],
   "source": [
    "%pip install unidecode\n",
    "%pip install spacy\n",
    "%pip install seaborn\n",
    "%pip install nltk\n",
    "%pip install stats\n",
    "%pip install xgboost\n",
    "%pip install sweetviz\n",
    "%pip install string\n",
    "%pip install imblearn"
   ]
  },
  {
   "cell_type": "markdown",
   "id": "d1945518-f8c4-4f7d-ac9c-ef72d0869d09",
   "metadata": {},
   "source": [
    "# 2. Import Packages"
   ]
  },
  {
   "cell_type": "code",
   "execution_count": 2,
   "id": "3c23c32e-0bab-4fb9-a35f-b04f4f0b93a9",
   "metadata": {},
   "outputs": [],
   "source": [
    "import pandas as pd\n",
    "import numpy as np\n",
    "import os\n",
    "import seaborn as sns\n",
    "import spacy\n",
    "nlp = spacy.load('pt_core_news_lg')\n",
    "import string\n",
    "import regex as re\n",
    "from unidecode import unidecode\n",
    "from scipy import stats\n",
    "import matplotlib.pyplot as plt\n",
    "from sklearn.model_selection import train_test_split\n",
    "from sklearn.feature_extraction.text import CountVectorizer\n",
    "from sklearn.feature_extraction.text import TfidfVectorizer\n",
    "from sklearn.neural_network import MLPClassifier\n",
    "from sklearn.preprocessing import StandardScaler\n",
    "from sklearn.metrics import roc_curve, auc, confusion_matrix, accuracy_score\n",
    "from sklearn import preprocessing\n",
    "from sklearn.model_selection import GridSearchCV\n",
    "from imblearn.over_sampling import SMOTE"
   ]
  },
  {
   "cell_type": "markdown",
   "id": "bc1de613",
   "metadata": {},
   "source": [
    "# 3. Load Data"
   ]
  },
  {
   "cell_type": "code",
   "execution_count": 3,
   "id": "dbab8de1",
   "metadata": {},
   "outputs": [],
   "source": [
    "customers_df = pd.read_csv(\"olist_customers_dataset.csv\")\n",
    "geolocation_df = pd.read_csv(\"olist_geolocation_dataset.csv\")\n",
    "order_items_df = pd.read_csv(\"olist_order_items_dataset.csv\")\n",
    "order_payments_df = pd.read_csv(\"olist_order_payments_dataset.csv\")\n",
    "order_reviews_df = pd.read_csv(\"olist_order_reviews_dataset.csv\")\n",
    "orders_df = pd.read_csv(\"olist_orders_dataset.csv\")\n",
    "products_df = pd.read_csv(\"olist_products_dataset.csv\")\n",
    "sellers_df = pd.read_csv(\"olist_sellers_dataset.csv\")\n",
    "product_category_name_translation_df = pd.read_csv(\"product_category_name_translation.csv\")"
   ]
  },
  {
   "cell_type": "markdown",
   "id": "77b9ef76",
   "metadata": {},
   "source": [
    "# 4. Data Wreangling"
   ]
  },
  {
   "cell_type": "markdown",
   "id": "5b389da8",
   "metadata": {},
   "source": [
    "### 4.1. Merge Data"
   ]
  },
  {
   "cell_type": "code",
   "execution_count": 4,
   "id": "6702918d",
   "metadata": {},
   "outputs": [],
   "source": [
    "df = orders_df.merge(order_reviews_df, on='order_id')\\\n",
    "                   .merge(order_items_df, on='order_id')\\\n",
    "                   .merge(products_df, on='product_id')\\\n",
    "                   .merge(sellers_df, on='seller_id')\\\n",
    "                   .merge(geolocation_df, left_on='seller_zip_code_prefix', right_on='geolocation_zip_code_prefix')"
   ]
  },
  {
   "cell_type": "markdown",
   "id": "fb6e9aba",
   "metadata": {},
   "source": [
    "### 4.2. Selected Columns Important"
   ]
  },
  {
   "cell_type": "code",
   "execution_count": 5,
   "id": "f478eb3b",
   "metadata": {},
   "outputs": [],
   "source": [
    "selected_columns = ['review_id', 'review_score', 'review_comment_title', \n",
    "                    'review_comment_message', 'review_creation_date', \n",
    "                    'review_answer_timestamp', 'product_id', \n",
    "                    'geolocation_lat', 'geolocation_lng']\n",
    "\n",
    "full_df = df.loc[:, selected_columns]"
   ]
  },
  {
   "cell_type": "markdown",
   "id": "141337d4",
   "metadata": {},
   "source": [
    "### 4.3. Conversion Columns Data in datetime"
   ]
  },
  {
   "cell_type": "code",
   "execution_count": 6,
   "id": "8059dc98",
   "metadata": {},
   "outputs": [],
   "source": [
    "datetime_columns = ['review_creation_date', 'review_answer_timestamp']\n",
    "full_df[datetime_columns] = full_df[datetime_columns].apply(pd.to_datetime)"
   ]
  },
  {
   "cell_type": "markdown",
   "id": "8668f077",
   "metadata": {},
   "source": [
    "### 4.4. Drop Duplicates"
   ]
  },
  {
   "cell_type": "code",
   "execution_count": 7,
   "id": "6262b85f",
   "metadata": {},
   "outputs": [],
   "source": [
    "full_df = full_df.drop_duplicates(subset=['review_id'])"
   ]
  },
  {
   "cell_type": "markdown",
   "id": "f8322beb",
   "metadata": {},
   "source": [
    "### 4.5. Merge Title with Message"
   ]
  },
  {
   "cell_type": "code",
   "execution_count": 8,
   "id": "20bc082a",
   "metadata": {},
   "outputs": [],
   "source": [
    "full_df['review_comment_title'] = full_df['review_comment_title'].fillna('').astype(str)\n",
    "full_df['text_sentiment'] = full_df['review_comment_title'].str.cat(full_df['review_comment_message'], sep=' ')"
   ]
  },
  {
   "cell_type": "markdown",
   "id": "9c0770f3",
   "metadata": {},
   "source": [
    "### 4.6. Drop NA"
   ]
  },
  {
   "cell_type": "code",
   "execution_count": 9,
   "id": "c09a88cb",
   "metadata": {},
   "outputs": [],
   "source": [
    "full_df = full_df.dropna(subset=['text_sentiment'])\n",
    "full_df = full_df.dropna(subset=['review_score'])"
   ]
  },
  {
   "cell_type": "markdown",
   "id": "0b80070f",
   "metadata": {},
   "source": [
    "# 5. Data Processing"
   ]
  },
  {
   "cell_type": "markdown",
   "id": "bd526381",
   "metadata": {},
   "source": [
    "### 5.1. Conversion Column Message in Lower Case"
   ]
  },
  {
   "cell_type": "code",
   "execution_count": 11,
   "id": "09cf9f52",
   "metadata": {},
   "outputs": [],
   "source": [
    "def to_lower(text):\n",
    "    return text.lower()"
   ]
  },
  {
   "cell_type": "code",
   "execution_count": 12,
   "id": "5f9976a5",
   "metadata": {},
   "outputs": [],
   "source": [
    "full_df['text_sentiment'] = full_df['text_sentiment'].apply(to_lower)"
   ]
  },
  {
   "cell_type": "markdown",
   "id": "8713baf9",
   "metadata": {},
   "source": [
    "### 5.2. Removing Punctuation, Exemple (\".\", \"!\")"
   ]
  },
  {
   "cell_type": "code",
   "execution_count": 13,
   "id": "4a98946e",
   "metadata": {},
   "outputs": [],
   "source": [
    "def remove_punctuation(text):\n",
    "    punct = string.punctuation\n",
    "    punct = punct.replace(\"'\", \"\")\n",
    "    translator = str.maketrans('', '', punct)\n",
    "    return text.translate(translator)"
   ]
  },
  {
   "cell_type": "code",
   "execution_count": 14,
   "id": "281e5e16",
   "metadata": {},
   "outputs": [],
   "source": [
    "full_df['text_sentiment'] = full_df['text_sentiment'].apply(remove_punctuation)"
   ]
  },
  {
   "cell_type": "markdown",
   "id": "b841a711",
   "metadata": {},
   "source": [
    "### 5.3. Removing Emoji"
   ]
  },
  {
   "cell_type": "code",
   "execution_count": 15,
   "id": "d3099519",
   "metadata": {},
   "outputs": [],
   "source": [
    "def remove_emojis(text):\n",
    "    emoji_pattern = re.compile(\"[\"\n",
    "                               u\"\\U0001F600-\\U0001F64F\"  # emoticons\n",
    "                               u\"\\U0001F300-\\U0001F5FF\"  # simbol and pictogramas\n",
    "                               u\"\\U0001F680-\\U0001F6FF\"  # transport and ]simbol of map\n",
    "                               u\"\\U0001F1E0-\\U0001F1FF\"  # flags (iOS)\n",
    "                               u\"\\U00002702-\\U000027B0\"\n",
    "                               u\"\\U000024C2-\\U0001F251\"\n",
    "                               \"]+\", flags=re.UNICODE)\n",
    "    return emoji_pattern.sub(r'', text)"
   ]
  },
  {
   "cell_type": "code",
   "execution_count": 16,
   "id": "4122dc35",
   "metadata": {},
   "outputs": [],
   "source": [
    "full_df['text_sentiment'] = full_df['text_sentiment'].apply(remove_emojis)"
   ]
  },
  {
   "cell_type": "markdown",
   "id": "37648f70",
   "metadata": {},
   "source": [
    "### 5.4. Removing Sites and Blogs"
   ]
  },
  {
   "cell_type": "code",
   "execution_count": 17,
   "id": "7531f127",
   "metadata": {},
   "outputs": [],
   "source": [
    "def remove_urls(text):\n",
    "    http = r\"http\\S+|www\\.\\S+\"\n",
    "    pattern = re.compile(r\"({})\".format(http))\n",
    "    return pattern.sub(r'', text)"
   ]
  },
  {
   "cell_type": "code",
   "execution_count": 18,
   "id": "bbf3da5f",
   "metadata": {},
   "outputs": [],
   "source": [
    "full_df['text_sentiment'] = full_df['text_sentiment'].apply(remove_urls)"
   ]
  },
  {
   "cell_type": "markdown",
   "id": "f2534de1",
   "metadata": {},
   "source": [
    "### 5.5. Removing Accentuation"
   ]
  },
  {
   "cell_type": "code",
   "execution_count": 19,
   "id": "4490ce04",
   "metadata": {},
   "outputs": [],
   "source": [
    "def remove_accent(text):\n",
    "    return unidecode(text)"
   ]
  },
  {
   "cell_type": "code",
   "execution_count": 20,
   "id": "344c10f4",
   "metadata": {},
   "outputs": [],
   "source": [
    "full_df['text_sentiment'] = full_df['text_sentiment'].apply(remove_accent)"
   ]
  },
  {
   "cell_type": "markdown",
   "id": "24ad69a2",
   "metadata": {},
   "source": [
    "### 5.6. Remove Numbers"
   ]
  },
  {
   "cell_type": "code",
   "execution_count": 21,
   "id": "9f4d3ade",
   "metadata": {},
   "outputs": [],
   "source": [
    "def remove_numbers(texto):\n",
    "    return re.sub(r'\\d+', '', texto)"
   ]
  },
  {
   "cell_type": "code",
   "execution_count": 22,
   "id": "53f271dc",
   "metadata": {},
   "outputs": [],
   "source": [
    "full_df['text_sentiment'] = full_df['text_sentiment'].apply(remove_numbers)"
   ]
  },
  {
   "cell_type": "markdown",
   "id": "36d658e3",
   "metadata": {},
   "source": [
    "### 5.7. Remove Space Blank Excessive and Remove Broke Line"
   ]
  },
  {
   "cell_type": "code",
   "execution_count": 23,
   "id": "d422b435",
   "metadata": {},
   "outputs": [],
   "source": [
    "def remove_broke_line(texto):\n",
    "    return texto.replace('\\n', ' ')"
   ]
  },
  {
   "cell_type": "code",
   "execution_count": 24,
   "id": "bc1f48d7",
   "metadata": {},
   "outputs": [],
   "source": [
    "full_df['text_sentiment'] = full_df['text_sentiment'].apply(remove_broke_line)"
   ]
  },
  {
   "cell_type": "markdown",
   "id": "961b3d08",
   "metadata": {},
   "source": [
    "### 5.8. Remove Blank Space Text"
   ]
  },
  {
   "cell_type": "code",
   "execution_count": 25,
   "id": "9544b1dc",
   "metadata": {},
   "outputs": [],
   "source": [
    "def strip_text(text):\n",
    "    return text.strip()"
   ]
  },
  {
   "cell_type": "code",
   "execution_count": 26,
   "id": "69ba4cfc",
   "metadata": {},
   "outputs": [],
   "source": [
    "full_df['text_sentiment'] = full_df['text_sentiment'].apply(strip_text)"
   ]
  },
  {
   "cell_type": "markdown",
   "id": "4294283b",
   "metadata": {},
   "source": [
    "### 5.9. Filter only Adjetivos, Verbos, Substantivo, Adverbios and \"nao\" \"nada\""
   ]
  },
  {
   "cell_type": "code",
   "execution_count": 27,
   "id": "6298c1ea",
   "metadata": {},
   "outputs": [],
   "source": [
    "def filtrar_tokens(text):\n",
    "    doc = nlp(text)\n",
    "    tokens_filtrados = []\n",
    "    for token in doc:\n",
    "        if token.text.lower() == 'nao':\n",
    "            tokens_filtrados.append(token.text)\n",
    "        elif token.text.lower() == 'nada':\n",
    "            tokens_filtrados.append(token.text)\n",
    "        elif token.pos_ in ['ADJ', 'VERB', 'NOUN', 'ADV']:\n",
    "            tokens_filtrados.append(token.text)\n",
    "    return ' '.join(tokens_filtrados)"
   ]
  },
  {
   "cell_type": "code",
   "execution_count": 28,
   "id": "4ca275a4",
   "metadata": {},
   "outputs": [],
   "source": [
    "full_df['text_sentiment'] = full_df['text_sentiment'].apply(filtrar_tokens)"
   ]
  },
  {
   "cell_type": "markdown",
   "id": "1b18a2ee",
   "metadata": {},
   "source": [
    "### 5.10. Lematization"
   ]
  },
  {
   "cell_type": "code",
   "execution_count": 29,
   "id": "31e7facd",
   "metadata": {},
   "outputs": [],
   "source": [
    "def lemmatize_text(text):\n",
    "    return \" \".join([token.lemma_ for token in nlp(text)])"
   ]
  },
  {
   "cell_type": "code",
   "execution_count": 30,
   "id": "66496de5",
   "metadata": {},
   "outputs": [],
   "source": [
    "full_df['text_sentiment'] = full_df['text_sentiment'].apply(lemmatize_text)"
   ]
  },
  {
   "cell_type": "code",
   "execution_count": 31,
   "id": "a998d304",
   "metadata": {},
   "outputs": [
    {
     "data": {
      "text/html": [
       "<div>\n",
       "<style scoped>\n",
       "    .dataframe tbody tr th:only-of-type {\n",
       "        vertical-align: middle;\n",
       "    }\n",
       "\n",
       "    .dataframe tbody tr th {\n",
       "        vertical-align: top;\n",
       "    }\n",
       "\n",
       "    .dataframe thead th {\n",
       "        text-align: right;\n",
       "    }\n",
       "</style>\n",
       "<table border=\"1\" class=\"dataframe\">\n",
       "  <thead>\n",
       "    <tr style=\"text-align: right;\">\n",
       "      <th></th>\n",
       "      <th>review_id</th>\n",
       "      <th>review_score</th>\n",
       "      <th>review_comment_title</th>\n",
       "      <th>review_comment_message</th>\n",
       "      <th>review_creation_date</th>\n",
       "      <th>review_answer_timestamp</th>\n",
       "      <th>product_id</th>\n",
       "      <th>geolocation_lat</th>\n",
       "      <th>geolocation_lng</th>\n",
       "      <th>text_sentiment</th>\n",
       "    </tr>\n",
       "  </thead>\n",
       "  <tbody>\n",
       "    <tr>\n",
       "      <th>0</th>\n",
       "      <td>a54f0611adc9ed256b57ede6b6eb5114</td>\n",
       "      <td>4</td>\n",
       "      <td></td>\n",
       "      <td>Não testei o produto ainda, mas ele veio corre...</td>\n",
       "      <td>2017-10-11</td>\n",
       "      <td>2017-10-12 03:43:48</td>\n",
       "      <td>87285b34884572647811a353c7ac498a</td>\n",
       "      <td>-23.680114</td>\n",
       "      <td>-46.452454</td>\n",
       "      <td>nao testar produto ainda vir correto bom condi...</td>\n",
       "    </tr>\n",
       "    <tr>\n",
       "      <th>207</th>\n",
       "      <td>8d5266042046a06655c8db133d120ba5</td>\n",
       "      <td>4</td>\n",
       "      <td>Muito boa a loja</td>\n",
       "      <td>Muito bom o produto.</td>\n",
       "      <td>2018-08-08</td>\n",
       "      <td>2018-08-08 18:37:50</td>\n",
       "      <td>595fac2a385ac33a80bd5114aec74eb8</td>\n",
       "      <td>-19.810119</td>\n",
       "      <td>-43.984727</td>\n",
       "      <td>muito bom loja muito bom produto</td>\n",
       "    </tr>\n",
       "    <tr>\n",
       "      <th>448</th>\n",
       "      <td>359d03e676b3c069f62cadba8dd3f6e8</td>\n",
       "      <td>5</td>\n",
       "      <td></td>\n",
       "      <td>O produto foi exatamente o que eu esperava e e...</td>\n",
       "      <td>2017-12-03</td>\n",
       "      <td>2017-12-05 19:21:58</td>\n",
       "      <td>d0b61bfb1de832b15ba9d266ca96e5b0</td>\n",
       "      <td>-19.840168</td>\n",
       "      <td>-43.923299</td>\n",
       "      <td>produto exatamente esperar descrito site chega...</td>\n",
       "    </tr>\n",
       "    <tr>\n",
       "      <th>620</th>\n",
       "      <td>e07549ef5311abcc92ba1784b093fb56</td>\n",
       "      <td>2</td>\n",
       "      <td></td>\n",
       "      <td>fiquei triste por n ter me atendido.</td>\n",
       "      <td>2017-05-13</td>\n",
       "      <td>2017-05-13 20:25:42</td>\n",
       "      <td>a1804276d9941ac0733cfd409f5206eb</td>\n",
       "      <td>-23.536892</td>\n",
       "      <td>-46.713111</td>\n",
       "      <td>fiquei triste n atendir</td>\n",
       "    </tr>\n",
       "    <tr>\n",
       "      <th>1468</th>\n",
       "      <td>15898b543726a832d4137fbef5d1d00e</td>\n",
       "      <td>1</td>\n",
       "      <td></td>\n",
       "      <td>Aguardando retorno da loja</td>\n",
       "      <td>2017-05-30</td>\n",
       "      <td>2017-05-30 23:13:47</td>\n",
       "      <td>08574b074924071f4e201e151b152b4e</td>\n",
       "      <td>-20.297537</td>\n",
       "      <td>-40.400869</td>\n",
       "      <td>aguardar retorno lojar</td>\n",
       "    </tr>\n",
       "    <tr>\n",
       "      <th>2180</th>\n",
       "      <td>8f39f09c22b1ceb6e3eb178d8e50bb8a</td>\n",
       "      <td>4</td>\n",
       "      <td></td>\n",
       "      <td>Gostei do produto</td>\n",
       "      <td>2018-03-13</td>\n",
       "      <td>2018-03-14 10:36:16</td>\n",
       "      <td>72d3bf1d3a790f8874096fcf860e3eff</td>\n",
       "      <td>-26.916270</td>\n",
       "      <td>-48.652460</td>\n",
       "      <td>gostar produto</td>\n",
       "    </tr>\n",
       "    <tr>\n",
       "      <th>2415</th>\n",
       "      <td>5a8608437f4b52bec5cd143f37258b5e</td>\n",
       "      <td>5</td>\n",
       "      <td>Nota dez</td>\n",
       "      <td>Obrigado pela atenção. Lojas lannister perfeit...</td>\n",
       "      <td>2018-07-03</td>\n",
       "      <td>2018-07-03 15:10:07</td>\n",
       "      <td>009c09f439988bc06a93d6b8186dce73</td>\n",
       "      <td>-15.836123</td>\n",
       "      <td>-48.040185</td>\n",
       "      <td>nota obrigado atencao loja perfeito</td>\n",
       "    </tr>\n",
       "    <tr>\n",
       "      <th>2881</th>\n",
       "      <td>38cae21b1b57a95959440380d5b2ef7a</td>\n",
       "      <td>2</td>\n",
       "      <td></td>\n",
       "      <td>os correios estäo em greve... näo recebi nenhu...</td>\n",
       "      <td>2017-10-01</td>\n",
       "      <td>2017-10-01 17:55:21</td>\n",
       "      <td>5ac9d9e379c606e36a8094a6046f75dc</td>\n",
       "      <td>-23.677741</td>\n",
       "      <td>-46.668647</td>\n",
       "      <td>Correios greve nao receber aviso atraso qqer f...</td>\n",
       "    </tr>\n",
       "    <tr>\n",
       "      <th>3240</th>\n",
       "      <td>9a55cbc65c8fad47581da5ebbb2b373e</td>\n",
       "      <td>5</td>\n",
       "      <td>Ótimo</td>\n",
       "      <td>Sempre vou comprar aqui pois é a melhor parabéns</td>\n",
       "      <td>2018-08-14</td>\n",
       "      <td>2018-08-14 21:52:46</td>\n",
       "      <td>e99d69efe684efaa643f99805f7c81bc</td>\n",
       "      <td>-21.728866</td>\n",
       "      <td>-48.688815</td>\n",
       "      <td>otimo sempre comprar aqui pois bom parabens</td>\n",
       "    </tr>\n",
       "    <tr>\n",
       "      <th>3308</th>\n",
       "      <td>6a1a8e54de03ab98e6e8ff56e56e507f</td>\n",
       "      <td>2</td>\n",
       "      <td></td>\n",
       "      <td>Demora muito entregar. Já passou o prazo e ain...</td>\n",
       "      <td>2018-03-16</td>\n",
       "      <td>2018-03-20 23:10:58</td>\n",
       "      <td>7b717060aa783eb7f23a747a3a733dd7</td>\n",
       "      <td>-23.624784</td>\n",
       "      <td>-46.539542</td>\n",
       "      <td>demorar muito entregar passar prazo ainda nao ...</td>\n",
       "    </tr>\n",
       "    <tr>\n",
       "      <th>3546</th>\n",
       "      <td>2d4303fd561eb4ab51c87faa6598dc10</td>\n",
       "      <td>1</td>\n",
       "      <td>NÃO RECOMENDO!!!!</td>\n",
       "      <td>Até o momento não recebi o produto Protetor De...</td>\n",
       "      <td>2018-06-17</td>\n",
       "      <td>2018-06-20 11:38:22</td>\n",
       "      <td>d70f38e7f79c630f8ea00c993897042c</td>\n",
       "      <td>-21.728866</td>\n",
       "      <td>-48.688815</td>\n",
       "      <td>nao recomender momento nao recebi produto prot...</td>\n",
       "    </tr>\n",
       "    <tr>\n",
       "      <th>3900</th>\n",
       "      <td>67904467df350a66376e3a42fbe02139</td>\n",
       "      <td>5</td>\n",
       "      <td></td>\n",
       "      <td>Lindos. \\r\\nAcabamento incrivel, muiro macios ...</td>\n",
       "      <td>2018-03-22</td>\n",
       "      <td>2018-03-25 02:36:39</td>\n",
       "      <td>00baba5b58e274d0332a0c8a0a66f877</td>\n",
       "      <td>-21.465699</td>\n",
       "      <td>-47.004755</td>\n",
       "      <td>linr acabamento incrivel Muiro macio super contar</td>\n",
       "    </tr>\n",
       "    <tr>\n",
       "      <th>4217</th>\n",
       "      <td>2f111691fc93df88fc3aa8c2deac61ce</td>\n",
       "      <td>2</td>\n",
       "      <td></td>\n",
       "      <td>O produto veio faltando a base para auto e com...</td>\n",
       "      <td>2017-08-19</td>\n",
       "      <td>2017-08-19 23:46:02</td>\n",
       "      <td>cafd558df4c3c9d1c338ba6930ea9a62</td>\n",
       "      <td>-22.760478</td>\n",
       "      <td>-47.412811</td>\n",
       "      <td>produto vir faltar base fiz pedir telefone jus...</td>\n",
       "    </tr>\n",
       "    <tr>\n",
       "      <th>4363</th>\n",
       "      <td>764c587207b9589949abd863bdb72dec</td>\n",
       "      <td>1</td>\n",
       "      <td>Enganadores</td>\n",
       "      <td>Foi entregue um produto divergente do que eu h...</td>\n",
       "      <td>2018-05-06</td>\n",
       "      <td>2018-05-08 23:47:22</td>\n",
       "      <td>2d8f2be4f08788ee3bf5356af2b2ee6c</td>\n",
       "      <td>-24.026787</td>\n",
       "      <td>-46.493049</td>\n",
       "      <td>enganador entregar produto divergente comprar ...</td>\n",
       "    </tr>\n",
       "    <tr>\n",
       "      <th>4809</th>\n",
       "      <td>57be0c4c29a5113d8344db898974b47b</td>\n",
       "      <td>5</td>\n",
       "      <td></td>\n",
       "      <td>Ficou tudo ok só pensei q fosse maior mas.ta bom</td>\n",
       "      <td>2018-02-23</td>\n",
       "      <td>2018-02-25 11:39:37</td>\n",
       "      <td>39a9942865c056ed2006a5e8c11d9537</td>\n",
       "      <td>-23.646846</td>\n",
       "      <td>-46.666055</td>\n",
       "      <td>ficar so pensar q grande masta bom</td>\n",
       "    </tr>\n",
       "    <tr>\n",
       "      <th>5242</th>\n",
       "      <td>f121467a10eee0929f364c7d62abc9b5</td>\n",
       "      <td>5</td>\n",
       "      <td></td>\n",
       "      <td>há muito tempo efetuo compras atraves desta lo...</td>\n",
       "      <td>2018-03-20</td>\n",
       "      <td>2018-03-23 22:56:05</td>\n",
       "      <td>bff2010b28e8fbcff5a9db9d3fea5ac4</td>\n",
       "      <td>-23.693986</td>\n",
       "      <td>-46.701883</td>\n",
       "      <td>ha tempo compra atraves loja nunca ter problem...</td>\n",
       "    </tr>\n",
       "    <tr>\n",
       "      <th>5277</th>\n",
       "      <td>dc5cb78313de2f9c467da1f72302de04</td>\n",
       "      <td>4</td>\n",
       "      <td></td>\n",
       "      <td>bom pode comprar</td>\n",
       "      <td>2018-03-14</td>\n",
       "      <td>2018-03-16 00:52:33</td>\n",
       "      <td>9b37a918bcf2c8e1064e867cf1df4637</td>\n",
       "      <td>-23.612053</td>\n",
       "      <td>-46.607835</td>\n",
       "      <td>bom poder comprar</td>\n",
       "    </tr>\n",
       "    <tr>\n",
       "      <th>5530</th>\n",
       "      <td>b3b4ba30f4ff674b60b53cbb408ad037</td>\n",
       "      <td>5</td>\n",
       "      <td>Produto novo e original</td>\n",
       "      <td>Produto veio bem lacrado, todo original.</td>\n",
       "      <td>2018-06-19</td>\n",
       "      <td>2018-06-20 00:49:10</td>\n",
       "      <td>c7df652246ed7b3300aaf46960c141e4</td>\n",
       "      <td>-24.035293</td>\n",
       "      <td>-52.379570</td>\n",
       "      <td>produto novo original produto vir bem lacrar t...</td>\n",
       "    </tr>\n",
       "    <tr>\n",
       "      <th>5904</th>\n",
       "      <td>dfcc60a0a9bf7470d1acf910bc306e78</td>\n",
       "      <td>5</td>\n",
       "      <td></td>\n",
       "      <td>Quero o cartão de crédito das Lojas lannister!...</td>\n",
       "      <td>2017-06-01</td>\n",
       "      <td>2017-06-04 23:01:26</td>\n",
       "      <td>8c591ab0ca519558779df02023177f44</td>\n",
       "      <td>-20.944706</td>\n",
       "      <td>-45.827098</td>\n",
       "      <td>querer Cartao credito loja satisfacao pleno</td>\n",
       "    </tr>\n",
       "    <tr>\n",
       "      <th>5954</th>\n",
       "      <td>5caca29ffffe9086162ca51303817420</td>\n",
       "      <td>1</td>\n",
       "      <td></td>\n",
       "      <td>Inicialmente, na data da compra o produto era ...</td>\n",
       "      <td>2017-12-22</td>\n",
       "      <td>2017-12-28 11:25:32</td>\n",
       "      <td>be021417a6acb56b9b50d3fd2714baa8</td>\n",
       "      <td>-27.227306</td>\n",
       "      <td>-49.647892</td>\n",
       "      <td>inicialmente datar comprar produto ser entrega...</td>\n",
       "    </tr>\n",
       "  </tbody>\n",
       "</table>\n",
       "</div>"
      ],
      "text/plain": [
       "                             review_id  review_score     review_comment_title  \\\n",
       "0     a54f0611adc9ed256b57ede6b6eb5114             4                            \n",
       "207   8d5266042046a06655c8db133d120ba5             4         Muito boa a loja   \n",
       "448   359d03e676b3c069f62cadba8dd3f6e8             5                            \n",
       "620   e07549ef5311abcc92ba1784b093fb56             2                            \n",
       "1468  15898b543726a832d4137fbef5d1d00e             1                            \n",
       "2180  8f39f09c22b1ceb6e3eb178d8e50bb8a             4                            \n",
       "2415  5a8608437f4b52bec5cd143f37258b5e             5                 Nota dez   \n",
       "2881  38cae21b1b57a95959440380d5b2ef7a             2                            \n",
       "3240  9a55cbc65c8fad47581da5ebbb2b373e             5                   Ótimo    \n",
       "3308  6a1a8e54de03ab98e6e8ff56e56e507f             2                            \n",
       "3546  2d4303fd561eb4ab51c87faa6598dc10             1       NÃO RECOMENDO!!!!    \n",
       "3900  67904467df350a66376e3a42fbe02139             5                            \n",
       "4217  2f111691fc93df88fc3aa8c2deac61ce             2                            \n",
       "4363  764c587207b9589949abd863bdb72dec             1              Enganadores   \n",
       "4809  57be0c4c29a5113d8344db898974b47b             5                            \n",
       "5242  f121467a10eee0929f364c7d62abc9b5             5                            \n",
       "5277  dc5cb78313de2f9c467da1f72302de04             4                            \n",
       "5530  b3b4ba30f4ff674b60b53cbb408ad037             5  Produto novo e original   \n",
       "5904  dfcc60a0a9bf7470d1acf910bc306e78             5                            \n",
       "5954  5caca29ffffe9086162ca51303817420             1                            \n",
       "\n",
       "                                 review_comment_message review_creation_date  \\\n",
       "0     Não testei o produto ainda, mas ele veio corre...           2017-10-11   \n",
       "207                                Muito bom o produto.           2018-08-08   \n",
       "448   O produto foi exatamente o que eu esperava e e...           2017-12-03   \n",
       "620                fiquei triste por n ter me atendido.           2017-05-13   \n",
       "1468                         Aguardando retorno da loja           2017-05-30   \n",
       "2180                                  Gostei do produto           2018-03-13   \n",
       "2415  Obrigado pela atenção. Lojas lannister perfeit...           2018-07-03   \n",
       "2881  os correios estäo em greve... näo recebi nenhu...           2017-10-01   \n",
       "3240  Sempre vou comprar aqui pois é a melhor parabéns            2018-08-14   \n",
       "3308  Demora muito entregar. Já passou o prazo e ain...           2018-03-16   \n",
       "3546  Até o momento não recebi o produto Protetor De...           2018-06-17   \n",
       "3900  Lindos. \\r\\nAcabamento incrivel, muiro macios ...           2018-03-22   \n",
       "4217  O produto veio faltando a base para auto e com...           2017-08-19   \n",
       "4363  Foi entregue um produto divergente do que eu h...           2018-05-06   \n",
       "4809   Ficou tudo ok só pensei q fosse maior mas.ta bom           2018-02-23   \n",
       "5242  há muito tempo efetuo compras atraves desta lo...           2018-03-20   \n",
       "5277                                   bom pode comprar           2018-03-14   \n",
       "5530           Produto veio bem lacrado, todo original.           2018-06-19   \n",
       "5904  Quero o cartão de crédito das Lojas lannister!...           2017-06-01   \n",
       "5954  Inicialmente, na data da compra o produto era ...           2017-12-22   \n",
       "\n",
       "     review_answer_timestamp                        product_id  \\\n",
       "0        2017-10-12 03:43:48  87285b34884572647811a353c7ac498a   \n",
       "207      2018-08-08 18:37:50  595fac2a385ac33a80bd5114aec74eb8   \n",
       "448      2017-12-05 19:21:58  d0b61bfb1de832b15ba9d266ca96e5b0   \n",
       "620      2017-05-13 20:25:42  a1804276d9941ac0733cfd409f5206eb   \n",
       "1468     2017-05-30 23:13:47  08574b074924071f4e201e151b152b4e   \n",
       "2180     2018-03-14 10:36:16  72d3bf1d3a790f8874096fcf860e3eff   \n",
       "2415     2018-07-03 15:10:07  009c09f439988bc06a93d6b8186dce73   \n",
       "2881     2017-10-01 17:55:21  5ac9d9e379c606e36a8094a6046f75dc   \n",
       "3240     2018-08-14 21:52:46  e99d69efe684efaa643f99805f7c81bc   \n",
       "3308     2018-03-20 23:10:58  7b717060aa783eb7f23a747a3a733dd7   \n",
       "3546     2018-06-20 11:38:22  d70f38e7f79c630f8ea00c993897042c   \n",
       "3900     2018-03-25 02:36:39  00baba5b58e274d0332a0c8a0a66f877   \n",
       "4217     2017-08-19 23:46:02  cafd558df4c3c9d1c338ba6930ea9a62   \n",
       "4363     2018-05-08 23:47:22  2d8f2be4f08788ee3bf5356af2b2ee6c   \n",
       "4809     2018-02-25 11:39:37  39a9942865c056ed2006a5e8c11d9537   \n",
       "5242     2018-03-23 22:56:05  bff2010b28e8fbcff5a9db9d3fea5ac4   \n",
       "5277     2018-03-16 00:52:33  9b37a918bcf2c8e1064e867cf1df4637   \n",
       "5530     2018-06-20 00:49:10  c7df652246ed7b3300aaf46960c141e4   \n",
       "5904     2017-06-04 23:01:26  8c591ab0ca519558779df02023177f44   \n",
       "5954     2017-12-28 11:25:32  be021417a6acb56b9b50d3fd2714baa8   \n",
       "\n",
       "      geolocation_lat  geolocation_lng  \\\n",
       "0          -23.680114       -46.452454   \n",
       "207        -19.810119       -43.984727   \n",
       "448        -19.840168       -43.923299   \n",
       "620        -23.536892       -46.713111   \n",
       "1468       -20.297537       -40.400869   \n",
       "2180       -26.916270       -48.652460   \n",
       "2415       -15.836123       -48.040185   \n",
       "2881       -23.677741       -46.668647   \n",
       "3240       -21.728866       -48.688815   \n",
       "3308       -23.624784       -46.539542   \n",
       "3546       -21.728866       -48.688815   \n",
       "3900       -21.465699       -47.004755   \n",
       "4217       -22.760478       -47.412811   \n",
       "4363       -24.026787       -46.493049   \n",
       "4809       -23.646846       -46.666055   \n",
       "5242       -23.693986       -46.701883   \n",
       "5277       -23.612053       -46.607835   \n",
       "5530       -24.035293       -52.379570   \n",
       "5904       -20.944706       -45.827098   \n",
       "5954       -27.227306       -49.647892   \n",
       "\n",
       "                                         text_sentiment  \n",
       "0     nao testar produto ainda vir correto bom condi...  \n",
       "207                    muito bom loja muito bom produto  \n",
       "448   produto exatamente esperar descrito site chega...  \n",
       "620                             fiquei triste n atendir  \n",
       "1468                             aguardar retorno lojar  \n",
       "2180                                     gostar produto  \n",
       "2415                nota obrigado atencao loja perfeito  \n",
       "2881  Correios greve nao receber aviso atraso qqer f...  \n",
       "3240        otimo sempre comprar aqui pois bom parabens  \n",
       "3308  demorar muito entregar passar prazo ainda nao ...  \n",
       "3546  nao recomender momento nao recebi produto prot...  \n",
       "3900  linr acabamento incrivel Muiro macio super contar  \n",
       "4217  produto vir faltar base fiz pedir telefone jus...  \n",
       "4363  enganador entregar produto divergente comprar ...  \n",
       "4809                 ficar so pensar q grande masta bom  \n",
       "5242  ha tempo compra atraves loja nunca ter problem...  \n",
       "5277                                  bom poder comprar  \n",
       "5530  produto novo original produto vir bem lacrar t...  \n",
       "5904        querer Cartao credito loja satisfacao pleno  \n",
       "5954  inicialmente datar comprar produto ser entrega...  "
      ]
     },
     "execution_count": 31,
     "metadata": {},
     "output_type": "execute_result"
    }
   ],
   "source": [
    "full_df.head(20)"
   ]
  },
  {
   "cell_type": "markdown",
   "id": "ef59147d-4d07-4cdd-be78-24d45ac945fb",
   "metadata": {},
   "source": [
    "# 6. Previus Analyze"
   ]
  },
  {
   "cell_type": "code",
   "execution_count": 33,
   "id": "6cc47e47-a22d-4740-923d-76da291fff95",
   "metadata": {
    "scrolled": true
   },
   "outputs": [
    {
     "data": {
      "text/html": [
       "<div>\n",
       "<style scoped>\n",
       "    .dataframe tbody tr th:only-of-type {\n",
       "        vertical-align: middle;\n",
       "    }\n",
       "\n",
       "    .dataframe tbody tr th {\n",
       "        vertical-align: top;\n",
       "    }\n",
       "\n",
       "    .dataframe thead th {\n",
       "        text-align: right;\n",
       "    }\n",
       "</style>\n",
       "<table border=\"1\" class=\"dataframe\">\n",
       "  <thead>\n",
       "    <tr style=\"text-align: right;\">\n",
       "      <th></th>\n",
       "      <th>Column</th>\n",
       "      <th>dtypes</th>\n",
       "      <th># Missing</th>\n",
       "      <th># Unique</th>\n",
       "      <th>Example</th>\n",
       "      <th>Entropy</th>\n",
       "    </tr>\n",
       "  </thead>\n",
       "  <tbody>\n",
       "    <tr>\n",
       "      <th>0</th>\n",
       "      <td>review_id</td>\n",
       "      <td>object</td>\n",
       "      <td>0</td>\n",
       "      <td>40095</td>\n",
       "      <td>a54f0611adc9ed256b57ede6b6eb5114</td>\n",
       "      <td>15.29</td>\n",
       "    </tr>\n",
       "    <tr>\n",
       "      <th>1</th>\n",
       "      <td>review_score</td>\n",
       "      <td>int64</td>\n",
       "      <td>0</td>\n",
       "      <td>5</td>\n",
       "      <td>4</td>\n",
       "      <td>1.90</td>\n",
       "    </tr>\n",
       "    <tr>\n",
       "      <th>2</th>\n",
       "      <td>review_comment_title</td>\n",
       "      <td>object</td>\n",
       "      <td>0</td>\n",
       "      <td>4089</td>\n",
       "      <td></td>\n",
       "      <td>3.22</td>\n",
       "    </tr>\n",
       "    <tr>\n",
       "      <th>3</th>\n",
       "      <td>review_comment_message</td>\n",
       "      <td>object</td>\n",
       "      <td>0</td>\n",
       "      <td>35625</td>\n",
       "      <td>Não testei o produto ainda, mas ele veio corre...</td>\n",
       "      <td>14.78</td>\n",
       "    </tr>\n",
       "    <tr>\n",
       "      <th>4</th>\n",
       "      <td>review_creation_date</td>\n",
       "      <td>datetime64[ns]</td>\n",
       "      <td>0</td>\n",
       "      <td>618</td>\n",
       "      <td>2017-10-11 00:00:00</td>\n",
       "      <td>8.78</td>\n",
       "    </tr>\n",
       "    <tr>\n",
       "      <th>5</th>\n",
       "      <td>review_answer_timestamp</td>\n",
       "      <td>datetime64[ns]</td>\n",
       "      <td>0</td>\n",
       "      <td>40069</td>\n",
       "      <td>2017-10-12 03:43:48</td>\n",
       "      <td>15.29</td>\n",
       "    </tr>\n",
       "    <tr>\n",
       "      <th>6</th>\n",
       "      <td>product_id</td>\n",
       "      <td>object</td>\n",
       "      <td>0</td>\n",
       "      <td>17970</td>\n",
       "      <td>87285b34884572647811a353c7ac498a</td>\n",
       "      <td>13.17</td>\n",
       "    </tr>\n",
       "    <tr>\n",
       "      <th>7</th>\n",
       "      <td>geolocation_lat</td>\n",
       "      <td>float64</td>\n",
       "      <td>0</td>\n",
       "      <td>1891</td>\n",
       "      <td>-23.680114</td>\n",
       "      <td>8.82</td>\n",
       "    </tr>\n",
       "    <tr>\n",
       "      <th>8</th>\n",
       "      <td>geolocation_lng</td>\n",
       "      <td>float64</td>\n",
       "      <td>0</td>\n",
       "      <td>1891</td>\n",
       "      <td>-46.452454</td>\n",
       "      <td>8.82</td>\n",
       "    </tr>\n",
       "    <tr>\n",
       "      <th>9</th>\n",
       "      <td>text_sentiment</td>\n",
       "      <td>object</td>\n",
       "      <td>0</td>\n",
       "      <td>32713</td>\n",
       "      <td>nao testar produto ainda vir correto bom condi...</td>\n",
       "      <td>14.27</td>\n",
       "    </tr>\n",
       "  </tbody>\n",
       "</table>\n",
       "</div>"
      ],
      "text/plain": [
       "                    Column          dtypes  # Missing  # Unique  \\\n",
       "0                review_id          object          0     40095   \n",
       "1             review_score           int64          0         5   \n",
       "2     review_comment_title          object          0      4089   \n",
       "3   review_comment_message          object          0     35625   \n",
       "4     review_creation_date  datetime64[ns]          0       618   \n",
       "5  review_answer_timestamp  datetime64[ns]          0     40069   \n",
       "6               product_id          object          0     17970   \n",
       "7          geolocation_lat         float64          0      1891   \n",
       "8          geolocation_lng         float64          0      1891   \n",
       "9           text_sentiment          object          0     32713   \n",
       "\n",
       "                                             Example  Entropy  \n",
       "0                   a54f0611adc9ed256b57ede6b6eb5114    15.29  \n",
       "1                                                  4     1.90  \n",
       "2                                                        3.22  \n",
       "3  Não testei o produto ainda, mas ele veio corre...    14.78  \n",
       "4                                2017-10-11 00:00:00     8.78  \n",
       "5                                2017-10-12 03:43:48    15.29  \n",
       "6                   87285b34884572647811a353c7ac498a    13.17  \n",
       "7                                         -23.680114     8.82  \n",
       "8                                         -46.452454     8.82  \n",
       "9  nao testar produto ainda vir correto bom condi...    14.27  "
      ]
     },
     "execution_count": 33,
     "metadata": {},
     "output_type": "execute_result"
    }
   ],
   "source": [
    "def df_metadata(df):\n",
    "    metadata = pd.DataFrame(df.dtypes,columns=['dtypes'])\n",
    "    metadata = metadata.reset_index()\n",
    "    metadata['Column'] = metadata['index']\n",
    "    metadata = metadata[['Column','dtypes']]\n",
    "    metadata['# Missing'] = df.isnull().sum().values    \n",
    "    metadata['# Unique'] = df.nunique().values\n",
    "    metadata['Example'] = df.loc[0].values\n",
    "\n",
    "    for name in metadata['Column'].value_counts().index:\n",
    "        metadata.loc[metadata['Column'] == name, 'Entropy'] = round(stats.entropy(df[name].value_counts(normalize=True), base=2),2) \n",
    "\n",
    "    return metadata\n",
    "    \n",
    "df_metadata(full_df)"
   ]
  },
  {
   "cell_type": "code",
   "execution_count": 32,
   "id": "95226a2b",
   "metadata": {},
   "outputs": [
    {
     "data": {
      "image/png": "[encoded data removed]",
      "text/plain": [
       "<Figure size 500x200 with 1 Axes>"
      ]
     },
     "metadata": {},
     "output_type": "display_data"
    }
   ],
   "source": [
    "ax = full_df['review_score'].value_counts().sort_index() \\\n",
    "    .plot(kind='bar',\n",
    "          title='Count of Reviews by Stars',\n",
    "          figsize=(5,2))"
   ]
  },
  {
   "cell_type": "code",
   "execution_count": 34,
   "id": "4357f9a4",
   "metadata": {},
   "outputs": [
    {
     "name": "stdout",
     "output_type": "stream",
     "text": [
      "aguardar retorno lojar\n"
     ]
    }
   ],
   "source": [
    "example = full_df['text_sentiment'].iloc[4]\n",
    "print(example)"
   ]
  },
  {
   "cell_type": "markdown",
   "id": "6fc88e89",
   "metadata": {},
   "source": [
    "# 7. Training Model"
   ]
  },
  {
   "cell_type": "markdown",
   "id": "1e6a1d1d",
   "metadata": {},
   "source": [
    "### 7.1. Separeting Dataframe Training and Dataframe Test After Training"
   ]
  },
  {
   "cell_type": "code",
   "execution_count": 36,
   "id": "700b93c7",
   "metadata": {},
   "outputs": [],
   "source": [
    "# Amostra os dados para df_train\n",
    "df_train = full_df.sample(frac=0.95, random_state=45, ignore_index=True)\n",
    "\n",
    "# Seleciona as linhas que não estão presentes em df_train para df_remaining\n",
    "df_remaining = full_df.loc[~full_df.index.isin(df_train.index)].reset_index(drop=True)"
   ]
  },
  {
   "cell_type": "markdown",
   "id": "407fc8cb",
   "metadata": {},
   "source": [
    "### 7.2. Classifier Review Score Negative with 0 (Review 1 or 2) and Positive with 1 (Review 3,4 or 5)"
   ]
  },
  {
   "cell_type": "code",
   "execution_count": 37,
   "id": "0e3a6350",
   "metadata": {},
   "outputs": [],
   "source": [
    "df_train['sentiment'] = df_train['review_score'].apply(lambda x: 0 if x in [1,2,3] else 1)"
   ]
  },
  {
   "cell_type": "code",
   "execution_count": 38,
   "id": "2f0beed3",
   "metadata": {},
   "outputs": [
    {
     "data": {
      "text/html": [
       "<div>\n",
       "<style scoped>\n",
       "    .dataframe tbody tr th:only-of-type {\n",
       "        vertical-align: middle;\n",
       "    }\n",
       "\n",
       "    .dataframe tbody tr th {\n",
       "        vertical-align: top;\n",
       "    }\n",
       "\n",
       "    .dataframe thead th {\n",
       "        text-align: right;\n",
       "    }\n",
       "</style>\n",
       "<table border=\"1\" class=\"dataframe\">\n",
       "  <thead>\n",
       "    <tr style=\"text-align: right;\">\n",
       "      <th></th>\n",
       "      <th>review_id</th>\n",
       "      <th>review_score</th>\n",
       "      <th>review_comment_title</th>\n",
       "      <th>review_comment_message</th>\n",
       "      <th>review_creation_date</th>\n",
       "      <th>review_answer_timestamp</th>\n",
       "      <th>product_id</th>\n",
       "      <th>geolocation_lat</th>\n",
       "      <th>geolocation_lng</th>\n",
       "      <th>text_sentiment</th>\n",
       "      <th>sentiment</th>\n",
       "    </tr>\n",
       "  </thead>\n",
       "  <tbody>\n",
       "    <tr>\n",
       "      <th>0</th>\n",
       "      <td>ca3199bb0d98c494fd25dbf79e50e661</td>\n",
       "      <td>5</td>\n",
       "      <td></td>\n",
       "      <td>Uahlll! Recebi minha compra 30 dias antes do p...</td>\n",
       "      <td>2017-01-17</td>\n",
       "      <td>2017-01-17 12:50:12</td>\n",
       "      <td>7ead55b1f52de17d6dac82001470b2a2</td>\n",
       "      <td>-25.511232</td>\n",
       "      <td>-49.303111</td>\n",
       "      <td>recebi compra dia antes prazo definir adorar c...</td>\n",
       "      <td>1</td>\n",
       "    </tr>\n",
       "    <tr>\n",
       "      <th>1</th>\n",
       "      <td>65e1734b87fcf83d834e141e1deee410</td>\n",
       "      <td>5</td>\n",
       "      <td></td>\n",
       "      <td>Adorei o relógio e chegou rápido!</td>\n",
       "      <td>2017-12-30</td>\n",
       "      <td>2017-12-30 21:38:37</td>\n",
       "      <td>8317b177579dd27ff068b83205e2169b</td>\n",
       "      <td>-21.362358</td>\n",
       "      <td>-48.232976</td>\n",
       "      <td>adorei relogio chegar rapido</td>\n",
       "      <td>1</td>\n",
       "    </tr>\n",
       "    <tr>\n",
       "      <th>2</th>\n",
       "      <td>5c1ba09de5c746017d406bd2cfefeca3</td>\n",
       "      <td>3</td>\n",
       "      <td>nao entrega do produto</td>\n",
       "      <td>recebe apenas 01 peça do produto! estou precis...</td>\n",
       "      <td>2018-04-26</td>\n",
       "      <td>2018-04-26 13:36:47</td>\n",
       "      <td>25c38557cf793876c5abdd5931f922db</td>\n",
       "      <td>-22.760478</td>\n",
       "      <td>-47.412811</td>\n",
       "      <td>nao entregar produto receber apenas pecar prod...</td>\n",
       "      <td>0</td>\n",
       "    </tr>\n",
       "    <tr>\n",
       "      <th>3</th>\n",
       "      <td>a3d3d770c3574d9847e5ed349a1e142e</td>\n",
       "      <td>5</td>\n",
       "      <td>Ótimo</td>\n",
       "      <td>Muito bom</td>\n",
       "      <td>2018-05-08</td>\n",
       "      <td>2018-05-11 00:42:40</td>\n",
       "      <td>7bdc3ff2d6af39d08fb40546ba7b9766</td>\n",
       "      <td>-26.859080</td>\n",
       "      <td>-48.639536</td>\n",
       "      <td>otimo muito bom</td>\n",
       "      <td>1</td>\n",
       "    </tr>\n",
       "    <tr>\n",
       "      <th>4</th>\n",
       "      <td>2dc6a14196ad670861710b19f3d5df6f</td>\n",
       "      <td>1</td>\n",
       "      <td></td>\n",
       "      <td>Já passou 3 dias e o produto não foi entregue.</td>\n",
       "      <td>2017-06-30</td>\n",
       "      <td>2017-07-01 15:32:17</td>\n",
       "      <td>f811e4e8228504bcdd34f2fe9f502c92</td>\n",
       "      <td>-23.606632</td>\n",
       "      <td>-46.668066</td>\n",
       "      <td>passar dia produto nao entregar</td>\n",
       "      <td>0</td>\n",
       "    </tr>\n",
       "  </tbody>\n",
       "</table>\n",
       "</div>"
      ],
      "text/plain": [
       "                          review_id  review_score    review_comment_title  \\\n",
       "0  ca3199bb0d98c494fd25dbf79e50e661             5                           \n",
       "1  65e1734b87fcf83d834e141e1deee410             5                           \n",
       "2  5c1ba09de5c746017d406bd2cfefeca3             3  nao entrega do produto   \n",
       "3  a3d3d770c3574d9847e5ed349a1e142e             5                   Ótimo   \n",
       "4  2dc6a14196ad670861710b19f3d5df6f             1                           \n",
       "\n",
       "                              review_comment_message review_creation_date  \\\n",
       "0  Uahlll! Recebi minha compra 30 dias antes do p...           2017-01-17   \n",
       "1                  Adorei o relógio e chegou rápido!           2017-12-30   \n",
       "2  recebe apenas 01 peça do produto! estou precis...           2018-04-26   \n",
       "3                                         Muito bom            2018-05-08   \n",
       "4     Já passou 3 dias e o produto não foi entregue.           2017-06-30   \n",
       "\n",
       "  review_answer_timestamp                        product_id  geolocation_lat  \\\n",
       "0     2017-01-17 12:50:12  7ead55b1f52de17d6dac82001470b2a2       -25.511232   \n",
       "1     2017-12-30 21:38:37  8317b177579dd27ff068b83205e2169b       -21.362358   \n",
       "2     2018-04-26 13:36:47  25c38557cf793876c5abdd5931f922db       -22.760478   \n",
       "3     2018-05-11 00:42:40  7bdc3ff2d6af39d08fb40546ba7b9766       -26.859080   \n",
       "4     2017-07-01 15:32:17  f811e4e8228504bcdd34f2fe9f502c92       -23.606632   \n",
       "\n",
       "   geolocation_lng                                     text_sentiment  \\\n",
       "0       -49.303111  recebi compra dia antes prazo definir adorar c...   \n",
       "1       -48.232976                       adorei relogio chegar rapido   \n",
       "2       -47.412811  nao entregar produto receber apenas pecar prod...   \n",
       "3       -48.639536                                    otimo muito bom   \n",
       "4       -46.668066                    passar dia produto nao entregar   \n",
       "\n",
       "   sentiment  \n",
       "0          1  \n",
       "1          1  \n",
       "2          0  \n",
       "3          1  \n",
       "4          0  "
      ]
     },
     "execution_count": 38,
     "metadata": {},
     "output_type": "execute_result"
    }
   ],
   "source": [
    "df_train.head(5)"
   ]
  },
  {
   "cell_type": "markdown",
   "id": "f1b0029b",
   "metadata": {},
   "source": [
    "### 7.3. Selecting Columns Necessary for Training"
   ]
  },
  {
   "cell_type": "code",
   "execution_count": 39,
   "id": "d7258faf",
   "metadata": {},
   "outputs": [],
   "source": [
    "selected_columns = ['text_sentiment', 'sentiment']\n",
    "df_classification = df_train.loc[:, selected_columns]"
   ]
  },
  {
   "cell_type": "code",
   "execution_count": 40,
   "id": "82abb8ae",
   "metadata": {},
   "outputs": [
    {
     "data": {
      "text/html": [
       "<div>\n",
       "<style scoped>\n",
       "    .dataframe tbody tr th:only-of-type {\n",
       "        vertical-align: middle;\n",
       "    }\n",
       "\n",
       "    .dataframe tbody tr th {\n",
       "        vertical-align: top;\n",
       "    }\n",
       "\n",
       "    .dataframe thead th {\n",
       "        text-align: right;\n",
       "    }\n",
       "</style>\n",
       "<table border=\"1\" class=\"dataframe\">\n",
       "  <thead>\n",
       "    <tr style=\"text-align: right;\">\n",
       "      <th></th>\n",
       "      <th>text_sentiment</th>\n",
       "      <th>sentiment</th>\n",
       "    </tr>\n",
       "  </thead>\n",
       "  <tbody>\n",
       "    <tr>\n",
       "      <th>0</th>\n",
       "      <td>recebi compra dia antes prazo definir adorar c...</td>\n",
       "      <td>1</td>\n",
       "    </tr>\n",
       "    <tr>\n",
       "      <th>1</th>\n",
       "      <td>adorei relogio chegar rapido</td>\n",
       "      <td>1</td>\n",
       "    </tr>\n",
       "    <tr>\n",
       "      <th>2</th>\n",
       "      <td>nao entregar produto receber apenas pecar prod...</td>\n",
       "      <td>0</td>\n",
       "    </tr>\n",
       "    <tr>\n",
       "      <th>3</th>\n",
       "      <td>otimo muito bom</td>\n",
       "      <td>1</td>\n",
       "    </tr>\n",
       "    <tr>\n",
       "      <th>4</th>\n",
       "      <td>passar dia produto nao entregar</td>\n",
       "      <td>0</td>\n",
       "    </tr>\n",
       "  </tbody>\n",
       "</table>\n",
       "</div>"
      ],
      "text/plain": [
       "                                      text_sentiment  sentiment\n",
       "0  recebi compra dia antes prazo definir adorar c...          1\n",
       "1                       adorei relogio chegar rapido          1\n",
       "2  nao entregar produto receber apenas pecar prod...          0\n",
       "3                                    otimo muito bom          1\n",
       "4                    passar dia produto nao entregar          0"
      ]
     },
     "execution_count": 40,
     "metadata": {},
     "output_type": "execute_result"
    }
   ],
   "source": [
    "df_classification.head(5)"
   ]
  },
  {
   "cell_type": "markdown",
   "id": "fa3157e9",
   "metadata": {},
   "source": [
    "### 7.4. Divising Dataframe Between Train and Test"
   ]
  },
  {
   "cell_type": "code",
   "execution_count": 42,
   "id": "5245642e",
   "metadata": {},
   "outputs": [],
   "source": [
    "comment_train, comment_test, sentiment_train, sentiment_test = train_test_split(\n",
    "                                                                                df_classification['text_sentiment'],\n",
    "                                                                                df_classification['sentiment'], \n",
    "                                                                                test_size=0.2,\n",
    "                                                                                random_state=24)"
   ]
  },
  {
   "cell_type": "markdown",
   "id": "4ba0ba34",
   "metadata": {},
   "source": [
    "### 7.5. Inicializing Training IA"
   ]
  },
  {
   "cell_type": "code",
   "execution_count": 43,
   "id": "b2d64bf0",
   "metadata": {},
   "outputs": [],
   "source": [
    "vectorizer = TfidfVectorizer()"
   ]
  },
  {
   "cell_type": "code",
   "execution_count": 44,
   "id": "6f6b0ff8",
   "metadata": {},
   "outputs": [],
   "source": [
    "ctmTr = vectorizer.fit_transform(comment_train)\n",
    "comment_test_dtm = vectorizer.transform(comment_test)"
   ]
  },
  {
   "cell_type": "code",
   "execution_count": 45,
   "id": "12dcb7c8",
   "metadata": {},
   "outputs": [],
   "source": [
    "smote = SMOTE(random_state=42)\n",
    "ctmTr_resampled, sentiment_train_resampled = smote.fit_resample(ctmTr, sentiment_train)"
   ]
  },
  {
   "cell_type": "code",
   "execution_count": 46,
   "id": "77066c7b",
   "metadata": {},
   "outputs": [],
   "source": [
    "normalization = preprocessing.StandardScaler(with_mean=False)"
   ]
  },
  {
   "cell_type": "code",
   "execution_count": 47,
   "id": "6812ba38",
   "metadata": {},
   "outputs": [],
   "source": [
    "normalization.fit(ctmTr_resampled)\n",
    "X = normalization.transform(ctmTr_resampled)"
   ]
  },
  {
   "cell_type": "code",
   "execution_count": 50,
   "id": "d29e7083",
   "metadata": {},
   "outputs": [
    {
     "name": "stdout",
     "output_type": "stream",
     "text": [
      "Iteration 1, loss = 0.57432116\n",
      "Validation score: 0.863807\n",
      "Iteration 2, loss = 0.44478284\n",
      "Validation score: 0.871583\n",
      "Iteration 3, loss = 0.36647313\n",
      "Validation score: 0.871833\n",
      "Iteration 4, loss = 0.32302025\n",
      "Validation score: 0.879609\n",
      "Iteration 5, loss = 0.29099895\n",
      "Validation score: 0.884123\n",
      "Iteration 6, loss = 0.26689542\n",
      "Validation score: 0.881866\n",
      "Iteration 7, loss = 0.24715357\n",
      "Validation score: 0.881615\n",
      "Iteration 8, loss = 0.23241468\n",
      "Validation score: 0.884374\n",
      "Iteration 9, loss = 0.22159502\n",
      "Validation score: 0.889641\n",
      "Iteration 10, loss = 0.21017836\n",
      "Validation score: 0.886882\n",
      "Iteration 11, loss = 0.20186887\n",
      "Validation score: 0.886130\n",
      "Iteration 12, loss = 0.19515146\n",
      "Validation score: 0.885628\n",
      "Iteration 13, loss = 0.18789359\n",
      "Validation score: 0.886632\n",
      "Iteration 14, loss = 0.18244899\n",
      "Validation score: 0.884876\n",
      "Iteration 15, loss = 0.17967297\n",
      "Validation score: 0.884625\n",
      "Iteration 16, loss = 0.17504947\n",
      "Validation score: 0.884625\n",
      "Iteration 17, loss = 0.17184838\n",
      "Validation score: 0.884625\n",
      "Iteration 18, loss = 0.17000423\n",
      "Validation score: 0.885879\n",
      "Iteration 19, loss = 0.16719885\n",
      "Validation score: 0.884876\n",
      "Iteration 20, loss = 0.16592776\n",
      "Validation score: 0.884876\n",
      "Validation score did not improve more than tol=0.000100 for 10 consecutive epochs. Stopping.\n"
     ]
    }
   ],
   "source": [
    "analyze_sentiment = MLPClassifier(hidden_layer_sizes=(32,16,16,1),\n",
    "                                   activation='relu',\n",
    "                                   solver='adam',\n",
    "                                   learning_rate='constant',\n",
    "                                   max_iter=100,\n",
    "                                   early_stopping=True,\n",
    "                                   n_iter_no_change=10,\n",
    "                                   verbose=True)\n",
    "\n",
    "history = analyze_sentiment.fit(X, sentiment_train_resampled)"
   ]
  },
  {
   "cell_type": "markdown",
   "id": "42881914",
   "metadata": {},
   "source": [
    "# 8. Analyze Performance IA"
   ]
  },
  {
   "cell_type": "markdown",
   "id": "832c6532",
   "metadata": {},
   "source": [
    "### 8.1. Score"
   ]
  },
  {
   "cell_type": "code",
   "execution_count": 51,
   "id": "42919d7e",
   "metadata": {},
   "outputs": [
    {
     "data": {
      "text/plain": [
       "0.8625623523234445"
      ]
     },
     "execution_count": 51,
     "metadata": {},
     "output_type": "execute_result"
    }
   ],
   "source": [
    "X_test = normalization.transform(comment_test_dtm)\n",
    "analyze_sentiment.score(X_test,sentiment_test)"
   ]
  },
  {
   "cell_type": "markdown",
   "id": "fa15d6c3",
   "metadata": {},
   "source": [
    "### 8.2. Graph Loss and Score During Training"
   ]
  },
  {
   "cell_type": "code",
   "execution_count": 52,
   "id": "74af4e9c",
   "metadata": {},
   "outputs": [
    {
     "data": {
      "image/png": "[encoded data removed]",
      "text/plain": [
       "<Figure size 1000x500 with 2 Axes>"
      ]
     },
     "metadata": {},
     "output_type": "display_data"
    }
   ],
   "source": [
    "plt.figure(figsize=(10, 5))\n",
    "# Loss\n",
    "plt.subplot(1, 2, 1)\n",
    "plt.plot(history.loss_curve_)\n",
    "plt.title('Loss During Training')\n",
    "plt.xlabel('Epoch')\n",
    "plt.ylabel('Loss')\n",
    "# Accuracy\n",
    "plt.subplot(1, 2, 2)\n",
    "plt.plot(history.validation_scores_)\n",
    "plt.title('Score During Training')\n",
    "plt.xlabel('Epoch')\n",
    "plt.ylabel('Score')\n",
    "\n",
    "plt.tight_layout()\n",
    "plt.show()"
   ]
  },
  {
   "cell_type": "markdown",
   "id": "85afb958",
   "metadata": {},
   "source": [
    "### 8.3. Confusion Matrix"
   ]
  },
  {
   "cell_type": "code",
   "execution_count": 53,
   "id": "b9bc5757",
   "metadata": {},
   "outputs": [
    {
     "data": {
      "image/png": "[encoded data removed]",
      "text/plain": [
       "<Figure size 500x300 with 1 Axes>"
      ]
     },
     "metadata": {},
     "output_type": "display_data"
    }
   ],
   "source": [
    "predictions = analyze_sentiment.predict(X_test)\n",
    "conf_matrix = confusion_matrix(sentiment_test, predictions)\n",
    "plt.figure(figsize=(5, 3))\n",
    "sns.heatmap(conf_matrix, annot=True, fmt='d', cmap='Blues', cbar=False)\n",
    "plt.title('Matriz de Confusão')\n",
    "plt.xlabel('Predicted Label')\n",
    "plt.ylabel('True Label')\n",
    "plt.show()"
   ]
  },
  {
   "cell_type": "markdown",
   "id": "d1971816",
   "metadata": {},
   "source": [
    "### 8.4. Curve ROC"
   ]
  },
  {
   "cell_type": "code",
   "execution_count": 54,
   "id": "4929eab0",
   "metadata": {},
   "outputs": [
    {
     "data": {
      "image/png": "[encoded data removed]",
      "text/plain": [
       "<Figure size 800x600 with 1 Axes>"
      ]
     },
     "metadata": {},
     "output_type": "display_data"
    }
   ],
   "source": [
    "probas_pred = analyze_sentiment.predict_proba(X_test)[:, 1]\n",
    "\n",
    "fpr, tpr, thresholds = roc_curve(sentiment_test, probas_pred)\n",
    "\n",
    "roc_auc = auc(fpr, tpr)\n",
    "\n",
    "plt.figure(figsize=(8, 6))\n",
    "plt.plot(fpr, tpr, color='blue', lw=2, label='ROC curve (AUC = %0.2f)' % roc_auc)\n",
    "plt.plot([0, 1], [0, 1], color='gray', linestyle='--')\n",
    "plt.xlim([0.0, 1.0])\n",
    "plt.ylim([0.0, 1.05])\n",
    "plt.xlabel('False Positive Rate')\n",
    "plt.ylabel('True Positive Rate')\n",
    "plt.title('Receiver Operating Characteristic (ROC) Curve')\n",
    "plt.legend(loc='lower right')\n",
    "plt.show()"
   ]
  },
  {
   "cell_type": "markdown",
   "id": "8f48ad2b",
   "metadata": {},
   "source": [
    "# 9. Test and Deploy IA"
   ]
  },
  {
   "cell_type": "code",
   "execution_count": 55,
   "id": "330b1658",
   "metadata": {},
   "outputs": [
    {
     "name": "stdout",
     "output_type": "stream",
     "text": [
      "                                                                                           review_comment_message  \\\n",
      "0                                                                                         entrega antes do prazo    \n",
      "1      Satisfeito 100%; recebi bem antes do prazo estimado; só falta testá-lo (não acompanha o cartucho de tinta)   \n",
      "2                                                               Gostei do que comprei e ficou muito legal na moto   \n",
      "3                                                                                                 Bom atendimento   \n",
      "4                                              indico produto de alta qualidade, recebi antes do prazo combinado.   \n",
      "...                                                                                                           ...   \n",
      "39995                               Otimo comprar por este site as mercadorias chegam antes do prazo determinado.   \n",
      "39996                     Ele não é um mini cajon, é um shaker, ou seja, um chocalho que imita o cajon. Péssimo.    \n",
      "39997                                                                So uma peça que veio rachado mas tudo bem rs   \n",
      "39998                                                                                Foi entregue antes do prazo.   \n",
      "39999                                                       Foi entregue somente 1. Quero saber do outro produto.   \n",
      "\n",
      "       review_score sentimento_predito  \n",
      "0                 5           positivo  \n",
      "1                 5           positivo  \n",
      "2                 4           negativo  \n",
      "3                 5           positivo  \n",
      "4                 5           positivo  \n",
      "...             ...                ...  \n",
      "39995             5           positivo  \n",
      "39996             1           negativo  \n",
      "39997             4           positivo  \n",
      "39998             5           positivo  \n",
      "39999             2           negativo  \n",
      "\n",
      "[40000 rows x 3 columns]\n"
     ]
    }
   ],
   "source": [
    "# Ajustar configurações para mostrar o texto completo\n",
    "pd.set_option('display.max_colwidth', None)\n",
    "\n",
    "texto_teste_vetorizado = vectorizer.transform(df_remaining['review_comment_message'])\n",
    "texto_teste_normalizado = normalization.transform(texto_teste_vetorizado)\n",
    "sentimento_predito = analyze_sentiment.predict(texto_teste_normalizado)\n",
    "\n",
    "df_remaining['sentimento_predito'] = sentimento_predito\n",
    "\n",
    "df_remaining['sentimento_predito'] = df_remaining['sentimento_predito'].replace({0: 'negativo', 1: 'positivo'})\n",
    "\n",
    "print(df_remaining[['review_comment_message', 'review_score', 'sentimento_predito']])\n",
    "\n",
    "df_remaining[['review_id','review_comment_message', 'review_score', 'sentimento_predito']].to_csv('dados_processados.csv', index=False)\n"
   ]
  },
  {
   "cell_type": "code",
   "execution_count": 77,
   "id": "d0564c54",
   "metadata": {},
   "outputs": [
    {
     "ename": "KeyError",
     "evalue": "'sentimento_predito'",
     "output_type": "error",
     "traceback": [
      "\u001b[1;31m---------------------------------------------------------------------------\u001b[0m",
      "\u001b[1;31mKeyError\u001b[0m                                  Traceback (most recent call last)",
      "File \u001b[1;32mc:\\Users\\Victor\\AppData\\Local\\Programs\\Python\\Python312\\Lib\\site-packages\\pandas\\core\\indexes\\base.py:3805\u001b[0m, in \u001b[0;36mIndex.get_loc\u001b[1;34m(self, key)\u001b[0m\n\u001b[0;32m   3804\u001b[0m \u001b[38;5;28;01mtry\u001b[39;00m:\n\u001b[1;32m-> 3805\u001b[0m     \u001b[38;5;28;01mreturn\u001b[39;00m \u001b[38;5;28;43mself\u001b[39;49m\u001b[38;5;241;43m.\u001b[39;49m\u001b[43m_engine\u001b[49m\u001b[38;5;241;43m.\u001b[39;49m\u001b[43mget_loc\u001b[49m\u001b[43m(\u001b[49m\u001b[43mcasted_key\u001b[49m\u001b[43m)\u001b[49m\n\u001b[0;32m   3806\u001b[0m \u001b[38;5;28;01mexcept\u001b[39;00m \u001b[38;5;167;01mKeyError\u001b[39;00m \u001b[38;5;28;01mas\u001b[39;00m err:\n",
      "File \u001b[1;32mindex.pyx:167\u001b[0m, in \u001b[0;36mpandas._libs.index.IndexEngine.get_loc\u001b[1;34m()\u001b[0m\n",
      "File \u001b[1;32mindex.pyx:196\u001b[0m, in \u001b[0;36mpandas._libs.index.IndexEngine.get_loc\u001b[1;34m()\u001b[0m\n",
      "File \u001b[1;32mpandas\\\\_libs\\\\hashtable_class_helper.pxi:7081\u001b[0m, in \u001b[0;36mpandas._libs.hashtable.PyObjectHashTable.get_item\u001b[1;34m()\u001b[0m\n",
      "File \u001b[1;32mpandas\\\\_libs\\\\hashtable_class_helper.pxi:7089\u001b[0m, in \u001b[0;36mpandas._libs.hashtable.PyObjectHashTable.get_item\u001b[1;34m()\u001b[0m\n",
      "\u001b[1;31mKeyError\u001b[0m: 'sentimento_predito'",
      "\nThe above exception was the direct cause of the following exception:\n",
      "\u001b[1;31mKeyError\u001b[0m                                  Traceback (most recent call last)",
      "Cell \u001b[1;32mIn[77], line 4\u001b[0m\n\u001b[0;32m      1\u001b[0m \u001b[38;5;28;01mfrom\u001b[39;00m \u001b[38;5;21;01mcollections\u001b[39;00m \u001b[38;5;28;01mimport\u001b[39;00m Counter\n\u001b[0;32m      3\u001b[0m \u001b[38;5;66;03m# Filtrar mensagens positivas e negativas\u001b[39;00m\n\u001b[1;32m----> 4\u001b[0m mensagens_positivas \u001b[38;5;241m=\u001b[39m df_remaining[\u001b[43mdf_remaining\u001b[49m\u001b[43m[\u001b[49m\u001b[38;5;124;43m'\u001b[39;49m\u001b[38;5;124;43msentimento_predito\u001b[39;49m\u001b[38;5;124;43m'\u001b[39;49m\u001b[43m]\u001b[49m \u001b[38;5;241m==\u001b[39m \u001b[38;5;124m'\u001b[39m\u001b[38;5;124mpositivo\u001b[39m\u001b[38;5;124m'\u001b[39m][\u001b[38;5;124m'\u001b[39m\u001b[38;5;124mreview_comment_message\u001b[39m\u001b[38;5;124m'\u001b[39m]\n\u001b[0;32m      5\u001b[0m mensagens_negativas \u001b[38;5;241m=\u001b[39m df_remaining[df_remaining[\u001b[38;5;124m'\u001b[39m\u001b[38;5;124msentimento_predito\u001b[39m\u001b[38;5;124m'\u001b[39m] \u001b[38;5;241m==\u001b[39m \u001b[38;5;124m'\u001b[39m\u001b[38;5;124mnegativo\u001b[39m\u001b[38;5;124m'\u001b[39m][\u001b[38;5;124m'\u001b[39m\u001b[38;5;124mreview_comment_message\u001b[39m\u001b[38;5;124m'\u001b[39m]\n\u001b[0;32m      7\u001b[0m \u001b[38;5;66;03m# Função para contar palavras mais comuns\u001b[39;00m\n",
      "File \u001b[1;32mc:\\Users\\Victor\\AppData\\Local\\Programs\\Python\\Python312\\Lib\\site-packages\\pandas\\core\\frame.py:4090\u001b[0m, in \u001b[0;36mDataFrame.__getitem__\u001b[1;34m(self, key)\u001b[0m\n\u001b[0;32m   4088\u001b[0m \u001b[38;5;28;01mif\u001b[39;00m \u001b[38;5;28mself\u001b[39m\u001b[38;5;241m.\u001b[39mcolumns\u001b[38;5;241m.\u001b[39mnlevels \u001b[38;5;241m>\u001b[39m \u001b[38;5;241m1\u001b[39m:\n\u001b[0;32m   4089\u001b[0m     \u001b[38;5;28;01mreturn\u001b[39;00m \u001b[38;5;28mself\u001b[39m\u001b[38;5;241m.\u001b[39m_getitem_multilevel(key)\n\u001b[1;32m-> 4090\u001b[0m indexer \u001b[38;5;241m=\u001b[39m \u001b[38;5;28;43mself\u001b[39;49m\u001b[38;5;241;43m.\u001b[39;49m\u001b[43mcolumns\u001b[49m\u001b[38;5;241;43m.\u001b[39;49m\u001b[43mget_loc\u001b[49m\u001b[43m(\u001b[49m\u001b[43mkey\u001b[49m\u001b[43m)\u001b[49m\n\u001b[0;32m   4091\u001b[0m \u001b[38;5;28;01mif\u001b[39;00m is_integer(indexer):\n\u001b[0;32m   4092\u001b[0m     indexer \u001b[38;5;241m=\u001b[39m [indexer]\n",
      "File \u001b[1;32mc:\\Users\\Victor\\AppData\\Local\\Programs\\Python\\Python312\\Lib\\site-packages\\pandas\\core\\indexes\\base.py:3812\u001b[0m, in \u001b[0;36mIndex.get_loc\u001b[1;34m(self, key)\u001b[0m\n\u001b[0;32m   3807\u001b[0m     \u001b[38;5;28;01mif\u001b[39;00m \u001b[38;5;28misinstance\u001b[39m(casted_key, \u001b[38;5;28mslice\u001b[39m) \u001b[38;5;129;01mor\u001b[39;00m (\n\u001b[0;32m   3808\u001b[0m         \u001b[38;5;28misinstance\u001b[39m(casted_key, abc\u001b[38;5;241m.\u001b[39mIterable)\n\u001b[0;32m   3809\u001b[0m         \u001b[38;5;129;01mand\u001b[39;00m \u001b[38;5;28many\u001b[39m(\u001b[38;5;28misinstance\u001b[39m(x, \u001b[38;5;28mslice\u001b[39m) \u001b[38;5;28;01mfor\u001b[39;00m x \u001b[38;5;129;01min\u001b[39;00m casted_key)\n\u001b[0;32m   3810\u001b[0m     ):\n\u001b[0;32m   3811\u001b[0m         \u001b[38;5;28;01mraise\u001b[39;00m InvalidIndexError(key)\n\u001b[1;32m-> 3812\u001b[0m     \u001b[38;5;28;01mraise\u001b[39;00m \u001b[38;5;167;01mKeyError\u001b[39;00m(key) \u001b[38;5;28;01mfrom\u001b[39;00m \u001b[38;5;21;01merr\u001b[39;00m\n\u001b[0;32m   3813\u001b[0m \u001b[38;5;28;01mexcept\u001b[39;00m \u001b[38;5;167;01mTypeError\u001b[39;00m:\n\u001b[0;32m   3814\u001b[0m     \u001b[38;5;66;03m# If we have a listlike key, _check_indexing_error will raise\u001b[39;00m\n\u001b[0;32m   3815\u001b[0m     \u001b[38;5;66;03m#  InvalidIndexError. Otherwise we fall through and re-raise\u001b[39;00m\n\u001b[0;32m   3816\u001b[0m     \u001b[38;5;66;03m#  the TypeError.\u001b[39;00m\n\u001b[0;32m   3817\u001b[0m     \u001b[38;5;28mself\u001b[39m\u001b[38;5;241m.\u001b[39m_check_indexing_error(key)\n",
      "\u001b[1;31mKeyError\u001b[0m: 'sentimento_predito'"
     ]
    }
   ],
   "source": [
    "from collections import Counter\n",
    "\n",
    "# Filtrar mensagens positivas e negativas\n",
    "mensagens_positivas = df_remaining[df_remaining['sentimento_predito'] == 'positivo']['review_comment_message']\n",
    "mensagens_negativas = df_remaining[df_remaining['sentimento_predito'] == 'negativo']['review_comment_message']\n",
    "\n",
    "# Função para contar palavras mais comuns\n",
    "def contar_palavras(mensagens):\n",
    "    todas_mensagens = ' '.join(mensagens)\n",
    "    palavras = todas_mensagens.split()\n",
    "    contagem_palavras = Counter(palavras)\n",
    "    return contagem_palavras.most_common(10)\n",
    "\n",
    "# Contar palavras mais comuns para mensagens positivas\n",
    "print(\"Palavras mais comuns em mensagens positivas:\")\n",
    "print(contar_palavras(mensagens_positivas))\n",
    "\n",
    "# Contar palavras mais comuns para mensagens negativas\n",
    "print(\"\\nPalavras mais comuns em mensagens negativas:\")\n",
    "print(contar_palavras(mensagens_negativas))"
   ]
  },
  {
   "cell_type": "markdown",
   "id": "6d321a08",
   "metadata": {},
   "source": [
    "## division"
   ]
  },
  {
   "cell_type": "code",
   "execution_count": null,
   "id": "2d955c0c",
   "metadata": {},
   "outputs": [],
   "source": [
    "# Definir os hiperparâmetros a serem testados\n",
    "param_grid = {\n",
    "    'hidden_layer_sizes': [(50,50,50), (50,100,50), (100,)],\n",
    "    'activation': ['tanh', 'relu'],\n",
    "    'solver': ['sgd', 'adam'],\n",
    "    'alpha': [0.0001, 0.05],\n",
    "    'learning_rate': ['constant','adaptive'],\n",
    "}\n",
    "\n",
    "# Criar o modelo MLPClassifier\n",
    "mlp = MLPClassifier(max_iter=100)\n",
    "\n",
    "# Criar o objeto GridSearchCV\n",
    "grid_search = GridSearchCV(mlp, param_grid, cv=5, n_jobs=-1, verbose=2)\n",
    "\n",
    "# Treinar o modelo usando a pesquisa em grade\n",
    "grid_search.fit(X, sentiment_train)\n",
    "\n",
    "# Melhores parâmetros encontrados\n",
    "print(\"Melhores parâmetros encontrados:\")\n",
    "print(grid_search.best_params_)\n",
    "\n",
    "# Avaliar o desempenho do modelo\n",
    "print(\"Acurácia da melhor configuração no conjunto de validação:\")\n",
    "print(grid_search.best_score_)"
   ]
  }
 ],
 "metadata": {
  "kernelspec": {
   "display_name": "Python 3 (ipykernel)",
   "language": "python",
   "name": "python3"
  },
  "language_info": {
   "codemirror_mode": {
    "name": "ipython",
    "version": 3
   },
   "file_extension": ".py",
   "mimetype": "text/x-python",
   "name": "python",
   "nbconvert_exporter": "python",
   "pygments_lexer": "ipython3",
   "version": "3.12.1"
  }
 },
 "nbformat": 4,
 "nbformat_minor": 5
}
