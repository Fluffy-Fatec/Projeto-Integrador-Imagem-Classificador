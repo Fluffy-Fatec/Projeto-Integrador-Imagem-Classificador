{
 "cells": [
  {
   "cell_type": "markdown",
   "id": "591dbab2-225e-42c5-8bb2-fcd2ed2d04da",
   "metadata": {
    "collapsed": true,
    "jupyter": {
     "outputs_hidden": true
    },
    "tags": []
   },
   "source": [
    "# 1. Install PIP's"
   ]
  },
  {
   "cell_type": "code",
   "execution_count": 1,
   "id": "91a43646-fea1-4d18-99ec-3f9ddd100e88",
   "metadata": {
    "scrolled": true,
    "tags": []
   },
   "outputs": [
    {
     "name": "stdout",
     "output_type": "stream",
     "text": [
      "Requirement already satisfied: unidecode in c:\\users\\victor\\appdata\\local\\programs\\python\\python312\\lib\\site-packages (1.3.8)\n",
      "Note: you may need to restart the kernel to use updated packages.\n",
      "Requirement already satisfied: spacy in c:\\users\\victor\\appdata\\local\\programs\\python\\python312\\lib\\site-packages (3.7.4)\n",
      "Requirement already satisfied: spacy-legacy<3.1.0,>=3.0.11 in c:\\users\\victor\\appdata\\local\\programs\\python\\python312\\lib\\site-packages (from spacy) (3.0.12)\n",
      "Requirement already satisfied: spacy-loggers<2.0.0,>=1.0.0 in c:\\users\\victor\\appdata\\local\\programs\\python\\python312\\lib\\site-packages (from spacy) (1.0.5)\n",
      "Requirement already satisfied: murmurhash<1.1.0,>=0.28.0 in c:\\users\\victor\\appdata\\local\\programs\\python\\python312\\lib\\site-packages (from spacy) (1.0.10)\n",
      "Requirement already satisfied: cymem<2.1.0,>=2.0.2 in c:\\users\\victor\\appdata\\local\\programs\\python\\python312\\lib\\site-packages (from spacy) (2.0.8)\n",
      "Requirement already satisfied: preshed<3.1.0,>=3.0.2 in c:\\users\\victor\\appdata\\local\\programs\\python\\python312\\lib\\site-packages (from spacy) (3.0.9)\n",
      "Requirement already satisfied: thinc<8.3.0,>=8.2.2 in c:\\users\\victor\\appdata\\local\\programs\\python\\python312\\lib\\site-packages (from spacy) (8.2.3)\n",
      "Requirement already satisfied: wasabi<1.2.0,>=0.9.1 in c:\\users\\victor\\appdata\\local\\programs\\python\\python312\\lib\\site-packages (from spacy) (1.1.2)\n",
      "Requirement already satisfied: srsly<3.0.0,>=2.4.3 in c:\\users\\victor\\appdata\\local\\programs\\python\\python312\\lib\\site-packages (from spacy) (2.4.8)\n",
      "Requirement already satisfied: catalogue<2.1.0,>=2.0.6 in c:\\users\\victor\\appdata\\local\\programs\\python\\python312\\lib\\site-packages (from spacy) (2.0.10)\n",
      "Requirement already satisfied: weasel<0.4.0,>=0.1.0 in c:\\users\\victor\\appdata\\local\\programs\\python\\python312\\lib\\site-packages (from spacy) (0.3.4)\n",
      "Requirement already satisfied: typer<0.10.0,>=0.3.0 in c:\\users\\victor\\appdata\\local\\programs\\python\\python312\\lib\\site-packages (from spacy) (0.9.4)\n",
      "Requirement already satisfied: smart-open<7.0.0,>=5.2.1 in c:\\users\\victor\\appdata\\local\\programs\\python\\python312\\lib\\site-packages (from spacy) (6.4.0)\n",
      "Requirement already satisfied: tqdm<5.0.0,>=4.38.0 in c:\\users\\victor\\appdata\\local\\programs\\python\\python312\\lib\\site-packages (from spacy) (4.66.2)\n",
      "Requirement already satisfied: requests<3.0.0,>=2.13.0 in c:\\users\\victor\\appdata\\local\\programs\\python\\python312\\lib\\site-packages (from spacy) (2.31.0)\n",
      "Requirement already satisfied: pydantic!=1.8,!=1.8.1,<3.0.0,>=1.7.4 in c:\\users\\victor\\appdata\\local\\programs\\python\\python312\\lib\\site-packages (from spacy) (2.6.4)\n",
      "Requirement already satisfied: jinja2 in c:\\users\\victor\\appdata\\local\\programs\\python\\python312\\lib\\site-packages (from spacy) (3.1.3)\n",
      "Requirement already satisfied: setuptools in c:\\users\\victor\\appdata\\local\\programs\\python\\python312\\lib\\site-packages (from spacy) (69.2.0)\n",
      "Requirement already satisfied: packaging>=20.0 in c:\\users\\victor\\appdata\\local\\programs\\python\\python312\\lib\\site-packages (from spacy) (24.0)\n",
      "Requirement already satisfied: langcodes<4.0.0,>=3.2.0 in c:\\users\\victor\\appdata\\local\\programs\\python\\python312\\lib\\site-packages (from spacy) (3.3.0)\n",
      "Requirement already satisfied: numpy>=1.19.0 in c:\\users\\victor\\appdata\\local\\programs\\python\\python312\\lib\\site-packages (from spacy) (1.26.2)\n",
      "Requirement already satisfied: annotated-types>=0.4.0 in c:\\users\\victor\\appdata\\local\\programs\\python\\python312\\lib\\site-packages (from pydantic!=1.8,!=1.8.1,<3.0.0,>=1.7.4->spacy) (0.6.0)\n",
      "Requirement already satisfied: pydantic-core==2.16.3 in c:\\users\\victor\\appdata\\local\\programs\\python\\python312\\lib\\site-packages (from pydantic!=1.8,!=1.8.1,<3.0.0,>=1.7.4->spacy) (2.16.3)\n",
      "Requirement already satisfied: typing-extensions>=4.6.1 in c:\\users\\victor\\appdata\\local\\programs\\python\\python312\\lib\\site-packages (from pydantic!=1.8,!=1.8.1,<3.0.0,>=1.7.4->spacy) (4.10.0)\n",
      "Requirement already satisfied: charset-normalizer<4,>=2 in c:\\users\\victor\\appdata\\local\\programs\\python\\python312\\lib\\site-packages (from requests<3.0.0,>=2.13.0->spacy) (3.3.2)\n",
      "Requirement already satisfied: idna<4,>=2.5 in c:\\users\\victor\\appdata\\local\\programs\\python\\python312\\lib\\site-packages (from requests<3.0.0,>=2.13.0->spacy) (2.10)\n",
      "Requirement already satisfied: urllib3<3,>=1.21.1 in c:\\users\\victor\\appdata\\local\\programs\\python\\python312\\lib\\site-packages (from requests<3.0.0,>=2.13.0->spacy) (2.2.1)\n",
      "Requirement already satisfied: certifi>=2017.4.17 in c:\\users\\victor\\appdata\\local\\programs\\python\\python312\\lib\\site-packages (from requests<3.0.0,>=2.13.0->spacy) (2024.2.2)\n",
      "Requirement already satisfied: blis<0.8.0,>=0.7.8 in c:\\users\\victor\\appdata\\local\\programs\\python\\python312\\lib\\site-packages (from thinc<8.3.0,>=8.2.2->spacy) (0.7.11)\n",
      "Requirement already satisfied: confection<1.0.0,>=0.0.1 in c:\\users\\victor\\appdata\\local\\programs\\python\\python312\\lib\\site-packages (from thinc<8.3.0,>=8.2.2->spacy) (0.1.4)\n",
      "Requirement already satisfied: colorama in c:\\users\\victor\\appdata\\local\\programs\\python\\python312\\lib\\site-packages (from tqdm<5.0.0,>=4.38.0->spacy) (0.4.6)\n",
      "Requirement already satisfied: click<9.0.0,>=7.1.1 in c:\\users\\victor\\appdata\\local\\programs\\python\\python312\\lib\\site-packages (from typer<0.10.0,>=0.3.0->spacy) (8.1.7)\n",
      "Requirement already satisfied: cloudpathlib<0.17.0,>=0.7.0 in c:\\users\\victor\\appdata\\local\\programs\\python\\python312\\lib\\site-packages (from weasel<0.4.0,>=0.1.0->spacy) (0.16.0)\n",
      "Requirement already satisfied: MarkupSafe>=2.0 in c:\\users\\victor\\appdata\\local\\programs\\python\\python312\\lib\\site-packages (from jinja2->spacy) (2.1.5)\n",
      "Note: you may need to restart the kernel to use updated packages.\n",
      "Requirement already satisfied: seaborn in c:\\users\\victor\\appdata\\local\\programs\\python\\python312\\lib\\site-packages (0.13.2)Note: you may need to restart the kernel to use updated packages.\n",
      "\n",
      "Requirement already satisfied: numpy!=1.24.0,>=1.20 in c:\\users\\victor\\appdata\\local\\programs\\python\\python312\\lib\\site-packages (from seaborn) (1.26.2)\n",
      "Requirement already satisfied: pandas>=1.2 in c:\\users\\victor\\appdata\\local\\programs\\python\\python312\\lib\\site-packages (from seaborn) (2.2.1)\n",
      "Requirement already satisfied: matplotlib!=3.6.1,>=3.4 in c:\\users\\victor\\appdata\\local\\programs\\python\\python312\\lib\\site-packages (from seaborn) (3.8.3)\n",
      "Requirement already satisfied: contourpy>=1.0.1 in c:\\users\\victor\\appdata\\local\\programs\\python\\python312\\lib\\site-packages (from matplotlib!=3.6.1,>=3.4->seaborn) (1.2.0)\n",
      "Requirement already satisfied: cycler>=0.10 in c:\\users\\victor\\appdata\\local\\programs\\python\\python312\\lib\\site-packages (from matplotlib!=3.6.1,>=3.4->seaborn) (0.12.1)\n",
      "Requirement already satisfied: fonttools>=4.22.0 in c:\\users\\victor\\appdata\\local\\programs\\python\\python312\\lib\\site-packages (from matplotlib!=3.6.1,>=3.4->seaborn) (4.50.0)\n",
      "Requirement already satisfied: kiwisolver>=1.3.1 in c:\\users\\victor\\appdata\\local\\programs\\python\\python312\\lib\\site-packages (from matplotlib!=3.6.1,>=3.4->seaborn) (1.4.5)\n",
      "Requirement already satisfied: packaging>=20.0 in c:\\users\\victor\\appdata\\local\\programs\\python\\python312\\lib\\site-packages (from matplotlib!=3.6.1,>=3.4->seaborn) (24.0)\n",
      "Requirement already satisfied: pillow>=8 in c:\\users\\victor\\appdata\\local\\programs\\python\\python312\\lib\\site-packages (from matplotlib!=3.6.1,>=3.4->seaborn) (10.2.0)\n",
      "Requirement already satisfied: pyparsing>=2.3.1 in c:\\users\\victor\\appdata\\local\\programs\\python\\python312\\lib\\site-packages (from matplotlib!=3.6.1,>=3.4->seaborn) (3.1.2)\n",
      "Requirement already satisfied: python-dateutil>=2.7 in c:\\users\\victor\\appdata\\local\\programs\\python\\python312\\lib\\site-packages (from matplotlib!=3.6.1,>=3.4->seaborn) (2.9.0.post0)\n",
      "Requirement already satisfied: pytz>=2020.1 in c:\\users\\victor\\appdata\\local\\programs\\python\\python312\\lib\\site-packages (from pandas>=1.2->seaborn) (2024.1)\n",
      "Requirement already satisfied: tzdata>=2022.7 in c:\\users\\victor\\appdata\\local\\programs\\python\\python312\\lib\\site-packages (from pandas>=1.2->seaborn) (2024.1)\n",
      "Requirement already satisfied: six>=1.5 in c:\\users\\victor\\appdata\\local\\programs\\python\\python312\\lib\\site-packages (from python-dateutil>=2.7->matplotlib!=3.6.1,>=3.4->seaborn) (1.16.0)\n",
      "Requirement already satisfied: nltk in c:\\users\\victor\\appdata\\local\\programs\\python\\python312\\lib\\site-packages (3.8.1)\n",
      "Requirement already satisfied: click in c:\\users\\victor\\appdata\\local\\programs\\python\\python312\\lib\\site-packages (from nltk) (8.1.7)\n",
      "Requirement already satisfied: joblib in c:\\users\\victor\\appdata\\local\\programs\\python\\python312\\lib\\site-packages (from nltk) (1.3.2)\n",
      "Requirement already satisfied: regex>=2021.8.3 in c:\\users\\victor\\appdata\\local\\programs\\python\\python312\\lib\\site-packages (from nltk) (2023.12.25)\n",
      "Requirement already satisfied: tqdm in c:\\users\\victor\\appdata\\local\\programs\\python\\python312\\lib\\site-packages (from nltk) (4.66.2)\n",
      "Requirement already satisfied: colorama in c:\\users\\victor\\appdata\\local\\programs\\python\\python312\\lib\\site-packages (from click->nltk) (0.4.6)\n",
      "Note: you may need to restart the kernel to use updated packages.\n",
      "Requirement already satisfied: stats in c:\\users\\victor\\appdata\\local\\programs\\python\\python312\\lib\\site-packages (0.1.2a0)\n",
      "Note: you may need to restart the kernel to use updated packages.\n",
      "Requirement already satisfied: xgboost in c:\\users\\victor\\appdata\\local\\programs\\python\\python312\\lib\\site-packages (2.0.3)\n",
      "Requirement already satisfied: numpy in c:\\users\\victor\\appdata\\local\\programs\\python\\python312\\lib\\site-packages (from xgboost) (1.26.2)\n",
      "Requirement already satisfied: scipy in c:\\users\\victor\\appdata\\local\\programs\\python\\python312\\lib\\site-packages (from xgboost) (1.12.0)\n",
      "Note: you may need to restart the kernel to use updated packages.\n",
      "Requirement already satisfied: sweetviz in c:\\users\\victor\\appdata\\local\\programs\\python\\python312\\lib\\site-packages (2.3.1)\n",
      "Requirement already satisfied: pandas!=1.0.0,!=1.0.1,!=1.0.2,>=0.25.3 in c:\\users\\victor\\appdata\\local\\programs\\python\\python312\\lib\\site-packages (from sweetviz) (2.2.1)\n",
      "Requirement already satisfied: numpy>=1.16.0 in c:\\users\\victor\\appdata\\local\\programs\\python\\python312\\lib\\site-packages (from sweetviz) (1.26.2)\n",
      "Requirement already satisfied: matplotlib>=3.1.3 in c:\\users\\victor\\appdata\\local\\programs\\python\\python312\\lib\\site-packages (from sweetviz) (3.8.3)\n",
      "Requirement already satisfied: tqdm>=4.43.0 in c:\\users\\victor\\appdata\\local\\programs\\python\\python312\\lib\\site-packages (from sweetviz) (4.66.2)\n",
      "Requirement already satisfied: scipy>=1.3.2 in c:\\users\\victor\\appdata\\local\\programs\\python\\python312\\lib\\site-packages (from sweetviz) (1.12.0)\n",
      "Requirement already satisfied: jinja2>=2.11.1 in c:\\users\\victor\\appdata\\local\\programs\\python\\python312\\lib\\site-packages (from sweetviz) (3.1.3)\n",
      "Requirement already satisfied: importlib-resources>=1.2.0 in c:\\users\\victor\\appdata\\local\\programs\\python\\python312\\lib\\site-packages (from sweetviz) (6.4.0)\n",
      "Requirement already satisfied: MarkupSafe>=2.0 in c:\\users\\victor\\appdata\\local\\programs\\python\\python312\\lib\\site-packages (from jinja2>=2.11.1->sweetviz) (2.1.5)\n",
      "Requirement already satisfied: contourpy>=1.0.1 in c:\\users\\victor\\appdata\\local\\programs\\python\\python312\\lib\\site-packages (from matplotlib>=3.1.3->sweetviz) (1.2.0)\n",
      "Requirement already satisfied: cycler>=0.10 in c:\\users\\victor\\appdata\\local\\programs\\python\\python312\\lib\\site-packages (from matplotlib>=3.1.3->sweetviz) (0.12.1)\n",
      "Requirement already satisfied: fonttools>=4.22.0 in c:\\users\\victor\\appdata\\local\\programs\\python\\python312\\lib\\site-packages (from matplotlib>=3.1.3->sweetviz) (4.50.0)\n",
      "Requirement already satisfied: kiwisolver>=1.3.1 in c:\\users\\victor\\appdata\\local\\programs\\python\\python312\\lib\\site-packages (from matplotlib>=3.1.3->sweetviz) (1.4.5)\n",
      "Requirement already satisfied: packaging>=20.0 in c:\\users\\victor\\appdata\\local\\programs\\python\\python312\\lib\\site-packages (from matplotlib>=3.1.3->sweetviz) (24.0)\n",
      "Requirement already satisfied: pillow>=8 in c:\\users\\victor\\appdata\\local\\programs\\python\\python312\\lib\\site-packages (from matplotlib>=3.1.3->sweetviz) (10.2.0)\n",
      "Requirement already satisfied: pyparsing>=2.3.1 in c:\\users\\victor\\appdata\\local\\programs\\python\\python312\\lib\\site-packages (from matplotlib>=3.1.3->sweetviz) (3.1.2)\n",
      "Requirement already satisfied: python-dateutil>=2.7 in c:\\users\\victor\\appdata\\local\\programs\\python\\python312\\lib\\site-packages (from matplotlib>=3.1.3->sweetviz) (2.9.0.post0)\n",
      "Requirement already satisfied: pytz>=2020.1 in c:\\users\\victor\\appdata\\local\\programs\\python\\python312\\lib\\site-packages (from pandas!=1.0.0,!=1.0.1,!=1.0.2,>=0.25.3->sweetviz) (2024.1)\n",
      "Requirement already satisfied: tzdata>=2022.7 in c:\\users\\victor\\appdata\\local\\programs\\python\\python312\\lib\\site-packages (from pandas!=1.0.0,!=1.0.1,!=1.0.2,>=0.25.3->sweetviz) (2024.1)\n",
      "Requirement already satisfied: colorama in c:\\users\\victor\\appdata\\local\\programs\\python\\python312\\lib\\site-packages (from tqdm>=4.43.0->sweetviz) (0.4.6)\n",
      "Requirement already satisfied: six>=1.5 in c:\\users\\victor\\appdata\\local\\programs\\python\\python312\\lib\\site-packages (from python-dateutil>=2.7->matplotlib>=3.1.3->sweetviz) (1.16.0)\n",
      "Note: you may need to restart the kernel to use updated packages.\n",
      "Note: you may need to restart the kernel to use updated packages.\n"
     ]
    },
    {
     "name": "stderr",
     "output_type": "stream",
     "text": [
      "ERROR: Could not find a version that satisfies the requirement string (from versions: none)\n",
      "ERROR: No matching distribution found for string\n"
     ]
    },
    {
     "name": "stdout",
     "output_type": "stream",
     "text": [
      "Requirement already satisfied: imblearn in c:\\users\\victor\\appdata\\local\\programs\\python\\python312\\lib\\site-packages (0.0)\n",
      "Requirement already satisfied: imbalanced-learn in c:\\users\\victor\\appdata\\local\\programs\\python\\python312\\lib\\site-packages (from imblearn) (0.12.2)\n",
      "Requirement already satisfied: numpy>=1.17.3 in c:\\users\\victor\\appdata\\local\\programs\\python\\python312\\lib\\site-packages (from imbalanced-learn->imblearn) (1.26.2)\n",
      "Requirement already satisfied: scipy>=1.5.0 in c:\\users\\victor\\appdata\\local\\programs\\python\\python312\\lib\\site-packages (from imbalanced-learn->imblearn) (1.12.0)\n",
      "Requirement already satisfied: scikit-learn>=1.0.2 in c:\\users\\victor\\appdata\\local\\programs\\python\\python312\\lib\\site-packages (from imbalanced-learn->imblearn) (1.4.1.post1)\n",
      "Requirement already satisfied: joblib>=1.1.1 in c:\\users\\victor\\appdata\\local\\programs\\python\\python312\\lib\\site-packages (from imbalanced-learn->imblearn) (1.3.2)\n",
      "Requirement already satisfied: threadpoolctl>=2.0.0 in c:\\users\\victor\\appdata\\local\\programs\\python\\python312\\lib\\site-packages (from imbalanced-learn->imblearn) (3.4.0)\n",
      "Note: you may need to restart the kernel to use updated packages.\n"
     ]
    }
   ],
   "source": [
    "%pip install unidecode\n",
    "%pip install spacy\n",
    "%pip install seaborn\n",
    "%pip install nltk\n",
    "%pip install stats\n",
    "%pip install xgboost\n",
    "%pip install sweetviz\n",
    "%pip install string\n",
    "%pip install imblearn"
   ]
  },
  {
   "cell_type": "markdown",
   "id": "d1945518-f8c4-4f7d-ac9c-ef72d0869d09",
   "metadata": {},
   "source": [
    "# 2. Import Packages"
   ]
  },
  {
   "cell_type": "code",
   "execution_count": 2,
   "id": "3c23c32e-0bab-4fb9-a35f-b04f4f0b93a9",
   "metadata": {},
   "outputs": [],
   "source": [
    "import pandas as pd\n",
    "import numpy as np\n",
    "import os\n",
    "import seaborn as sns\n",
    "import spacy\n",
    "import string\n",
    "import regex as re\n",
    "from unidecode import unidecode\n",
    "from scipy import stats\n",
    "import matplotlib.pyplot as plt\n",
    "from sklearn.model_selection import train_test_split\n",
    "from sklearn.feature_extraction.text import CountVectorizer\n",
    "from sklearn.feature_extraction.text import TfidfVectorizer\n",
    "from sklearn.neural_network import MLPClassifier\n",
    "from sklearn.preprocessing import StandardScaler\n",
    "from sklearn.metrics import roc_curve, auc, confusion_matrix, accuracy_score\n",
    "from sklearn import preprocessing\n",
    "from sklearn.model_selection import GridSearchCV\n",
    "from imblearn.over_sampling import SMOTE"
   ]
  },
  {
   "cell_type": "markdown",
   "id": "bc1de613",
   "metadata": {},
   "source": [
    "# 3. Load Data"
   ]
  },
  {
   "cell_type": "code",
   "execution_count": 3,
   "id": "dbab8de1",
   "metadata": {},
   "outputs": [],
   "source": [
    "customers_df = pd.read_csv(\"olist_customers_dataset.csv\")\n",
    "geolocation_df = pd.read_csv(\"olist_geolocation_dataset.csv\")\n",
    "order_items_df = pd.read_csv(\"olist_order_items_dataset.csv\")\n",
    "order_payments_df = pd.read_csv(\"olist_order_payments_dataset.csv\")\n",
    "order_reviews_df = pd.read_csv(\"olist_order_reviews_dataset.csv\")\n",
    "orders_df = pd.read_csv(\"olist_orders_dataset.csv\")\n",
    "products_df = pd.read_csv(\"olist_products_dataset.csv\")\n",
    "sellers_df = pd.read_csv(\"olist_sellers_dataset.csv\")\n",
    "product_category_name_translation_df = pd.read_csv(\"product_category_name_translation.csv\")"
   ]
  },
  {
   "cell_type": "markdown",
   "id": "77b9ef76",
   "metadata": {},
   "source": [
    "# 4. Data Wreangling"
   ]
  },
  {
   "cell_type": "markdown",
   "id": "5b389da8",
   "metadata": {},
   "source": [
    "### 4.1. Merge Data"
   ]
  },
  {
   "cell_type": "code",
   "execution_count": 56,
   "id": "6702918d",
   "metadata": {},
   "outputs": [],
   "source": [
    "df = orders_df.merge(order_reviews_df, on='order_id')\\\n",
    "                   .merge(order_items_df, on='order_id')\\\n",
    "                   .merge(products_df, on='product_id')\\\n",
    "                   .merge(sellers_df, on='seller_id')\\\n",
    "                   .merge(geolocation_df, left_on='seller_zip_code_prefix', right_on='geolocation_zip_code_prefix')"
   ]
  },
  {
   "cell_type": "markdown",
   "id": "fb6e9aba",
   "metadata": {},
   "source": [
    "### 4.2. Selected Columns Important"
   ]
  },
  {
   "cell_type": "code",
   "execution_count": 57,
   "id": "f478eb3b",
   "metadata": {},
   "outputs": [],
   "source": [
    "selected_columns = ['review_id', 'review_score', 'review_comment_title', \n",
    "                    'review_comment_message', 'review_creation_date', \n",
    "                    'review_answer_timestamp', 'product_id', \n",
    "                    'geolocation_lat', 'geolocation_lng']\n",
    "\n",
    "full_df = df.loc[:, selected_columns]"
   ]
  },
  {
   "cell_type": "markdown",
   "id": "141337d4",
   "metadata": {},
   "source": [
    "### 4.3. Conversion Columns Data in datetime"
   ]
  },
  {
   "cell_type": "code",
   "execution_count": 58,
   "id": "8059dc98",
   "metadata": {},
   "outputs": [],
   "source": [
    "datetime_columns = ['review_creation_date', 'review_answer_timestamp']\n",
    "full_df[datetime_columns] = full_df[datetime_columns].apply(pd.to_datetime)"
   ]
  },
  {
   "cell_type": "code",
   "execution_count": 59,
   "id": "20bc082a",
   "metadata": {},
   "outputs": [],
   "source": [
    "full_df['review_comment_title'] = full_df['review_comment_title'].fillna('').astype(str)\n",
    "full_df['review_comment_message'] = full_df['review_comment_title'].str.cat(full_df['review_comment_message'], sep=' ')"
   ]
  },
  {
   "cell_type": "markdown",
   "id": "8668f077",
   "metadata": {},
   "source": [
    "### 4.5. Drop Duplicates and NA"
   ]
  },
  {
   "cell_type": "code",
   "execution_count": 60,
   "id": "219cd2e3",
   "metadata": {},
   "outputs": [],
   "source": [
    "full_df = full_df.drop_duplicates(subset=['review_id'])\n",
    "full_df['review_comment_message'] = full_df['review_comment_message'].str.strip()\n",
    "full_df = full_df.dropna(subset=['review_comment_message'])\n",
    "full_df = full_df.dropna(subset=['review_score'])"
   ]
  },
  {
   "cell_type": "code",
   "execution_count": 61,
   "id": "5c71b593",
   "metadata": {},
   "outputs": [
    {
     "data": {
      "text/html": [
       "<div>\n",
       "<style scoped>\n",
       "    .dataframe tbody tr th:only-of-type {\n",
       "        vertical-align: middle;\n",
       "    }\n",
       "\n",
       "    .dataframe tbody tr th {\n",
       "        vertical-align: top;\n",
       "    }\n",
       "\n",
       "    .dataframe thead th {\n",
       "        text-align: right;\n",
       "    }\n",
       "</style>\n",
       "<table border=\"1\" class=\"dataframe\">\n",
       "  <thead>\n",
       "    <tr style=\"text-align: right;\">\n",
       "      <th></th>\n",
       "      <th>review_id</th>\n",
       "      <th>review_score</th>\n",
       "      <th>review_comment_title</th>\n",
       "      <th>review_comment_message</th>\n",
       "      <th>review_creation_date</th>\n",
       "      <th>review_answer_timestamp</th>\n",
       "      <th>product_id</th>\n",
       "      <th>geolocation_lat</th>\n",
       "      <th>geolocation_lng</th>\n",
       "    </tr>\n",
       "  </thead>\n",
       "  <tbody>\n",
       "    <tr>\n",
       "      <th>0</th>\n",
       "      <td>a54f0611adc9ed256b57ede6b6eb5114</td>\n",
       "      <td>4</td>\n",
       "      <td></td>\n",
       "      <td>Não testei o produto ainda, mas ele veio correto e em boas condições. Apenas a caixa que veio bem amassada e danificada, o que ficará chato, pois se trata de um presente.</td>\n",
       "      <td>2017-10-11</td>\n",
       "      <td>2017-10-12 03:43:48</td>\n",
       "      <td>87285b34884572647811a353c7ac498a</td>\n",
       "      <td>-23.680114</td>\n",
       "      <td>-46.452454</td>\n",
       "    </tr>\n",
       "    <tr>\n",
       "      <th>207</th>\n",
       "      <td>8d5266042046a06655c8db133d120ba5</td>\n",
       "      <td>4</td>\n",
       "      <td>Muito boa a loja</td>\n",
       "      <td>Muito boa a loja Muito bom o produto.</td>\n",
       "      <td>2018-08-08</td>\n",
       "      <td>2018-08-08 18:37:50</td>\n",
       "      <td>595fac2a385ac33a80bd5114aec74eb8</td>\n",
       "      <td>-19.810119</td>\n",
       "      <td>-43.984727</td>\n",
       "    </tr>\n",
       "    <tr>\n",
       "      <th>448</th>\n",
       "      <td>359d03e676b3c069f62cadba8dd3f6e8</td>\n",
       "      <td>5</td>\n",
       "      <td></td>\n",
       "      <td>O produto foi exatamente o que eu esperava e estava descrito no site e chegou bem antes da data prevista.</td>\n",
       "      <td>2017-12-03</td>\n",
       "      <td>2017-12-05 19:21:58</td>\n",
       "      <td>d0b61bfb1de832b15ba9d266ca96e5b0</td>\n",
       "      <td>-19.840168</td>\n",
       "      <td>-43.923299</td>\n",
       "    </tr>\n",
       "    <tr>\n",
       "      <th>620</th>\n",
       "      <td>e07549ef5311abcc92ba1784b093fb56</td>\n",
       "      <td>2</td>\n",
       "      <td></td>\n",
       "      <td>fiquei triste por n ter me atendido.</td>\n",
       "      <td>2017-05-13</td>\n",
       "      <td>2017-05-13 20:25:42</td>\n",
       "      <td>a1804276d9941ac0733cfd409f5206eb</td>\n",
       "      <td>-23.536892</td>\n",
       "      <td>-46.713111</td>\n",
       "    </tr>\n",
       "    <tr>\n",
       "      <th>1468</th>\n",
       "      <td>15898b543726a832d4137fbef5d1d00e</td>\n",
       "      <td>1</td>\n",
       "      <td></td>\n",
       "      <td>Aguardando retorno da loja</td>\n",
       "      <td>2017-05-30</td>\n",
       "      <td>2017-05-30 23:13:47</td>\n",
       "      <td>08574b074924071f4e201e151b152b4e</td>\n",
       "      <td>-20.297537</td>\n",
       "      <td>-40.400869</td>\n",
       "    </tr>\n",
       "    <tr>\n",
       "      <th>...</th>\n",
       "      <td>...</td>\n",
       "      <td>...</td>\n",
       "      <td>...</td>\n",
       "      <td>...</td>\n",
       "      <td>...</td>\n",
       "      <td>...</td>\n",
       "      <td>...</td>\n",
       "      <td>...</td>\n",
       "      <td>...</td>\n",
       "    </tr>\n",
       "    <tr>\n",
       "      <th>16233547</th>\n",
       "      <td>ede62474f1618961be12678f362dca4a</td>\n",
       "      <td>5</td>\n",
       "      <td></td>\n",
       "      <td>Otimo comprar por este site as mercadorias chegam antes do prazo determinado.</td>\n",
       "      <td>2017-11-11</td>\n",
       "      <td>2017-11-15 09:54:14</td>\n",
       "      <td>595fac2a385ac33a80bd5114aec74eb8</td>\n",
       "      <td>-23.660332</td>\n",
       "      <td>-46.528203</td>\n",
       "    </tr>\n",
       "    <tr>\n",
       "      <th>16233702</th>\n",
       "      <td>8ea780895f362ce949029f95b7181ff0</td>\n",
       "      <td>1</td>\n",
       "      <td></td>\n",
       "      <td>Ele não é um mini cajon, é um shaker, ou seja, um chocalho que imita o cajon. Péssimo.</td>\n",
       "      <td>2018-01-19</td>\n",
       "      <td>2018-01-21 02:51:39</td>\n",
       "      <td>3d2c44374ee42b3003a470f3e937a2ea</td>\n",
       "      <td>-26.491731</td>\n",
       "      <td>-49.075623</td>\n",
       "    </tr>\n",
       "    <tr>\n",
       "      <th>16234495</th>\n",
       "      <td>29bb71b2760d0f876dfa178a76bc4734</td>\n",
       "      <td>4</td>\n",
       "      <td></td>\n",
       "      <td>So uma peça que veio rachado mas tudo bem rs</td>\n",
       "      <td>2018-03-01</td>\n",
       "      <td>2018-03-02 17:50:01</td>\n",
       "      <td>f1d4ce8c6dd66c47bbaa8c6781c2a923</td>\n",
       "      <td>-21.935321</td>\n",
       "      <td>-50.497562</td>\n",
       "    </tr>\n",
       "    <tr>\n",
       "      <th>16234587</th>\n",
       "      <td>371579771219f6db2d830d50805977bb</td>\n",
       "      <td>5</td>\n",
       "      <td></td>\n",
       "      <td>Foi entregue antes do prazo.</td>\n",
       "      <td>2017-09-22</td>\n",
       "      <td>2017-09-22 23:10:57</td>\n",
       "      <td>b80910977a37536adeddd63663f916ad</td>\n",
       "      <td>-23.551013</td>\n",
       "      <td>-46.448489</td>\n",
       "    </tr>\n",
       "    <tr>\n",
       "      <th>16234912</th>\n",
       "      <td>8ab6855b9fe9b812cd03a480a25058a1</td>\n",
       "      <td>2</td>\n",
       "      <td></td>\n",
       "      <td>Foi entregue somente 1. Quero saber do outro produto.</td>\n",
       "      <td>2018-01-26</td>\n",
       "      <td>2018-01-27 09:16:56</td>\n",
       "      <td>d1c427060a0f73f6b889a5c7c61f2ac4</td>\n",
       "      <td>-20.944706</td>\n",
       "      <td>-45.827098</td>\n",
       "    </tr>\n",
       "  </tbody>\n",
       "</table>\n",
       "<p>40095 rows × 9 columns</p>\n",
       "</div>"
      ],
      "text/plain": [
       "                                 review_id  review_score review_comment_title  \\\n",
       "0         a54f0611adc9ed256b57ede6b6eb5114             4                        \n",
       "207       8d5266042046a06655c8db133d120ba5             4     Muito boa a loja   \n",
       "448       359d03e676b3c069f62cadba8dd3f6e8             5                        \n",
       "620       e07549ef5311abcc92ba1784b093fb56             2                        \n",
       "1468      15898b543726a832d4137fbef5d1d00e             1                        \n",
       "...                                    ...           ...                  ...   \n",
       "16233547  ede62474f1618961be12678f362dca4a             5                        \n",
       "16233702  8ea780895f362ce949029f95b7181ff0             1                        \n",
       "16234495  29bb71b2760d0f876dfa178a76bc4734             4                        \n",
       "16234587  371579771219f6db2d830d50805977bb             5                        \n",
       "16234912  8ab6855b9fe9b812cd03a480a25058a1             2                        \n",
       "\n",
       "                                                                                                                                                              review_comment_message  \\\n",
       "0         Não testei o produto ainda, mas ele veio correto e em boas condições. Apenas a caixa que veio bem amassada e danificada, o que ficará chato, pois se trata de um presente.   \n",
       "207                                                                                                                                            Muito boa a loja Muito bom o produto.   \n",
       "448                                                                        O produto foi exatamente o que eu esperava e estava descrito no site e chegou bem antes da data prevista.   \n",
       "620                                                                                                                                             fiquei triste por n ter me atendido.   \n",
       "1468                                                                                                                                                      Aguardando retorno da loja   \n",
       "...                                                                                                                                                                              ...   \n",
       "16233547                                                                                               Otimo comprar por este site as mercadorias chegam antes do prazo determinado.   \n",
       "16233702                                                                                      Ele não é um mini cajon, é um shaker, ou seja, um chocalho que imita o cajon. Péssimo.   \n",
       "16234495                                                                                                                                So uma peça que veio rachado mas tudo bem rs   \n",
       "16234587                                                                                                                                                Foi entregue antes do prazo.   \n",
       "16234912                                                                                                                       Foi entregue somente 1. Quero saber do outro produto.   \n",
       "\n",
       "         review_creation_date review_answer_timestamp  \\\n",
       "0                  2017-10-11     2017-10-12 03:43:48   \n",
       "207                2018-08-08     2018-08-08 18:37:50   \n",
       "448                2017-12-03     2017-12-05 19:21:58   \n",
       "620                2017-05-13     2017-05-13 20:25:42   \n",
       "1468               2017-05-30     2017-05-30 23:13:47   \n",
       "...                       ...                     ...   \n",
       "16233547           2017-11-11     2017-11-15 09:54:14   \n",
       "16233702           2018-01-19     2018-01-21 02:51:39   \n",
       "16234495           2018-03-01     2018-03-02 17:50:01   \n",
       "16234587           2017-09-22     2017-09-22 23:10:57   \n",
       "16234912           2018-01-26     2018-01-27 09:16:56   \n",
       "\n",
       "                                product_id  geolocation_lat  geolocation_lng  \n",
       "0         87285b34884572647811a353c7ac498a       -23.680114       -46.452454  \n",
       "207       595fac2a385ac33a80bd5114aec74eb8       -19.810119       -43.984727  \n",
       "448       d0b61bfb1de832b15ba9d266ca96e5b0       -19.840168       -43.923299  \n",
       "620       a1804276d9941ac0733cfd409f5206eb       -23.536892       -46.713111  \n",
       "1468      08574b074924071f4e201e151b152b4e       -20.297537       -40.400869  \n",
       "...                                    ...              ...              ...  \n",
       "16233547  595fac2a385ac33a80bd5114aec74eb8       -23.660332       -46.528203  \n",
       "16233702  3d2c44374ee42b3003a470f3e937a2ea       -26.491731       -49.075623  \n",
       "16234495  f1d4ce8c6dd66c47bbaa8c6781c2a923       -21.935321       -50.497562  \n",
       "16234587  b80910977a37536adeddd63663f916ad       -23.551013       -46.448489  \n",
       "16234912  d1c427060a0f73f6b889a5c7c61f2ac4       -20.944706       -45.827098  \n",
       "\n",
       "[40095 rows x 9 columns]"
      ]
     },
     "execution_count": 61,
     "metadata": {},
     "output_type": "execute_result"
    }
   ],
   "source": [
    "full_df"
   ]
  },
  {
   "cell_type": "markdown",
   "id": "bd526381",
   "metadata": {},
   "source": [
    "### 4.6. Conversion Column Message in Lower Case"
   ]
  },
  {
   "cell_type": "code",
   "execution_count": 62,
   "id": "10df62a8",
   "metadata": {},
   "outputs": [],
   "source": [
    "full_df['review_comment_message'] = full_df['review_comment_message'].str.lower()"
   ]
  },
  {
   "cell_type": "markdown",
   "id": "8713baf9",
   "metadata": {},
   "source": [
    "### 4.7. Removing Punctuation, Exemple (\".\", \"!\")"
   ]
  },
  {
   "cell_type": "code",
   "execution_count": 63,
   "id": "3a3d875e",
   "metadata": {},
   "outputs": [],
   "source": [
    "punct = string.punctuation\n",
    "punct = punct.replace(\"'\",\"\")\n",
    "full_df['review_comment_message'] = full_df['review_comment_message'].str.translate(str.maketrans(\" \",\" \",punct))"
   ]
  },
  {
   "cell_type": "markdown",
   "id": "b65aa144",
   "metadata": {},
   "source": [
    "### 4.8. Space removed at the beginning and end of the message"
   ]
  },
  {
   "cell_type": "code",
   "execution_count": 64,
   "id": "2669f0a6",
   "metadata": {},
   "outputs": [],
   "source": [
    "full_df['review_comment_message'] = full_df['review_comment_message'].str.strip()"
   ]
  },
  {
   "cell_type": "markdown",
   "id": "b841a711",
   "metadata": {},
   "source": [
    "### 4.9. Removing Emoji"
   ]
  },
  {
   "cell_type": "code",
   "execution_count": 65,
   "id": "fd99cdcc",
   "metadata": {},
   "outputs": [],
   "source": [
    "emoji_pattern = re.compile(\"[\"\n",
    "                           u\"\\U0001F600-\\U0001F64F\"  # emoticons\n",
    "                           u\"\\U0001F300-\\U0001F5FF\"  # símbolos e pictogramas\n",
    "                           u\"\\U0001F680-\\U0001F6FF\"  # transporte e símbolos de mapa\n",
    "                           u\"\\U0001F1E0-\\U0001F1FF\"  # bandeiras (iOS)\n",
    "                           u\"\\U00002702-\\U000027B0\"\n",
    "                           u\"\\U000024C2-\\U0001F251\"\n",
    "                           \"]+\", flags=re.UNICODE)\n",
    "\n",
    "full_df['review_comment_message'] = full_df['review_comment_message'].apply(lambda x: emoji_pattern.sub(r'', x))"
   ]
  },
  {
   "cell_type": "markdown",
   "id": "37648f70",
   "metadata": {},
   "source": [
    "### 4.10. Removing Sites and Blogs"
   ]
  },
  {
   "cell_type": "code",
   "execution_count": 66,
   "id": "47be4405",
   "metadata": {},
   "outputs": [],
   "source": [
    "http = r\"http\\S+|www\\.\\S+\"\n",
    "pattern = re.compile(r\"({})\".format(http))\n",
    "full_df['review_comment_message'] = full_df['review_comment_message'].apply(lambda x: pattern.sub(r'', x))"
   ]
  },
  {
   "cell_type": "markdown",
   "id": "f2534de1",
   "metadata": {},
   "source": [
    "### 4.11. Removing Accentuation"
   ]
  },
  {
   "cell_type": "code",
   "execution_count": 67,
   "id": "67aee8d0",
   "metadata": {},
   "outputs": [],
   "source": [
    "full_df['review_comment_message'] = full_df['review_comment_message'].apply(lambda x: unidecode(x))"
   ]
  },
  {
   "cell_type": "code",
   "execution_count": 69,
   "id": "6298c1ea",
   "metadata": {},
   "outputs": [],
   "source": [
    "nlp = spacy.load('pt_core_news_lg')\n",
    "def filtrar_tokens(texto):\n",
    "    doc = nlp(texto)\n",
    "    tokens_filtrados = []\n",
    "    for token in doc:\n",
    "        if token.text.lower() == 'nao':\n",
    "            tokens_filtrados.append(token.text)\n",
    "        elif token.text.lower() == 'nada':\n",
    "            tokens_filtrados.append(token.text)\n",
    "        elif token.pos_ in ['ADJ', 'VERB', 'NOUN', 'ADV']:\n",
    "            tokens_filtrados.append(token.text)\n",
    "    return ' '.join(tokens_filtrados)\n",
    "\n",
    "full_df['review_comment_message'] = full_df['review_comment_message'].apply(filtrar_tokens)"
   ]
  },
  {
   "cell_type": "markdown",
   "id": "1b18a2ee",
   "metadata": {},
   "source": [
    "### 4.12. Lematization"
   ]
  },
  {
   "cell_type": "code",
   "execution_count": 70,
   "id": "6c29db31",
   "metadata": {},
   "outputs": [],
   "source": [
    "full_df['review_comment_message'] = full_df['review_comment_message'].apply(lambda x: \" \".join([token.lemma_ for token in nlp(x)]))"
   ]
  },
  {
   "cell_type": "markdown",
   "id": "24ad69a2",
   "metadata": {},
   "source": [
    "### 4.13. Remove Numbers"
   ]
  },
  {
   "cell_type": "code",
   "execution_count": 71,
   "id": "87ce7029",
   "metadata": {},
   "outputs": [],
   "source": [
    "full_df['review_comment_message'] = full_df['review_comment_message'].apply(lambda x: re.sub(r'\\d+', '', x))"
   ]
  },
  {
   "cell_type": "markdown",
   "id": "36d658e3",
   "metadata": {},
   "source": [
    "### 4.4. Remove Space Blank Excessive and Remove Broke Line"
   ]
  },
  {
   "cell_type": "code",
   "execution_count": 72,
   "id": "20ab2481",
   "metadata": {},
   "outputs": [],
   "source": [
    "full_df['review_comment_message'] = full_df['review_comment_message'].str.replace('\\n', ' ')\n",
    "full_df['review_comment_message'] = full_df['review_comment_message'].apply(lambda x: re.sub(r'\\s+', ' ', str(x)))\n",
    "full_df = full_df[full_df['review_comment_message'].str.strip() != '']\n",
    "full_df = full_df[~full_df['review_comment_message'].str.contains('nan')]"
   ]
  },
  {
   "cell_type": "markdown",
   "id": "c6920a49",
   "metadata": {},
   "source": [
    "### 4.14. Join Word \"Nao\" with Next Word"
   ]
  },
  {
   "cell_type": "code",
   "execution_count": 36,
   "id": "110bb39d",
   "metadata": {},
   "outputs": [],
   "source": [
    "full_df['review_comment_message'] = full_df['review_comment_message'].apply(lambda x: re.sub(r'nao\\s+(\\w+)', r'nao\\1', x))"
   ]
  },
  {
   "cell_type": "code",
   "execution_count": 73,
   "id": "a998d304",
   "metadata": {},
   "outputs": [
    {
     "data": {
      "text/html": [
       "<div>\n",
       "<style scoped>\n",
       "    .dataframe tbody tr th:only-of-type {\n",
       "        vertical-align: middle;\n",
       "    }\n",
       "\n",
       "    .dataframe tbody tr th {\n",
       "        vertical-align: top;\n",
       "    }\n",
       "\n",
       "    .dataframe thead th {\n",
       "        text-align: right;\n",
       "    }\n",
       "</style>\n",
       "<table border=\"1\" class=\"dataframe\">\n",
       "  <thead>\n",
       "    <tr style=\"text-align: right;\">\n",
       "      <th></th>\n",
       "      <th>review_id</th>\n",
       "      <th>review_score</th>\n",
       "      <th>review_comment_title</th>\n",
       "      <th>review_comment_message</th>\n",
       "      <th>review_creation_date</th>\n",
       "      <th>review_answer_timestamp</th>\n",
       "      <th>product_id</th>\n",
       "      <th>geolocation_lat</th>\n",
       "      <th>geolocation_lng</th>\n",
       "    </tr>\n",
       "  </thead>\n",
       "  <tbody>\n",
       "    <tr>\n",
       "      <th>0</th>\n",
       "      <td>a54f0611adc9ed256b57ede6b6eb5114</td>\n",
       "      <td>4</td>\n",
       "      <td></td>\n",
       "      <td>nao testar produto ainda vir correto bom condicoes apenas caixa vir bem amassar danificar ficar chato tratar presente</td>\n",
       "      <td>2017-10-11</td>\n",
       "      <td>2017-10-12 03:43:48</td>\n",
       "      <td>87285b34884572647811a353c7ac498a</td>\n",
       "      <td>-23.680114</td>\n",
       "      <td>-46.452454</td>\n",
       "    </tr>\n",
       "    <tr>\n",
       "      <th>207</th>\n",
       "      <td>8d5266042046a06655c8db133d120ba5</td>\n",
       "      <td>4</td>\n",
       "      <td>Muito boa a loja</td>\n",
       "      <td>muito bom loja muito bom produto</td>\n",
       "      <td>2018-08-08</td>\n",
       "      <td>2018-08-08 18:37:50</td>\n",
       "      <td>595fac2a385ac33a80bd5114aec74eb8</td>\n",
       "      <td>-19.810119</td>\n",
       "      <td>-43.984727</td>\n",
       "    </tr>\n",
       "    <tr>\n",
       "      <th>448</th>\n",
       "      <td>359d03e676b3c069f62cadba8dd3f6e8</td>\n",
       "      <td>5</td>\n",
       "      <td></td>\n",
       "      <td>produto exatamente esperar descrito site chegar bem antes data prever</td>\n",
       "      <td>2017-12-03</td>\n",
       "      <td>2017-12-05 19:21:58</td>\n",
       "      <td>d0b61bfb1de832b15ba9d266ca96e5b0</td>\n",
       "      <td>-19.840168</td>\n",
       "      <td>-43.923299</td>\n",
       "    </tr>\n",
       "    <tr>\n",
       "      <th>620</th>\n",
       "      <td>e07549ef5311abcc92ba1784b093fb56</td>\n",
       "      <td>2</td>\n",
       "      <td></td>\n",
       "      <td>fiquei triste n atendir</td>\n",
       "      <td>2017-05-13</td>\n",
       "      <td>2017-05-13 20:25:42</td>\n",
       "      <td>a1804276d9941ac0733cfd409f5206eb</td>\n",
       "      <td>-23.536892</td>\n",
       "      <td>-46.713111</td>\n",
       "    </tr>\n",
       "    <tr>\n",
       "      <th>1468</th>\n",
       "      <td>15898b543726a832d4137fbef5d1d00e</td>\n",
       "      <td>1</td>\n",
       "      <td></td>\n",
       "      <td>aguardar retorno lojar</td>\n",
       "      <td>2017-05-30</td>\n",
       "      <td>2017-05-30 23:13:47</td>\n",
       "      <td>08574b074924071f4e201e151b152b4e</td>\n",
       "      <td>-20.297537</td>\n",
       "      <td>-40.400869</td>\n",
       "    </tr>\n",
       "  </tbody>\n",
       "</table>\n",
       "</div>"
      ],
      "text/plain": [
       "                             review_id  review_score review_comment_title  \\\n",
       "0     a54f0611adc9ed256b57ede6b6eb5114             4                        \n",
       "207   8d5266042046a06655c8db133d120ba5             4     Muito boa a loja   \n",
       "448   359d03e676b3c069f62cadba8dd3f6e8             5                        \n",
       "620   e07549ef5311abcc92ba1784b093fb56             2                        \n",
       "1468  15898b543726a832d4137fbef5d1d00e             1                        \n",
       "\n",
       "                                                                                                     review_comment_message  \\\n",
       "0     nao testar produto ainda vir correto bom condicoes apenas caixa vir bem amassar danificar ficar chato tratar presente   \n",
       "207                                                                                        muito bom loja muito bom produto   \n",
       "448                                                   produto exatamente esperar descrito site chegar bem antes data prever   \n",
       "620                                                                                                 fiquei triste n atendir   \n",
       "1468                                                                                                 aguardar retorno lojar   \n",
       "\n",
       "     review_creation_date review_answer_timestamp  \\\n",
       "0              2017-10-11     2017-10-12 03:43:48   \n",
       "207            2018-08-08     2018-08-08 18:37:50   \n",
       "448            2017-12-03     2017-12-05 19:21:58   \n",
       "620            2017-05-13     2017-05-13 20:25:42   \n",
       "1468           2017-05-30     2017-05-30 23:13:47   \n",
       "\n",
       "                            product_id  geolocation_lat  geolocation_lng  \n",
       "0     87285b34884572647811a353c7ac498a       -23.680114       -46.452454  \n",
       "207   595fac2a385ac33a80bd5114aec74eb8       -19.810119       -43.984727  \n",
       "448   d0b61bfb1de832b15ba9d266ca96e5b0       -19.840168       -43.923299  \n",
       "620   a1804276d9941ac0733cfd409f5206eb       -23.536892       -46.713111  \n",
       "1468  08574b074924071f4e201e151b152b4e       -20.297537       -40.400869  "
      ]
     },
     "execution_count": 73,
     "metadata": {},
     "output_type": "execute_result"
    }
   ],
   "source": [
    "full_df.head(5)"
   ]
  },
  {
   "cell_type": "markdown",
   "id": "ef59147d-4d07-4cdd-be78-24d45ac945fb",
   "metadata": {},
   "source": [
    "# 5. Previus Analyze"
   ]
  },
  {
   "cell_type": "code",
   "execution_count": 96,
   "id": "6cc47e47-a22d-4740-923d-76da291fff95",
   "metadata": {
    "scrolled": true
   },
   "outputs": [
    {
     "data": {
      "text/html": [
       "<div>\n",
       "<style scoped>\n",
       "    .dataframe tbody tr th:only-of-type {\n",
       "        vertical-align: middle;\n",
       "    }\n",
       "\n",
       "    .dataframe tbody tr th {\n",
       "        vertical-align: top;\n",
       "    }\n",
       "\n",
       "    .dataframe thead th {\n",
       "        text-align: right;\n",
       "    }\n",
       "</style>\n",
       "<table border=\"1\" class=\"dataframe\">\n",
       "  <thead>\n",
       "    <tr style=\"text-align: right;\">\n",
       "      <th></th>\n",
       "      <th>Column</th>\n",
       "      <th>dtypes</th>\n",
       "      <th># Missing</th>\n",
       "      <th># Unique</th>\n",
       "      <th>Example</th>\n",
       "      <th>Entropy</th>\n",
       "    </tr>\n",
       "  </thead>\n",
       "  <tbody>\n",
       "    <tr>\n",
       "      <th>0</th>\n",
       "      <td>review_id</td>\n",
       "      <td>object</td>\n",
       "      <td>0</td>\n",
       "      <td>39901</td>\n",
       "      <td>a54f0611adc9ed256b57ede6b6eb5114</td>\n",
       "      <td>15.28</td>\n",
       "    </tr>\n",
       "    <tr>\n",
       "      <th>1</th>\n",
       "      <td>review_score</td>\n",
       "      <td>int64</td>\n",
       "      <td>0</td>\n",
       "      <td>5</td>\n",
       "      <td>4</td>\n",
       "      <td>1.90</td>\n",
       "    </tr>\n",
       "    <tr>\n",
       "      <th>2</th>\n",
       "      <td>review_comment_title</td>\n",
       "      <td>object</td>\n",
       "      <td>30243</td>\n",
       "      <td>4064</td>\n",
       "      <td>NaN</td>\n",
       "      <td>10.00</td>\n",
       "    </tr>\n",
       "    <tr>\n",
       "      <th>3</th>\n",
       "      <td>review_comment_message</td>\n",
       "      <td>object</td>\n",
       "      <td>0</td>\n",
       "      <td>31363</td>\n",
       "      <td>testar produto ainda vir correto bom condicoe apenas caixa vir bem amassar danificar ficarar chato tratar presente</td>\n",
       "      <td>14.03</td>\n",
       "    </tr>\n",
       "    <tr>\n",
       "      <th>4</th>\n",
       "      <td>review_creation_date</td>\n",
       "      <td>object</td>\n",
       "      <td>0</td>\n",
       "      <td>618</td>\n",
       "      <td>2017-10-11 00:00:00</td>\n",
       "      <td>8.78</td>\n",
       "    </tr>\n",
       "    <tr>\n",
       "      <th>5</th>\n",
       "      <td>review_answer_timestamp</td>\n",
       "      <td>object</td>\n",
       "      <td>0</td>\n",
       "      <td>39875</td>\n",
       "      <td>2017-10-12 03:43:48</td>\n",
       "      <td>15.28</td>\n",
       "    </tr>\n",
       "    <tr>\n",
       "      <th>6</th>\n",
       "      <td>product_id</td>\n",
       "      <td>object</td>\n",
       "      <td>0</td>\n",
       "      <td>17919</td>\n",
       "      <td>87285b34884572647811a353c7ac498a</td>\n",
       "      <td>13.17</td>\n",
       "    </tr>\n",
       "    <tr>\n",
       "      <th>7</th>\n",
       "      <td>geolocation_lat</td>\n",
       "      <td>float64</td>\n",
       "      <td>0</td>\n",
       "      <td>1891</td>\n",
       "      <td>-23.680114</td>\n",
       "      <td>8.82</td>\n",
       "    </tr>\n",
       "    <tr>\n",
       "      <th>8</th>\n",
       "      <td>geolocation_lng</td>\n",
       "      <td>float64</td>\n",
       "      <td>0</td>\n",
       "      <td>1891</td>\n",
       "      <td>-46.452454</td>\n",
       "      <td>8.82</td>\n",
       "    </tr>\n",
       "  </tbody>\n",
       "</table>\n",
       "</div>"
      ],
      "text/plain": [
       "                    Column   dtypes  # Missing  # Unique  \\\n",
       "0                review_id   object          0     39901   \n",
       "1             review_score    int64          0         5   \n",
       "2     review_comment_title   object      30243      4064   \n",
       "3   review_comment_message   object          0     31363   \n",
       "4     review_creation_date   object          0       618   \n",
       "5  review_answer_timestamp   object          0     39875   \n",
       "6               product_id   object          0     17919   \n",
       "7          geolocation_lat  float64          0      1891   \n",
       "8          geolocation_lng  float64          0      1891   \n",
       "\n",
       "                                                                                                              Example  \\\n",
       "0                                                                                    a54f0611adc9ed256b57ede6b6eb5114   \n",
       "1                                                                                                                   4   \n",
       "2                                                                                                                 NaN   \n",
       "3  testar produto ainda vir correto bom condicoe apenas caixa vir bem amassar danificar ficarar chato tratar presente   \n",
       "4                                                                                                 2017-10-11 00:00:00   \n",
       "5                                                                                                 2017-10-12 03:43:48   \n",
       "6                                                                                    87285b34884572647811a353c7ac498a   \n",
       "7                                                                                                          -23.680114   \n",
       "8                                                                                                          -46.452454   \n",
       "\n",
       "   Entropy  \n",
       "0    15.28  \n",
       "1     1.90  \n",
       "2    10.00  \n",
       "3    14.03  \n",
       "4     8.78  \n",
       "5    15.28  \n",
       "6    13.17  \n",
       "7     8.82  \n",
       "8     8.82  "
      ]
     },
     "execution_count": 96,
     "metadata": {},
     "output_type": "execute_result"
    }
   ],
   "source": [
    "def df_metadata(df):\n",
    "    metadata = pd.DataFrame(df.dtypes,columns=['dtypes'])\n",
    "    metadata = metadata.reset_index()\n",
    "    metadata['Column'] = metadata['index']\n",
    "    metadata = metadata[['Column','dtypes']]\n",
    "    metadata['# Missing'] = df.isnull().sum().values    \n",
    "    metadata['# Unique'] = df.nunique().values\n",
    "    metadata['Example'] = df.loc[0].values\n",
    "\n",
    "    for name in metadata['Column'].value_counts().index:\n",
    "        metadata.loc[metadata['Column'] == name, 'Entropy'] = round(stats.entropy(df[name].value_counts(normalize=True), base=2),2) \n",
    "\n",
    "    return metadata\n",
    "    \n",
    "df_metadata(full_df)"
   ]
  },
  {
   "cell_type": "code",
   "execution_count": 186,
   "id": "95226a2b",
   "metadata": {},
   "outputs": [
    {
     "data": {
      "image/png": "[encoded data removed]",
      "text/plain": [
       "<Figure size 500x200 with 1 Axes>"
      ]
     },
     "metadata": {},
     "output_type": "display_data"
    }
   ],
   "source": [
    "ax = full_df['review_score'].value_counts().sort_index() \\\n",
    "    .plot(kind='bar',\n",
    "          title='Count of Reviews by Stars',\n",
    "          figsize=(5,2))"
   ]
  },
  {
   "cell_type": "code",
   "execution_count": 187,
   "id": "4357f9a4",
   "metadata": {},
   "outputs": [
    {
     "name": "stdout",
     "output_type": "stream",
     "text": [
      "aguardar retorno loja\n"
     ]
    }
   ],
   "source": [
    "example = full_df['review_comment_message'].iloc[4]\n",
    "print(example)"
   ]
  },
  {
   "cell_type": "markdown",
   "id": "6fc88e89",
   "metadata": {},
   "source": [
    "# 6. Training Model"
   ]
  },
  {
   "cell_type": "markdown",
   "id": "1e6a1d1d",
   "metadata": {},
   "source": [
    "### 6.1. Separeting Dataframe Training and Dataframe Test After Training"
   ]
  },
  {
   "cell_type": "code",
   "execution_count": 74,
   "id": "700b93c7",
   "metadata": {},
   "outputs": [],
   "source": [
    "# Amostra os dados para df_train\n",
    "df_train = full_df.sample(frac=0.95, random_state=45, ignore_index=True)\n",
    "\n",
    "# Seleciona as linhas que não estão presentes em df_train para df_remaining\n",
    "df_remaining = full_df.loc[~full_df.index.isin(df_train.index)].reset_index(drop=True)"
   ]
  },
  {
   "cell_type": "markdown",
   "id": "407fc8cb",
   "metadata": {},
   "source": [
    "### 6.2. Classifier Review Score Negative with 0 (Review 1 or 2) and Positive with 1 (Review 3,4 or 5)"
   ]
  },
  {
   "cell_type": "code",
   "execution_count": 75,
   "id": "0e3a6350",
   "metadata": {},
   "outputs": [],
   "source": [
    "df_train['sentiment'] = df_train['review_score'].apply(lambda x: 0 if x in [1,2,3] else 1)"
   ]
  },
  {
   "cell_type": "code",
   "execution_count": 76,
   "id": "2f0beed3",
   "metadata": {},
   "outputs": [
    {
     "data": {
      "text/html": [
       "<div>\n",
       "<style scoped>\n",
       "    .dataframe tbody tr th:only-of-type {\n",
       "        vertical-align: middle;\n",
       "    }\n",
       "\n",
       "    .dataframe tbody tr th {\n",
       "        vertical-align: top;\n",
       "    }\n",
       "\n",
       "    .dataframe thead th {\n",
       "        text-align: right;\n",
       "    }\n",
       "</style>\n",
       "<table border=\"1\" class=\"dataframe\">\n",
       "  <thead>\n",
       "    <tr style=\"text-align: right;\">\n",
       "      <th></th>\n",
       "      <th>review_id</th>\n",
       "      <th>review_score</th>\n",
       "      <th>review_comment_title</th>\n",
       "      <th>review_comment_message</th>\n",
       "      <th>review_creation_date</th>\n",
       "      <th>review_answer_timestamp</th>\n",
       "      <th>product_id</th>\n",
       "      <th>geolocation_lat</th>\n",
       "      <th>geolocation_lng</th>\n",
       "      <th>sentiment</th>\n",
       "    </tr>\n",
       "  </thead>\n",
       "  <tbody>\n",
       "    <tr>\n",
       "      <th>0</th>\n",
       "      <td>8d4ad3ae45ef7ed15ebf3d24dabf1f86</td>\n",
       "      <td>4</td>\n",
       "      <td></td>\n",
       "      <td>entregar entregar dentro prazo</td>\n",
       "      <td>2017-08-25</td>\n",
       "      <td>2017-08-27 12:40:49</td>\n",
       "      <td>7fab1a1472fdd934397068931f63f3ca</td>\n",
       "      <td>-23.207064</td>\n",
       "      <td>-46.760735</td>\n",
       "      <td>1</td>\n",
       "    </tr>\n",
       "    <tr>\n",
       "      <th>1</th>\n",
       "      <td>607957a0a16be63148e7e51fc2b7c1a5</td>\n",
       "      <td>1</td>\n",
       "      <td></td>\n",
       "      <td>poder bom entregar residenciar enfrentar tremenda fila retirar correio</td>\n",
       "      <td>2017-02-25</td>\n",
       "      <td>2017-02-28 01:38:38</td>\n",
       "      <td>52c80cedd4e90108bf4fa6a206ef6b03</td>\n",
       "      <td>-20.944706</td>\n",
       "      <td>-45.827098</td>\n",
       "      <td>0</td>\n",
       "    </tr>\n",
       "    <tr>\n",
       "      <th>2</th>\n",
       "      <td>499b0820814f9e7d1f7f50eb4d4bacfd</td>\n",
       "      <td>5</td>\n",
       "      <td>super recomendo</td>\n",
       "      <td>super recomendo chegar antes prazo</td>\n",
       "      <td>2018-08-23</td>\n",
       "      <td>2018-08-27 14:01:19</td>\n",
       "      <td>72ba1b1e37ca92467fe787728625c76a</td>\n",
       "      <td>-23.626053</td>\n",
       "      <td>-46.554888</td>\n",
       "      <td>1</td>\n",
       "    </tr>\n",
       "    <tr>\n",
       "      <th>3</th>\n",
       "      <td>e6571cc9b14378cc7a8cb904587e33cf</td>\n",
       "      <td>1</td>\n",
       "      <td>?!?</td>\n",
       "      <td>chegar central multimidiar ser comprar</td>\n",
       "      <td>2018-07-04</td>\n",
       "      <td>2018-07-05 08:59:59</td>\n",
       "      <td>5fde2352cd9bb03105487d89242a0549</td>\n",
       "      <td>-23.484915</td>\n",
       "      <td>-46.431503</td>\n",
       "      <td>0</td>\n",
       "    </tr>\n",
       "    <tr>\n",
       "      <th>4</th>\n",
       "      <td>29255d7dbc4189970c11c89f01a0e7e2</td>\n",
       "      <td>1</td>\n",
       "      <td></td>\n",
       "      <td>bom noite comprar pendente amarelo recebi preto pedi devolucao agora nada</td>\n",
       "      <td>2017-09-05</td>\n",
       "      <td>2017-09-12 00:31:48</td>\n",
       "      <td>53759a2ecddad2bb87a079a1f1519f73</td>\n",
       "      <td>-20.802436</td>\n",
       "      <td>-49.395624</td>\n",
       "      <td>0</td>\n",
       "    </tr>\n",
       "  </tbody>\n",
       "</table>\n",
       "</div>"
      ],
      "text/plain": [
       "                          review_id  review_score review_comment_title  \\\n",
       "0  8d4ad3ae45ef7ed15ebf3d24dabf1f86             4                        \n",
       "1  607957a0a16be63148e7e51fc2b7c1a5             1                        \n",
       "2  499b0820814f9e7d1f7f50eb4d4bacfd             5      super recomendo   \n",
       "3  e6571cc9b14378cc7a8cb904587e33cf             1                 ?!?    \n",
       "4  29255d7dbc4189970c11c89f01a0e7e2             1                        \n",
       "\n",
       "                                                      review_comment_message  \\\n",
       "0                                             entregar entregar dentro prazo   \n",
       "1     poder bom entregar residenciar enfrentar tremenda fila retirar correio   \n",
       "2                                         super recomendo chegar antes prazo   \n",
       "3                                     chegar central multimidiar ser comprar   \n",
       "4  bom noite comprar pendente amarelo recebi preto pedi devolucao agora nada   \n",
       "\n",
       "  review_creation_date review_answer_timestamp  \\\n",
       "0           2017-08-25     2017-08-27 12:40:49   \n",
       "1           2017-02-25     2017-02-28 01:38:38   \n",
       "2           2018-08-23     2018-08-27 14:01:19   \n",
       "3           2018-07-04     2018-07-05 08:59:59   \n",
       "4           2017-09-05     2017-09-12 00:31:48   \n",
       "\n",
       "                         product_id  geolocation_lat  geolocation_lng  \\\n",
       "0  7fab1a1472fdd934397068931f63f3ca       -23.207064       -46.760735   \n",
       "1  52c80cedd4e90108bf4fa6a206ef6b03       -20.944706       -45.827098   \n",
       "2  72ba1b1e37ca92467fe787728625c76a       -23.626053       -46.554888   \n",
       "3  5fde2352cd9bb03105487d89242a0549       -23.484915       -46.431503   \n",
       "4  53759a2ecddad2bb87a079a1f1519f73       -20.802436       -49.395624   \n",
       "\n",
       "   sentiment  \n",
       "0          1  \n",
       "1          0  \n",
       "2          1  \n",
       "3          0  \n",
       "4          0  "
      ]
     },
     "execution_count": 76,
     "metadata": {},
     "output_type": "execute_result"
    }
   ],
   "source": [
    "df_train.head(5)"
   ]
  },
  {
   "cell_type": "markdown",
   "id": "f1b0029b",
   "metadata": {},
   "source": [
    "### 6.3. Selecting Columns Necessary for Training"
   ]
  },
  {
   "cell_type": "code",
   "execution_count": 77,
   "id": "d7258faf",
   "metadata": {},
   "outputs": [],
   "source": [
    "selected_columns = ['review_comment_message', 'sentiment']\n",
    "df_classification = df_train.loc[:, selected_columns]"
   ]
  },
  {
   "cell_type": "code",
   "execution_count": 78,
   "id": "82abb8ae",
   "metadata": {},
   "outputs": [
    {
     "data": {
      "text/html": [
       "<div>\n",
       "<style scoped>\n",
       "    .dataframe tbody tr th:only-of-type {\n",
       "        vertical-align: middle;\n",
       "    }\n",
       "\n",
       "    .dataframe tbody tr th {\n",
       "        vertical-align: top;\n",
       "    }\n",
       "\n",
       "    .dataframe thead th {\n",
       "        text-align: right;\n",
       "    }\n",
       "</style>\n",
       "<table border=\"1\" class=\"dataframe\">\n",
       "  <thead>\n",
       "    <tr style=\"text-align: right;\">\n",
       "      <th></th>\n",
       "      <th>review_comment_message</th>\n",
       "      <th>sentiment</th>\n",
       "    </tr>\n",
       "  </thead>\n",
       "  <tbody>\n",
       "    <tr>\n",
       "      <th>0</th>\n",
       "      <td>entregar entregar dentro prazo</td>\n",
       "      <td>1</td>\n",
       "    </tr>\n",
       "    <tr>\n",
       "      <th>1</th>\n",
       "      <td>poder bom entregar residenciar enfrentar tremenda fila retirar correio</td>\n",
       "      <td>0</td>\n",
       "    </tr>\n",
       "    <tr>\n",
       "      <th>2</th>\n",
       "      <td>super recomendo chegar antes prazo</td>\n",
       "      <td>1</td>\n",
       "    </tr>\n",
       "    <tr>\n",
       "      <th>3</th>\n",
       "      <td>chegar central multimidiar ser comprar</td>\n",
       "      <td>0</td>\n",
       "    </tr>\n",
       "    <tr>\n",
       "      <th>4</th>\n",
       "      <td>bom noite comprar pendente amarelo recebi preto pedi devolucao agora nada</td>\n",
       "      <td>0</td>\n",
       "    </tr>\n",
       "  </tbody>\n",
       "</table>\n",
       "</div>"
      ],
      "text/plain": [
       "                                                      review_comment_message  \\\n",
       "0                                             entregar entregar dentro prazo   \n",
       "1     poder bom entregar residenciar enfrentar tremenda fila retirar correio   \n",
       "2                                         super recomendo chegar antes prazo   \n",
       "3                                     chegar central multimidiar ser comprar   \n",
       "4  bom noite comprar pendente amarelo recebi preto pedi devolucao agora nada   \n",
       "\n",
       "   sentiment  \n",
       "0          1  \n",
       "1          0  \n",
       "2          1  \n",
       "3          0  \n",
       "4          0  "
      ]
     },
     "execution_count": 78,
     "metadata": {},
     "output_type": "execute_result"
    }
   ],
   "source": [
    "df_classification.head(5)"
   ]
  },
  {
   "cell_type": "markdown",
   "id": "fa3157e9",
   "metadata": {},
   "source": [
    "### 6.4. Divising Dataframe Between Train and Test"
   ]
  },
  {
   "cell_type": "code",
   "execution_count": 79,
   "id": "5245642e",
   "metadata": {},
   "outputs": [],
   "source": [
    "comment_train, comment_test, sentiment_train, sentiment_test = train_test_split(\n",
    "                                                                                df_classification['review_comment_message'],\n",
    "                                                                                df_classification['sentiment'], \n",
    "                                                                                test_size=0.2,\n",
    "                                                                                random_state=24)"
   ]
  },
  {
   "cell_type": "markdown",
   "id": "4ba0ba34",
   "metadata": {},
   "source": [
    "### 6.5. Inicializing Training IA"
   ]
  },
  {
   "cell_type": "code",
   "execution_count": 80,
   "id": "b2d64bf0",
   "metadata": {},
   "outputs": [],
   "source": [
    "vectorizer = TfidfVectorizer()"
   ]
  },
  {
   "cell_type": "code",
   "execution_count": 81,
   "id": "6f6b0ff8",
   "metadata": {},
   "outputs": [],
   "source": [
    "ctmTr = vectorizer.fit_transform(comment_train)\n",
    "comment_test_dtm = vectorizer.transform(comment_test)"
   ]
  },
  {
   "cell_type": "code",
   "execution_count": 82,
   "id": "12dcb7c8",
   "metadata": {},
   "outputs": [],
   "source": [
    "smote = SMOTE(random_state=42)\n",
    "ctmTr_resampled, sentiment_train_resampled = smote.fit_resample(ctmTr, sentiment_train)"
   ]
  },
  {
   "cell_type": "code",
   "execution_count": 83,
   "id": "77066c7b",
   "metadata": {},
   "outputs": [],
   "source": [
    "normalization = preprocessing.StandardScaler(with_mean=False)"
   ]
  },
  {
   "cell_type": "code",
   "execution_count": 84,
   "id": "6812ba38",
   "metadata": {},
   "outputs": [],
   "source": [
    "normalization.fit(ctmTr_resampled)\n",
    "X = normalization.transform(ctmTr_resampled)"
   ]
  },
  {
   "cell_type": "code",
   "execution_count": 128,
   "id": "d29e7083",
   "metadata": {},
   "outputs": [
    {
     "name": "stdout",
     "output_type": "stream",
     "text": [
      "Iteration 1, loss = 0.62245075\n",
      "Validation score: 0.874428\n",
      "Iteration 2, loss = 0.43734800\n",
      "Validation score: 0.890696\n",
      "Iteration 3, loss = 0.37219068\n",
      "Validation score: 0.892222\n",
      "Iteration 4, loss = 0.33402018\n",
      "Validation score: 0.894509\n",
      "Iteration 5, loss = 0.30638834\n",
      "Validation score: 0.896289\n",
      "Iteration 6, loss = 0.28593970\n",
      "Validation score: 0.896543\n",
      "Iteration 7, loss = 0.26730104\n",
      "Validation score: 0.899339\n",
      "Iteration 8, loss = 0.25250668\n",
      "Validation score: 0.900102\n",
      "Iteration 9, loss = 0.24072635\n",
      "Validation score: 0.900356\n",
      "Iteration 10, loss = 0.22961479\n",
      "Validation score: 0.899339\n",
      "Iteration 11, loss = 0.22051470\n",
      "Validation score: 0.898322\n",
      "Iteration 12, loss = 0.21278692\n",
      "Validation score: 0.898577\n",
      "Iteration 13, loss = 0.20576611\n",
      "Validation score: 0.896543\n",
      "Iteration 14, loss = 0.19961576\n",
      "Validation score: 0.899593\n",
      "Iteration 15, loss = 0.19361246\n",
      "Validation score: 0.901118\n",
      "Iteration 16, loss = 0.18947348\n",
      "Validation score: 0.898322\n",
      "Iteration 17, loss = 0.18420383\n",
      "Validation score: 0.899847\n",
      "Iteration 18, loss = 0.18149494\n",
      "Validation score: 0.900356\n",
      "Iteration 19, loss = 0.17933470\n",
      "Validation score: 0.900102\n",
      "Iteration 20, loss = 0.17875241\n",
      "Validation score: 0.899847\n",
      "Iteration 21, loss = 0.17592700\n",
      "Validation score: 0.898068\n",
      "Iteration 22, loss = 0.17290064\n",
      "Validation score: 0.902898\n",
      "Iteration 23, loss = 0.16991261\n",
      "Validation score: 0.901881\n",
      "Iteration 24, loss = 0.16821542\n",
      "Validation score: 0.902135\n",
      "Iteration 25, loss = 0.16635590\n",
      "Validation score: 0.902644\n",
      "Iteration 26, loss = 0.16520087\n",
      "Validation score: 0.898577\n",
      "Iteration 27, loss = 0.16378316\n",
      "Validation score: 0.902644\n",
      "Iteration 28, loss = 0.16289166\n",
      "Validation score: 0.902644\n",
      "Iteration 29, loss = 0.16239119\n",
      "Validation score: 0.903152\n",
      "Iteration 30, loss = 0.16123062\n",
      "Validation score: 0.903152\n",
      "Iteration 31, loss = 0.16056982\n",
      "Validation score: 0.903152\n",
      "Iteration 32, loss = 0.15984797\n",
      "Validation score: 0.901881\n",
      "Iteration 33, loss = 0.15958560\n",
      "Validation score: 0.901881\n",
      "Iteration 34, loss = 0.15922097\n",
      "Validation score: 0.901627\n",
      "Iteration 35, loss = 0.15903244\n",
      "Validation score: 0.902135\n",
      "Iteration 36, loss = 0.15887094\n",
      "Validation score: 0.903406\n",
      "Iteration 37, loss = 0.15720735\n",
      "Validation score: 0.896289\n",
      "Iteration 38, loss = 0.15883657\n",
      "Validation score: 0.898322\n",
      "Iteration 39, loss = 0.15547245\n",
      "Validation score: 0.900864\n",
      "Iteration 40, loss = 0.15478338\n",
      "Validation score: 0.902898\n",
      "Iteration 41, loss = 0.15449164\n",
      "Validation score: 0.900356\n",
      "Iteration 42, loss = 0.15487510\n",
      "Validation score: 0.904423\n",
      "Iteration 43, loss = 0.15394434\n",
      "Validation score: 0.901373\n",
      "Iteration 44, loss = 0.15387677\n",
      "Validation score: 0.901881\n",
      "Iteration 45, loss = 0.15334105\n",
      "Validation score: 0.903406\n",
      "Iteration 46, loss = 0.15366252\n",
      "Validation score: 0.905694\n",
      "Iteration 47, loss = 0.15395358\n",
      "Validation score: 0.898577\n",
      "Iteration 48, loss = 0.15263333\n",
      "Validation score: 0.902644\n",
      "Iteration 49, loss = 0.15241010\n",
      "Validation score: 0.900864\n",
      "Iteration 50, loss = 0.15213369\n",
      "Validation score: 0.898322\n",
      "Iteration 51, loss = 0.15240044\n",
      "Validation score: 0.901373\n",
      "Iteration 52, loss = 0.15120433\n",
      "Validation score: 0.900864\n",
      "Iteration 53, loss = 0.14999567\n",
      "Validation score: 0.902389\n",
      "Iteration 54, loss = 0.14962531\n",
      "Validation score: 0.901118\n",
      "Iteration 55, loss = 0.15197750\n",
      "Validation score: 0.903152\n",
      "Iteration 56, loss = 0.14975322\n",
      "Validation score: 0.900610\n",
      "Iteration 57, loss = 0.14945683\n",
      "Validation score: 0.901881\n",
      "Validation score did not improve more than tol=0.000100 for 10 consecutive epochs. Stopping.\n"
     ]
    }
   ],
   "source": [
    "analyze_sentiment = MLPClassifier(hidden_layer_sizes=(32,16,16,1),\n",
    "                                   activation='relu',\n",
    "                                   solver='adam',\n",
    "                                   learning_rate='constant',\n",
    "                                   max_iter=100,\n",
    "                                   early_stopping=True,\n",
    "                                   n_iter_no_change=10,\n",
    "                                   verbose=True)\n",
    "\n",
    "history = analyze_sentiment.fit(X, sentiment_train_resampled)"
   ]
  },
  {
   "cell_type": "markdown",
   "id": "42881914",
   "metadata": {},
   "source": [
    "# 7. Analyze Performance IA"
   ]
  },
  {
   "cell_type": "markdown",
   "id": "832c6532",
   "metadata": {},
   "source": [
    "### 7.1. Score"
   ]
  },
  {
   "cell_type": "code",
   "execution_count": 129,
   "id": "42919d7e",
   "metadata": {},
   "outputs": [
    {
     "data": {
      "text/plain": [
       "0.8608048877672998"
      ]
     },
     "execution_count": 129,
     "metadata": {},
     "output_type": "execute_result"
    }
   ],
   "source": [
    "X_test = normalization.transform(comment_test_dtm)\n",
    "analyze_sentiment.score(X_test,sentiment_test)"
   ]
  },
  {
   "cell_type": "markdown",
   "id": "fa15d6c3",
   "metadata": {},
   "source": [
    "### 7.2. Graph Loss During Training"
   ]
  },
  {
   "cell_type": "code",
   "execution_count": 130,
   "id": "74af4e9c",
   "metadata": {},
   "outputs": [
    {
     "data": {
      "image/png": "[encoded data removed]",
      "text/plain": [
       "<Figure size 1000x500 with 2 Axes>"
      ]
     },
     "metadata": {},
     "output_type": "display_data"
    }
   ],
   "source": [
    "plt.figure(figsize=(10, 5))\n",
    "# Loss\n",
    "plt.subplot(1, 2, 1)\n",
    "plt.plot(history.loss_curve_)\n",
    "plt.title('Loss During Training')\n",
    "plt.xlabel('Epoch')\n",
    "plt.ylabel('Loss')\n",
    "# Accuracy\n",
    "plt.subplot(1, 2, 2)\n",
    "plt.plot(history.validation_scores_)\n",
    "plt.title('Score During Training')\n",
    "plt.xlabel('Epoch')\n",
    "plt.ylabel('Score')\n",
    "\n",
    "plt.tight_layout()\n",
    "plt.show()"
   ]
  },
  {
   "cell_type": "markdown",
   "id": "85afb958",
   "metadata": {},
   "source": [
    "### 7.3. Confusion Matrix"
   ]
  },
  {
   "cell_type": "code",
   "execution_count": 131,
   "id": "b9bc5757",
   "metadata": {},
   "outputs": [
    {
     "data": {
      "image/png": "[encoded data removed]",
      "text/plain": [
       "<Figure size 500x300 with 1 Axes>"
      ]
     },
     "metadata": {},
     "output_type": "display_data"
    }
   ],
   "source": [
    "# Fazer previsões no conjunto de teste\n",
    "predictions = analyze_sentiment.predict(X_test)\n",
    "\n",
    "# Calcular a matriz de confusão\n",
    "conf_matrix = confusion_matrix(sentiment_test, predictions)\n",
    "\n",
    "# Plotar a matriz de confusão\n",
    "plt.figure(figsize=(5, 3))\n",
    "sns.heatmap(conf_matrix, annot=True, fmt='d', cmap='Blues', cbar=False)\n",
    "plt.title('Matriz de Confusão')\n",
    "plt.xlabel('Predicted Label')\n",
    "plt.ylabel('True Label')\n",
    "plt.show()"
   ]
  },
  {
   "cell_type": "markdown",
   "id": "d1971816",
   "metadata": {},
   "source": [
    "### 7.4. Curve ROC"
   ]
  },
  {
   "cell_type": "code",
   "execution_count": 132,
   "id": "4929eab0",
   "metadata": {},
   "outputs": [
    {
     "data": {
      "image/png": "[encoded data removed]",
      "text/plain": [
       "<Figure size 800x600 with 1 Axes>"
      ]
     },
     "metadata": {},
     "output_type": "display_data"
    }
   ],
   "source": [
    "# Calcular as probabilidades previstas para a classe positiva\n",
    "probas_pred = analyze_sentiment.predict_proba(X_test)[:, 1]\n",
    "\n",
    "# Calcular a curva ROC\n",
    "fpr, tpr, thresholds = roc_curve(sentiment_test, probas_pred)\n",
    "\n",
    "# Calcular a área sob a curva ROC (AUC)\n",
    "roc_auc = auc(fpr, tpr)\n",
    "\n",
    "# Plotar a curva ROC\n",
    "plt.figure(figsize=(8, 6))\n",
    "plt.plot(fpr, tpr, color='blue', lw=2, label='ROC curve (AUC = %0.2f)' % roc_auc)\n",
    "plt.plot([0, 1], [0, 1], color='gray', linestyle='--')\n",
    "plt.xlim([0.0, 1.0])\n",
    "plt.ylim([0.0, 1.05])\n",
    "plt.xlabel('False Positive Rate')\n",
    "plt.ylabel('True Positive Rate')\n",
    "plt.title('Receiver Operating Characteristic (ROC) Curve')\n",
    "plt.legend(loc='lower right')\n",
    "plt.show()"
   ]
  },
  {
   "cell_type": "markdown",
   "id": "8f48ad2b",
   "metadata": {},
   "source": [
    "# 8. Test and Deploy IA"
   ]
  },
  {
   "cell_type": "code",
   "execution_count": 133,
   "id": "330b1658",
   "metadata": {},
   "outputs": [
    {
     "name": "stdout",
     "output_type": "stream",
     "text": [
      "                                                                                    review_comment_message  \\\n",
      "0                                                                                     entregar antes prazo   \n",
      "1      caneta crown satisfeito receber bem antes prazo estimar falta testalo nao acompanhar cartucho tinta   \n",
      "2                                                      otimo produto gostar comprar ficar muito legal moto   \n",
      "3                                                                                          bom atendimento   \n",
      "4                                          otimo indico produto alto qualidade recebi antes prazo combinar   \n",
      "...                                                                                                    ...   \n",
      "39527                                         otimar comprar site mercadoria chegar antes prazo determinar   \n",
      "39528                                                  nao mini Cajon Shaker Chocalho imitar cajon pessimo   \n",
      "39529                                                                           so pecar vir rachar bem rs   \n",
      "39530                                                                                 entregar antes prazo   \n",
      "39531                                                                entregar somente querer saber produto   \n",
      "\n",
      "       review_score sentimento_predito  \n",
      "0                 5           positivo  \n",
      "1                 5           positivo  \n",
      "2                 4           positivo  \n",
      "3                 5           positivo  \n",
      "4                 5           positivo  \n",
      "...             ...                ...  \n",
      "39527             5           positivo  \n",
      "39528             1           negativo  \n",
      "39529             4           negativo  \n",
      "39530             5           positivo  \n",
      "39531             2           negativo  \n",
      "\n",
      "[39532 rows x 3 columns]\n"
     ]
    }
   ],
   "source": [
    "# Ajustar configurações para mostrar o texto completo\n",
    "pd.set_option('display.max_colwidth', None)\n",
    "\n",
    "texto_teste_vetorizado = vectorizer.transform(df_remaining['review_comment_message'])\n",
    "texto_teste_normalizado = normalization.transform(texto_teste_vetorizado)\n",
    "sentimento_predito = analyze_sentiment.predict(texto_teste_normalizado)\n",
    "\n",
    "df_remaining['sentimento_predito'] = sentimento_predito\n",
    "\n",
    "df_remaining['sentimento_predito'] = df_remaining['sentimento_predito'].replace({0: 'negativo', 1: 'positivo'})\n",
    "\n",
    "print(df_remaining[['review_comment_message', 'review_score', 'sentimento_predito']])\n",
    "\n",
    "df_remaining[['review_id','review_comment_message', 'review_score', 'sentimento_predito']].to_csv('dados_processados.csv', index=False)\n"
   ]
  },
  {
   "cell_type": "code",
   "execution_count": 77,
   "id": "d0564c54",
   "metadata": {},
   "outputs": [
    {
     "ename": "KeyError",
     "evalue": "'sentimento_predito'",
     "output_type": "error",
     "traceback": [
      "\u001b[1;31m---------------------------------------------------------------------------\u001b[0m",
      "\u001b[1;31mKeyError\u001b[0m                                  Traceback (most recent call last)",
      "File \u001b[1;32mc:\\Users\\Victor\\AppData\\Local\\Programs\\Python\\Python312\\Lib\\site-packages\\pandas\\core\\indexes\\base.py:3805\u001b[0m, in \u001b[0;36mIndex.get_loc\u001b[1;34m(self, key)\u001b[0m\n\u001b[0;32m   3804\u001b[0m \u001b[38;5;28;01mtry\u001b[39;00m:\n\u001b[1;32m-> 3805\u001b[0m     \u001b[38;5;28;01mreturn\u001b[39;00m \u001b[38;5;28;43mself\u001b[39;49m\u001b[38;5;241;43m.\u001b[39;49m\u001b[43m_engine\u001b[49m\u001b[38;5;241;43m.\u001b[39;49m\u001b[43mget_loc\u001b[49m\u001b[43m(\u001b[49m\u001b[43mcasted_key\u001b[49m\u001b[43m)\u001b[49m\n\u001b[0;32m   3806\u001b[0m \u001b[38;5;28;01mexcept\u001b[39;00m \u001b[38;5;167;01mKeyError\u001b[39;00m \u001b[38;5;28;01mas\u001b[39;00m err:\n",
      "File \u001b[1;32mindex.pyx:167\u001b[0m, in \u001b[0;36mpandas._libs.index.IndexEngine.get_loc\u001b[1;34m()\u001b[0m\n",
      "File \u001b[1;32mindex.pyx:196\u001b[0m, in \u001b[0;36mpandas._libs.index.IndexEngine.get_loc\u001b[1;34m()\u001b[0m\n",
      "File \u001b[1;32mpandas\\\\_libs\\\\hashtable_class_helper.pxi:7081\u001b[0m, in \u001b[0;36mpandas._libs.hashtable.PyObjectHashTable.get_item\u001b[1;34m()\u001b[0m\n",
      "File \u001b[1;32mpandas\\\\_libs\\\\hashtable_class_helper.pxi:7089\u001b[0m, in \u001b[0;36mpandas._libs.hashtable.PyObjectHashTable.get_item\u001b[1;34m()\u001b[0m\n",
      "\u001b[1;31mKeyError\u001b[0m: 'sentimento_predito'",
      "\nThe above exception was the direct cause of the following exception:\n",
      "\u001b[1;31mKeyError\u001b[0m                                  Traceback (most recent call last)",
      "Cell \u001b[1;32mIn[77], line 4\u001b[0m\n\u001b[0;32m      1\u001b[0m \u001b[38;5;28;01mfrom\u001b[39;00m \u001b[38;5;21;01mcollections\u001b[39;00m \u001b[38;5;28;01mimport\u001b[39;00m Counter\n\u001b[0;32m      3\u001b[0m \u001b[38;5;66;03m# Filtrar mensagens positivas e negativas\u001b[39;00m\n\u001b[1;32m----> 4\u001b[0m mensagens_positivas \u001b[38;5;241m=\u001b[39m df_remaining[\u001b[43mdf_remaining\u001b[49m\u001b[43m[\u001b[49m\u001b[38;5;124;43m'\u001b[39;49m\u001b[38;5;124;43msentimento_predito\u001b[39;49m\u001b[38;5;124;43m'\u001b[39;49m\u001b[43m]\u001b[49m \u001b[38;5;241m==\u001b[39m \u001b[38;5;124m'\u001b[39m\u001b[38;5;124mpositivo\u001b[39m\u001b[38;5;124m'\u001b[39m][\u001b[38;5;124m'\u001b[39m\u001b[38;5;124mreview_comment_message\u001b[39m\u001b[38;5;124m'\u001b[39m]\n\u001b[0;32m      5\u001b[0m mensagens_negativas \u001b[38;5;241m=\u001b[39m df_remaining[df_remaining[\u001b[38;5;124m'\u001b[39m\u001b[38;5;124msentimento_predito\u001b[39m\u001b[38;5;124m'\u001b[39m] \u001b[38;5;241m==\u001b[39m \u001b[38;5;124m'\u001b[39m\u001b[38;5;124mnegativo\u001b[39m\u001b[38;5;124m'\u001b[39m][\u001b[38;5;124m'\u001b[39m\u001b[38;5;124mreview_comment_message\u001b[39m\u001b[38;5;124m'\u001b[39m]\n\u001b[0;32m      7\u001b[0m \u001b[38;5;66;03m# Função para contar palavras mais comuns\u001b[39;00m\n",
      "File \u001b[1;32mc:\\Users\\Victor\\AppData\\Local\\Programs\\Python\\Python312\\Lib\\site-packages\\pandas\\core\\frame.py:4090\u001b[0m, in \u001b[0;36mDataFrame.__getitem__\u001b[1;34m(self, key)\u001b[0m\n\u001b[0;32m   4088\u001b[0m \u001b[38;5;28;01mif\u001b[39;00m \u001b[38;5;28mself\u001b[39m\u001b[38;5;241m.\u001b[39mcolumns\u001b[38;5;241m.\u001b[39mnlevels \u001b[38;5;241m>\u001b[39m \u001b[38;5;241m1\u001b[39m:\n\u001b[0;32m   4089\u001b[0m     \u001b[38;5;28;01mreturn\u001b[39;00m \u001b[38;5;28mself\u001b[39m\u001b[38;5;241m.\u001b[39m_getitem_multilevel(key)\n\u001b[1;32m-> 4090\u001b[0m indexer \u001b[38;5;241m=\u001b[39m \u001b[38;5;28;43mself\u001b[39;49m\u001b[38;5;241;43m.\u001b[39;49m\u001b[43mcolumns\u001b[49m\u001b[38;5;241;43m.\u001b[39;49m\u001b[43mget_loc\u001b[49m\u001b[43m(\u001b[49m\u001b[43mkey\u001b[49m\u001b[43m)\u001b[49m\n\u001b[0;32m   4091\u001b[0m \u001b[38;5;28;01mif\u001b[39;00m is_integer(indexer):\n\u001b[0;32m   4092\u001b[0m     indexer \u001b[38;5;241m=\u001b[39m [indexer]\n",
      "File \u001b[1;32mc:\\Users\\Victor\\AppData\\Local\\Programs\\Python\\Python312\\Lib\\site-packages\\pandas\\core\\indexes\\base.py:3812\u001b[0m, in \u001b[0;36mIndex.get_loc\u001b[1;34m(self, key)\u001b[0m\n\u001b[0;32m   3807\u001b[0m     \u001b[38;5;28;01mif\u001b[39;00m \u001b[38;5;28misinstance\u001b[39m(casted_key, \u001b[38;5;28mslice\u001b[39m) \u001b[38;5;129;01mor\u001b[39;00m (\n\u001b[0;32m   3808\u001b[0m         \u001b[38;5;28misinstance\u001b[39m(casted_key, abc\u001b[38;5;241m.\u001b[39mIterable)\n\u001b[0;32m   3809\u001b[0m         \u001b[38;5;129;01mand\u001b[39;00m \u001b[38;5;28many\u001b[39m(\u001b[38;5;28misinstance\u001b[39m(x, \u001b[38;5;28mslice\u001b[39m) \u001b[38;5;28;01mfor\u001b[39;00m x \u001b[38;5;129;01min\u001b[39;00m casted_key)\n\u001b[0;32m   3810\u001b[0m     ):\n\u001b[0;32m   3811\u001b[0m         \u001b[38;5;28;01mraise\u001b[39;00m InvalidIndexError(key)\n\u001b[1;32m-> 3812\u001b[0m     \u001b[38;5;28;01mraise\u001b[39;00m \u001b[38;5;167;01mKeyError\u001b[39;00m(key) \u001b[38;5;28;01mfrom\u001b[39;00m \u001b[38;5;21;01merr\u001b[39;00m\n\u001b[0;32m   3813\u001b[0m \u001b[38;5;28;01mexcept\u001b[39;00m \u001b[38;5;167;01mTypeError\u001b[39;00m:\n\u001b[0;32m   3814\u001b[0m     \u001b[38;5;66;03m# If we have a listlike key, _check_indexing_error will raise\u001b[39;00m\n\u001b[0;32m   3815\u001b[0m     \u001b[38;5;66;03m#  InvalidIndexError. Otherwise we fall through and re-raise\u001b[39;00m\n\u001b[0;32m   3816\u001b[0m     \u001b[38;5;66;03m#  the TypeError.\u001b[39;00m\n\u001b[0;32m   3817\u001b[0m     \u001b[38;5;28mself\u001b[39m\u001b[38;5;241m.\u001b[39m_check_indexing_error(key)\n",
      "\u001b[1;31mKeyError\u001b[0m: 'sentimento_predito'"
     ]
    }
   ],
   "source": [
    "from collections import Counter\n",
    "\n",
    "# Filtrar mensagens positivas e negativas\n",
    "mensagens_positivas = df_remaining[df_remaining['sentimento_predito'] == 'positivo']['review_comment_message']\n",
    "mensagens_negativas = df_remaining[df_remaining['sentimento_predito'] == 'negativo']['review_comment_message']\n",
    "\n",
    "# Função para contar palavras mais comuns\n",
    "def contar_palavras(mensagens):\n",
    "    todas_mensagens = ' '.join(mensagens)\n",
    "    palavras = todas_mensagens.split()\n",
    "    contagem_palavras = Counter(palavras)\n",
    "    return contagem_palavras.most_common(10)\n",
    "\n",
    "# Contar palavras mais comuns para mensagens positivas\n",
    "print(\"Palavras mais comuns em mensagens positivas:\")\n",
    "print(contar_palavras(mensagens_positivas))\n",
    "\n",
    "# Contar palavras mais comuns para mensagens negativas\n",
    "print(\"\\nPalavras mais comuns em mensagens negativas:\")\n",
    "print(contar_palavras(mensagens_negativas))"
   ]
  },
  {
   "cell_type": "markdown",
   "id": "6d321a08",
   "metadata": {},
   "source": [
    "## division"
   ]
  },
  {
   "cell_type": "code",
   "execution_count": null,
   "id": "2d955c0c",
   "metadata": {},
   "outputs": [],
   "source": [
    "# Definir os hiperparâmetros a serem testados\n",
    "param_grid = {\n",
    "    'hidden_layer_sizes': [(50,50,50), (50,100,50), (100,)],\n",
    "    'activation': ['tanh', 'relu'],\n",
    "    'solver': ['sgd', 'adam'],\n",
    "    'alpha': [0.0001, 0.05],\n",
    "    'learning_rate': ['constant','adaptive'],\n",
    "}\n",
    "\n",
    "# Criar o modelo MLPClassifier\n",
    "mlp = MLPClassifier(max_iter=100)\n",
    "\n",
    "# Criar o objeto GridSearchCV\n",
    "grid_search = GridSearchCV(mlp, param_grid, cv=5, n_jobs=-1, verbose=2)\n",
    "\n",
    "# Treinar o modelo usando a pesquisa em grade\n",
    "grid_search.fit(X, sentiment_train)\n",
    "\n",
    "# Melhores parâmetros encontrados\n",
    "print(\"Melhores parâmetros encontrados:\")\n",
    "print(grid_search.best_params_)\n",
    "\n",
    "# Avaliar o desempenho do modelo\n",
    "print(\"Acurácia da melhor configuração no conjunto de validação:\")\n",
    "print(grid_search.best_score_)"
   ]
  }
 ],
 "metadata": {
  "kernelspec": {
   "display_name": "Python 3 (ipykernel)",
   "language": "python",
   "name": "python3"
  },
  "language_info": {
   "codemirror_mode": {
    "name": "ipython",
    "version": 3
   },
   "file_extension": ".py",
   "mimetype": "text/x-python",
   "name": "python",
   "nbconvert_exporter": "python",
   "pygments_lexer": "ipython3",
   "version": "3.12.1"
  }
 },
 "nbformat": 4,
 "nbformat_minor": 5
}
