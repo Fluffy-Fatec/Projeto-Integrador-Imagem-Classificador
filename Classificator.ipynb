{
 "cells": [
  {
   "cell_type": "markdown",
   "id": "591dbab2-225e-42c5-8bb2-fcd2ed2d04da",
   "metadata": {
    "collapsed": true,
    "jupyter": {
     "outputs_hidden": true
    },
    "tags": []
   },
   "source": [
    "# 1. Install PIP's"
   ]
  },
  {
   "cell_type": "code",
   "execution_count": 106,
   "id": "91a43646-fea1-4d18-99ec-3f9ddd100e88",
   "metadata": {
    "scrolled": true,
    "tags": []
   },
   "outputs": [
    {
     "name": "stdout",
     "output_type": "stream",
     "text": [
      "Requirement already satisfied: unidecode in c:\\users\\victor\\appdata\\local\\programs\\python\\python312\\lib\\site-packages (1.3.8)\n",
      "Note: you may need to restart the kernel to use updated packages.\n",
      "Requirement already satisfied: spacy in c:\\users\\victor\\appdata\\local\\programs\\python\\python312\\lib\\site-packages (3.7.4)Note: you may need to restart the kernel to use updated packages.\n",
      "\n",
      "Requirement already satisfied: spacy-legacy<3.1.0,>=3.0.11 in c:\\users\\victor\\appdata\\local\\programs\\python\\python312\\lib\\site-packages (from spacy) (3.0.12)\n",
      "Requirement already satisfied: spacy-loggers<2.0.0,>=1.0.0 in c:\\users\\victor\\appdata\\local\\programs\\python\\python312\\lib\\site-packages (from spacy) (1.0.5)\n",
      "Requirement already satisfied: murmurhash<1.1.0,>=0.28.0 in c:\\users\\victor\\appdata\\local\\programs\\python\\python312\\lib\\site-packages (from spacy) (1.0.10)\n",
      "Requirement already satisfied: cymem<2.1.0,>=2.0.2 in c:\\users\\victor\\appdata\\local\\programs\\python\\python312\\lib\\site-packages (from spacy) (2.0.8)\n",
      "Requirement already satisfied: preshed<3.1.0,>=3.0.2 in c:\\users\\victor\\appdata\\local\\programs\\python\\python312\\lib\\site-packages (from spacy) (3.0.9)\n",
      "Requirement already satisfied: thinc<8.3.0,>=8.2.2 in c:\\users\\victor\\appdata\\local\\programs\\python\\python312\\lib\\site-packages (from spacy) (8.2.3)\n",
      "Requirement already satisfied: wasabi<1.2.0,>=0.9.1 in c:\\users\\victor\\appdata\\local\\programs\\python\\python312\\lib\\site-packages (from spacy) (1.1.2)\n",
      "Requirement already satisfied: srsly<3.0.0,>=2.4.3 in c:\\users\\victor\\appdata\\local\\programs\\python\\python312\\lib\\site-packages (from spacy) (2.4.8)\n",
      "Requirement already satisfied: catalogue<2.1.0,>=2.0.6 in c:\\users\\victor\\appdata\\local\\programs\\python\\python312\\lib\\site-packages (from spacy) (2.0.10)\n",
      "Requirement already satisfied: weasel<0.4.0,>=0.1.0 in c:\\users\\victor\\appdata\\local\\programs\\python\\python312\\lib\\site-packages (from spacy) (0.3.4)\n",
      "Requirement already satisfied: typer<0.10.0,>=0.3.0 in c:\\users\\victor\\appdata\\local\\programs\\python\\python312\\lib\\site-packages (from spacy) (0.9.4)\n",
      "Requirement already satisfied: smart-open<7.0.0,>=5.2.1 in c:\\users\\victor\\appdata\\local\\programs\\python\\python312\\lib\\site-packages (from spacy) (6.4.0)\n",
      "Requirement already satisfied: tqdm<5.0.0,>=4.38.0 in c:\\users\\victor\\appdata\\local\\programs\\python\\python312\\lib\\site-packages (from spacy) (4.66.2)\n",
      "Requirement already satisfied: requests<3.0.0,>=2.13.0 in c:\\users\\victor\\appdata\\local\\programs\\python\\python312\\lib\\site-packages (from spacy) (2.31.0)\n",
      "Requirement already satisfied: pydantic!=1.8,!=1.8.1,<3.0.0,>=1.7.4 in c:\\users\\victor\\appdata\\local\\programs\\python\\python312\\lib\\site-packages (from spacy) (2.6.4)\n",
      "Requirement already satisfied: jinja2 in c:\\users\\victor\\appdata\\local\\programs\\python\\python312\\lib\\site-packages (from spacy) (3.1.3)\n",
      "Requirement already satisfied: setuptools in c:\\users\\victor\\appdata\\local\\programs\\python\\python312\\lib\\site-packages (from spacy) (69.2.0)\n",
      "Requirement already satisfied: packaging>=20.0 in c:\\users\\victor\\appdata\\local\\programs\\python\\python312\\lib\\site-packages (from spacy) (24.0)\n",
      "Requirement already satisfied: langcodes<4.0.0,>=3.2.0 in c:\\users\\victor\\appdata\\local\\programs\\python\\python312\\lib\\site-packages (from spacy) (3.3.0)\n",
      "Requirement already satisfied: numpy>=1.19.0 in c:\\users\\victor\\appdata\\local\\programs\\python\\python312\\lib\\site-packages (from spacy) (1.26.2)\n",
      "Requirement already satisfied: annotated-types>=0.4.0 in c:\\users\\victor\\appdata\\local\\programs\\python\\python312\\lib\\site-packages (from pydantic!=1.8,!=1.8.1,<3.0.0,>=1.7.4->spacy) (0.6.0)\n",
      "Requirement already satisfied: pydantic-core==2.16.3 in c:\\users\\victor\\appdata\\local\\programs\\python\\python312\\lib\\site-packages (from pydantic!=1.8,!=1.8.1,<3.0.0,>=1.7.4->spacy) (2.16.3)\n",
      "Requirement already satisfied: typing-extensions>=4.6.1 in c:\\users\\victor\\appdata\\local\\programs\\python\\python312\\lib\\site-packages (from pydantic!=1.8,!=1.8.1,<3.0.0,>=1.7.4->spacy) (4.10.0)\n",
      "Requirement already satisfied: charset-normalizer<4,>=2 in c:\\users\\victor\\appdata\\local\\programs\\python\\python312\\lib\\site-packages (from requests<3.0.0,>=2.13.0->spacy) (3.3.2)\n",
      "Requirement already satisfied: idna<4,>=2.5 in c:\\users\\victor\\appdata\\local\\programs\\python\\python312\\lib\\site-packages (from requests<3.0.0,>=2.13.0->spacy) (2.10)\n",
      "Requirement already satisfied: urllib3<3,>=1.21.1 in c:\\users\\victor\\appdata\\local\\programs\\python\\python312\\lib\\site-packages (from requests<3.0.0,>=2.13.0->spacy) (2.2.1)\n",
      "Requirement already satisfied: certifi>=2017.4.17 in c:\\users\\victor\\appdata\\local\\programs\\python\\python312\\lib\\site-packages (from requests<3.0.0,>=2.13.0->spacy) (2024.2.2)\n",
      "Requirement already satisfied: blis<0.8.0,>=0.7.8 in c:\\users\\victor\\appdata\\local\\programs\\python\\python312\\lib\\site-packages (from thinc<8.3.0,>=8.2.2->spacy) (0.7.11)\n",
      "Requirement already satisfied: confection<1.0.0,>=0.0.1 in c:\\users\\victor\\appdata\\local\\programs\\python\\python312\\lib\\site-packages (from thinc<8.3.0,>=8.2.2->spacy) (0.1.4)\n",
      "Requirement already satisfied: colorama in c:\\users\\victor\\appdata\\local\\programs\\python\\python312\\lib\\site-packages (from tqdm<5.0.0,>=4.38.0->spacy) (0.4.6)\n",
      "Requirement already satisfied: click<9.0.0,>=7.1.1 in c:\\users\\victor\\appdata\\local\\programs\\python\\python312\\lib\\site-packages (from typer<0.10.0,>=0.3.0->spacy) (8.1.7)\n",
      "Requirement already satisfied: cloudpathlib<0.17.0,>=0.7.0 in c:\\users\\victor\\appdata\\local\\programs\\python\\python312\\lib\\site-packages (from weasel<0.4.0,>=0.1.0->spacy) (0.16.0)\n",
      "Requirement already satisfied: MarkupSafe>=2.0 in c:\\users\\victor\\appdata\\local\\programs\\python\\python312\\lib\\site-packages (from jinja2->spacy) (2.1.5)\n",
      "Requirement already satisfied: seaborn in c:\\users\\victor\\appdata\\local\\programs\\python\\python312\\lib\\site-packages (0.13.2)\n",
      "Requirement already satisfied: numpy!=1.24.0,>=1.20 in c:\\users\\victor\\appdata\\local\\programs\\python\\python312\\lib\\site-packages (from seaborn) (1.26.2)\n",
      "Requirement already satisfied: pandas>=1.2 in c:\\users\\victor\\appdata\\local\\programs\\python\\python312\\lib\\site-packages (from seaborn) (2.2.1)\n",
      "Requirement already satisfied: matplotlib!=3.6.1,>=3.4 in c:\\users\\victor\\appdata\\local\\programs\\python\\python312\\lib\\site-packages (from seaborn) (3.8.3)\n",
      "Requirement already satisfied: contourpy>=1.0.1 in c:\\users\\victor\\appdata\\local\\programs\\python\\python312\\lib\\site-packages (from matplotlib!=3.6.1,>=3.4->seaborn) (1.2.0)\n",
      "Requirement already satisfied: cycler>=0.10 in c:\\users\\victor\\appdata\\local\\programs\\python\\python312\\lib\\site-packages (from matplotlib!=3.6.1,>=3.4->seaborn) (0.12.1)\n",
      "Requirement already satisfied: fonttools>=4.22.0 in c:\\users\\victor\\appdata\\local\\programs\\python\\python312\\lib\\site-packages (from matplotlib!=3.6.1,>=3.4->seaborn) (4.50.0)\n",
      "Requirement already satisfied: kiwisolver>=1.3.1 in c:\\users\\victor\\appdata\\local\\programs\\python\\python312\\lib\\site-packages (from matplotlib!=3.6.1,>=3.4->seaborn) (1.4.5)\n",
      "Requirement already satisfied: packaging>=20.0 in c:\\users\\victor\\appdata\\local\\programs\\python\\python312\\lib\\site-packages (from matplotlib!=3.6.1,>=3.4->seaborn) (24.0)\n",
      "Requirement already satisfied: pillow>=8 in c:\\users\\victor\\appdata\\local\\programs\\python\\python312\\lib\\site-packages (from matplotlib!=3.6.1,>=3.4->seaborn) (10.2.0)\n",
      "Requirement already satisfied: pyparsing>=2.3.1 in c:\\users\\victor\\appdata\\local\\programs\\python\\python312\\lib\\site-packages (from matplotlib!=3.6.1,>=3.4->seaborn) (3.1.2)\n",
      "Requirement already satisfied: python-dateutil>=2.7 in c:\\users\\victor\\appdata\\local\\programs\\python\\python312\\lib\\site-packages (from matplotlib!=3.6.1,>=3.4->seaborn) (2.9.0.post0)\n",
      "Requirement already satisfied: pytz>=2020.1 in c:\\users\\victor\\appdata\\local\\programs\\python\\python312\\lib\\site-packages (from pandas>=1.2->seaborn) (2024.1)\n",
      "Requirement already satisfied: tzdata>=2022.7 in c:\\users\\victor\\appdata\\local\\programs\\python\\python312\\lib\\site-packages (from pandas>=1.2->seaborn) (2024.1)\n",
      "Requirement already satisfied: six>=1.5 in c:\\users\\victor\\appdata\\local\\programs\\python\\python312\\lib\\site-packages (from python-dateutil>=2.7->matplotlib!=3.6.1,>=3.4->seaborn) (1.16.0)\n",
      "Note: you may need to restart the kernel to use updated packages.\n",
      "Requirement already satisfied: nltk in c:\\users\\victor\\appdata\\local\\programs\\python\\python312\\lib\\site-packages (3.8.1)\n",
      "Requirement already satisfied: click in c:\\users\\victor\\appdata\\local\\programs\\python\\python312\\lib\\site-packages (from nltk) (8.1.7)\n",
      "Requirement already satisfied: joblib in c:\\users\\victor\\appdata\\local\\programs\\python\\python312\\lib\\site-packages (from nltk) (1.3.2)\n",
      "Requirement already satisfied: regex>=2021.8.3 in c:\\users\\victor\\appdata\\local\\programs\\python\\python312\\lib\\site-packages (from nltk) (2023.12.25)\n",
      "Requirement already satisfied: tqdm in c:\\users\\victor\\appdata\\local\\programs\\python\\python312\\lib\\site-packages (from nltk) (4.66.2)\n",
      "Requirement already satisfied: colorama in c:\\users\\victor\\appdata\\local\\programs\\python\\python312\\lib\\site-packages (from click->nltk) (0.4.6)\n",
      "Note: you may need to restart the kernel to use updated packages.\n",
      "Requirement already satisfied: stats in c:\\users\\victor\\appdata\\local\\programs\\python\\python312\\lib\\site-packages (0.1.2a0)Note: you may need to restart the kernel to use updated packages.\n",
      "\n",
      "Requirement already satisfied: xgboost in c:\\users\\victor\\appdata\\local\\programs\\python\\python312\\lib\\site-packages (2.0.3)\n",
      "Requirement already satisfied: numpy in c:\\users\\victor\\appdata\\local\\programs\\python\\python312\\lib\\site-packages (from xgboost) (1.26.2)\n",
      "Requirement already satisfied: scipy in c:\\users\\victor\\appdata\\local\\programs\\python\\python312\\lib\\site-packages (from xgboost) (1.12.0)\n",
      "Note: you may need to restart the kernel to use updated packages.\n",
      "Requirement already satisfied: sweetviz in c:\\users\\victor\\appdata\\local\\programs\\python\\python312\\lib\\site-packages (2.3.1)\n",
      "Requirement already satisfied: pandas!=1.0.0,!=1.0.1,!=1.0.2,>=0.25.3 in c:\\users\\victor\\appdata\\local\\programs\\python\\python312\\lib\\site-packages (from sweetviz) (2.2.1)\n",
      "Requirement already satisfied: numpy>=1.16.0 in c:\\users\\victor\\appdata\\local\\programs\\python\\python312\\lib\\site-packages (from sweetviz) (1.26.2)\n",
      "Requirement already satisfied: matplotlib>=3.1.3 in c:\\users\\victor\\appdata\\local\\programs\\python\\python312\\lib\\site-packages (from sweetviz) (3.8.3)\n",
      "Requirement already satisfied: tqdm>=4.43.0 in c:\\users\\victor\\appdata\\local\\programs\\python\\python312\\lib\\site-packages (from sweetviz) (4.66.2)\n",
      "Requirement already satisfied: scipy>=1.3.2 in c:\\users\\victor\\appdata\\local\\programs\\python\\python312\\lib\\site-packages (from sweetviz) (1.12.0)\n",
      "Requirement already satisfied: jinja2>=2.11.1 in c:\\users\\victor\\appdata\\local\\programs\\python\\python312\\lib\\site-packages (from sweetviz) (3.1.3)\n",
      "Requirement already satisfied: importlib-resources>=1.2.0 in c:\\users\\victor\\appdata\\local\\programs\\python\\python312\\lib\\site-packages (from sweetviz) (6.4.0)\n",
      "Requirement already satisfied: MarkupSafe>=2.0 in c:\\users\\victor\\appdata\\local\\programs\\python\\python312\\lib\\site-packages (from jinja2>=2.11.1->sweetviz) (2.1.5)\n",
      "Requirement already satisfied: contourpy>=1.0.1 in c:\\users\\victor\\appdata\\local\\programs\\python\\python312\\lib\\site-packages (from matplotlib>=3.1.3->sweetviz) (1.2.0)\n",
      "Requirement already satisfied: cycler>=0.10 in c:\\users\\victor\\appdata\\local\\programs\\python\\python312\\lib\\site-packages (from matplotlib>=3.1.3->sweetviz) (0.12.1)\n",
      "Requirement already satisfied: fonttools>=4.22.0 in c:\\users\\victor\\appdata\\local\\programs\\python\\python312\\lib\\site-packages (from matplotlib>=3.1.3->sweetviz) (4.50.0)\n",
      "Requirement already satisfied: kiwisolver>=1.3.1 in c:\\users\\victor\\appdata\\local\\programs\\python\\python312\\lib\\site-packages (from matplotlib>=3.1.3->sweetviz) (1.4.5)\n",
      "Requirement already satisfied: packaging>=20.0 in c:\\users\\victor\\appdata\\local\\programs\\python\\python312\\lib\\site-packages (from matplotlib>=3.1.3->sweetviz) (24.0)\n",
      "Requirement already satisfied: pillow>=8 in c:\\users\\victor\\appdata\\local\\programs\\python\\python312\\lib\\site-packages (from matplotlib>=3.1.3->sweetviz) (10.2.0)\n",
      "Requirement already satisfied: pyparsing>=2.3.1 in c:\\users\\victor\\appdata\\local\\programs\\python\\python312\\lib\\site-packages (from matplotlib>=3.1.3->sweetviz) (3.1.2)\n",
      "Requirement already satisfied: python-dateutil>=2.7 in c:\\users\\victor\\appdata\\local\\programs\\python\\python312\\lib\\site-packages (from matplotlib>=3.1.3->sweetviz) (2.9.0.post0)\n",
      "Requirement already satisfied: pytz>=2020.1 in c:\\users\\victor\\appdata\\local\\programs\\python\\python312\\lib\\site-packages (from pandas!=1.0.0,!=1.0.1,!=1.0.2,>=0.25.3->sweetviz) (2024.1)\n",
      "Requirement already satisfied: tzdata>=2022.7 in c:\\users\\victor\\appdata\\local\\programs\\python\\python312\\lib\\site-packages (from pandas!=1.0.0,!=1.0.1,!=1.0.2,>=0.25.3->sweetviz) (2024.1)\n",
      "Requirement already satisfied: colorama in c:\\users\\victor\\appdata\\local\\programs\\python\\python312\\lib\\site-packages (from tqdm>=4.43.0->sweetviz) (0.4.6)\n",
      "Requirement already satisfied: six>=1.5 in c:\\users\\victor\\appdata\\local\\programs\\python\\python312\\lib\\site-packages (from python-dateutil>=2.7->matplotlib>=3.1.3->sweetviz) (1.16.0)\n",
      "Note: you may need to restart the kernel to use updated packages.\n",
      "Note: you may need to restart the kernel to use updated packages.\n"
     ]
    },
    {
     "name": "stderr",
     "output_type": "stream",
     "text": [
      "ERROR: Could not find a version that satisfies the requirement string (from versions: none)\n",
      "ERROR: No matching distribution found for string\n"
     ]
    }
   ],
   "source": [
    "# geo files for Brazil\n",
    "%pip install unidecode\n",
    "%pip install spacy\n",
    "%pip install seaborn\n",
    "%pip install nltk\n",
    "%pip install stats\n",
    "%pip install xgboost\n",
    "%pip install sweetviz\n",
    "%pip install string"
   ]
  },
  {
   "cell_type": "markdown",
   "id": "d1945518-f8c4-4f7d-ac9c-ef72d0869d09",
   "metadata": {},
   "source": [
    "# 2. Import Packages"
   ]
  },
  {
   "cell_type": "code",
   "execution_count": 107,
   "id": "3c23c32e-0bab-4fb9-a35f-b04f4f0b93a9",
   "metadata": {},
   "outputs": [],
   "source": [
    "import pandas as pd\n",
    "import numpy as np\n",
    "import os\n",
    "import seaborn as sns\n",
    "import spacy\n",
    "import string\n",
    "import regex as re\n",
    "from unidecode import unidecode\n",
    "from scipy import stats\n",
    "import matplotlib.pyplot as plt\n",
    "from sklearn.model_selection import train_test_split\n",
    "from sklearn.feature_extraction.text import CountVectorizer\n",
    "from sklearn.neural_network import MLPClassifier\n",
    "from sklearn.preprocessing import StandardScaler\n",
    "from sklearn.metrics import roc_curve, auc, confusion_matrix, accuracy_score\n",
    "from sklearn import preprocessing\n",
    "from sklearn.model_selection import GridSearchCV"
   ]
  },
  {
   "cell_type": "markdown",
   "id": "bc1de613",
   "metadata": {},
   "source": [
    "# 3. Load Data"
   ]
  },
  {
   "cell_type": "code",
   "execution_count": 108,
   "id": "dbab8de1",
   "metadata": {},
   "outputs": [],
   "source": [
    "customers_df = pd.read_csv(\"olist_customers_dataset.csv\")\n",
    "geolocation_df = pd.read_csv(\"olist_geolocation_dataset.csv\")\n",
    "order_items_df = pd.read_csv(\"olist_order_items_dataset.csv\")\n",
    "order_payments_df = pd.read_csv(\"olist_order_payments_dataset.csv\")\n",
    "order_reviews_df = pd.read_csv(\"olist_order_reviews_dataset.csv\")\n",
    "orders_df = pd.read_csv(\"olist_orders_dataset.csv\")\n",
    "products_df = pd.read_csv(\"olist_products_dataset.csv\")\n",
    "sellers_df = pd.read_csv(\"olist_sellers_dataset.csv\")\n",
    "product_category_name_translation_df = pd.read_csv(\"product_category_name_translation.csv\")"
   ]
  },
  {
   "cell_type": "markdown",
   "id": "77b9ef76",
   "metadata": {},
   "source": [
    "# 4. Data Wreangling"
   ]
  },
  {
   "cell_type": "markdown",
   "id": "5b389da8",
   "metadata": {},
   "source": [
    "### 4.1. Merge Data"
   ]
  },
  {
   "cell_type": "code",
   "execution_count": 109,
   "id": "6702918d",
   "metadata": {},
   "outputs": [],
   "source": [
    "df = orders_df.merge(order_reviews_df, on='order_id')\\\n",
    "                   .merge(order_items_df, on='order_id')\\\n",
    "                   .merge(products_df, on='product_id')\\\n",
    "                   .merge(sellers_df, on='seller_id')\\\n",
    "                   .merge(geolocation_df, left_on='seller_zip_code_prefix', right_on='geolocation_zip_code_prefix')"
   ]
  },
  {
   "cell_type": "markdown",
   "id": "fb6e9aba",
   "metadata": {},
   "source": [
    "### 4.2. Selected Columns Important"
   ]
  },
  {
   "cell_type": "code",
   "execution_count": 110,
   "id": "f478eb3b",
   "metadata": {},
   "outputs": [],
   "source": [
    "selected_columns = ['review_id', 'review_score', 'review_comment_title', \n",
    "                    'review_comment_message', 'review_creation_date', \n",
    "                    'review_answer_timestamp', 'product_id', \n",
    "                    'geolocation_lat', 'geolocation_lng']\n",
    "\n",
    "full_df = df.loc[:, selected_columns]"
   ]
  },
  {
   "cell_type": "markdown",
   "id": "141337d4",
   "metadata": {},
   "source": [
    "### 4.3. Conversion Columns Data in datetime"
   ]
  },
  {
   "cell_type": "code",
   "execution_count": 111,
   "id": "8059dc98",
   "metadata": {},
   "outputs": [],
   "source": [
    "datetime_columns = ['review_creation_date', 'review_answer_timestamp']\n",
    "full_df[datetime_columns] = full_df[datetime_columns].apply(pd.to_datetime)"
   ]
  },
  {
   "cell_type": "markdown",
   "id": "36d658e3",
   "metadata": {},
   "source": [
    "### 4.4. Remove Space Blank Excessive and Remove Broke Line"
   ]
  },
  {
   "cell_type": "code",
   "execution_count": 112,
   "id": "20ab2481",
   "metadata": {},
   "outputs": [],
   "source": [
    "full_df['review_comment_message'] = full_df['review_comment_message'].str.replace('\\n', ' ')\n",
    "full_df['review_comment_message'] = full_df['review_comment_message'].apply(lambda x: re.sub(r'\\s+', ' ', str(x)))\n",
    "full_df = full_df[full_df['review_comment_message'].str.strip() != '']"
   ]
  },
  {
   "cell_type": "markdown",
   "id": "8668f077",
   "metadata": {},
   "source": [
    "### 4.5. Drop Duplicates and NA"
   ]
  },
  {
   "cell_type": "code",
   "execution_count": 113,
   "id": "219cd2e3",
   "metadata": {},
   "outputs": [],
   "source": [
    "full_df = full_df.drop_duplicates(subset=['review_id'])\n",
    "full_df['review_comment_message'] = full_df['review_comment_message'].str.strip()\n",
    "full_df = full_df[~full_df['review_comment_message'].str.contains('nan')]\n",
    "full_df = full_df.dropna(subset=['review_comment_message'])\n",
    "full_df = full_df.dropna(subset=['review_score'])"
   ]
  },
  {
   "cell_type": "markdown",
   "id": "bd526381",
   "metadata": {},
   "source": [
    "### 4.6. Conversion Column Message in Lower Case"
   ]
  },
  {
   "cell_type": "code",
   "execution_count": 114,
   "id": "10df62a8",
   "metadata": {},
   "outputs": [],
   "source": [
    "full_df['review_comment_message'] = full_df['review_comment_message'].str.lower()"
   ]
  },
  {
   "cell_type": "markdown",
   "id": "8713baf9",
   "metadata": {},
   "source": [
    "### 4.7. Removing Punctuation, Exemple (\".\", \"!\")"
   ]
  },
  {
   "cell_type": "code",
   "execution_count": 115,
   "id": "3a3d875e",
   "metadata": {},
   "outputs": [],
   "source": [
    "punct = string.punctuation\n",
    "punct = punct.replace(\"'\",\"\")\n",
    "full_df['review_comment_message'] = full_df['review_comment_message'].str.translate(str.maketrans(\"\",\"\",punct))"
   ]
  },
  {
   "cell_type": "markdown",
   "id": "b65aa144",
   "metadata": {},
   "source": [
    "### 4.8. Space removed at the beginning and end of the message"
   ]
  },
  {
   "cell_type": "code",
   "execution_count": 116,
   "id": "2669f0a6",
   "metadata": {},
   "outputs": [],
   "source": [
    "full_df['review_comment_message'] = full_df['review_comment_message'].str.strip()"
   ]
  },
  {
   "cell_type": "markdown",
   "id": "b841a711",
   "metadata": {},
   "source": [
    "### 4.9. Removing Emoji"
   ]
  },
  {
   "cell_type": "code",
   "execution_count": 117,
   "id": "fd99cdcc",
   "metadata": {},
   "outputs": [],
   "source": [
    "emoji_pattern = re.compile(\"[\"\n",
    "                           u\"\\U0001F600-\\U0001F64F\"  # emoticons\n",
    "                           u\"\\U0001F300-\\U0001F5FF\"  # símbolos e pictogramas\n",
    "                           u\"\\U0001F680-\\U0001F6FF\"  # transporte e símbolos de mapa\n",
    "                           u\"\\U0001F1E0-\\U0001F1FF\"  # bandeiras (iOS)\n",
    "                           u\"\\U00002702-\\U000027B0\"\n",
    "                           u\"\\U000024C2-\\U0001F251\"\n",
    "                           \"]+\", flags=re.UNICODE)\n",
    "\n",
    "full_df['review_comment_message'] = full_df['review_comment_message'].apply(lambda x: emoji_pattern.sub(r'', x))"
   ]
  },
  {
   "cell_type": "markdown",
   "id": "37648f70",
   "metadata": {},
   "source": [
    "### 4.10. Removing Sites and Blogs"
   ]
  },
  {
   "cell_type": "code",
   "execution_count": 118,
   "id": "47be4405",
   "metadata": {},
   "outputs": [],
   "source": [
    "http = r\"http\\S+|www\\.\\S+\"\n",
    "pattern = re.compile(r\"({})\".format(http))\n",
    "full_df['review_comment_message'] = full_df['review_comment_message'].apply(lambda x: pattern.sub(r'', x))"
   ]
  },
  {
   "cell_type": "markdown",
   "id": "f2534de1",
   "metadata": {},
   "source": [
    "### 4.11. Removing Accentuation"
   ]
  },
  {
   "cell_type": "code",
   "execution_count": 119,
   "id": "67aee8d0",
   "metadata": {},
   "outputs": [],
   "source": [
    "full_df['review_comment_message'] = full_df['review_comment_message'].apply(lambda x: unidecode(x))"
   ]
  },
  {
   "cell_type": "markdown",
   "id": "1b18a2ee",
   "metadata": {},
   "source": [
    "### 4.12. Lematization"
   ]
  },
  {
   "cell_type": "code",
   "execution_count": 120,
   "id": "6c29db31",
   "metadata": {},
   "outputs": [],
   "source": [
    "nlp = spacy.load('pt_core_news_sm')\n",
    "full_df['review_comment_message'] = full_df['review_comment_message'].apply(lambda x: \" \".join([token.lemma_ for token in nlp(x)]))"
   ]
  },
  {
   "cell_type": "markdown",
   "id": "24ad69a2",
   "metadata": {},
   "source": [
    "### 4.13. Remove Numbers"
   ]
  },
  {
   "cell_type": "code",
   "execution_count": 121,
   "id": "87ce7029",
   "metadata": {},
   "outputs": [],
   "source": [
    "full_df['review_comment_message'] = full_df['review_comment_message'].apply(lambda x: re.sub(r'\\d+', '', x))"
   ]
  },
  {
   "cell_type": "markdown",
   "id": "c6920a49",
   "metadata": {},
   "source": [
    "### 4.14. Join Word \"Nao\" with Next Word"
   ]
  },
  {
   "cell_type": "code",
   "execution_count": 122,
   "id": "110bb39d",
   "metadata": {},
   "outputs": [],
   "source": [
    "full_df['review_comment_message'] = full_df['review_comment_message'].apply(lambda x: re.sub(r'nao\\s+(\\w+)', r'nao\\1', x))"
   ]
  },
  {
   "cell_type": "code",
   "execution_count": 123,
   "id": "a998d304",
   "metadata": {},
   "outputs": [
    {
     "data": {
      "text/html": [
       "<div>\n",
       "<style scoped>\n",
       "    .dataframe tbody tr th:only-of-type {\n",
       "        vertical-align: middle;\n",
       "    }\n",
       "\n",
       "    .dataframe tbody tr th {\n",
       "        vertical-align: top;\n",
       "    }\n",
       "\n",
       "    .dataframe thead th {\n",
       "        text-align: right;\n",
       "    }\n",
       "</style>\n",
       "<table border=\"1\" class=\"dataframe\">\n",
       "  <thead>\n",
       "    <tr style=\"text-align: right;\">\n",
       "      <th></th>\n",
       "      <th>review_id</th>\n",
       "      <th>review_score</th>\n",
       "      <th>review_comment_title</th>\n",
       "      <th>review_comment_message</th>\n",
       "      <th>review_creation_date</th>\n",
       "      <th>review_answer_timestamp</th>\n",
       "      <th>product_id</th>\n",
       "      <th>geolocation_lat</th>\n",
       "      <th>geolocation_lng</th>\n",
       "    </tr>\n",
       "  </thead>\n",
       "  <tbody>\n",
       "    <tr>\n",
       "      <th>0</th>\n",
       "      <td>a54f0611adc9ed256b57ede6b6eb5114</td>\n",
       "      <td>4</td>\n",
       "      <td>NaN</td>\n",
       "      <td>naotestar o produto ainda mas ele vir correto e em bom condicoe apenas o caixa que vir bem amassar e danificar o que ficarar chato pois se tratar de um presente</td>\n",
       "      <td>2017-10-11</td>\n",
       "      <td>2017-10-12 03:43:48</td>\n",
       "      <td>87285b34884572647811a353c7ac498a</td>\n",
       "      <td>-23.680114</td>\n",
       "      <td>-46.452454</td>\n",
       "    </tr>\n",
       "    <tr>\n",
       "      <th>207</th>\n",
       "      <td>8d5266042046a06655c8db133d120ba5</td>\n",
       "      <td>4</td>\n",
       "      <td>Muito boa a loja</td>\n",
       "      <td>muito bom o produto</td>\n",
       "      <td>2018-08-08</td>\n",
       "      <td>2018-08-08 18:37:50</td>\n",
       "      <td>595fac2a385ac33a80bd5114aec74eb8</td>\n",
       "      <td>-19.810119</td>\n",
       "      <td>-43.984727</td>\n",
       "    </tr>\n",
       "    <tr>\n",
       "      <th>448</th>\n",
       "      <td>359d03e676b3c069f62cadba8dd3f6e8</td>\n",
       "      <td>5</td>\n",
       "      <td>NaN</td>\n",
       "      <td>o produto ser exatamente o que eu esperar e estar descrito em o site e chegar bem antes de o data prever</td>\n",
       "      <td>2017-12-03</td>\n",
       "      <td>2017-12-05 19:21:58</td>\n",
       "      <td>d0b61bfb1de832b15ba9d266ca96e5b0</td>\n",
       "      <td>-19.840168</td>\n",
       "      <td>-43.923299</td>\n",
       "    </tr>\n",
       "    <tr>\n",
       "      <th>620</th>\n",
       "      <td>e07549ef5311abcc92ba1784b093fb56</td>\n",
       "      <td>2</td>\n",
       "      <td>NaN</td>\n",
       "      <td>fiquei tristir por n ter eu atendir</td>\n",
       "      <td>2017-05-13</td>\n",
       "      <td>2017-05-13 20:25:42</td>\n",
       "      <td>a1804276d9941ac0733cfd409f5206eb</td>\n",
       "      <td>-23.536892</td>\n",
       "      <td>-46.713111</td>\n",
       "    </tr>\n",
       "    <tr>\n",
       "      <th>1468</th>\n",
       "      <td>15898b543726a832d4137fbef5d1d00e</td>\n",
       "      <td>1</td>\n",
       "      <td>NaN</td>\n",
       "      <td>aguardar retorno de o loja</td>\n",
       "      <td>2017-05-30</td>\n",
       "      <td>2017-05-30 23:13:47</td>\n",
       "      <td>08574b074924071f4e201e151b152b4e</td>\n",
       "      <td>-20.297537</td>\n",
       "      <td>-40.400869</td>\n",
       "    </tr>\n",
       "  </tbody>\n",
       "</table>\n",
       "</div>"
      ],
      "text/plain": [
       "                             review_id  review_score review_comment_title  \\\n",
       "0     a54f0611adc9ed256b57ede6b6eb5114             4                  NaN   \n",
       "207   8d5266042046a06655c8db133d120ba5             4     Muito boa a loja   \n",
       "448   359d03e676b3c069f62cadba8dd3f6e8             5                  NaN   \n",
       "620   e07549ef5311abcc92ba1784b093fb56             2                  NaN   \n",
       "1468  15898b543726a832d4137fbef5d1d00e             1                  NaN   \n",
       "\n",
       "                                                                                                                                                review_comment_message  \\\n",
       "0     naotestar o produto ainda mas ele vir correto e em bom condicoe apenas o caixa que vir bem amassar e danificar o que ficarar chato pois se tratar de um presente   \n",
       "207                                                                                                                                                muito bom o produto   \n",
       "448                                                           o produto ser exatamente o que eu esperar e estar descrito em o site e chegar bem antes de o data prever   \n",
       "620                                                                                                                                fiquei tristir por n ter eu atendir   \n",
       "1468                                                                                                                                        aguardar retorno de o loja   \n",
       "\n",
       "     review_creation_date review_answer_timestamp  \\\n",
       "0              2017-10-11     2017-10-12 03:43:48   \n",
       "207            2018-08-08     2018-08-08 18:37:50   \n",
       "448            2017-12-03     2017-12-05 19:21:58   \n",
       "620            2017-05-13     2017-05-13 20:25:42   \n",
       "1468           2017-05-30     2017-05-30 23:13:47   \n",
       "\n",
       "                            product_id  geolocation_lat  geolocation_lng  \n",
       "0     87285b34884572647811a353c7ac498a       -23.680114       -46.452454  \n",
       "207   595fac2a385ac33a80bd5114aec74eb8       -19.810119       -43.984727  \n",
       "448   d0b61bfb1de832b15ba9d266ca96e5b0       -19.840168       -43.923299  \n",
       "620   a1804276d9941ac0733cfd409f5206eb       -23.536892       -46.713111  \n",
       "1468  08574b074924071f4e201e151b152b4e       -20.297537       -40.400869  "
      ]
     },
     "execution_count": 123,
     "metadata": {},
     "output_type": "execute_result"
    }
   ],
   "source": [
    "full_df.head(5)"
   ]
  },
  {
   "cell_type": "markdown",
   "id": "ef59147d-4d07-4cdd-be78-24d45ac945fb",
   "metadata": {},
   "source": [
    "# 5. Previus Analyze"
   ]
  },
  {
   "cell_type": "code",
   "execution_count": 124,
   "id": "6cc47e47-a22d-4740-923d-76da291fff95",
   "metadata": {
    "scrolled": true
   },
   "outputs": [
    {
     "data": {
      "text/html": [
       "<div>\n",
       "<style scoped>\n",
       "    .dataframe tbody tr th:only-of-type {\n",
       "        vertical-align: middle;\n",
       "    }\n",
       "\n",
       "    .dataframe tbody tr th {\n",
       "        vertical-align: top;\n",
       "    }\n",
       "\n",
       "    .dataframe thead th {\n",
       "        text-align: right;\n",
       "    }\n",
       "</style>\n",
       "<table border=\"1\" class=\"dataframe\">\n",
       "  <thead>\n",
       "    <tr style=\"text-align: right;\">\n",
       "      <th></th>\n",
       "      <th>Column</th>\n",
       "      <th>dtypes</th>\n",
       "      <th># Missing</th>\n",
       "      <th># Unique</th>\n",
       "      <th>Example</th>\n",
       "      <th>Entropy</th>\n",
       "    </tr>\n",
       "  </thead>\n",
       "  <tbody>\n",
       "    <tr>\n",
       "      <th>0</th>\n",
       "      <td>review_id</td>\n",
       "      <td>object</td>\n",
       "      <td>0</td>\n",
       "      <td>39901</td>\n",
       "      <td>a54f0611adc9ed256b57ede6b6eb5114</td>\n",
       "      <td>15.28</td>\n",
       "    </tr>\n",
       "    <tr>\n",
       "      <th>1</th>\n",
       "      <td>review_score</td>\n",
       "      <td>int64</td>\n",
       "      <td>0</td>\n",
       "      <td>5</td>\n",
       "      <td>4</td>\n",
       "      <td>1.90</td>\n",
       "    </tr>\n",
       "    <tr>\n",
       "      <th>2</th>\n",
       "      <td>review_comment_title</td>\n",
       "      <td>object</td>\n",
       "      <td>30243</td>\n",
       "      <td>4064</td>\n",
       "      <td>NaN</td>\n",
       "      <td>10.00</td>\n",
       "    </tr>\n",
       "    <tr>\n",
       "      <th>3</th>\n",
       "      <td>review_comment_message</td>\n",
       "      <td>object</td>\n",
       "      <td>0</td>\n",
       "      <td>32610</td>\n",
       "      <td>naotestar o produto ainda mas ele vir correto e em bom condicoe apenas o caixa que vir bem amassar e danificar o que ficarar chato pois se tratar de um presente</td>\n",
       "      <td>14.23</td>\n",
       "    </tr>\n",
       "    <tr>\n",
       "      <th>4</th>\n",
       "      <td>review_creation_date</td>\n",
       "      <td>datetime64[ns]</td>\n",
       "      <td>0</td>\n",
       "      <td>618</td>\n",
       "      <td>2017-10-11 00:00:00</td>\n",
       "      <td>8.78</td>\n",
       "    </tr>\n",
       "    <tr>\n",
       "      <th>5</th>\n",
       "      <td>review_answer_timestamp</td>\n",
       "      <td>datetime64[ns]</td>\n",
       "      <td>0</td>\n",
       "      <td>39875</td>\n",
       "      <td>2017-10-12 03:43:48</td>\n",
       "      <td>15.28</td>\n",
       "    </tr>\n",
       "    <tr>\n",
       "      <th>6</th>\n",
       "      <td>product_id</td>\n",
       "      <td>object</td>\n",
       "      <td>0</td>\n",
       "      <td>17919</td>\n",
       "      <td>87285b34884572647811a353c7ac498a</td>\n",
       "      <td>13.17</td>\n",
       "    </tr>\n",
       "    <tr>\n",
       "      <th>7</th>\n",
       "      <td>geolocation_lat</td>\n",
       "      <td>float64</td>\n",
       "      <td>0</td>\n",
       "      <td>1891</td>\n",
       "      <td>-23.680114</td>\n",
       "      <td>8.82</td>\n",
       "    </tr>\n",
       "    <tr>\n",
       "      <th>8</th>\n",
       "      <td>geolocation_lng</td>\n",
       "      <td>float64</td>\n",
       "      <td>0</td>\n",
       "      <td>1891</td>\n",
       "      <td>-46.452454</td>\n",
       "      <td>8.82</td>\n",
       "    </tr>\n",
       "  </tbody>\n",
       "</table>\n",
       "</div>"
      ],
      "text/plain": [
       "                    Column          dtypes  # Missing  # Unique  \\\n",
       "0                review_id          object          0     39901   \n",
       "1             review_score           int64          0         5   \n",
       "2     review_comment_title          object      30243      4064   \n",
       "3   review_comment_message          object          0     32610   \n",
       "4     review_creation_date  datetime64[ns]          0       618   \n",
       "5  review_answer_timestamp  datetime64[ns]          0     39875   \n",
       "6               product_id          object          0     17919   \n",
       "7          geolocation_lat         float64          0      1891   \n",
       "8          geolocation_lng         float64          0      1891   \n",
       "\n",
       "                                                                                                                                                            Example  \\\n",
       "0                                                                                                                                  a54f0611adc9ed256b57ede6b6eb5114   \n",
       "1                                                                                                                                                                 4   \n",
       "2                                                                                                                                                               NaN   \n",
       "3  naotestar o produto ainda mas ele vir correto e em bom condicoe apenas o caixa que vir bem amassar e danificar o que ficarar chato pois se tratar de um presente   \n",
       "4                                                                                                                                               2017-10-11 00:00:00   \n",
       "5                                                                                                                                               2017-10-12 03:43:48   \n",
       "6                                                                                                                                  87285b34884572647811a353c7ac498a   \n",
       "7                                                                                                                                                        -23.680114   \n",
       "8                                                                                                                                                        -46.452454   \n",
       "\n",
       "   Entropy  \n",
       "0    15.28  \n",
       "1     1.90  \n",
       "2    10.00  \n",
       "3    14.23  \n",
       "4     8.78  \n",
       "5    15.28  \n",
       "6    13.17  \n",
       "7     8.82  \n",
       "8     8.82  "
      ]
     },
     "execution_count": 124,
     "metadata": {},
     "output_type": "execute_result"
    }
   ],
   "source": [
    "def df_metadata(df):\n",
    "    metadata = pd.DataFrame(df.dtypes,columns=['dtypes'])\n",
    "    metadata = metadata.reset_index()\n",
    "    metadata['Column'] = metadata['index']\n",
    "    metadata = metadata[['Column','dtypes']]\n",
    "    metadata['# Missing'] = df.isnull().sum().values    \n",
    "    metadata['# Unique'] = df.nunique().values\n",
    "    metadata['Example'] = df.loc[0].values\n",
    "\n",
    "    for name in metadata['Column'].value_counts().index:\n",
    "        metadata.loc[metadata['Column'] == name, 'Entropy'] = round(stats.entropy(df[name].value_counts(normalize=True), base=2),2) \n",
    "\n",
    "    return metadata\n",
    "    \n",
    "df_metadata(full_df)"
   ]
  },
  {
   "cell_type": "code",
   "execution_count": 125,
   "id": "95226a2b",
   "metadata": {},
   "outputs": [
    {
     "data": {
      "image/png": "[encoded data removed]",
      "text/plain": [
       "<Figure size 500x200 with 1 Axes>"
      ]
     },
     "metadata": {},
     "output_type": "display_data"
    }
   ],
   "source": [
    "ax = full_df['review_score'].value_counts().sort_index() \\\n",
    "    .plot(kind='bar',\n",
    "          title='Count of Reviews by Stars',\n",
    "          figsize=(5,2))"
   ]
  },
  {
   "cell_type": "code",
   "execution_count": 126,
   "id": "4357f9a4",
   "metadata": {},
   "outputs": [
    {
     "name": "stdout",
     "output_type": "stream",
     "text": [
      "aguardar retorno de o loja\n"
     ]
    }
   ],
   "source": [
    "example = full_df['review_comment_message'].iloc[4]\n",
    "print(example)"
   ]
  },
  {
   "cell_type": "markdown",
   "id": "6fc88e89",
   "metadata": {},
   "source": [
    "# 6. Training Model"
   ]
  },
  {
   "cell_type": "markdown",
   "id": "1e6a1d1d",
   "metadata": {},
   "source": [
    "### 6.1. Separeting Dataframe Training and Dataframe Test After Training"
   ]
  },
  {
   "cell_type": "code",
   "execution_count": 164,
   "id": "700b93c7",
   "metadata": {},
   "outputs": [],
   "source": [
    "# Amostra os dados para df_train\n",
    "df_train = full_df.sample(frac=0.95, random_state=45, ignore_index=True)\n",
    "\n",
    "# Seleciona as linhas que não estão presentes em df_train para df_remaining\n",
    "df_remaining = full_df.loc[~full_df.index.isin(df_train.index)].reset_index(drop=True)"
   ]
  },
  {
   "cell_type": "code",
   "execution_count": 166,
   "id": "f2c2b610",
   "metadata": {},
   "outputs": [
    {
     "name": "stdout",
     "output_type": "stream",
     "text": [
      "Número de amostras positivas (após balanceamento): 9752\n",
      "Número de amostras positivas no DataFrame balanceado: 9752\n",
      "Número de amostras negativas no DataFrame balanceado: 9752\n"
     ]
    }
   ],
   "source": [
    "df_positive = df_train[df_train['review_score'] >= 3]  # considerando 3, 4 e 5 como positivos\n",
    "df_negative = df_train[df_train['review_score'] < 3]  # considerando 1 e 2 como negativos\n",
    "\n",
    "# Igualar o número de amostras positivas e negativas\n",
    "df_positive_equal = df_positive.sample(n=len(df_negative), random_state=42)\n",
    "\n",
    "# Verificar o número de amostras após o balanceamento\n",
    "print(\"Número de amostras positivas (após balanceamento):\", len(df_positive_equal))\n",
    "\n",
    "# Concatenar os DataFrames positivo e negativo igualizados\n",
    "df_balanced = pd.concat([df_positive_equal, df_negative], ignore_index=True)\n",
    "\n",
    "# Verificar novamente o número de amostras positivas e negativas no DataFrame balanceado\n",
    "print(\"Número de amostras positivas no DataFrame balanceado:\", len(df_balanced[df_balanced['review_score'] >= 3]))\n",
    "print(\"Número de amostras negativas no DataFrame balanceado:\", len(df_balanced[df_balanced['review_score'] < 3]))"
   ]
  },
  {
   "cell_type": "markdown",
   "id": "407fc8cb",
   "metadata": {},
   "source": [
    "### 6.2. Classifier Review Score Negative with 0 (Review 1 or 2) and Positive with 1 (Review 3,4 or 5)"
   ]
  },
  {
   "cell_type": "code",
   "execution_count": 167,
   "id": "0e3a6350",
   "metadata": {},
   "outputs": [],
   "source": [
    "df_balanced['sentiment'] = df_balanced['review_score'].apply(lambda x: 0 if x in [1,2] else 1)"
   ]
  },
  {
   "cell_type": "code",
   "execution_count": 168,
   "id": "2f0beed3",
   "metadata": {},
   "outputs": [
    {
     "data": {
      "text/html": [
       "<div>\n",
       "<style scoped>\n",
       "    .dataframe tbody tr th:only-of-type {\n",
       "        vertical-align: middle;\n",
       "    }\n",
       "\n",
       "    .dataframe tbody tr th {\n",
       "        vertical-align: top;\n",
       "    }\n",
       "\n",
       "    .dataframe thead th {\n",
       "        text-align: right;\n",
       "    }\n",
       "</style>\n",
       "<table border=\"1\" class=\"dataframe\">\n",
       "  <thead>\n",
       "    <tr style=\"text-align: right;\">\n",
       "      <th></th>\n",
       "      <th>review_id</th>\n",
       "      <th>review_score</th>\n",
       "      <th>review_comment_title</th>\n",
       "      <th>review_comment_message</th>\n",
       "      <th>review_creation_date</th>\n",
       "      <th>review_answer_timestamp</th>\n",
       "      <th>product_id</th>\n",
       "      <th>geolocation_lat</th>\n",
       "      <th>geolocation_lng</th>\n",
       "      <th>sentiment</th>\n",
       "    </tr>\n",
       "  </thead>\n",
       "  <tbody>\n",
       "    <tr>\n",
       "      <th>0</th>\n",
       "      <td>234c62f4176082cdf11f9c8b806be428</td>\n",
       "      <td>5</td>\n",
       "      <td>Bom produto</td>\n",
       "      <td>grande e confortavel</td>\n",
       "      <td>2018-08-15</td>\n",
       "      <td>2018-08-19 12:27:49</td>\n",
       "      <td>bbc3a3f2596e849548463e3a46d833f0</td>\n",
       "      <td>-22.541720</td>\n",
       "      <td>-47.427681</td>\n",
       "      <td>1</td>\n",
       "    </tr>\n",
       "    <tr>\n",
       "      <th>1</th>\n",
       "      <td>e98d6e4946f31d8e1398284b30e2bb9a</td>\n",
       "      <td>5</td>\n",
       "      <td>NaN</td>\n",
       "      <td>o produto chegar com agilidade</td>\n",
       "      <td>2017-08-22</td>\n",
       "      <td>2017-08-23 00:38:33</td>\n",
       "      <td>51b10a13b460cebc64e1325e7f228ae8</td>\n",
       "      <td>-22.382941</td>\n",
       "      <td>-46.946641</td>\n",
       "      <td>1</td>\n",
       "    </tr>\n",
       "    <tr>\n",
       "      <th>2</th>\n",
       "      <td>25ef44d9d1ebcc4828775fe824217661</td>\n",
       "      <td>4</td>\n",
       "      <td>NaN</td>\n",
       "      <td>otimo</td>\n",
       "      <td>2017-08-23</td>\n",
       "      <td>2017-08-23 23:33:36</td>\n",
       "      <td>be62243c73473ddb40dca0d1cf38bc87</td>\n",
       "      <td>-23.540828</td>\n",
       "      <td>-46.512303</td>\n",
       "      <td>1</td>\n",
       "    </tr>\n",
       "    <tr>\n",
       "      <th>3</th>\n",
       "      <td>39f79f67e5dd20b5ea25613e5f501ed8</td>\n",
       "      <td>5</td>\n",
       "      <td>NaN</td>\n",
       "      <td>muito bom obrigar</td>\n",
       "      <td>2017-08-25</td>\n",
       "      <td>2017-08-25 22:06:56</td>\n",
       "      <td>154e7e31ebfa092203795c972e5804a6</td>\n",
       "      <td>-23.665703</td>\n",
       "      <td>-46.518082</td>\n",
       "      <td>1</td>\n",
       "    </tr>\n",
       "    <tr>\n",
       "      <th>4</th>\n",
       "      <td>4e8c86732da5e01d040d145bc894e7c8</td>\n",
       "      <td>4</td>\n",
       "      <td>NaN</td>\n",
       "      <td>o entrega ser fazer em o prazo</td>\n",
       "      <td>2018-01-11</td>\n",
       "      <td>2018-01-12 03:53:12</td>\n",
       "      <td>4308439e0d80d5fe03f17ba83b57c493</td>\n",
       "      <td>-23.523996</td>\n",
       "      <td>-46.512943</td>\n",
       "      <td>1</td>\n",
       "    </tr>\n",
       "  </tbody>\n",
       "</table>\n",
       "</div>"
      ],
      "text/plain": [
       "                          review_id  review_score review_comment_title  \\\n",
       "0  234c62f4176082cdf11f9c8b806be428             5          Bom produto   \n",
       "1  e98d6e4946f31d8e1398284b30e2bb9a             5                  NaN   \n",
       "2  25ef44d9d1ebcc4828775fe824217661             4                  NaN   \n",
       "3  39f79f67e5dd20b5ea25613e5f501ed8             5                  NaN   \n",
       "4  4e8c86732da5e01d040d145bc894e7c8             4                  NaN   \n",
       "\n",
       "           review_comment_message review_creation_date  \\\n",
       "0            grande e confortavel           2018-08-15   \n",
       "1  o produto chegar com agilidade           2017-08-22   \n",
       "2                           otimo           2017-08-23   \n",
       "3               muito bom obrigar           2017-08-25   \n",
       "4  o entrega ser fazer em o prazo           2018-01-11   \n",
       "\n",
       "  review_answer_timestamp                        product_id  geolocation_lat  \\\n",
       "0     2018-08-19 12:27:49  bbc3a3f2596e849548463e3a46d833f0       -22.541720   \n",
       "1     2017-08-23 00:38:33  51b10a13b460cebc64e1325e7f228ae8       -22.382941   \n",
       "2     2017-08-23 23:33:36  be62243c73473ddb40dca0d1cf38bc87       -23.540828   \n",
       "3     2017-08-25 22:06:56  154e7e31ebfa092203795c972e5804a6       -23.665703   \n",
       "4     2018-01-12 03:53:12  4308439e0d80d5fe03f17ba83b57c493       -23.523996   \n",
       "\n",
       "   geolocation_lng  sentiment  \n",
       "0       -47.427681          1  \n",
       "1       -46.946641          1  \n",
       "2       -46.512303          1  \n",
       "3       -46.518082          1  \n",
       "4       -46.512943          1  "
      ]
     },
     "execution_count": 168,
     "metadata": {},
     "output_type": "execute_result"
    }
   ],
   "source": [
    "df_balanced.head(5)"
   ]
  },
  {
   "cell_type": "markdown",
   "id": "f1b0029b",
   "metadata": {},
   "source": [
    "### 6.3. Selecting Columns Necessary for Training"
   ]
  },
  {
   "cell_type": "code",
   "execution_count": 169,
   "id": "d7258faf",
   "metadata": {},
   "outputs": [],
   "source": [
    "selected_columns = ['review_comment_message', 'sentiment']\n",
    "df_classification = df_balanced.loc[:, selected_columns]"
   ]
  },
  {
   "cell_type": "code",
   "execution_count": 170,
   "id": "82abb8ae",
   "metadata": {},
   "outputs": [
    {
     "data": {
      "text/html": [
       "<div>\n",
       "<style scoped>\n",
       "    .dataframe tbody tr th:only-of-type {\n",
       "        vertical-align: middle;\n",
       "    }\n",
       "\n",
       "    .dataframe tbody tr th {\n",
       "        vertical-align: top;\n",
       "    }\n",
       "\n",
       "    .dataframe thead th {\n",
       "        text-align: right;\n",
       "    }\n",
       "</style>\n",
       "<table border=\"1\" class=\"dataframe\">\n",
       "  <thead>\n",
       "    <tr style=\"text-align: right;\">\n",
       "      <th></th>\n",
       "      <th>review_comment_message</th>\n",
       "      <th>sentiment</th>\n",
       "    </tr>\n",
       "  </thead>\n",
       "  <tbody>\n",
       "    <tr>\n",
       "      <th>0</th>\n",
       "      <td>grande e confortavel</td>\n",
       "      <td>1</td>\n",
       "    </tr>\n",
       "    <tr>\n",
       "      <th>1</th>\n",
       "      <td>o produto chegar com agilidade</td>\n",
       "      <td>1</td>\n",
       "    </tr>\n",
       "    <tr>\n",
       "      <th>2</th>\n",
       "      <td>otimo</td>\n",
       "      <td>1</td>\n",
       "    </tr>\n",
       "    <tr>\n",
       "      <th>3</th>\n",
       "      <td>muito bom obrigar</td>\n",
       "      <td>1</td>\n",
       "    </tr>\n",
       "    <tr>\n",
       "      <th>4</th>\n",
       "      <td>o entrega ser fazer em o prazo</td>\n",
       "      <td>1</td>\n",
       "    </tr>\n",
       "  </tbody>\n",
       "</table>\n",
       "</div>"
      ],
      "text/plain": [
       "           review_comment_message  sentiment\n",
       "0            grande e confortavel          1\n",
       "1  o produto chegar com agilidade          1\n",
       "2                           otimo          1\n",
       "3               muito bom obrigar          1\n",
       "4  o entrega ser fazer em o prazo          1"
      ]
     },
     "execution_count": 170,
     "metadata": {},
     "output_type": "execute_result"
    }
   ],
   "source": [
    "df_classification.head(5)"
   ]
  },
  {
   "cell_type": "markdown",
   "id": "fa3157e9",
   "metadata": {},
   "source": [
    "### 6.4. Divising Dataframe Between Train and Test"
   ]
  },
  {
   "cell_type": "code",
   "execution_count": 171,
   "id": "5245642e",
   "metadata": {},
   "outputs": [],
   "source": [
    "comment_train, comment_test, sentiment_train, sentiment_test = train_test_split(\n",
    "                                                                                df_classification['review_comment_message'],\n",
    "                                                                                df_classification['sentiment'], \n",
    "                                                                                test_size=0.2,\n",
    "                                                                                random_state=24)"
   ]
  },
  {
   "cell_type": "markdown",
   "id": "4ba0ba34",
   "metadata": {},
   "source": [
    "### 6.5. Inicializing Training IA"
   ]
  },
  {
   "cell_type": "code",
   "execution_count": 172,
   "id": "b2d64bf0",
   "metadata": {},
   "outputs": [],
   "source": [
    "cv = CountVectorizer()"
   ]
  },
  {
   "cell_type": "code",
   "execution_count": 173,
   "id": "6f6b0ff8",
   "metadata": {},
   "outputs": [],
   "source": [
    "ctmTr = cv.fit_transform(comment_train)\n",
    "comment_test_dtm = cv.transform(comment_test)"
   ]
  },
  {
   "cell_type": "code",
   "execution_count": 174,
   "id": "77066c7b",
   "metadata": {},
   "outputs": [],
   "source": [
    "normalization = preprocessing.StandardScaler(with_mean=False)"
   ]
  },
  {
   "cell_type": "code",
   "execution_count": 175,
   "id": "6812ba38",
   "metadata": {},
   "outputs": [],
   "source": [
    "normalization.fit(ctmTr)\n",
    "X = normalization.transform(ctmTr)"
   ]
  },
  {
   "cell_type": "code",
   "execution_count": 176,
   "id": "d29e7083",
   "metadata": {},
   "outputs": [
    {
     "name": "stdout",
     "output_type": "stream",
     "text": [
      "Iteration 1, loss = 0.69820244\n",
      "Validation score: 0.651505\n",
      "Iteration 2, loss = 0.63703719\n",
      "Validation score: 0.711083\n",
      "Iteration 3, loss = 0.58466133\n",
      "Validation score: 0.737988\n",
      "Iteration 4, loss = 0.52407838\n",
      "Validation score: 0.759129\n",
      "Iteration 5, loss = 0.45279235\n",
      "Validation score: 0.777707\n",
      "Iteration 6, loss = 0.37782636\n",
      "Validation score: 0.792441\n",
      "Iteration 7, loss = 0.30957923\n",
      "Validation score: 0.801409\n",
      "Iteration 8, loss = 0.25451697\n",
      "Validation score: 0.809097\n",
      "Iteration 9, loss = 0.21312440\n",
      "Validation score: 0.812300\n",
      "Iteration 10, loss = 0.18326489\n",
      "Validation score: 0.817425\n",
      "Iteration 11, loss = 0.16188961\n",
      "Validation score: 0.816784\n",
      "Iteration 12, loss = 0.14614162\n",
      "Validation score: 0.819347\n",
      "Iteration 13, loss = 0.13441178\n",
      "Validation score: 0.820628\n",
      "Iteration 14, loss = 0.12519239\n",
      "Validation score: 0.823190\n",
      "Iteration 15, loss = 0.11782118\n",
      "Validation score: 0.827034\n",
      "Iteration 16, loss = 0.11186228\n",
      "Validation score: 0.823831\n",
      "Iteration 17, loss = 0.10669692\n",
      "Validation score: 0.825112\n",
      "Iteration 18, loss = 0.10228768\n",
      "Validation score: 0.827034\n",
      "Iteration 19, loss = 0.09850152\n",
      "Validation score: 0.827675\n",
      "Iteration 20, loss = 0.09505741\n",
      "Validation score: 0.825753\n",
      "Iteration 21, loss = 0.09201913\n",
      "Validation score: 0.823831\n",
      "Iteration 22, loss = 0.08925607\n",
      "Validation score: 0.823190\n",
      "Iteration 23, loss = 0.08686871\n",
      "Validation score: 0.823831\n",
      "Iteration 24, loss = 0.08451280\n",
      "Validation score: 0.823190\n",
      "Iteration 25, loss = 0.08242558\n",
      "Validation score: 0.821268\n",
      "Iteration 26, loss = 0.08037806\n",
      "Validation score: 0.822550\n",
      "Iteration 27, loss = 0.07867422\n",
      "Validation score: 0.822550\n",
      "Iteration 28, loss = 0.07685679\n",
      "Validation score: 0.825112\n",
      "Iteration 29, loss = 0.07534712\n",
      "Validation score: 0.824471\n",
      "Iteration 30, loss = 0.07383306\n",
      "Validation score: 0.823831\n",
      "Validation score did not improve more than tol=0.000100 for 10 consecutive epochs. Stopping.\n"
     ]
    }
   ],
   "source": [
    "analyze_sentiment = MLPClassifier(hidden_layer_sizes=(50,25,25),\n",
    "                                   activation='relu',\n",
    "                                   solver='sgd',\n",
    "                                   max_iter=50,\n",
    "                                   early_stopping=True,\n",
    "                                   n_iter_no_change=10,\n",
    "                                   verbose=True)\n",
    "\n",
    "history = analyze_sentiment.fit(X, sentiment_train)"
   ]
  },
  {
   "cell_type": "markdown",
   "id": "42881914",
   "metadata": {},
   "source": [
    "# 7. Analyze Performance IA"
   ]
  },
  {
   "cell_type": "markdown",
   "id": "832c6532",
   "metadata": {},
   "source": [
    "### 7.1. Score"
   ]
  },
  {
   "cell_type": "code",
   "execution_count": 177,
   "id": "42919d7e",
   "metadata": {},
   "outputs": [
    {
     "data": {
      "text/plain": [
       "0.8641374006664958"
      ]
     },
     "execution_count": 177,
     "metadata": {},
     "output_type": "execute_result"
    }
   ],
   "source": [
    "X_test = normalization.transform(comment_test_dtm)\n",
    "analyze_sentiment.score(X_test,sentiment_test)"
   ]
  },
  {
   "cell_type": "markdown",
   "id": "fa15d6c3",
   "metadata": {},
   "source": [
    "### 7.2. Graph Loss During Training"
   ]
  },
  {
   "cell_type": "code",
   "execution_count": 157,
   "id": "74af4e9c",
   "metadata": {},
   "outputs": [
    {
     "data": {
      "image/png": "[encoded data removed]",
      "text/plain": [
       "<Figure size 500x300 with 1 Axes>"
      ]
     },
     "metadata": {},
     "output_type": "display_data"
    }
   ],
   "source": [
    "plt.figure(figsize=(5, 3))\n",
    "plt.plot(history.loss_curve_)\n",
    "plt.title('Loss During Training')\n",
    "plt.xlabel('Epoc')\n",
    "plt.ylabel('Loss')\n",
    "plt.show()"
   ]
  },
  {
   "cell_type": "markdown",
   "id": "85afb958",
   "metadata": {},
   "source": [
    "### 7.3. Confusion Matrix"
   ]
  },
  {
   "cell_type": "code",
   "execution_count": 158,
   "id": "b9bc5757",
   "metadata": {},
   "outputs": [
    {
     "data": {
      "image/png": "[encoded data removed]",
      "text/plain": [
       "<Figure size 500x300 with 1 Axes>"
      ]
     },
     "metadata": {},
     "output_type": "display_data"
    }
   ],
   "source": [
    "# Fazer previsões no conjunto de teste\n",
    "predictions = analyze_sentiment.predict(X_test)\n",
    "\n",
    "# Calcular a matriz de confusão\n",
    "conf_matrix = confusion_matrix(sentiment_test, predictions)\n",
    "\n",
    "# Plotar a matriz de confusão\n",
    "plt.figure(figsize=(5, 3))\n",
    "sns.heatmap(conf_matrix, annot=True, fmt='d', cmap='Blues', cbar=False)\n",
    "plt.title('Matriz de Confusão')\n",
    "plt.xlabel('Predicted Label')\n",
    "plt.ylabel('True Label')\n",
    "plt.show()"
   ]
  },
  {
   "cell_type": "markdown",
   "id": "d1971816",
   "metadata": {},
   "source": [
    "### 7.4. Curve ROC"
   ]
  },
  {
   "cell_type": "code",
   "execution_count": 159,
   "id": "4929eab0",
   "metadata": {},
   "outputs": [
    {
     "data": {
      "image/png": "[encoded data removed]",
      "text/plain": [
       "<Figure size 800x600 with 1 Axes>"
      ]
     },
     "metadata": {},
     "output_type": "display_data"
    }
   ],
   "source": [
    "# Calcular as probabilidades previstas para a classe positiva\n",
    "probas_pred = analyze_sentiment.predict_proba(X_test)[:, 1]\n",
    "\n",
    "# Calcular a curva ROC\n",
    "fpr, tpr, thresholds = roc_curve(sentiment_test, probas_pred)\n",
    "\n",
    "# Calcular a área sob a curva ROC (AUC)\n",
    "roc_auc = auc(fpr, tpr)\n",
    "\n",
    "# Plotar a curva ROC\n",
    "plt.figure(figsize=(8, 6))\n",
    "plt.plot(fpr, tpr, color='blue', lw=2, label='ROC curve (AUC = %0.2f)' % roc_auc)\n",
    "plt.plot([0, 1], [0, 1], color='gray', linestyle='--')\n",
    "plt.xlim([0.0, 1.0])\n",
    "plt.ylim([0.0, 1.05])\n",
    "plt.xlabel('False Positive Rate')\n",
    "plt.ylabel('True Positive Rate')\n",
    "plt.title('Receiver Operating Characteristic (ROC) Curve')\n",
    "plt.legend(loc='lower right')\n",
    "plt.show()"
   ]
  },
  {
   "cell_type": "markdown",
   "id": "8f48ad2b",
   "metadata": {},
   "source": [
    "# 8. Test and Deploy IA"
   ]
  },
  {
   "cell_type": "code",
   "execution_count": 178,
   "id": "330b1658",
   "metadata": {},
   "outputs": [
    {
     "name": "stdout",
     "output_type": "stream",
     "text": [
      "                                                                                    review_comment_message  \\\n",
      "0                                                                                entregar antes de o prazo   \n",
      "1      satisfeito  recebir bem antes de o prazo estimar so falta testalo naoacompanhar o cartucho de tinta   \n",
      "2                                                      gostar de o que compr e ficar muito legal em o moto   \n",
      "3                                                                                          bom atendimento   \n",
      "4                                       indico produto de alto qualidade recebir antes de o prazo combinar   \n",
      "...                                                                                                    ...   \n",
      "39802                          otimo comprar por este site o mercadoria chegar antes de o prazo determinar   \n",
      "39803                     ele naoe um mini cajon e um shaker ou ser um chocalho que imitar o cajon pessimo   \n",
      "39804                                                            so um peca que vir rachar mas tudo bem rs   \n",
      "39805                                                                        ser entregar antes de o prazo   \n",
      "39806                                                ser entregar somente  querer saber de o outro produto   \n",
      "\n",
      "       review_score sentimento_predito  \n",
      "0                 5           positivo  \n",
      "1                 5           positivo  \n",
      "2                 4           positivo  \n",
      "3                 5           positivo  \n",
      "4                 5           positivo  \n",
      "...             ...                ...  \n",
      "39802             5           positivo  \n",
      "39803             1           negativo  \n",
      "39804             4           positivo  \n",
      "39805             5           positivo  \n",
      "39806             2           negativo  \n",
      "\n",
      "[39807 rows x 3 columns]\n"
     ]
    }
   ],
   "source": [
    "# Ajustar configurações para mostrar o texto completo\n",
    "pd.set_option('display.max_colwidth', None)\n",
    "\n",
    "texto_teste_vetorizado = cv.transform(df_remaining['review_comment_message'])\n",
    "texto_teste_normalizado = normalization.transform(texto_teste_vetorizado)\n",
    "sentimento_predito = analyze_sentiment.predict(texto_teste_normalizado)\n",
    "\n",
    "df_remaining['sentimento_predito'] = sentimento_predito\n",
    "\n",
    "df_remaining['sentimento_predito'] = df_remaining['sentimento_predito'].replace({0: 'negativo', 1: 'positivo'})\n",
    "\n",
    "print(df_remaining[['review_comment_message', 'review_score', 'sentimento_predito']])\n",
    "\n",
    "df_remaining[['review_id','review_comment_message', 'review_score', 'sentimento_predito']].to_csv('dados_processados.csv', index=False)\n"
   ]
  },
  {
   "cell_type": "markdown",
   "id": "6d321a08",
   "metadata": {},
   "source": [
    "## division"
   ]
  },
  {
   "cell_type": "code",
   "execution_count": null,
   "id": "2d955c0c",
   "metadata": {},
   "outputs": [],
   "source": [
    "# Definir os hiperparâmetros a serem testados\n",
    "param_grid = {\n",
    "    'hidden_layer_sizes': [(50,50,50), (50,100,50), (100,)],\n",
    "    'activation': ['tanh', 'relu'],\n",
    "    'solver': ['sgd', 'adam'],\n",
    "    'alpha': [0.0001, 0.05],\n",
    "    'learning_rate': ['constant','adaptive'],\n",
    "}\n",
    "\n",
    "# Criar o modelo MLPClassifier\n",
    "mlp = MLPClassifier(max_iter=100)\n",
    "\n",
    "# Criar o objeto GridSearchCV\n",
    "grid_search = GridSearchCV(mlp, param_grid, cv=5, n_jobs=-1, verbose=2)\n",
    "\n",
    "# Treinar o modelo usando a pesquisa em grade\n",
    "grid_search.fit(X, sentiment_train)\n",
    "\n",
    "# Melhores parâmetros encontrados\n",
    "print(\"Melhores parâmetros encontrados:\")\n",
    "print(grid_search.best_params_)\n",
    "\n",
    "# Avaliar o desempenho do modelo\n",
    "print(\"Acurácia da melhor configuração no conjunto de validação:\")\n",
    "print(grid_search.best_score_)"
   ]
  }
 ],
 "metadata": {
  "kernelspec": {
   "display_name": "Python 3 (ipykernel)",
   "language": "python",
   "name": "python3"
  },
  "language_info": {
   "codemirror_mode": {
    "name": "ipython",
    "version": 3
   },
   "file_extension": ".py",
   "mimetype": "text/x-python",
   "name": "python",
   "nbconvert_exporter": "python",
   "pygments_lexer": "ipython3",
   "version": "3.12.1"
  }
 },
 "nbformat": 4,
 "nbformat_minor": 5
}
