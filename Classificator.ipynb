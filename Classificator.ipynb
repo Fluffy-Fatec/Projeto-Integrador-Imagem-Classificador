{
 "cells": [
  {
   "cell_type": "markdown",
   "id": "6c98e55d",
   "metadata": {},
   "source": [
    "![PandaLyze](https://github.com/Fluffy-Fatec/Projeto-Integrador-Imagem-Classificador/raw/develop/Imagens/pandalyzeheader.jpg)"
   ]
  },
  {
   "cell_type": "markdown",
   "id": "3d608ed4",
   "metadata": {},
   "source": [
    "# Challenge Description\n",
    "At the heart of the digital age, where each interaction leaves a digital footprint, emerges the critical need to not only collect but deeply understand customer voices. Online reviews have become a treasure trove of insights, reflecting satisfaction, expectations, and sometimes disappointments of consumers. This project aims to go beyond mere data collection, proposing the construction of a sophisticated platform that integrates state-of-the-art sentiment analysis, storage in non-relational databases, and cutting-edge technology to decipher, map, and visualize these sentiments scattered across the digital world in a real and tangible geographic context.\n",
    "\n",
    "This system will not only offer companies an accurate barometer of customer perception in different geographical areas but also enable a granular analysis of sentiment variations associated with local cultures, specific events, or product launches. By unraveling these complex and multifaceted patterns, companies will be able to adjust their marketing strategies, product development, and customer service with unprecedented precision, turning raw data into a directional compass for innovation and growth.\n",
    "\n",
    "<b>Moreover, the application plans to employ advanced machine learning algorithms and natural language processing to not only classify reviews into basic sentiment categories but also to identify nuances and subtrends within these categories, offering an additional layer of insights. Combined with an intuitive user interface and a dynamic data visualization system, the project aims to create an invaluable tool for data-driven decision-making, allowing companies to visualize and react to customer feedback in real-time with detailed geographical resolution.</b>\n",
    "\n",
    "The expectation is that this platform will become a fundamental instrument for companies seeking not only to survive but to thrive in the digital economy, proactively adapting to changes in customer perceptions and preferences. By providing a deep and actionable understanding of customer sentiment, this project aspires to inaugurate a new era of customer engagement, where decisions are driven by a holistic and geographically contextualized understanding of the customer experience.\n",
    "\n",
    "This challenge represents a confluence of technology, data analysis, and business strategy, designed to equip companies with the knowledge necessary to anticipate customer needs, optimize user experience, and ultimately forge a stronger and more meaningful bond with their consumers worldwide."
   ]
  },
  {
   "cell_type": "markdown",
   "id": "e263090a",
   "metadata": {},
   "source": [
    "# About Dataframe for Training"
   ]
  },
  {
   "cell_type": "markdown",
   "id": "29c7900f",
   "metadata": {},
   "source": [
    "### Brazilian E-Commerce Public Dataset by Olist"
   ]
  },
  {
   "cell_type": "markdown",
   "id": "14788298",
   "metadata": {},
   "source": [
    "Welcome! This is a Brazilian ecommerce public dataset of orders made at Olist Store. The dataset has information of 100k orders from 2016 to 2018 made at multiple marketplaces in Brazil. Its features allows viewing an order from multiple dimensions: from order status, price, payment and freight performance to customer location, product attributes and finally reviews written by customers. We also released a geolocation dataset that relates Brazilian zip codes to lat/lng coordinates.\n",
    "\n",
    "This is real commercial data, it has been anonymised, and references to the companies and partners in the review text have been replaced with the names of Game of Thrones great houses.\n",
    "\n",
    "Link: https://www.kaggle.com/datasets/olistbr/brazilian-ecommerce"
   ]
  },
  {
   "cell_type": "markdown",
   "id": "b0fd3fa2",
   "metadata": {},
   "source": [
    "### Data Schema"
   ]
  },
  {
   "cell_type": "markdown",
   "id": "f10d8126",
   "metadata": {},
   "source": [
    "![Schema](https://github.com/Fluffy-Fatec/Projeto-Integrador-Imagem-Classificador/raw/develop/Imagens/schema.png)\n",
    "\n",
    "#### Dataframe Used for Training:\n",
    "- olist_order_reviews_dataset.csv\n",
    "##### Columns\n",
    "- review_score: score entered by the user from 1 to 5, was used to previously classify whether the text was positive or negative for AI training, 1 and 2 equal Negative and 4 and 5 equal Positive.\n",
    "- review_comment_title: title entered by the user referring to the product, was used alongside the text as it contains relevant information.\n",
    "- review_comment_message: message field where the user enters the text referring to the product."
   ]
  },
  {
   "cell_type": "markdown",
   "id": "591dbab2-225e-42c5-8bb2-fcd2ed2d04da",
   "metadata": {
    "collapsed": true,
    "jupyter": {
     "outputs_hidden": true
    },
    "tags": []
   },
   "source": [
    "# 1. Install PIP's"
   ]
  },
  {
   "cell_type": "code",
   "execution_count": 3,
   "id": "91a43646-fea1-4d18-99ec-3f9ddd100e88",
   "metadata": {
    "scrolled": true,
    "tags": []
   },
   "outputs": [
    {
     "name": "stdout",
     "output_type": "stream",
     "text": [
      "Requirement already satisfied: unidecode in c:\\users\\victor\\appdata\\local\\programs\\python\\python312\\lib\\site-packages (1.3.8)\n",
      "Note: you may need to restart the kernel to use updated packages.\n",
      "Requirement already satisfied: spacy in c:\\users\\victor\\appdata\\local\\programs\\python\\python312\\lib\\site-packages (3.7.4)\n",
      "Requirement already satisfied: spacy-legacy<3.1.0,>=3.0.11 in c:\\users\\victor\\appdata\\local\\programs\\python\\python312\\lib\\site-packages (from spacy) (3.0.12)\n",
      "Requirement already satisfied: spacy-loggers<2.0.0,>=1.0.0 in c:\\users\\victor\\appdata\\local\\programs\\python\\python312\\lib\\site-packages (from spacy) (1.0.5)\n",
      "Requirement already satisfied: murmurhash<1.1.0,>=0.28.0 in c:\\users\\victor\\appdata\\local\\programs\\python\\python312\\lib\\site-packages (from spacy) (1.0.10)\n",
      "Requirement already satisfied: cymem<2.1.0,>=2.0.2 in c:\\users\\victor\\appdata\\local\\programs\\python\\python312\\lib\\site-packages (from spacy) (2.0.8)\n",
      "Requirement already satisfied: preshed<3.1.0,>=3.0.2 in c:\\users\\victor\\appdata\\local\\programs\\python\\python312\\lib\\site-packages (from spacy) (3.0.9)\n",
      "Requirement already satisfied: thinc<8.3.0,>=8.2.2 in c:\\users\\victor\\appdata\\local\\programs\\python\\python312\\lib\\site-packages (from spacy) (8.2.3)\n",
      "Requirement already satisfied: wasabi<1.2.0,>=0.9.1 in c:\\users\\victor\\appdata\\local\\programs\\python\\python312\\lib\\site-packages (from spacy) (1.1.2)\n",
      "Requirement already satisfied: srsly<3.0.0,>=2.4.3 in c:\\users\\victor\\appdata\\local\\programs\\python\\python312\\lib\\site-packages (from spacy) (2.4.8)\n",
      "Requirement already satisfied: catalogue<2.1.0,>=2.0.6 in c:\\users\\victor\\appdata\\local\\programs\\python\\python312\\lib\\site-packages (from spacy) (2.0.10)\n",
      "Requirement already satisfied: weasel<0.4.0,>=0.1.0 in c:\\users\\victor\\appdata\\local\\programs\\python\\python312\\lib\\site-packages (from spacy) (0.3.4)\n",
      "Requirement already satisfied: typer<0.10.0,>=0.3.0 in c:\\users\\victor\\appdata\\local\\programs\\python\\python312\\lib\\site-packages (from spacy) (0.9.4)\n",
      "Requirement already satisfied: smart-open<7.0.0,>=5.2.1 in c:\\users\\victor\\appdata\\local\\programs\\python\\python312\\lib\\site-packages (from spacy) (6.4.0)\n",
      "Requirement already satisfied: tqdm<5.0.0,>=4.38.0 in c:\\users\\victor\\appdata\\local\\programs\\python\\python312\\lib\\site-packages (from spacy) (4.66.2)\n",
      "Requirement already satisfied: requests<3.0.0,>=2.13.0 in c:\\users\\victor\\appdata\\local\\programs\\python\\python312\\lib\\site-packages (from spacy) (2.31.0)\n",
      "Requirement already satisfied: pydantic!=1.8,!=1.8.1,<3.0.0,>=1.7.4 in c:\\users\\victor\\appdata\\local\\programs\\python\\python312\\lib\\site-packages (from spacy) (2.6.4)\n",
      "Requirement already satisfied: jinja2 in c:\\users\\victor\\appdata\\local\\programs\\python\\python312\\lib\\site-packages (from spacy) (3.1.3)\n",
      "Requirement already satisfied: setuptools in c:\\users\\victor\\appdata\\local\\programs\\python\\python312\\lib\\site-packages (from spacy) (69.2.0)\n",
      "Requirement already satisfied: packaging>=20.0 in c:\\users\\victor\\appdata\\local\\programs\\python\\python312\\lib\\site-packages (from spacy) (24.0)\n",
      "Requirement already satisfied: langcodes<4.0.0,>=3.2.0 in c:\\users\\victor\\appdata\\local\\programs\\python\\python312\\lib\\site-packages (from spacy) (3.3.0)\n",
      "Requirement already satisfied: numpy>=1.19.0 in c:\\users\\victor\\appdata\\local\\programs\\python\\python312\\lib\\site-packages (from spacy) (1.26.2)\n",
      "Requirement already satisfied: annotated-types>=0.4.0 in c:\\users\\victor\\appdata\\local\\programs\\python\\python312\\lib\\site-packages (from pydantic!=1.8,!=1.8.1,<3.0.0,>=1.7.4->spacy) (0.6.0)\n",
      "Requirement already satisfied: pydantic-core==2.16.3 in c:\\users\\victor\\appdata\\local\\programs\\python\\python312\\lib\\site-packages (from pydantic!=1.8,!=1.8.1,<3.0.0,>=1.7.4->spacy) (2.16.3)\n",
      "Requirement already satisfied: typing-extensions>=4.6.1 in c:\\users\\victor\\appdata\\local\\programs\\python\\python312\\lib\\site-packages (from pydantic!=1.8,!=1.8.1,<3.0.0,>=1.7.4->spacy) (4.10.0)\n",
      "Requirement already satisfied: charset-normalizer<4,>=2 in c:\\users\\victor\\appdata\\local\\programs\\python\\python312\\lib\\site-packages (from requests<3.0.0,>=2.13.0->spacy) (3.3.2)\n",
      "Requirement already satisfied: idna<4,>=2.5 in c:\\users\\victor\\appdata\\local\\programs\\python\\python312\\lib\\site-packages (from requests<3.0.0,>=2.13.0->spacy) (2.10)\n",
      "Requirement already satisfied: urllib3<3,>=1.21.1 in c:\\users\\victor\\appdata\\local\\programs\\python\\python312\\lib\\site-packages (from requests<3.0.0,>=2.13.0->spacy) (2.2.1)\n",
      "Requirement already satisfied: certifi>=2017.4.17 in c:\\users\\victor\\appdata\\local\\programs\\python\\python312\\lib\\site-packages (from requests<3.0.0,>=2.13.0->spacy) (2024.2.2)\n",
      "Requirement already satisfied: blis<0.8.0,>=0.7.8 in c:\\users\\victor\\appdata\\local\\programs\\python\\python312\\lib\\site-packages (from thinc<8.3.0,>=8.2.2->spacy) (0.7.11)\n",
      "Requirement already satisfied: confection<1.0.0,>=0.0.1 in c:\\users\\victor\\appdata\\local\\programs\\python\\python312\\lib\\site-packages (from thinc<8.3.0,>=8.2.2->spacy) (0.1.4)\n",
      "Requirement already satisfied: colorama in c:\\users\\victor\\appdata\\local\\programs\\python\\python312\\lib\\site-packages (from tqdm<5.0.0,>=4.38.0->spacy) (0.4.6)\n",
      "Requirement already satisfied: click<9.0.0,>=7.1.1 in c:\\users\\victor\\appdata\\local\\programs\\python\\python312\\lib\\site-packages (from typer<0.10.0,>=0.3.0->spacy) (8.1.7)\n",
      "Requirement already satisfied: cloudpathlib<0.17.0,>=0.7.0 in c:\\users\\victor\\appdata\\local\\programs\\python\\python312\\lib\\site-packages (from weasel<0.4.0,>=0.1.0->spacy) (0.16.0)\n",
      "Requirement already satisfied: MarkupSafe>=2.0 in c:\\users\\victor\\appdata\\local\\programs\\python\\python312\\lib\\site-packages (from jinja2->spacy) (2.1.5)\n",
      "Note: you may need to restart the kernel to use updated packages.\n",
      "Requirement already satisfied: seaborn in c:\\users\\victor\\appdata\\local\\programs\\python\\python312\\lib\\site-packages (0.13.2)\n",
      "Requirement already satisfied: numpy!=1.24.0,>=1.20 in c:\\users\\victor\\appdata\\local\\programs\\python\\python312\\lib\\site-packages (from seaborn) (1.26.2)\n",
      "Requirement already satisfied: pandas>=1.2 in c:\\users\\victor\\appdata\\local\\programs\\python\\python312\\lib\\site-packages (from seaborn) (2.2.1)\n",
      "Requirement already satisfied: matplotlib!=3.6.1,>=3.4 in c:\\users\\victor\\appdata\\local\\programs\\python\\python312\\lib\\site-packages (from seaborn) (3.8.3)\n",
      "Requirement already satisfied: contourpy>=1.0.1 in c:\\users\\victor\\appdata\\local\\programs\\python\\python312\\lib\\site-packages (from matplotlib!=3.6.1,>=3.4->seaborn) (1.2.0)\n",
      "Requirement already satisfied: cycler>=0.10 in c:\\users\\victor\\appdata\\local\\programs\\python\\python312\\lib\\site-packages (from matplotlib!=3.6.1,>=3.4->seaborn) (0.12.1)\n",
      "Requirement already satisfied: fonttools>=4.22.0 in c:\\users\\victor\\appdata\\local\\programs\\python\\python312\\lib\\site-packages (from matplotlib!=3.6.1,>=3.4->seaborn) (4.50.0)\n",
      "Requirement already satisfied: kiwisolver>=1.3.1 in c:\\users\\victor\\appdata\\local\\programs\\python\\python312\\lib\\site-packages (from matplotlib!=3.6.1,>=3.4->seaborn) (1.4.5)\n",
      "Requirement already satisfied: packaging>=20.0 in c:\\users\\victor\\appdata\\local\\programs\\python\\python312\\lib\\site-packages (from matplotlib!=3.6.1,>=3.4->seaborn) (24.0)\n",
      "Requirement already satisfied: pillow>=8 in c:\\users\\victor\\appdata\\local\\programs\\python\\python312\\lib\\site-packages (from matplotlib!=3.6.1,>=3.4->seaborn) (10.2.0)\n",
      "Requirement already satisfied: pyparsing>=2.3.1 in c:\\users\\victor\\appdata\\local\\programs\\python\\python312\\lib\\site-packages (from matplotlib!=3.6.1,>=3.4->seaborn) (3.1.2)\n",
      "Requirement already satisfied: python-dateutil>=2.7 in c:\\users\\victor\\appdata\\local\\programs\\python\\python312\\lib\\site-packages (from matplotlib!=3.6.1,>=3.4->seaborn) (2.9.0.post0)\n",
      "Requirement already satisfied: pytz>=2020.1 in c:\\users\\victor\\appdata\\local\\programs\\python\\python312\\lib\\site-packages (from pandas>=1.2->seaborn) (2024.1)\n",
      "Requirement already satisfied: tzdata>=2022.7 in c:\\users\\victor\\appdata\\local\\programs\\python\\python312\\lib\\site-packages (from pandas>=1.2->seaborn) (2024.1)\n",
      "Requirement already satisfied: six>=1.5 in c:\\users\\victor\\appdata\\local\\programs\\python\\python312\\lib\\site-packages (from python-dateutil>=2.7->matplotlib!=3.6.1,>=3.4->seaborn) (1.16.0)\n",
      "Note: you may need to restart the kernel to use updated packages.\n",
      "Requirement already satisfied: nltk in c:\\users\\victor\\appdata\\local\\programs\\python\\python312\\lib\\site-packages (3.8.1)\n",
      "Requirement already satisfied: click in c:\\users\\victor\\appdata\\local\\programs\\python\\python312\\lib\\site-packages (from nltk) (8.1.7)\n",
      "Requirement already satisfied: joblib in c:\\users\\victor\\appdata\\local\\programs\\python\\python312\\lib\\site-packages (from nltk) (1.3.2)\n",
      "Requirement already satisfied: regex>=2021.8.3 in c:\\users\\victor\\appdata\\local\\programs\\python\\python312\\lib\\site-packages (from nltk) (2023.12.25)\n",
      "Requirement already satisfied: tqdm in c:\\users\\victor\\appdata\\local\\programs\\python\\python312\\lib\\site-packages (from nltk) (4.66.2)\n",
      "Requirement already satisfied: colorama in c:\\users\\victor\\appdata\\local\\programs\\python\\python312\\lib\\site-packages (from click->nltk) (0.4.6)\n",
      "Note: you may need to restart the kernel to use updated packages.\n",
      "Requirement already satisfied: stats in c:\\users\\victor\\appdata\\local\\programs\\python\\python312\\lib\\site-packages (0.1.2a0)\n",
      "Note: you may need to restart the kernel to use updated packages.\n",
      "Requirement already satisfied: xgboost in c:\\users\\victor\\appdata\\local\\programs\\python\\python312\\lib\\site-packages (2.0.3)\n",
      "Requirement already satisfied: numpy in c:\\users\\victor\\appdata\\local\\programs\\python\\python312\\lib\\site-packages (from xgboost) (1.26.2)\n",
      "Requirement already satisfied: scipy in c:\\users\\victor\\appdata\\local\\programs\\python\\python312\\lib\\site-packages (from xgboost) (1.12.0)\n",
      "Note: you may need to restart the kernel to use updated packages.\n",
      "Requirement already satisfied: sweetviz in c:\\users\\victor\\appdata\\local\\programs\\python\\python312\\lib\\site-packages (2.3.1)\n",
      "Requirement already satisfied: pandas!=1.0.0,!=1.0.1,!=1.0.2,>=0.25.3 in c:\\users\\victor\\appdata\\local\\programs\\python\\python312\\lib\\site-packages (from sweetviz) (2.2.1)\n",
      "Requirement already satisfied: numpy>=1.16.0 in c:\\users\\victor\\appdata\\local\\programs\\python\\python312\\lib\\site-packages (from sweetviz) (1.26.2)\n",
      "Requirement already satisfied: matplotlib>=3.1.3 in c:\\users\\victor\\appdata\\local\\programs\\python\\python312\\lib\\site-packages (from sweetviz) (3.8.3)\n",
      "Requirement already satisfied: tqdm>=4.43.0 in c:\\users\\victor\\appdata\\local\\programs\\python\\python312\\lib\\site-packages (from sweetviz) (4.66.2)\n",
      "Requirement already satisfied: scipy>=1.3.2 in c:\\users\\victor\\appdata\\local\\programs\\python\\python312\\lib\\site-packages (from sweetviz) (1.12.0)\n",
      "Requirement already satisfied: jinja2>=2.11.1 in c:\\users\\victor\\appdata\\local\\programs\\python\\python312\\lib\\site-packages (from sweetviz) (3.1.3)\n",
      "Requirement already satisfied: importlib-resources>=1.2.0 in c:\\users\\victor\\appdata\\local\\programs\\python\\python312\\lib\\site-packages (from sweetviz) (6.4.0)\n",
      "Requirement already satisfied: MarkupSafe>=2.0 in c:\\users\\victor\\appdata\\local\\programs\\python\\python312\\lib\\site-packages (from jinja2>=2.11.1->sweetviz) (2.1.5)\n",
      "Requirement already satisfied: contourpy>=1.0.1 in c:\\users\\victor\\appdata\\local\\programs\\python\\python312\\lib\\site-packages (from matplotlib>=3.1.3->sweetviz) (1.2.0)\n",
      "Requirement already satisfied: cycler>=0.10 in c:\\users\\victor\\appdata\\local\\programs\\python\\python312\\lib\\site-packages (from matplotlib>=3.1.3->sweetviz) (0.12.1)\n",
      "Requirement already satisfied: fonttools>=4.22.0 in c:\\users\\victor\\appdata\\local\\programs\\python\\python312\\lib\\site-packages (from matplotlib>=3.1.3->sweetviz) (4.50.0)\n",
      "Requirement already satisfied: kiwisolver>=1.3.1 in c:\\users\\victor\\appdata\\local\\programs\\python\\python312\\lib\\site-packages (from matplotlib>=3.1.3->sweetviz) (1.4.5)\n",
      "Requirement already satisfied: packaging>=20.0 in c:\\users\\victor\\appdata\\local\\programs\\python\\python312\\lib\\site-packages (from matplotlib>=3.1.3->sweetviz) (24.0)\n",
      "Requirement already satisfied: pillow>=8 in c:\\users\\victor\\appdata\\local\\programs\\python\\python312\\lib\\site-packages (from matplotlib>=3.1.3->sweetviz) (10.2.0)\n",
      "Requirement already satisfied: pyparsing>=2.3.1 in c:\\users\\victor\\appdata\\local\\programs\\python\\python312\\lib\\site-packages (from matplotlib>=3.1.3->sweetviz) (3.1.2)\n",
      "Requirement already satisfied: python-dateutil>=2.7 in c:\\users\\victor\\appdata\\local\\programs\\python\\python312\\lib\\site-packages (from matplotlib>=3.1.3->sweetviz) (2.9.0.post0)\n",
      "Requirement already satisfied: pytz>=2020.1 in c:\\users\\victor\\appdata\\local\\programs\\python\\python312\\lib\\site-packages (from pandas!=1.0.0,!=1.0.1,!=1.0.2,>=0.25.3->sweetviz) (2024.1)\n",
      "Requirement already satisfied: tzdata>=2022.7 in c:\\users\\victor\\appdata\\local\\programs\\python\\python312\\lib\\site-packages (from pandas!=1.0.0,!=1.0.1,!=1.0.2,>=0.25.3->sweetviz) (2024.1)\n",
      "Requirement already satisfied: colorama in c:\\users\\victor\\appdata\\local\\programs\\python\\python312\\lib\\site-packages (from tqdm>=4.43.0->sweetviz) (0.4.6)\n",
      "Requirement already satisfied: six>=1.5 in c:\\users\\victor\\appdata\\local\\programs\\python\\python312\\lib\\site-packages (from python-dateutil>=2.7->matplotlib>=3.1.3->sweetviz) (1.16.0)\n",
      "Note: you may need to restart the kernel to use updated packages.\n",
      "Note: you may need to restart the kernel to use updated packages.\n"
     ]
    },
    {
     "name": "stderr",
     "output_type": "stream",
     "text": [
      "ERROR: Could not find a version that satisfies the requirement string (from versions: none)\n",
      "ERROR: No matching distribution found for string\n"
     ]
    },
    {
     "name": "stdout",
     "output_type": "stream",
     "text": [
      "Requirement already satisfied: imblearn in c:\\users\\victor\\appdata\\local\\programs\\python\\python312\\lib\\site-packages (0.0)Note: you may need to restart the kernel to use updated packages.\n",
      "\n",
      "Requirement already satisfied: imbalanced-learn in c:\\users\\victor\\appdata\\local\\programs\\python\\python312\\lib\\site-packages (from imblearn) (0.12.2)\n",
      "Requirement already satisfied: numpy>=1.17.3 in c:\\users\\victor\\appdata\\local\\programs\\python\\python312\\lib\\site-packages (from imbalanced-learn->imblearn) (1.26.2)\n",
      "Requirement already satisfied: scipy>=1.5.0 in c:\\users\\victor\\appdata\\local\\programs\\python\\python312\\lib\\site-packages (from imbalanced-learn->imblearn) (1.12.0)\n",
      "Requirement already satisfied: scikit-learn>=1.0.2 in c:\\users\\victor\\appdata\\local\\programs\\python\\python312\\lib\\site-packages (from imbalanced-learn->imblearn) (1.4.1.post1)\n",
      "Requirement already satisfied: joblib>=1.1.1 in c:\\users\\victor\\appdata\\local\\programs\\python\\python312\\lib\\site-packages (from imbalanced-learn->imblearn) (1.3.2)\n",
      "Requirement already satisfied: threadpoolctl>=2.0.0 in c:\\users\\victor\\appdata\\local\\programs\\python\\python312\\lib\\site-packages (from imbalanced-learn->imblearn) (3.4.0)\n"
     ]
    }
   ],
   "source": [
    "%pip install unidecode\n",
    "%pip install spacy\n",
    "%pip install seaborn\n",
    "%pip install nltk\n",
    "%pip install stats\n",
    "%pip install xgboost\n",
    "%pip install sweetviz\n",
    "%pip install string\n",
    "%pip install imblearn"
   ]
  },
  {
   "cell_type": "markdown",
   "id": "d1945518-f8c4-4f7d-ac9c-ef72d0869d09",
   "metadata": {},
   "source": [
    "# 2. Import Packages"
   ]
  },
  {
   "cell_type": "code",
   "execution_count": 4,
   "id": "3c23c32e-0bab-4fb9-a35f-b04f4f0b93a9",
   "metadata": {},
   "outputs": [],
   "source": [
    "import pandas as pd\n",
    "import numpy as np\n",
    "import seaborn as sns\n",
    "import spacy\n",
    "nlp = spacy.load('pt_core_news_lg')\n",
    "import string\n",
    "import regex as re\n",
    "from unidecode import unidecode\n",
    "import joblib\n",
    "import matplotlib.pyplot as plt\n",
    "from sklearn.model_selection import train_test_split\n",
    "from sklearn.feature_extraction.text import TfidfVectorizer\n",
    "from sklearn.neural_network import MLPClassifier\n",
    "from sklearn.preprocessing import StandardScaler\n",
    "from sklearn.metrics import roc_curve, auc, confusion_matrix, accuracy_score\n",
    "from sklearn import preprocessing\n",
    "from imblearn.over_sampling import SMOTE"
   ]
  },
  {
   "cell_type": "markdown",
   "id": "bc1de613",
   "metadata": {},
   "source": [
    "# 3. Load Data"
   ]
  },
  {
   "cell_type": "code",
   "execution_count": 5,
   "id": "dbab8de1",
   "metadata": {},
   "outputs": [],
   "source": [
    "df = pd.read_csv(\"olist_order_reviews_dataset.csv\")"
   ]
  },
  {
   "cell_type": "markdown",
   "id": "77b9ef76",
   "metadata": {},
   "source": [
    "# 4. Data Wreangling"
   ]
  },
  {
   "cell_type": "markdown",
   "id": "fb6e9aba",
   "metadata": {},
   "source": [
    "### 4.1. Selected Columns Important"
   ]
  },
  {
   "cell_type": "code",
   "execution_count": 6,
   "id": "f478eb3b",
   "metadata": {},
   "outputs": [],
   "source": [
    "selected_columns = ['review_id','review_score', 'review_comment_title', \n",
    "                    'review_comment_message', 'review_creation_date']\n",
    "\n",
    "full_df = df.loc[:, selected_columns]"
   ]
  },
  {
   "cell_type": "markdown",
   "id": "141337d4",
   "metadata": {},
   "source": [
    "### 4.2. Conversion Columns Data in datetime"
   ]
  },
  {
   "cell_type": "code",
   "execution_count": 7,
   "id": "8059dc98",
   "metadata": {},
   "outputs": [],
   "source": [
    "datetime_columns = ['review_creation_date']\n",
    "full_df[datetime_columns] = full_df[datetime_columns].apply(pd.to_datetime)"
   ]
  },
  {
   "cell_type": "markdown",
   "id": "c37d5761",
   "metadata": {},
   "source": [
    "### 4.3. Division DF for Training"
   ]
  },
  {
   "cell_type": "code",
   "execution_count": 8,
   "id": "d4bacf5b",
   "metadata": {},
   "outputs": [],
   "source": [
    "latest_date = full_df['review_creation_date'].max()\n",
    "four_months_ago = latest_date - pd.DateOffset(months=1)\n",
    "\n",
    "\n",
    "full_df = full_df[full_df['review_creation_date'] < four_months_ago]\n",
    "full_df.reset_index(drop=True, inplace=True)"
   ]
  },
  {
   "cell_type": "code",
   "execution_count": 9,
   "id": "9829327f",
   "metadata": {},
   "outputs": [
    {
     "name": "stdout",
     "output_type": "stream",
     "text": [
      "(89846, 5)\n"
     ]
    }
   ],
   "source": [
    "print(full_df.shape)"
   ]
  },
  {
   "cell_type": "markdown",
   "id": "8668f077",
   "metadata": {},
   "source": [
    "### 4.4. Drop Duplicates"
   ]
  },
  {
   "cell_type": "code",
   "execution_count": 10,
   "id": "6262b85f",
   "metadata": {},
   "outputs": [],
   "source": [
    "full_df = full_df.drop_duplicates(subset=['review_id'])"
   ]
  },
  {
   "cell_type": "code",
   "execution_count": 11,
   "id": "2a57d930",
   "metadata": {},
   "outputs": [
    {
     "name": "stdout",
     "output_type": "stream",
     "text": [
      "(89082, 5)\n"
     ]
    }
   ],
   "source": [
    "print(full_df.shape)"
   ]
  },
  {
   "cell_type": "markdown",
   "id": "f8322beb",
   "metadata": {},
   "source": [
    "### 4.5. Merge Title with Message"
   ]
  },
  {
   "cell_type": "code",
   "execution_count": 12,
   "id": "20bc082a",
   "metadata": {},
   "outputs": [],
   "source": [
    "full_df['review_comment_title'] = full_df['review_comment_title'].fillna('').astype(str)\n",
    "full_df['text_sentiment'] = full_df['review_comment_title'].str.cat(full_df['review_comment_message'], sep=' ')"
   ]
  },
  {
   "cell_type": "code",
   "execution_count": 13,
   "id": "96fc7a87",
   "metadata": {},
   "outputs": [
    {
     "name": "stdout",
     "output_type": "stream",
     "text": [
      "(89082, 6)\n"
     ]
    }
   ],
   "source": [
    "print(full_df.shape)"
   ]
  },
  {
   "cell_type": "markdown",
   "id": "9c0770f3",
   "metadata": {},
   "source": [
    "### 4.6. Drop NA"
   ]
  },
  {
   "cell_type": "code",
   "execution_count": 14,
   "id": "c09a88cb",
   "metadata": {},
   "outputs": [],
   "source": [
    "full_df = full_df.dropna(subset=['text_sentiment'])\n",
    "full_df = full_df.dropna(subset=['review_score'])"
   ]
  },
  {
   "cell_type": "code",
   "execution_count": 15,
   "id": "e6053200",
   "metadata": {},
   "outputs": [
    {
     "name": "stdout",
     "output_type": "stream",
     "text": [
      "(37050, 6)\n"
     ]
    }
   ],
   "source": [
    "print(full_df.shape)"
   ]
  },
  {
   "cell_type": "markdown",
   "id": "53674fc7",
   "metadata": {},
   "source": [
    "### 4.7. Take all different 3"
   ]
  },
  {
   "cell_type": "code",
   "execution_count": 16,
   "id": "ea62b8b1",
   "metadata": {},
   "outputs": [],
   "source": [
    "full_df = full_df[full_df['review_score'] != 3]"
   ]
  },
  {
   "cell_type": "code",
   "execution_count": 17,
   "id": "bc36e985",
   "metadata": {},
   "outputs": [
    {
     "name": "stdout",
     "output_type": "stream",
     "text": [
      "33816\n"
     ]
    }
   ],
   "source": [
    "print(len(full_df))"
   ]
  },
  {
   "cell_type": "markdown",
   "id": "0b80070f",
   "metadata": {},
   "source": [
    "# 5. Data Processing"
   ]
  },
  {
   "cell_type": "markdown",
   "id": "bd526381",
   "metadata": {},
   "source": [
    "### 5.1. Conversion Column Message in Lower Case"
   ]
  },
  {
   "cell_type": "code",
   "execution_count": 18,
   "id": "09cf9f52",
   "metadata": {},
   "outputs": [],
   "source": [
    "def to_lower(text):\n",
    "    return text.lower()"
   ]
  },
  {
   "cell_type": "code",
   "execution_count": 19,
   "id": "5f9976a5",
   "metadata": {},
   "outputs": [],
   "source": [
    "full_df['text_sentiment'] = full_df['text_sentiment'].apply(to_lower)"
   ]
  },
  {
   "cell_type": "markdown",
   "id": "8713baf9",
   "metadata": {},
   "source": [
    "### 5.2. Removing Punctuation, Exemple (\".\", \"!\")"
   ]
  },
  {
   "cell_type": "code",
   "execution_count": 20,
   "id": "4a98946e",
   "metadata": {},
   "outputs": [],
   "source": [
    "def remove_punctuation(text):\n",
    "    punct = string.punctuation\n",
    "    punct = punct.replace(\"'\", \"\")\n",
    "    translator = str.maketrans('', '', punct)\n",
    "    return text.translate(translator)"
   ]
  },
  {
   "cell_type": "code",
   "execution_count": 21,
   "id": "281e5e16",
   "metadata": {},
   "outputs": [],
   "source": [
    "full_df['text_sentiment'] = full_df['text_sentiment'].apply(remove_punctuation)"
   ]
  },
  {
   "cell_type": "markdown",
   "id": "b841a711",
   "metadata": {},
   "source": [
    "### 5.3. Removing Emoji"
   ]
  },
  {
   "cell_type": "code",
   "execution_count": 22,
   "id": "d3099519",
   "metadata": {},
   "outputs": [],
   "source": [
    "def remove_emojis(text):\n",
    "    emoji_pattern = re.compile(\"[\"\n",
    "                               u\"\\U0001F600-\\U0001F64F\"  # emoticons\n",
    "                               u\"\\U0001F300-\\U0001F5FF\"  # simbol and pictogramas\n",
    "                               u\"\\U0001F680-\\U0001F6FF\"  # transport and ]simbol of map\n",
    "                               u\"\\U0001F1E0-\\U0001F1FF\"  # flags (iOS)\n",
    "                               u\"\\U00002702-\\U000027B0\"\n",
    "                               u\"\\U000024C2-\\U0001F251\"\n",
    "                               \"]+\", flags=re.UNICODE)\n",
    "    return emoji_pattern.sub(r'', text)"
   ]
  },
  {
   "cell_type": "code",
   "execution_count": 23,
   "id": "4122dc35",
   "metadata": {},
   "outputs": [],
   "source": [
    "full_df['text_sentiment'] = full_df['text_sentiment'].apply(remove_emojis)"
   ]
  },
  {
   "cell_type": "markdown",
   "id": "37648f70",
   "metadata": {},
   "source": [
    "### 5.4. Removing Sites and Blogs"
   ]
  },
  {
   "cell_type": "code",
   "execution_count": 24,
   "id": "7531f127",
   "metadata": {},
   "outputs": [],
   "source": [
    "def remove_urls(text):\n",
    "    http = r\"http\\S+|www\\.\\S+\"\n",
    "    pattern = re.compile(r\"({})\".format(http))\n",
    "    return pattern.sub(r'', text)"
   ]
  },
  {
   "cell_type": "code",
   "execution_count": 25,
   "id": "bbf3da5f",
   "metadata": {},
   "outputs": [],
   "source": [
    "full_df['text_sentiment'] = full_df['text_sentiment'].apply(remove_urls)"
   ]
  },
  {
   "cell_type": "markdown",
   "id": "f2534de1",
   "metadata": {},
   "source": [
    "### 5.5. Removing Accentuation"
   ]
  },
  {
   "cell_type": "code",
   "execution_count": 26,
   "id": "4490ce04",
   "metadata": {},
   "outputs": [],
   "source": [
    "def remove_accent(text):\n",
    "    return unidecode(text)"
   ]
  },
  {
   "cell_type": "code",
   "execution_count": 27,
   "id": "344c10f4",
   "metadata": {},
   "outputs": [],
   "source": [
    "full_df['text_sentiment'] = full_df['text_sentiment'].apply(remove_accent)"
   ]
  },
  {
   "cell_type": "markdown",
   "id": "24ad69a2",
   "metadata": {},
   "source": [
    "### 5.6. Remove Numbers"
   ]
  },
  {
   "cell_type": "code",
   "execution_count": 28,
   "id": "9f4d3ade",
   "metadata": {},
   "outputs": [],
   "source": [
    "def remove_numbers(texto):\n",
    "    return re.sub(r'\\d+', '', texto)"
   ]
  },
  {
   "cell_type": "code",
   "execution_count": 29,
   "id": "53f271dc",
   "metadata": {},
   "outputs": [],
   "source": [
    "full_df['text_sentiment'] = full_df['text_sentiment'].apply(remove_numbers)"
   ]
  },
  {
   "cell_type": "markdown",
   "id": "36d658e3",
   "metadata": {},
   "source": [
    "### 5.7. Remove Space Blank Excessive and Remove Broke Line"
   ]
  },
  {
   "cell_type": "code",
   "execution_count": 30,
   "id": "d422b435",
   "metadata": {},
   "outputs": [],
   "source": [
    "def remove_broke_line(texto):\n",
    "    return texto.replace('\\n', ' ')"
   ]
  },
  {
   "cell_type": "code",
   "execution_count": 31,
   "id": "bc1f48d7",
   "metadata": {},
   "outputs": [],
   "source": [
    "full_df['text_sentiment'] = full_df['text_sentiment'].apply(remove_broke_line)"
   ]
  },
  {
   "cell_type": "markdown",
   "id": "961b3d08",
   "metadata": {},
   "source": [
    "### 5.8. Remove Blank Space Text"
   ]
  },
  {
   "cell_type": "code",
   "execution_count": 32,
   "id": "9544b1dc",
   "metadata": {},
   "outputs": [],
   "source": [
    "def strip_text(text):\n",
    "    return text.strip()"
   ]
  },
  {
   "cell_type": "code",
   "execution_count": 33,
   "id": "69ba4cfc",
   "metadata": {},
   "outputs": [],
   "source": [
    "full_df['text_sentiment'] = full_df['text_sentiment'].apply(strip_text)"
   ]
  },
  {
   "cell_type": "markdown",
   "id": "4294283b",
   "metadata": {},
   "source": [
    "### 5.9. Filter only Adjectives, Verbs, Noun, Adverbs and \"nao\" \"nada\""
   ]
  },
  {
   "cell_type": "code",
   "execution_count": 34,
   "id": "6298c1ea",
   "metadata": {},
   "outputs": [],
   "source": [
    "def filtrar_tokens(text):\n",
    "    doc = nlp(text)\n",
    "    tokens_filtrados = []\n",
    "    for token in doc:\n",
    "        if token.text.lower() == 'nao':\n",
    "            tokens_filtrados.append(token.text)\n",
    "        elif token.text.lower() == 'nada':\n",
    "            tokens_filtrados.append(token.text)\n",
    "        elif token.pos_ in ['ADJ', 'VERB', 'NOUN', 'ADV']:\n",
    "            tokens_filtrados.append(token.text)\n",
    "    return ' '.join(tokens_filtrados)"
   ]
  },
  {
   "cell_type": "code",
   "execution_count": 35,
   "id": "4ca275a4",
   "metadata": {},
   "outputs": [],
   "source": [
    "full_df['text_sentiment'] = full_df['text_sentiment'].apply(filtrar_tokens)"
   ]
  },
  {
   "cell_type": "markdown",
   "id": "1b18a2ee",
   "metadata": {},
   "source": [
    "### 5.10. Lematization Example: \"entrega\" change for \"entregar\""
   ]
  },
  {
   "cell_type": "code",
   "execution_count": 36,
   "id": "31e7facd",
   "metadata": {},
   "outputs": [],
   "source": [
    "def lemmatize_text(text):\n",
    "    return \" \".join([token.lemma_ for token in nlp(text)])"
   ]
  },
  {
   "cell_type": "code",
   "execution_count": 37,
   "id": "66496de5",
   "metadata": {},
   "outputs": [],
   "source": [
    "full_df['text_sentiment'] = full_df['text_sentiment'].apply(lemmatize_text)"
   ]
  },
  {
   "cell_type": "markdown",
   "id": "a9eec7a4",
   "metadata": {},
   "source": [
    "### 5.11. Remove the word \"Produto\""
   ]
  },
  {
   "cell_type": "code",
   "execution_count": 38,
   "id": "b64ba169",
   "metadata": {},
   "outputs": [],
   "source": [
    "def remove_word(text, word):\n",
    "    return text.replace(word, '')"
   ]
  },
  {
   "cell_type": "code",
   "execution_count": 39,
   "id": "f7b6ce20",
   "metadata": {},
   "outputs": [],
   "source": [
    "full_df['text_sentiment'] = full_df['text_sentiment'].apply(lambda x: remove_word(x, 'produto'))"
   ]
  },
  {
   "cell_type": "markdown",
   "id": "8787c4ac",
   "metadata": {},
   "source": [
    "### 5.12. Drop NA"
   ]
  },
  {
   "cell_type": "code",
   "execution_count": 40,
   "id": "753a3cdf",
   "metadata": {},
   "outputs": [],
   "source": [
    "full_df = full_df.dropna(subset=['text_sentiment'])"
   ]
  },
  {
   "cell_type": "code",
   "execution_count": 41,
   "id": "4c03f929",
   "metadata": {},
   "outputs": [
    {
     "name": "stdout",
     "output_type": "stream",
     "text": [
      "33816\n"
     ]
    }
   ],
   "source": [
    "print(len(full_df))"
   ]
  },
  {
   "cell_type": "code",
   "execution_count": 42,
   "id": "85e3486b",
   "metadata": {},
   "outputs": [
    {
     "data": {
      "text/html": [
       "<div>\n",
       "<style scoped>\n",
       "    .dataframe tbody tr th:only-of-type {\n",
       "        vertical-align: middle;\n",
       "    }\n",
       "\n",
       "    .dataframe tbody tr th {\n",
       "        vertical-align: top;\n",
       "    }\n",
       "\n",
       "    .dataframe thead th {\n",
       "        text-align: right;\n",
       "    }\n",
       "</style>\n",
       "<table border=\"1\" class=\"dataframe\">\n",
       "  <thead>\n",
       "    <tr style=\"text-align: right;\">\n",
       "      <th></th>\n",
       "      <th>review_id</th>\n",
       "      <th>review_score</th>\n",
       "      <th>review_comment_title</th>\n",
       "      <th>review_comment_message</th>\n",
       "      <th>review_creation_date</th>\n",
       "      <th>text_sentiment</th>\n",
       "    </tr>\n",
       "  </thead>\n",
       "  <tbody>\n",
       "    <tr>\n",
       "      <th>3</th>\n",
       "      <td>e64fb393e7b32834bb789ff8bb30750e</td>\n",
       "      <td>5</td>\n",
       "      <td></td>\n",
       "      <td>Recebi bem antes do prazo estipulado.</td>\n",
       "      <td>2017-04-21</td>\n",
       "      <td>receber bem antes prazo estipular</td>\n",
       "    </tr>\n",
       "    <tr>\n",
       "      <th>4</th>\n",
       "      <td>f7c4243c7fe1938f181bec41a392bdeb</td>\n",
       "      <td>5</td>\n",
       "      <td></td>\n",
       "      <td>Parabéns lojas lannister adorei comprar pela I...</td>\n",
       "      <td>2018-03-01</td>\n",
       "      <td>parabem loja adorar comprar seguro pratico par...</td>\n",
       "    </tr>\n",
       "    <tr>\n",
       "      <th>8</th>\n",
       "      <td>8670d52e15e00043ae7de4c01cc2fe06</td>\n",
       "      <td>4</td>\n",
       "      <td>recomendo</td>\n",
       "      <td>aparelho eficiente. no site a marca do aparelh...</td>\n",
       "      <td>2018-05-22</td>\n",
       "      <td>recomender aparelho eficiente site marcar apar...</td>\n",
       "    </tr>\n",
       "    <tr>\n",
       "      <th>11</th>\n",
       "      <td>4b49719c8a200003f700d3d986ea1a19</td>\n",
       "      <td>4</td>\n",
       "      <td></td>\n",
       "      <td>Mas um pouco ,travando...pelo valor ta Boa.\\r\\n</td>\n",
       "      <td>2018-02-16</td>\n",
       "      <td>Travandopelo valor boa</td>\n",
       "    </tr>\n",
       "    <tr>\n",
       "      <th>14</th>\n",
       "      <td>3948b09f7c818e2d86c9a546758b2335</td>\n",
       "      <td>5</td>\n",
       "      <td>Super recomendo</td>\n",
       "      <td>Vendedor confiável, produto ok e entrega antes...</td>\n",
       "      <td>2018-05-23</td>\n",
       "      <td>super recomendir vendedor confiavel  ok entreg...</td>\n",
       "    </tr>\n",
       "  </tbody>\n",
       "</table>\n",
       "</div>"
      ],
      "text/plain": [
       "                           review_id  review_score review_comment_title  \\\n",
       "3   e64fb393e7b32834bb789ff8bb30750e             5                        \n",
       "4   f7c4243c7fe1938f181bec41a392bdeb             5                        \n",
       "8   8670d52e15e00043ae7de4c01cc2fe06             4            recomendo   \n",
       "11  4b49719c8a200003f700d3d986ea1a19             4                        \n",
       "14  3948b09f7c818e2d86c9a546758b2335             5      Super recomendo   \n",
       "\n",
       "                               review_comment_message review_creation_date  \\\n",
       "3               Recebi bem antes do prazo estipulado.           2017-04-21   \n",
       "4   Parabéns lojas lannister adorei comprar pela I...           2018-03-01   \n",
       "8   aparelho eficiente. no site a marca do aparelh...           2018-05-22   \n",
       "11    Mas um pouco ,travando...pelo valor ta Boa.\\r\\n           2018-02-16   \n",
       "14  Vendedor confiável, produto ok e entrega antes...           2018-05-23   \n",
       "\n",
       "                                       text_sentiment  \n",
       "3                   receber bem antes prazo estipular  \n",
       "4   parabem loja adorar comprar seguro pratico par...  \n",
       "8   recomender aparelho eficiente site marcar apar...  \n",
       "11                             Travandopelo valor boa  \n",
       "14  super recomendir vendedor confiavel  ok entreg...  "
      ]
     },
     "execution_count": 42,
     "metadata": {},
     "output_type": "execute_result"
    }
   ],
   "source": [
    "full_df.head(5)"
   ]
  },
  {
   "cell_type": "markdown",
   "id": "ef59147d-4d07-4cdd-be78-24d45ac945fb",
   "metadata": {},
   "source": [
    "# 6. Previus Analyze"
   ]
  },
  {
   "cell_type": "code",
   "execution_count": 43,
   "id": "6cc47e47-a22d-4740-923d-76da291fff95",
   "metadata": {
    "scrolled": true
   },
   "outputs": [
    {
     "data": {
      "text/html": [
       "<div>\n",
       "<style scoped>\n",
       "    .dataframe tbody tr th:only-of-type {\n",
       "        vertical-align: middle;\n",
       "    }\n",
       "\n",
       "    .dataframe tbody tr th {\n",
       "        vertical-align: top;\n",
       "    }\n",
       "\n",
       "    .dataframe thead th {\n",
       "        text-align: right;\n",
       "    }\n",
       "</style>\n",
       "<table border=\"1\" class=\"dataframe\">\n",
       "  <thead>\n",
       "    <tr style=\"text-align: right;\">\n",
       "      <th></th>\n",
       "      <th>Column</th>\n",
       "      <th>dtypes</th>\n",
       "      <th># Missing</th>\n",
       "      <th># Unique</th>\n",
       "      <th>Example</th>\n",
       "    </tr>\n",
       "  </thead>\n",
       "  <tbody>\n",
       "    <tr>\n",
       "      <th>0</th>\n",
       "      <td>review_id</td>\n",
       "      <td>object</td>\n",
       "      <td>0</td>\n",
       "      <td>33816</td>\n",
       "      <td>e64fb393e7b32834bb789ff8bb30750e</td>\n",
       "    </tr>\n",
       "    <tr>\n",
       "      <th>1</th>\n",
       "      <td>review_score</td>\n",
       "      <td>int64</td>\n",
       "      <td>0</td>\n",
       "      <td>4</td>\n",
       "      <td>5</td>\n",
       "    </tr>\n",
       "    <tr>\n",
       "      <th>2</th>\n",
       "      <td>review_comment_title</td>\n",
       "      <td>object</td>\n",
       "      <td>0</td>\n",
       "      <td>2821</td>\n",
       "      <td></td>\n",
       "    </tr>\n",
       "    <tr>\n",
       "      <th>3</th>\n",
       "      <td>review_comment_message</td>\n",
       "      <td>object</td>\n",
       "      <td>0</td>\n",
       "      <td>30100</td>\n",
       "      <td>Recebi bem antes do prazo estipulado.</td>\n",
       "    </tr>\n",
       "    <tr>\n",
       "      <th>4</th>\n",
       "      <td>review_creation_date</td>\n",
       "      <td>datetime64[ns]</td>\n",
       "      <td>0</td>\n",
       "      <td>590</td>\n",
       "      <td>2017-04-21 00:00:00</td>\n",
       "    </tr>\n",
       "    <tr>\n",
       "      <th>5</th>\n",
       "      <td>text_sentiment</td>\n",
       "      <td>object</td>\n",
       "      <td>0</td>\n",
       "      <td>27344</td>\n",
       "      <td>receber bem antes prazo estipular</td>\n",
       "    </tr>\n",
       "  </tbody>\n",
       "</table>\n",
       "</div>"
      ],
      "text/plain": [
       "                   Column          dtypes  # Missing  # Unique  \\\n",
       "0               review_id          object          0     33816   \n",
       "1            review_score           int64          0         4   \n",
       "2    review_comment_title          object          0      2821   \n",
       "3  review_comment_message          object          0     30100   \n",
       "4    review_creation_date  datetime64[ns]          0       590   \n",
       "5          text_sentiment          object          0     27344   \n",
       "\n",
       "                                 Example  \n",
       "0       e64fb393e7b32834bb789ff8bb30750e  \n",
       "1                                      5  \n",
       "2                                         \n",
       "3  Recebi bem antes do prazo estipulado.  \n",
       "4                    2017-04-21 00:00:00  \n",
       "5      receber bem antes prazo estipular  "
      ]
     },
     "execution_count": 43,
     "metadata": {},
     "output_type": "execute_result"
    }
   ],
   "source": [
    "def df_metadata(df):\n",
    "    metadata = pd.DataFrame(df.dtypes, columns=['dtypes'])\n",
    "    metadata = metadata.reset_index()\n",
    "    metadata['Column'] = metadata['index']\n",
    "    metadata = metadata[['Column', 'dtypes']]\n",
    "    metadata['# Missing'] = df.isnull().sum().values    \n",
    "    metadata['# Unique'] = df.nunique().values\n",
    "    \n",
    "    # Verificar se o DataFrame não está vazio\n",
    "    if not df.empty:\n",
    "        metadata['Example'] = df.iloc[0].values\n",
    "    else:\n",
    "        metadata['Example'] = None\n",
    "    \n",
    "    return metadata\n",
    "\n",
    "# Aplicar a função ao DataFrame\n",
    "df_metadata(full_df)"
   ]
  },
  {
   "cell_type": "code",
   "execution_count": 44,
   "id": "95226a2b",
   "metadata": {},
   "outputs": [
    {
     "data": {
      "image/png": "[encoded data removed]",
      "text/plain": [
       "<Figure size 500x200 with 1 Axes>"
      ]
     },
     "metadata": {},
     "output_type": "display_data"
    }
   ],
   "source": [
    "ax = full_df['review_score'].value_counts().sort_index() \\\n",
    "    .plot(kind='bar',\n",
    "          title='Count of Reviews by Stars',\n",
    "          figsize=(5,2))"
   ]
  },
  {
   "cell_type": "code",
   "execution_count": 45,
   "id": "4357f9a4",
   "metadata": {},
   "outputs": [
    {
     "name": "stdout",
     "output_type": "stream",
     "text": [
      "super recomendir vendedor confiavel  ok entregar antes prazo\n"
     ]
    }
   ],
   "source": [
    "example = full_df['text_sentiment'].iloc[4]\n",
    "print(example)"
   ]
  },
  {
   "cell_type": "markdown",
   "id": "6fc88e89",
   "metadata": {},
   "source": [
    "# 7. Training Model"
   ]
  },
  {
   "cell_type": "markdown",
   "id": "1e6a1d1d",
   "metadata": {},
   "source": [
    "### 7.1. Capture df_train"
   ]
  },
  {
   "cell_type": "code",
   "execution_count": 46,
   "id": "700b93c7",
   "metadata": {},
   "outputs": [],
   "source": [
    "df_train = full_df.copy()"
   ]
  },
  {
   "cell_type": "markdown",
   "id": "407fc8cb",
   "metadata": {},
   "source": [
    "### 7.2. Classifier Review Score Negative with 0 (Review 1 or 2) and Positive with 1 (Review 3,4 or 5)"
   ]
  },
  {
   "cell_type": "code",
   "execution_count": 47,
   "id": "0e3a6350",
   "metadata": {},
   "outputs": [],
   "source": [
    "df_train['sentiment'] = df_train['review_score'].apply(lambda x: 0 if x in [1,2] else 1)"
   ]
  },
  {
   "cell_type": "code",
   "execution_count": 48,
   "id": "2f0beed3",
   "metadata": {},
   "outputs": [
    {
     "data": {
      "text/html": [
       "<div>\n",
       "<style scoped>\n",
       "    .dataframe tbody tr th:only-of-type {\n",
       "        vertical-align: middle;\n",
       "    }\n",
       "\n",
       "    .dataframe tbody tr th {\n",
       "        vertical-align: top;\n",
       "    }\n",
       "\n",
       "    .dataframe thead th {\n",
       "        text-align: right;\n",
       "    }\n",
       "</style>\n",
       "<table border=\"1\" class=\"dataframe\">\n",
       "  <thead>\n",
       "    <tr style=\"text-align: right;\">\n",
       "      <th></th>\n",
       "      <th>review_id</th>\n",
       "      <th>review_score</th>\n",
       "      <th>review_comment_title</th>\n",
       "      <th>review_comment_message</th>\n",
       "      <th>review_creation_date</th>\n",
       "      <th>text_sentiment</th>\n",
       "      <th>sentiment</th>\n",
       "    </tr>\n",
       "  </thead>\n",
       "  <tbody>\n",
       "    <tr>\n",
       "      <th>3</th>\n",
       "      <td>e64fb393e7b32834bb789ff8bb30750e</td>\n",
       "      <td>5</td>\n",
       "      <td></td>\n",
       "      <td>Recebi bem antes do prazo estipulado.</td>\n",
       "      <td>2017-04-21</td>\n",
       "      <td>receber bem antes prazo estipular</td>\n",
       "      <td>1</td>\n",
       "    </tr>\n",
       "    <tr>\n",
       "      <th>4</th>\n",
       "      <td>f7c4243c7fe1938f181bec41a392bdeb</td>\n",
       "      <td>5</td>\n",
       "      <td></td>\n",
       "      <td>Parabéns lojas lannister adorei comprar pela I...</td>\n",
       "      <td>2018-03-01</td>\n",
       "      <td>parabem loja adorar comprar seguro pratico par...</td>\n",
       "      <td>1</td>\n",
       "    </tr>\n",
       "    <tr>\n",
       "      <th>8</th>\n",
       "      <td>8670d52e15e00043ae7de4c01cc2fe06</td>\n",
       "      <td>4</td>\n",
       "      <td>recomendo</td>\n",
       "      <td>aparelho eficiente. no site a marca do aparelh...</td>\n",
       "      <td>2018-05-22</td>\n",
       "      <td>recomender aparelho eficiente site marcar apar...</td>\n",
       "      <td>1</td>\n",
       "    </tr>\n",
       "    <tr>\n",
       "      <th>11</th>\n",
       "      <td>4b49719c8a200003f700d3d986ea1a19</td>\n",
       "      <td>4</td>\n",
       "      <td></td>\n",
       "      <td>Mas um pouco ,travando...pelo valor ta Boa.\\r\\n</td>\n",
       "      <td>2018-02-16</td>\n",
       "      <td>Travandopelo valor boa</td>\n",
       "      <td>1</td>\n",
       "    </tr>\n",
       "    <tr>\n",
       "      <th>14</th>\n",
       "      <td>3948b09f7c818e2d86c9a546758b2335</td>\n",
       "      <td>5</td>\n",
       "      <td>Super recomendo</td>\n",
       "      <td>Vendedor confiável, produto ok e entrega antes...</td>\n",
       "      <td>2018-05-23</td>\n",
       "      <td>super recomendir vendedor confiavel  ok entreg...</td>\n",
       "      <td>1</td>\n",
       "    </tr>\n",
       "  </tbody>\n",
       "</table>\n",
       "</div>"
      ],
      "text/plain": [
       "                           review_id  review_score review_comment_title  \\\n",
       "3   e64fb393e7b32834bb789ff8bb30750e             5                        \n",
       "4   f7c4243c7fe1938f181bec41a392bdeb             5                        \n",
       "8   8670d52e15e00043ae7de4c01cc2fe06             4            recomendo   \n",
       "11  4b49719c8a200003f700d3d986ea1a19             4                        \n",
       "14  3948b09f7c818e2d86c9a546758b2335             5      Super recomendo   \n",
       "\n",
       "                               review_comment_message review_creation_date  \\\n",
       "3               Recebi bem antes do prazo estipulado.           2017-04-21   \n",
       "4   Parabéns lojas lannister adorei comprar pela I...           2018-03-01   \n",
       "8   aparelho eficiente. no site a marca do aparelh...           2018-05-22   \n",
       "11    Mas um pouco ,travando...pelo valor ta Boa.\\r\\n           2018-02-16   \n",
       "14  Vendedor confiável, produto ok e entrega antes...           2018-05-23   \n",
       "\n",
       "                                       text_sentiment  sentiment  \n",
       "3                   receber bem antes prazo estipular          1  \n",
       "4   parabem loja adorar comprar seguro pratico par...          1  \n",
       "8   recomender aparelho eficiente site marcar apar...          1  \n",
       "11                             Travandopelo valor boa          1  \n",
       "14  super recomendir vendedor confiavel  ok entreg...          1  "
      ]
     },
     "execution_count": 48,
     "metadata": {},
     "output_type": "execute_result"
    }
   ],
   "source": [
    "df_train.head(5)"
   ]
  },
  {
   "cell_type": "markdown",
   "id": "f1b0029b",
   "metadata": {},
   "source": [
    "### 7.3. Selecting Columns Necessary for Training"
   ]
  },
  {
   "cell_type": "code",
   "execution_count": 49,
   "id": "d7258faf",
   "metadata": {},
   "outputs": [],
   "source": [
    "selected_columns = ['text_sentiment', 'sentiment']\n",
    "df_classification = df_train.loc[:, selected_columns]"
   ]
  },
  {
   "cell_type": "code",
   "execution_count": 50,
   "id": "82abb8ae",
   "metadata": {},
   "outputs": [
    {
     "data": {
      "text/html": [
       "<div>\n",
       "<style scoped>\n",
       "    .dataframe tbody tr th:only-of-type {\n",
       "        vertical-align: middle;\n",
       "    }\n",
       "\n",
       "    .dataframe tbody tr th {\n",
       "        vertical-align: top;\n",
       "    }\n",
       "\n",
       "    .dataframe thead th {\n",
       "        text-align: right;\n",
       "    }\n",
       "</style>\n",
       "<table border=\"1\" class=\"dataframe\">\n",
       "  <thead>\n",
       "    <tr style=\"text-align: right;\">\n",
       "      <th></th>\n",
       "      <th>text_sentiment</th>\n",
       "      <th>sentiment</th>\n",
       "    </tr>\n",
       "  </thead>\n",
       "  <tbody>\n",
       "    <tr>\n",
       "      <th>3</th>\n",
       "      <td>receber bem antes prazo estipular</td>\n",
       "      <td>1</td>\n",
       "    </tr>\n",
       "    <tr>\n",
       "      <th>4</th>\n",
       "      <td>parabem loja adorar comprar seguro pratico par...</td>\n",
       "      <td>1</td>\n",
       "    </tr>\n",
       "    <tr>\n",
       "      <th>8</th>\n",
       "      <td>recomender aparelho eficiente site marcar apar...</td>\n",
       "      <td>1</td>\n",
       "    </tr>\n",
       "    <tr>\n",
       "      <th>11</th>\n",
       "      <td>Travandopelo valor boa</td>\n",
       "      <td>1</td>\n",
       "    </tr>\n",
       "    <tr>\n",
       "      <th>14</th>\n",
       "      <td>super recomendir vendedor confiavel  ok entreg...</td>\n",
       "      <td>1</td>\n",
       "    </tr>\n",
       "  </tbody>\n",
       "</table>\n",
       "</div>"
      ],
      "text/plain": [
       "                                       text_sentiment  sentiment\n",
       "3                   receber bem antes prazo estipular          1\n",
       "4   parabem loja adorar comprar seguro pratico par...          1\n",
       "8   recomender aparelho eficiente site marcar apar...          1\n",
       "11                             Travandopelo valor boa          1\n",
       "14  super recomendir vendedor confiavel  ok entreg...          1"
      ]
     },
     "execution_count": 50,
     "metadata": {},
     "output_type": "execute_result"
    }
   ],
   "source": [
    "df_classification.head(5)"
   ]
  },
  {
   "cell_type": "markdown",
   "id": "fa3157e9",
   "metadata": {},
   "source": [
    "### 7.4. Divising Dataframe Between Train and Test"
   ]
  },
  {
   "cell_type": "code",
   "execution_count": 51,
   "id": "5245642e",
   "metadata": {},
   "outputs": [],
   "source": [
    "comment_train, comment_test, sentiment_train, sentiment_test = train_test_split(\n",
    "                                                                                df_classification['text_sentiment'],\n",
    "                                                                                df_classification['sentiment'], \n",
    "                                                                                test_size=0.2,\n",
    "                                                                                random_state=24)"
   ]
  },
  {
   "cell_type": "markdown",
   "id": "4ba0ba34",
   "metadata": {},
   "source": [
    "### 7.5. Transform Text in Representation Numeric (TF-IDF)"
   ]
  },
  {
   "cell_type": "code",
   "execution_count": 52,
   "id": "b2d64bf0",
   "metadata": {},
   "outputs": [],
   "source": [
    "vectorizer = TfidfVectorizer()"
   ]
  },
  {
   "cell_type": "code",
   "execution_count": 53,
   "id": "6f6b0ff8",
   "metadata": {},
   "outputs": [],
   "source": [
    "ctmTr = vectorizer.fit_transform(comment_train)\n",
    "comment_test_dtm = vectorizer.transform(comment_test)"
   ]
  },
  {
   "cell_type": "markdown",
   "id": "d56f256c",
   "metadata": {},
   "source": [
    "### 7.6 Creating New Words for Balance Negative and Positive"
   ]
  },
  {
   "cell_type": "code",
   "execution_count": 54,
   "id": "12dcb7c8",
   "metadata": {},
   "outputs": [],
   "source": [
    "smote = SMOTE(random_state=42)\n",
    "ctmTr_resampled, sentiment_train_resampled = smote.fit_resample(ctmTr, sentiment_train)"
   ]
  },
  {
   "cell_type": "code",
   "execution_count": 55,
   "id": "cd3e02b6",
   "metadata": {},
   "outputs": [
    {
     "name": "stdout",
     "output_type": "stream",
     "text": [
      "sentiment\n",
      "1    19149\n",
      "0    19149\n",
      "Name: count, dtype: int64\n"
     ]
    }
   ],
   "source": [
    "print(pd.Series(sentiment_train_resampled).value_counts())"
   ]
  },
  {
   "cell_type": "markdown",
   "id": "cc115b0b",
   "metadata": {},
   "source": [
    "### 7.7. Calculing the Mean and Standard Deviation"
   ]
  },
  {
   "cell_type": "code",
   "execution_count": 56,
   "id": "77066c7b",
   "metadata": {},
   "outputs": [],
   "source": [
    "normalization = preprocessing.StandardScaler(with_mean=False)"
   ]
  },
  {
   "cell_type": "code",
   "execution_count": 57,
   "id": "6812ba38",
   "metadata": {},
   "outputs": [],
   "source": [
    "normalization.fit(ctmTr_resampled)\n",
    "X = normalization.transform(ctmTr_resampled)"
   ]
  },
  {
   "cell_type": "markdown",
   "id": "a4215acb",
   "metadata": {},
   "source": [
    "### 7.8. Inicializing Training NLP"
   ]
  },
  {
   "cell_type": "code",
   "execution_count": 58,
   "id": "d29e7083",
   "metadata": {},
   "outputs": [
    {
     "name": "stdout",
     "output_type": "stream",
     "text": [
      "Iteration 1, loss = 0.40799364\n",
      "Validation score: 0.923760\n",
      "Iteration 2, loss = 0.26327548\n",
      "Validation score: 0.926371\n",
      "Iteration 3, loss = 0.22679090\n",
      "Validation score: 0.932376\n",
      "Iteration 4, loss = 0.20165219\n",
      "Validation score: 0.931854\n",
      "Iteration 5, loss = 0.18480306\n",
      "Validation score: 0.932898\n",
      "Iteration 6, loss = 0.17113866\n",
      "Validation score: 0.933159\n",
      "Iteration 7, loss = 0.15994252\n",
      "Validation score: 0.931332\n",
      "Iteration 8, loss = 0.15064030\n",
      "Validation score: 0.940470\n",
      "Iteration 9, loss = 0.14399584\n",
      "Validation score: 0.940992\n",
      "Iteration 10, loss = 0.13855694\n",
      "Validation score: 0.940992\n",
      "Iteration 11, loss = 0.13324048\n",
      "Validation score: 0.941253\n",
      "Iteration 12, loss = 0.12900477\n",
      "Validation score: 0.939687\n",
      "Iteration 13, loss = 0.12353386\n",
      "Validation score: 0.940209\n",
      "Iteration 14, loss = 0.12181749\n",
      "Validation score: 0.938642\n",
      "Iteration 15, loss = 0.11813606\n",
      "Validation score: 0.942037\n",
      "Iteration 16, loss = 0.11560574\n",
      "Validation score: 0.940470\n",
      "Iteration 17, loss = 0.11383567\n",
      "Validation score: 0.942037\n",
      "Iteration 18, loss = 0.11192078\n",
      "Validation score: 0.945431\n",
      "Iteration 19, loss = 0.10943481\n",
      "Validation score: 0.942298\n",
      "Iteration 20, loss = 0.10704221\n",
      "Validation score: 0.942298\n",
      "Iteration 21, loss = 0.10513012\n",
      "Validation score: 0.940470\n",
      "Iteration 22, loss = 0.10431424\n",
      "Validation score: 0.943864\n",
      "Iteration 23, loss = 0.10386149\n",
      "Validation score: 0.945692\n",
      "Iteration 24, loss = 0.10290980\n",
      "Validation score: 0.945170\n",
      "Iteration 25, loss = 0.10180765\n",
      "Validation score: 0.942820\n",
      "Iteration 26, loss = 0.10144110\n",
      "Validation score: 0.945170\n",
      "Iteration 27, loss = 0.10108257\n",
      "Validation score: 0.944125\n",
      "Iteration 28, loss = 0.10123681\n",
      "Validation score: 0.945431\n",
      "Iteration 29, loss = 0.10083378\n",
      "Validation score: 0.942559\n",
      "Iteration 30, loss = 0.10017419\n",
      "Validation score: 0.943342\n",
      "Iteration 31, loss = 0.09941997\n",
      "Validation score: 0.946475\n",
      "Iteration 32, loss = 0.09945734\n",
      "Validation score: 0.945170\n",
      "Iteration 33, loss = 0.10017602\n",
      "Validation score: 0.946475\n",
      "Iteration 34, loss = 0.10283651\n",
      "Validation score: 0.943081\n",
      "Iteration 35, loss = 0.09959187\n",
      "Validation score: 0.942037\n",
      "Iteration 36, loss = 0.09787476\n",
      "Validation score: 0.946475\n",
      "Iteration 37, loss = 0.09835521\n",
      "Validation score: 0.942559\n",
      "Iteration 38, loss = 0.09662320\n",
      "Validation score: 0.948042\n",
      "Iteration 39, loss = 0.09368952\n",
      "Validation score: 0.945170\n",
      "Iteration 40, loss = 0.09158007\n",
      "Validation score: 0.945692\n",
      "Iteration 41, loss = 0.08937298\n",
      "Validation score: 0.949869\n",
      "Iteration 42, loss = 0.08874562\n",
      "Validation score: 0.947520\n",
      "Iteration 43, loss = 0.08785228\n",
      "Validation score: 0.951175\n",
      "Iteration 44, loss = 0.08717842\n",
      "Validation score: 0.950131\n",
      "Iteration 45, loss = 0.08617166\n",
      "Validation score: 0.949086\n",
      "Iteration 46, loss = 0.08552326\n",
      "Validation score: 0.949608\n",
      "Iteration 47, loss = 0.08504567\n",
      "Validation score: 0.951175\n",
      "Iteration 48, loss = 0.08429929\n",
      "Validation score: 0.951958\n",
      "Iteration 49, loss = 0.08407799\n",
      "Validation score: 0.951175\n",
      "Iteration 50, loss = 0.08404225\n",
      "Validation score: 0.950392\n",
      "Iteration 51, loss = 0.08417415\n",
      "Validation score: 0.950653\n",
      "Iteration 52, loss = 0.08390700\n",
      "Validation score: 0.950131\n",
      "Iteration 53, loss = 0.08386349\n",
      "Validation score: 0.949086\n",
      "Iteration 54, loss = 0.08345407\n",
      "Validation score: 0.950914\n",
      "Iteration 55, loss = 0.08352345\n",
      "Validation score: 0.950392\n",
      "Iteration 56, loss = 0.08361591\n",
      "Validation score: 0.949086\n",
      "Iteration 57, loss = 0.08340233\n",
      "Validation score: 0.948042\n",
      "Iteration 58, loss = 0.08335383\n",
      "Validation score: 0.947781\n",
      "Iteration 59, loss = 0.08330776\n",
      "Validation score: 0.950131\n",
      "Iteration 60, loss = 0.08303188\n",
      "Validation score: 0.949086\n",
      "Iteration 61, loss = 0.08330719\n",
      "Validation score: 0.950131\n",
      "Iteration 62, loss = 0.08325901\n",
      "Validation score: 0.949608\n",
      "Iteration 63, loss = 0.08281368\n",
      "Validation score: 0.949347\n",
      "Iteration 64, loss = 0.08353249\n",
      "Validation score: 0.948042\n",
      "Iteration 65, loss = 0.08304834\n",
      "Validation score: 0.948303\n",
      "Iteration 66, loss = 0.08282458\n",
      "Validation score: 0.948825\n",
      "Iteration 67, loss = 0.08305591\n",
      "Validation score: 0.948303\n",
      "Iteration 68, loss = 0.08226284\n",
      "Validation score: 0.949347\n",
      "Iteration 69, loss = 0.08087257\n",
      "Validation score: 0.948564\n",
      "Iteration 70, loss = 0.08051153\n",
      "Validation score: 0.947781\n",
      "Iteration 71, loss = 0.07937717\n",
      "Validation score: 0.948042\n",
      "Iteration 72, loss = 0.07856011\n",
      "Validation score: 0.951175\n",
      "Iteration 73, loss = 0.07867794\n",
      "Validation score: 0.951175\n",
      "Iteration 74, loss = 0.07851488\n",
      "Validation score: 0.947781\n",
      "Validation score did not improve more than tol=0.000100 for 25 consecutive epochs. Stopping.\n"
     ]
    }
   ],
   "source": [
    "analyze_sentiment = MLPClassifier(hidden_layer_sizes=(32,16,16,1),\n",
    "                                   activation='relu',\n",
    "                                   solver='adam',\n",
    "                                   learning_rate='constant',\n",
    "                                   max_iter=1000,\n",
    "                                   early_stopping=True,\n",
    "                                   n_iter_no_change=25,\n",
    "                                   verbose=True)\n",
    "\n",
    "history = analyze_sentiment.fit(X, sentiment_train_resampled)"
   ]
  },
  {
   "cell_type": "markdown",
   "id": "42881914",
   "metadata": {},
   "source": [
    "# 8. Analyze Performance IA"
   ]
  },
  {
   "cell_type": "markdown",
   "id": "832c6532",
   "metadata": {},
   "source": [
    "### 8.1. Score"
   ]
  },
  {
   "cell_type": "code",
   "execution_count": 88,
   "id": "42919d7e",
   "metadata": {},
   "outputs": [
    {
     "data": {
      "text/plain": [
       "0.8979893554109994"
      ]
     },
     "execution_count": 88,
     "metadata": {},
     "output_type": "execute_result"
    }
   ],
   "source": [
    "X_test = normalization.transform(comment_test_dtm)\n",
    "analyze_sentiment.score(X_test,sentiment_test)"
   ]
  },
  {
   "cell_type": "code",
   "execution_count": 87,
   "id": "aaf982ab",
   "metadata": {},
   "outputs": [
    {
     "data": {
      "text/html": [
       "<style type=\"text/css\">\n",
       "#T_c3efc_row0_col1 {\n",
       "  background-color: #000000;\n",
       "  color: #f1f1f1;\n",
       "}\n",
       "#T_c3efc_row1_col1 {\n",
       "  background-color: #161616;\n",
       "  color: #f1f1f1;\n",
       "}\n",
       "#T_c3efc_row2_col1 {\n",
       "  background-color: #393939;\n",
       "  color: #f1f1f1;\n",
       "}\n",
       "#T_c3efc_row3_col1 {\n",
       "  background-color: #5b5b5b;\n",
       "  color: #f1f1f1;\n",
       "}\n",
       "#T_c3efc_row4_col1 {\n",
       "  background-color: #8a8a8a;\n",
       "  color: #f1f1f1;\n",
       "}\n",
       "#T_c3efc_row5_col1 {\n",
       "  background-color: #bebebe;\n",
       "  color: #000000;\n",
       "}\n",
       "#T_c3efc_row6_col1 {\n",
       "  background-color: #cbcbcb;\n",
       "  color: #000000;\n",
       "}\n",
       "#T_c3efc_row7_col1 {\n",
       "  background-color: #cecece;\n",
       "  color: #000000;\n",
       "}\n",
       "#T_c3efc_row8_col1 {\n",
       "  background-color: #fbfbfb;\n",
       "  color: #000000;\n",
       "}\n",
       "#T_c3efc_row9_col1 {\n",
       "  background-color: #ffffff;\n",
       "  color: #000000;\n",
       "}\n",
       "</style>\n",
       "<table id=\"T_c3efc\">\n",
       "  <thead>\n",
       "    <tr>\n",
       "      <th class=\"blank level0\" >&nbsp;</th>\n",
       "      <th id=\"T_c3efc_level0_col0\" class=\"col_heading level0 col0\" >Palavra</th>\n",
       "      <th id=\"T_c3efc_level0_col1\" class=\"col_heading level0 col1\" >Contagem</th>\n",
       "    </tr>\n",
       "  </thead>\n",
       "  <tbody>\n",
       "    <tr>\n",
       "      <th id=\"T_c3efc_level0_row0\" class=\"row_heading level0 row0\" >0</th>\n",
       "      <td id=\"T_c3efc_row0_col0\" class=\"data row0 col0\" >bom</td>\n",
       "      <td id=\"T_c3efc_row0_col1\" class=\"data row0 col1\" >1692.685648</td>\n",
       "    </tr>\n",
       "    <tr>\n",
       "      <th id=\"T_c3efc_level0_row1\" class=\"row_heading level0 row1\" >1</th>\n",
       "      <td id=\"T_c3efc_row1_col0\" class=\"data row1 col0\" >entregar</td>\n",
       "      <td id=\"T_c3efc_row1_col1\" class=\"data row1 col1\" >1621.551454</td>\n",
       "    </tr>\n",
       "    <tr>\n",
       "      <th id=\"T_c3efc_level0_row2\" class=\"row_heading level0 row2\" >2</th>\n",
       "      <td id=\"T_c3efc_row2_col0\" class=\"data row2 col0\" >muito</td>\n",
       "      <td id=\"T_c3efc_row2_col1\" class=\"data row2 col1\" >1525.808117</td>\n",
       "    </tr>\n",
       "    <tr>\n",
       "      <th id=\"T_c3efc_level0_row3\" class=\"row_heading level0 row3\" >3</th>\n",
       "      <td id=\"T_c3efc_row3_col0\" class=\"data row3 col0\" >prazo</td>\n",
       "      <td id=\"T_c3efc_row3_col1\" class=\"data row3 col1\" >1431.440134</td>\n",
       "    </tr>\n",
       "    <tr>\n",
       "      <th id=\"T_c3efc_level0_row4\" class=\"row_heading level0 row4\" >4</th>\n",
       "      <td id=\"T_c3efc_row4_col0\" class=\"data row4 col0\" >nao</td>\n",
       "      <td id=\"T_c3efc_row4_col1\" class=\"data row4 col1\" >1269.013294</td>\n",
       "    </tr>\n",
       "    <tr>\n",
       "      <th id=\"T_c3efc_level0_row5\" class=\"row_heading level0 row5\" >5</th>\n",
       "      <td id=\"T_c3efc_row5_col0\" class=\"data row5 col0\" >antes</td>\n",
       "      <td id=\"T_c3efc_row5_col1\" class=\"data row5 col1\" >1113.908444</td>\n",
       "    </tr>\n",
       "    <tr>\n",
       "      <th id=\"T_c3efc_level0_row6\" class=\"row_heading level0 row6\" >6</th>\n",
       "      <td id=\"T_c3efc_row6_col0\" class=\"data row6 col0\" >chegar</td>\n",
       "      <td id=\"T_c3efc_row6_col1\" class=\"data row6 col1\" >1060.663891</td>\n",
       "    </tr>\n",
       "    <tr>\n",
       "      <th id=\"T_c3efc_level0_row7\" class=\"row_heading level0 row7\" >7</th>\n",
       "      <td id=\"T_c3efc_row7_col0\" class=\"data row7 col0\" >otimo</td>\n",
       "      <td id=\"T_c3efc_row7_col1\" class=\"data row7 col1\" >1045.416366</td>\n",
       "    </tr>\n",
       "    <tr>\n",
       "      <th id=\"T_c3efc_level0_row8\" class=\"row_heading level0 row8\" >8</th>\n",
       "      <td id=\"T_c3efc_row8_col0\" class=\"data row8 col0\" >recomendar</td>\n",
       "      <td id=\"T_c3efc_row8_col1\" class=\"data row8 col1\" >804.393663</td>\n",
       "    </tr>\n",
       "    <tr>\n",
       "      <th id=\"T_c3efc_level0_row9\" class=\"row_heading level0 row9\" >9</th>\n",
       "      <td id=\"T_c3efc_row9_col0\" class=\"data row9 col0\" >recebi</td>\n",
       "      <td id=\"T_c3efc_row9_col1\" class=\"data row9 col1\" >771.701813</td>\n",
       "    </tr>\n",
       "  </tbody>\n",
       "</table>\n"
      ],
      "text/plain": [
       "<pandas.io.formats.style.Styler at 0x21538f17500>"
      ]
     },
     "metadata": {},
     "output_type": "display_data"
    }
   ],
   "source": [
    "# Extrair o vocabulário (palavras) e suas contagens\n",
    "palavras = vectorizer.get_feature_names_out()\n",
    "contagem_palavras = ctmTr.toarray().sum(axis=0)\n",
    "\n",
    "# Criar um DataFrame com as palavras mais comuns e suas contagens\n",
    "top_palavras = pd.DataFrame({'Palavra': palavras, 'Contagem': contagem_palavras})\n",
    "top_palavras = top_palavras.sort_values(by='Contagem', ascending=False).reset_index(drop=True)\n",
    "\n",
    "# Exibir as 20 palavras mais comuns com uma tabela colorida\n",
    "top_palavras_estilizado = top_palavras.head(10).style.background_gradient(cmap='Grays')\n",
    "\n",
    "# Exibir o DataFrame estilizado e as 20 palavras mais comuns\n",
    "display(top_palavras_estilizado)"
   ]
  },
  {
   "cell_type": "markdown",
   "id": "aaf982ab",
   "metadata": {},
   "source": [
    "### 8.2. Graph Loss and Score During Training"
   ]
  },
  {
   "cell_type": "code",
   "execution_count": 62,
   "id": "74af4e9c",
   "metadata": {},
   "outputs": [
    {
     "data": {
      "image/png": "[encoded data removed]",
      "text/plain": [
       "<Figure size 1000x500 with 2 Axes>"
      ]
     },
     "metadata": {},
     "output_type": "display_data"
    }
   ],
   "source": [
    "plt.figure(figsize=(10, 5))\n",
    "\n",
    "# Loss\n",
    "plt.subplot(1, 2, 1)\n",
    "plt.plot(history.loss_curve_)\n",
    "plt.title('Loss During Training')\n",
    "plt.xlabel('Epoch')\n",
    "plt.ylabel('Loss')\n",
    "\n",
    "# Accuracy\n",
    "plt.subplot(1, 2, 2)\n",
    "plt.plot(history.validation_scores_)\n",
    "plt.title('Score During Training')\n",
    "plt.xlabel('Epoch')\n",
    "plt.ylabel('Score')\n",
    "\n",
    "plt.tight_layout()\n",
    "plt.show()"
   ]
  },
  {
   "cell_type": "markdown",
   "id": "85afb958",
   "metadata": {},
   "source": [
    "### 8.3. Confusion Matrix"
   ]
  },
  {
   "cell_type": "code",
   "execution_count": 65,
   "id": "b9bc5757",
   "metadata": {},
   "outputs": [
    {
     "data": {
      "image/png": "[encoded data removed]",
      "text/plain": [
       "<Figure size 500x300 with 1 Axes>"
      ]
     },
     "metadata": {},
     "output_type": "display_data"
    }
   ],
   "source": [
    "predictions = analyze_sentiment.predict(X_test)\n",
    "conf_matrix = confusion_matrix(sentiment_test, predictions)\n",
    "plt.figure(figsize=(5, 3))\n",
    "sns.heatmap(conf_matrix, annot=True, fmt='d', cmap='Blues', cbar=False)\n",
    "plt.title('Matrix of Confusion')\n",
    "plt.xlabel('Predicted Label')\n",
    "plt.ylabel('True Label')\n",
    "plt.show()"
   ]
  },
  {
   "cell_type": "markdown",
   "id": "d1971816",
   "metadata": {},
   "source": [
    "### 8.4. Curve ROC"
   ]
  },
  {
   "cell_type": "code",
   "execution_count": 64,
   "id": "4929eab0",
   "metadata": {},
   "outputs": [
    {
     "data": {
      "image/png": "[encoded data removed]",
      "text/plain": [
       "<Figure size 800x600 with 1 Axes>"
      ]
     },
     "metadata": {},
     "output_type": "display_data"
    }
   ],
   "source": [
    "probas_pred = analyze_sentiment.predict_proba(X_test)[:, 1]\n",
    "\n",
    "fpr, tpr, thresholds = roc_curve(sentiment_test, probas_pred)\n",
    "\n",
    "roc_auc = auc(fpr, tpr)\n",
    "\n",
    "plt.figure(figsize=(8, 6))\n",
    "plt.plot(fpr, tpr, color='blue', lw=2, label='ROC curve (AUC = %0.2f)' % roc_auc)\n",
    "plt.plot([0, 1], [0, 1], color='gray', linestyle='--')\n",
    "plt.xlim([0.0, 1.0])\n",
    "plt.ylim([0.0, 1.05])\n",
    "plt.xlabel('False Positive Rate')\n",
    "plt.ylabel('True Positive Rate')\n",
    "plt.title('Receiver Operating Characteristic (ROC) Curve')\n",
    "plt.legend(loc='lower right')\n",
    "plt.show()"
   ]
  },
  {
   "cell_type": "markdown",
   "id": "8f48ad2b",
   "metadata": {},
   "source": [
    "# 9. Deploy IA"
   ]
  },
  {
   "cell_type": "code",
   "execution_count": 113,
   "id": "3d99224f",
   "metadata": {},
   "outputs": [
    {
     "data": {
      "text/plain": [
       "['normalization.pkl']"
      ]
     },
     "execution_count": 113,
     "metadata": {},
     "output_type": "execute_result"
    }
   ],
   "source": [
    "# Save model MLPClassifier\n",
    "joblib.dump(analyze_sentiment, 'modelo_analyze_sentiment.pkl')\n",
    "\n",
    "# Save vectorizer\n",
    "joblib.dump(vectorizer, 'vectorizer.pkl')\n",
    "\n",
    "# Save normalization\n",
    "joblib.dump(normalization, 'normalization.pkl')"
   ]
  }
 ],
 "metadata": {
  "kernelspec": {
   "display_name": "Python 3 (ipykernel)",
   "language": "python",
   "name": "python3"
  },
  "language_info": {
   "codemirror_mode": {
    "name": "ipython",
    "version": 3
   },
   "file_extension": ".py",
   "mimetype": "text/x-python",
   "name": "python",
   "nbconvert_exporter": "python",
   "pygments_lexer": "ipython3",
   "version": "3.12.1"
  }
 },
 "nbformat": 4,
 "nbformat_minor": 5
}
